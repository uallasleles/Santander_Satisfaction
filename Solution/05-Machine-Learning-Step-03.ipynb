{
 "cells": [
  {
   "cell_type": "markdown",
   "metadata": {},
   "source": [
    "![DSA-Logo.png](.\\images\\DSA-Logo.png)\n",
    "\n",
    "# <font color='black'>Projeto:</font> <font color='blue'>Prevendo o Nível de Satisfação dos Clientes do Santander.</font>\n",
    "\n",
    "## <font color='black'>Data:</font> <font color='blue'>Maio, 2020</font>\n",
    "\n",
    "## <font color='black'>Cientista de Dados:</font> <font color='blue'>Walter Trevisan</font>"
   ]
  },
  {
   "cell_type": "markdown",
   "metadata": {},
   "source": [
    "## 05- Machine Learning (`Step 03`)\n",
    "\n",
    "Nesta etapa de **`Machine Learning`**, vamos realizar as seguintes atividades, utilizando os *datasets* de treinamento que foram criados na etapa anterior **`05-Machine Learning (Step-01)`**, ou seja, o *dataset* **`X_train_v2.pickle`** (que contém os dados das variáveis preditoras) e o *dataset* **`y_train_v2.pickle`** (que contém os dados da variável *target*):\n",
    "\n",
    "1. Carregar os *datasets* de treinamento: **`X_train_v2.pickle`** e **`y_train_v2.pickle`**;\n",
    "\n",
    "\n",
    "2. Carregar os objetos relacionados aos **modelos de Machine Learning** que foram selecionados na etapa anterior;\n",
    "\n",
    "\n",
    "3. Definir as **`métricas de classificação`** que serão calculadas nesta etapa de **`Machine Learning`**;\n",
    "\n",
    "\n",
    "4. Realizar o ajuste fino dos seguintes algoritmos de classificação:\n",
    "\n",
    "> 4.1 **`KNN`**: K Nearest Neighbors;\n",
    "\n",
    "> 4.2 **`RFC`**: Random Forest Classifier;\n",
    "\n",
    "> 4.3 **`XGBC`**: XGBoost Classifier.\n",
    "\n",
    "\n",
    "5. Conclusão dos resultados, selecionando o **melhor** ou **melhores** algoritmos de classificação para a próxima etapa (**`Testes`**);\n",
    "\n",
    "\n",
    "6. Salvar as **métricas de classificação** calculadas nas duas etapas de **`Machine Learning`** (**`Step 03`**)."
   ]
  },
  {
   "cell_type": "markdown",
   "metadata": {},
   "source": [
    "## Setup"
   ]
  },
  {
   "cell_type": "code",
   "execution_count": 1,
   "metadata": {},
   "outputs": [
    {
     "name": "stdout",
     "output_type": "stream",
     "text": [
      "Setup Complete!\n"
     ]
    }
   ],
   "source": [
    "# As novas versões do Pandas e Matplotlib trazem diversas mensagens de aviso ao desenvolvedor.\n",
    "# Então, vamos desativar essas mensagens.\n",
    "import sys # O pacote \"sys\" permite manipulações com o sistema operacional:\n",
    "import os  # Operation System (Packages and Functions)\n",
    "import warnings\n",
    "import matplotlib.cbook\n",
    "if not sys.warnoptions:\n",
    "    warnings.simplefilter(\"ignore\")\n",
    "warnings.simplefilter(action='ignore', category=FutureWarning)\n",
    "warnings.filterwarnings(\"ignore\", category=FutureWarning)\n",
    "warnings.filterwarnings(\"ignore\", category=matplotlib.cbook.mplDeprecation)\n",
    "\n",
    "# Common imports:\n",
    "import numpy as np    # NumPy\n",
    "import pandas as pd   # Pandas\n",
    "import itertools\n",
    "\n",
    "# To plot pretty figures\n",
    "%matplotlib inline\n",
    "import matplotlib as mpl\n",
    "import matplotlib.pyplot as plt\n",
    "mpl.rc('axes', labelsize=14)\n",
    "mpl.rc('xtick', labelsize=12)\n",
    "mpl.rc('ytick', labelsize=12)\n",
    "# Importa o pacote \"seaborn\"\n",
    "import seaborn as sns\n",
    "\n",
    "# Machine Learning imports\n",
    "from sklearn.neighbors import KNeighborsClassifier\n",
    "from sklearn.ensemble import RandomForestClassifier\n",
    "from xgboost import XGBClassifier\n",
    "\n",
    "# Imports para \"Avaliação da curva ROC\":\n",
    "from sklearn.metrics import roc_curve, roc_auc_score\n",
    "\n",
    "from sklearn.model_selection import cross_val_score, cross_val_predict, GridSearchCV, RandomizedSearchCV\n",
    "from scipy.stats import randint\n",
    "\n",
    "# Flag de \"Pesquisa\":\n",
    "# Se \"True\", realiza a pesquisa dos melhores hiperparâmetros.\n",
    "# Se \"False\", faz a leitura dos melhores hiperparâmetros (objetos) pesquisados.\n",
    "SEARCHING=False\n",
    "\n",
    "# Flag para calcular/ler os \"scores\" de \"Treinamento\":\n",
    "# Se \"True\", realiza o cálculo das pontuações (scores).\n",
    "# Se \"False\", faz a leitura dos scores (objetos) calculados.\n",
    "CROSS_VAL_SCORE=False\n",
    "\n",
    "# Flag para fazer as previsões, utilizando validação cruzada, nos dados de treinamento:\n",
    "# Se \"True\", faz as previsões utilizando a função.\n",
    "# Se \"False\", faz a leitura das previsões (objetos) que foram salvas.\n",
    "CROSS_VAL_PREDICT=False\n",
    "\n",
    "# Define valor para \"Cross Validation\" (Número de 'folds'):\n",
    "NUM_FOLDS=5 # Número de passadas (\"folds\")\n",
    "\n",
    "# Define valor para \"Random Search CV\" (Número de 'iterações'):\n",
    "NUM_ITER=20 # Número de iterações.\n",
    "\n",
    "# Define valor para \"Cross Validation Score\" (Número de 'folds'):\n",
    "NUM_FOLDS_CVS=5 # Número de passadas (\"folds\")\n",
    "\n",
    "# Define valor para \"Cross Validation Predict\" (Número de 'folds'):\n",
    "NUM_FOLDS_CVP=5 # Número de passadas (\"folds\")\n",
    "\n",
    "# Define valor para reproduzirmos os mesmos resultados:\n",
    "RANDOM_STATE=42 # Seed\n",
    "\n",
    "# Definindo o diretório raiz (Root) onde serão armazenados todas as informações\n",
    "# (Imagens, Objetos, Dados, Modelos de ML, etc...) do projeto.\n",
    "# Diretório Raiz (Root) do Projeto:\n",
    "PROJECT_ROOT_DIR = \".\"\n",
    "\n",
    "# Path: onde serão armazenadas as \"Imagens\" (Figuras e Gráficos) desta Fase do Projeto:\n",
    "PROJECT_IMG_PATH = os.path.join(PROJECT_ROOT_DIR, \"Images\", \"05-Machine_Learning\")\n",
    "# Criando o diretório, se ele não existir:\n",
    "os.makedirs(PROJECT_IMG_PATH, exist_ok=True)\n",
    "\n",
    "# Path: onde ficarão armazenados os \"Objetos\" (Estrututras de Dados) relacionados ao Projeto:\n",
    "PROJECT_OBJ_PATH = os.path.join(PROJECT_ROOT_DIR, \"Objects\")\n",
    "# Criando o diretório, se ele não existir:\n",
    "os.makedirs(PROJECT_OBJ_PATH, exist_ok=True)\n",
    "\n",
    "# Path: onde ficarão armazenados os \"Modelos\" (Machine Learning) relacionados ao Projeto:\n",
    "PROJECT_ML_PATH = os.path.join(PROJECT_ROOT_DIR, \"Models\")\n",
    "# Criando o diretório, se ele não existir:\n",
    "os.makedirs(PROJECT_ML_PATH, exist_ok=True)\n",
    "\n",
    "# Path: onde ficarão armazenados os \"datasets\" (arquivos \"csv\") e os \"Objetos\" (Data Frames) do Projeto:\n",
    "PROJECT_DATA_PATH = os.path.join(PROJECT_ROOT_DIR, \"Data\")\n",
    "# Criando o diretório, se ele não existir:\n",
    "os.makedirs(PROJECT_DATA_PATH, exist_ok=True)\n",
    "\n",
    "# Path: onde estão armazenadas as classes e funções que serão utilizadas neste notebook:\n",
    "PROJECT_LIB_PATH = os.path.join(PROJECT_ROOT_DIR, \"Library\")\n",
    "\n",
    "# Adicionando o diretório ao 'path' do Sistema, para podermos importar classes e funções que serão\n",
    "# utilizadas neste notebook:\n",
    "sys.path.append(PROJECT_LIB_PATH)\n",
    "\n",
    "# Importando para este notebook, as classes e funções definidas no módulo \"DataScience_Library_v1_0\":\n",
    "import DataScience_Library_v1_0 as dslib\n",
    "\n",
    "# Importando para este notebook, as classes e funções definidas no módulo \"DataScience_Plot_Library_v1_0\":\n",
    "import DataScience_Plot_Library_v1_0 as ptlib\n",
    "\n",
    "# Importando para este notebook, as classes e funções definidas no módulo \"DataScience_ML_Library_v1_0\":\n",
    "import DataScience_ML_Library_v1_0 as mllib\n",
    "\n",
    "# Importando para este notebook, as classes e funções definidas no módulo \"DSA_Project_03_Library\":\n",
    "import DSA_Project_03_Library as pjlib\n",
    "\n",
    "# Criando um objeto para calularmos os tempos de treinamento:\n",
    "et = dslib.ElapsedTime(builder_msg=False)\n",
    "\n",
    "print(\"Setup Complete!\")"
   ]
  },
  {
   "cell_type": "code",
   "execution_count": 2,
   "metadata": {},
   "outputs": [
    {
     "name": "stdout",
     "output_type": "stream",
     "text": [
      "pandas     0.25.3\n",
      "seaborn    0.10.0\n",
      "matplotlib 3.2.1\n",
      "numpy      1.18.2\n",
      "Walter Trevisan\n"
     ]
    }
   ],
   "source": [
    "# Versões dos pacotes usados neste jupyter notebook:\n",
    "%reload_ext watermark\n",
    "%watermark -a \"Walter Trevisan\" --iversions"
   ]
  },
  {
   "cell_type": "markdown",
   "metadata": {},
   "source": [
    "## 01- Carregando os *datasets* de treinamento: `X_train_v2.pickle` e `y_train_v2.pickle`"
   ]
  },
  {
   "cell_type": "code",
   "execution_count": 3,
   "metadata": {},
   "outputs": [
    {
     "name": "stdout",
     "output_type": "stream",
     "text": [
      "The 'X_train_v2' (data frame) has been successfully uploaded!\n",
      "The 'y_train_v2' (data frame) has been successfully uploaded!\n"
     ]
    }
   ],
   "source": [
    "# Carregando o dataset \"X_train_v2.pickle\" que contém as variáveis preditoras:\n",
    "X_train = dslib.pickle_object_load(path=PROJECT_DATA_PATH, file=\"X_train_v2.pickle\",\n",
    "                                   msg=\"The 'X_train_v2' (data frame) has been successfully uploaded!\")\n",
    "\n",
    "# Carregando o dataset \"y_train_v2.pickle\" que contém a variável target:\n",
    "y_train = dslib.pickle_object_load(path=PROJECT_DATA_PATH, file=\"y_train_v2.pickle\",\n",
    "                                   msg=\"The 'y_train_v2' (data frame) has been successfully uploaded!\")"
   ]
  },
  {
   "cell_type": "markdown",
   "metadata": {},
   "source": [
    "## 02- Carregando os `objetos` (Modelos de `Machine Learning`):\n",
    "\n",
    "Vamos carregar os seguintes **`objetos`**:\n",
    "\n",
    "> 2.1 **`rfe`**: Contém as *features* (mais importantes) selecionadas para fazermos o treinamento do algorito **`KNN`**;\n",
    "\n",
    "> 2.2 **`knn`**: Contém as informações do treinamento do algorito **`KNN`**;\n",
    "\n",
    "> 2.3 **`rfecv_rfc`**: Contém as informações do treinamento do algorito **`RFC`**;\n",
    "\n",
    "> 2.4 **`rfecv_xgbc`**: Contém as informações do treinamento do algorito **`XGBC`**."
   ]
  },
  {
   "cell_type": "code",
   "execution_count": 4,
   "metadata": {},
   "outputs": [
    {
     "name": "stdout",
     "output_type": "stream",
     "text": [
      "The model (RFE) has been successfully uploaded!\n",
      "The model (KNN) has been successfully uploaded!\n",
      "The model (RFC) has been successfully uploaded!\n",
      "The model (XGBC) has been successfully uploaded!\n"
     ]
    }
   ],
   "source": [
    "# 2.1 Carregando o modelo \"rfecv_knn_v1.pickle\":\n",
    "rfe = dslib.pickle_object_load(path=PROJECT_ML_PATH, file=\"rfe_feature_selection.pickle\",\n",
    "                               msg=\"The model (RFE) has been successfully uploaded!\")\n",
    "\n",
    "# 2.2 Carregando o modelo \"knn_v1.pickle\":\n",
    "knn = dslib.pickle_object_load(path=PROJECT_ML_PATH, file=\"knn_v1.pickle\",\n",
    "                               msg=\"The model (KNN) has been successfully uploaded!\")\n",
    "\n",
    "# 2.3 Carregando o modelo \"rfecv_rfc_v1.pickle\":\n",
    "rfecv_rfc = dslib.pickle_object_load(path=PROJECT_ML_PATH, file=\"rfecv_rfc_v1.pickle\",\n",
    "                                     msg=\"The model (RFC) has been successfully uploaded!\")\n",
    "\n",
    "# 2.4 Carregando o modelo \"rfecv_xgbc_v1.pickle\":\n",
    "rfecv_xgbc = dslib.pickle_object_load(path=PROJECT_ML_PATH, file=\"rfecv_xgbc_v1.pickle\",\n",
    "                                      msg=\"The model (XGBC) has been successfully uploaded!\")"
   ]
  },
  {
   "cell_type": "markdown",
   "metadata": {},
   "source": [
    "## 03- Definição das `Métricas de Classificação`:\n",
    "\n",
    "### Métricas: `Accuracy`, `Precision`, `Recall`, `f1-score` e `ROC Curve (AUC)`\n",
    "\n",
    "### `Accuracy`:\n",
    "\n",
    "A **acurácia** do modelo mede a taxa de acertos das classes ***True Positive*** e ***True Negative***, sendo calculada pela fórmula abaixo:\n",
    "\n",
    "**`Accuracy = (TP + TN)/(TP + TN + FP + FN)`**, onde:\n",
    "\n",
    "1. **`TP`** é o número de ***verdadeiros positivos***;\n",
    "\n",
    "2. **`TN`** é o número de ***verdadeiros negativos***;\n",
    "\n",
    "3. **`FP`** é o número de ***falsos positivos***.\n",
    "\n",
    "4. **`FN`** é o número de ***falsos negativos***.\n",
    "\n",
    "Um classificador perfeito teria apenas *verdadeiros positivos* (**TP**) e *verdadeiros negativos* (**TN**), ou seja, sua **matriz de confusão** teria valores diferentes de zero somente na sua diagonal principal (superior esquerda para a inferior direita), ou seja, a sua acurácia (**`accuracy`**) seria de **100%**.\n",
    "\n",
    "### `Precision`:\n",
    "\n",
    "Uma outra métrica interessante a ser observada na ***matriz de confusão*** é a `acurácia das previsões positivas`; que é chamada de ***precisão (precision)*** do classificador e é calculada pela fórmula abaixo:\n",
    "\n",
    "**`Precision = TP/(TP + FP)`**, onde:\n",
    "\n",
    "1. **`TP`** é o número de ***verdadeiros positivos***;\n",
    "\n",
    "2. **`FP`** é o número de ***falsos positivos***.\n",
    "\n",
    "### `Recall`:\n",
    "\n",
    "Entretanto, a precisão é utilizada em conjunto com outra métrica chamada ***revocação (recall)***, também conhecida como ***sensibilidade*** ou ***taxa de verdadeiros positivos (TPR)***: esta é a taxa de `instâncias positivas que são corretamente detectadas` pelo classificador, sendo calculada pel fórmula abaixo:\n",
    "\n",
    "**`Recall = TP/(TP + FN)`**, onde:\n",
    "\n",
    "1. **`TP`** é o número de ***verdadeiros positivos***;\n",
    "\n",
    "2. **`FN`** é o número de ***falsos negativos***.\n",
    "\n",
    "### `f1-score`:\n",
    "\n",
    "Muitas vezes, é conveniente combinarmos **precisão** e **revocação** em uma única métrica chamada ***pontuação F1 (f1 score)***, principalmente se precisarmos comparar dois ou mais classificadores.\n",
    "\n",
    "A ***pontuação F1*** é a ***média harmônica*** da **precisão** e **revocação**, sendo calculada pela fórmula abaixo:\n",
    "\n",
    "**`F1 = TP/(TP + (FN + FP)/2)`**, onde:\n",
    "\n",
    "1. **`TP`** é o número de ***verdadeiros positivos***;\n",
    "\n",
    "2. **`FN`** é o número de ***falsos negativos***;\n",
    "\n",
    "3. **`FP`** é o número de ***falsos positivos***.\n",
    "\n",
    "Enquanto a média regular trata igualmente todos os valores, a média harmônica dá muito mais peso aos valores mais baixos, ou seja, o classificador só obterá uma ***pontuação F1*** alta, se a **revocação** e a **precisão** forem altas.\n",
    "\n",
    "### `ROC Curve (AUC)`\n",
    "\n",
    "A curva **ROC** (*características operacionais do receptor*) é outra ferramenta comum utilizada com classificadores binários. É muito semelhante à curva de **`precision/recall`**, mas, em vez de plotar a **precision versus recall**, a curva **ROC** plota a *taxa de verdadeiros positivos* (***TPR = True Positive Rate***), que é um outro nome dado para ***recall***, versus a *taxa de falsos positivos* (***FPR = False Positive Rate***). O ***FPR*** é a razão de instâncias negativas incorretamente classificadas como positivas. É igual a 1 menos *taxa de verdadeiros negativos* (***TNR = True Negative Rate***), que é a razão de instâncias negativas que são corretamente classificadas como negativas. A ***TNR*** também é chamada de ***especificidade***.\n",
    "\n",
    "Portanto, a ***Curva ROC*** plota a ***`sensibilidade (recall)` versus `1 - especificidade`***.\n",
    "\n",
    "Equações:\n",
    "\n",
    "1. **`TPR = TP/(TP + FN)`** --> ***True Positive Rate***, ou também ***`recall`*** ou também ***`sensibilidade`***\n",
    "\n",
    "2. **`FPR = FP/(FP + TN)`** --> ***False Positive Rate***\n",
    "\n",
    "3. **`TNR = TN/(TN + FP)`** --> ***True Negative Rate***, ou também ***especificidade***\n",
    "\n",
    "4. **`FPR = 1 - TNR`** ou também **`FPR = 1 - especificidade`**\n",
    "\n",
    "Então, para plotarmos a ***ROC curve***, primeiro precisamos calcular a **TPR** e a **FPR** para vários valores de ***thresholds*** (limiares) utilizando a função ***`roc_curve()`***.\n",
    "\n",
    "Mas, a função `roc_curve()` utiliza as **pontuações de decisão** (ao invés das previsões) de todas as instâncias do nosso dataset, ou seja, precisamos primeiro calcular estas pontuações (`scores`) de decisão utilizando o método `decision_function` da função `cross_val_predict()`.\n",
    "\n",
    "Entretando, devido ao modo como funcionam, alguns classificadores (por exemplo: a classe `KNeighborsClassifier`) não possuem um método `decision_function()`. Em vez disso, eles possuem um método chamado `predict_proba()`. Este método retorna um array que contém uma linha por instância e uma coluna por classe, cada uma contendo a probabilidade de a instância dada pertencer à classe dada (por exemplo, neste projeto, 70% de chance de um cliente estar insatisfeito). Portanto, quando utilizarmos estes classificadores, primeiro precisaremos calcular as probabilidades com o método `predict_proba()`, e, então, em seguida calcularemos as *pontuações de decisão* utilizando a probabilidade da classe positiva como sendo a pontuação.\n",
    "\n",
    "Observando o gráfico da **Curva ROC**, quanto maior a ***`TPR (recall)`***, mais falsos positivos (***`FPR`***) o classificador produz, ou seja, menor é a sua **precisão** (***`precision`***). A linha pontilhada representa a curva ROC de um classificador puramente aleatório; um bom classificador fica mais distante dessa linha possível (em direção ao canto superior esquerdo)!\n",
    "\n",
    "Uma forma de compararmos dois ou mais classificadores é medirmos a **área abaixo da curva** (***`AUC = Area Under Curve`***). Um classificador perfeito terá um ***`ROC AUC = 1`***, enquanto que um classificador puramente aleatório terá um ***`ROC AUC = 0.5`***."
   ]
  },
  {
   "cell_type": "markdown",
   "metadata": {},
   "source": [
    "Portanto, vamos criar um objeto do tipo *data frame* para armazenar as seguintes métricas de classificação, para cada algorítimo de *machine learning* selecionado para esta etapa, a saber: **`Accuracy`**, **`Precision`**, **`Recall`**, **`f1-score`** e **`AUC`**:"
   ]
  },
  {
   "cell_type": "code",
   "execution_count": 5,
   "metadata": {},
   "outputs": [
    {
     "data": {
      "text/html": [
       "<div>\n",
       "<style scoped>\n",
       "    .dataframe tbody tr th:only-of-type {\n",
       "        vertical-align: middle;\n",
       "    }\n",
       "\n",
       "    .dataframe tbody tr th {\n",
       "        vertical-align: top;\n",
       "    }\n",
       "\n",
       "    .dataframe thead th {\n",
       "        text-align: right;\n",
       "    }\n",
       "</style>\n",
       "<table border=\"1\" class=\"dataframe\">\n",
       "  <thead>\n",
       "    <tr style=\"text-align: right;\">\n",
       "      <th></th>\n",
       "      <th>Accuracy</th>\n",
       "      <th>Precision</th>\n",
       "      <th>Recall</th>\n",
       "      <th>f1-score</th>\n",
       "      <th>AUC</th>\n",
       "    </tr>\n",
       "    <tr>\n",
       "      <th>Models</th>\n",
       "      <th></th>\n",
       "      <th></th>\n",
       "      <th></th>\n",
       "      <th></th>\n",
       "      <th></th>\n",
       "    </tr>\n",
       "  </thead>\n",
       "  <tbody>\n",
       "    <tr>\n",
       "      <th>KNN</th>\n",
       "      <td>NaN</td>\n",
       "      <td>NaN</td>\n",
       "      <td>NaN</td>\n",
       "      <td>NaN</td>\n",
       "      <td>NaN</td>\n",
       "    </tr>\n",
       "    <tr>\n",
       "      <th>RFC</th>\n",
       "      <td>NaN</td>\n",
       "      <td>NaN</td>\n",
       "      <td>NaN</td>\n",
       "      <td>NaN</td>\n",
       "      <td>NaN</td>\n",
       "    </tr>\n",
       "    <tr>\n",
       "      <th>XGBC</th>\n",
       "      <td>NaN</td>\n",
       "      <td>NaN</td>\n",
       "      <td>NaN</td>\n",
       "      <td>NaN</td>\n",
       "      <td>NaN</td>\n",
       "    </tr>\n",
       "  </tbody>\n",
       "</table>\n",
       "</div>"
      ],
      "text/plain": [
       "       Accuracy Precision Recall f1-score  AUC\n",
       "Models                                        \n",
       "KNN         NaN       NaN    NaN      NaN  NaN\n",
       "RFC         NaN       NaN    NaN      NaN  NaN\n",
       "XGBC        NaN       NaN    NaN      NaN  NaN"
      ]
     },
     "execution_count": 5,
     "metadata": {},
     "output_type": "execute_result"
    }
   ],
   "source": [
    "# Agora, vamos criar um data frame onde serão armazenadas as métricas de classificação dos algoritmos selecionados:\n",
    "classif_metrics_df = pd.DataFrame(data={}, columns=['Accuracy', 'Precision', 'Recall', 'f1-score', 'AUC'],\n",
    "                                  index=['KNN', 'RFC', 'XGBC'])\n",
    "\n",
    "# Define um nome para os índices:\n",
    "classif_metrics_df.index.name = 'Models'\n",
    "\n",
    "# Mostrando o data frame criado:\n",
    "classif_metrics_df"
   ]
  },
  {
   "cell_type": "markdown",
   "metadata": {},
   "source": [
    "## 04- Ajuste Fino dos Hiperparâmetros (Modelos ML):\n",
    "\n",
    "Agora, vamos realizar o ajuste fino dos algoritmos de classificação, utilizando **[GridSearchCV](https://scikit-learn.org/stable/modules/generated/sklearn.model_selection.GridSearchCV.html)** e **[RandomizedSearchCV ](https://scikit-learn.org/stable/modules/generated/sklearn.model_selection.RandomizedSearchCV.html)** para selecionar os melhores hiperparâmetros dos algoritmos."
   ]
  },
  {
   "cell_type": "markdown",
   "metadata": {},
   "source": [
    "## 4.1- [KNN](https://scikit-learn.org/stable/modules/generated/sklearn.neighbors.KNeighborsClassifier.html) (K Nearest Neighbors):"
   ]
  },
  {
   "cell_type": "markdown",
   "metadata": {},
   "source": [
    "Para selecionarmos os melhores parâmetros do **`KNN`**, utilizaremos a função **`RandomizedSearchCV()`**. Também utilizaremos neste processo as melhores *features* selecionadas na etapa anterior."
   ]
  },
  {
   "cell_type": "markdown",
   "metadata": {},
   "source": [
    "### `Feature Selection`:\n",
    "\n",
    "Vamos utilizar as *features* selecionadas (importantes) na etapa anterior."
   ]
  },
  {
   "cell_type": "code",
   "execution_count": 6,
   "metadata": {},
   "outputs": [
    {
     "name": "stdout",
     "output_type": "stream",
     "text": [
      "X_train_rfe (shape): (116820, 20)\n"
     ]
    }
   ],
   "source": [
    "# Selecionando os dados de treinamento, de acordo com as features selecionadas (Importantes) na etapa anterior (Step 01):\n",
    "X_train_rfe = X_train[:, rfe.get_support()]\n",
    "print(\"X_train_rfe (shape):\",X_train_rfe.shape)"
   ]
  },
  {
   "cell_type": "markdown",
   "metadata": {},
   "source": [
    "### `RandomizedSearchCV()` (Randomized search on hyper parameters):"
   ]
  },
  {
   "cell_type": "code",
   "execution_count": 7,
   "metadata": {},
   "outputs": [
    {
     "name": "stdout",
     "output_type": "stream",
     "text": [
      "Version 2 of the model (KNN), with 'RandomSearchCV', has been successfully uploaded!\n"
     ]
    }
   ],
   "source": [
    "# Verifica se vamos realizar a pesquisa dos hiperparâmetros:\n",
    "if (False): # Utilizar \"SEARCHING=True\" (no Setup) para pesquisar os melhores hiperparâmetros!\n",
    "    # Definindo o \"grid\" de parâmetros:\n",
    "    param_distribs = [{'weights': [\"uniform\", \"distance\"], 'n_neighbors': randint(low=1, high=30)}]\n",
    "    \n",
    "    # Inicia a pesquisa:\n",
    "    et.start(et.start(msg=\"Starting the searching (KNN) with 'RandomSearchCV'...\"))\n",
    "    \n",
    "    # Criando uma instância do classificador KNN:\n",
    "    knn_clf = KNeighborsClassifier(n_jobs=-1)\n",
    "    \n",
    "    # Criando uma instância do 'RandomizedSearchCV':\n",
    "    rnd_search_knn = RandomizedSearchCV(knn_clf, param_distributions=param_distribs,\n",
    "                                        n_iter=NUM_ITER, cv=NUM_FOLDS, scoring='accuracy',\n",
    "                                        random_state=RANDOM_STATE)\n",
    "    \n",
    "    # Fit nos dados de treinamento:\n",
    "    rnd_search_knn.fit(X_train_rfe, y_train)\n",
    "    \n",
    "    # Fim da pesquisa:\n",
    "    et.end(msg=\"Time consumed for searching (KNN) with 'RandomSearchCV':\")\n",
    "    \n",
    "    # Salvando o modelo com os melhores hiperparâmetros encontrados:\n",
    "    dslib.pickle_object_save (path=PROJECT_ML_PATH, file=\"rnd_search_knn_v2.pickle\", object_name=rnd_search_knn,\n",
    "                              msg=\"Version 2 of the model (KNN), with 'RandomSearchCV', was successfully saved!\")\n",
    "else:\n",
    "    # Os melhores hiperparâmetros já foram encontrados!\n",
    "    # Carregando o modelo com os melhores hiperparâmetros: \"rnd_search_knn_v2.pickle\":\n",
    "    rnd_search_knn = dslib.pickle_object_load(path=PROJECT_ML_PATH, file=\"rnd_search_knn_v2.pickle\",\n",
    "                                              msg=\"Version 2 of the model (KNN), with 'RandomSearchCV', has been successfully uploaded!\")"
   ]
  },
  {
   "cell_type": "markdown",
   "metadata": {},
   "source": [
    "**Análise:** o treinamento do **`KNN`**, utilizando a função **`RandomSearchCV()`** para a seleção dos melhores hiperparâmetros, demorou **`13.47 minutos`**."
   ]
  },
  {
   "cell_type": "code",
   "execution_count": 8,
   "metadata": {},
   "outputs": [
    {
     "name": "stdout",
     "output_type": "stream",
     "text": [
      "Best results with 'Random Search CV':\n",
      "Best params: {'n_neighbors': 1, 'weights': 'distance'}\n",
      "Best estimator: KNeighborsClassifier(n_jobs=-1, n_neighbors=1, weights='distance')\n",
      "Best score: 0.8934\n"
     ]
    }
   ],
   "source": [
    "# Relatório dos melhores resultados utilizando o \"RandomSearchCV()\":\n",
    "mllib.best_results_report(estimator=rnd_search_knn, title=\"Best results with 'Random Search CV':\")"
   ]
  },
  {
   "cell_type": "markdown",
   "metadata": {},
   "source": [
    "Vamos ver a pontuação (**`Score`**) de cada combinação dos hiperparâmetros testados durante a pesquisa com o **`Random Search`**:"
   ]
  },
  {
   "cell_type": "code",
   "execution_count": 9,
   "metadata": {},
   "outputs": [
    {
     "name": "stdout",
     "output_type": "stream",
     "text": [
      "0.8700564971751412 {'n_neighbors': 7, 'weights': 'distance'}\n",
      "0.8202277007361752 {'n_neighbors': 29, 'weights': 'uniform'}\n",
      "0.8616332819722651 {'n_neighbors': 11, 'weights': 'distance'}\n",
      "0.8202277007361752 {'n_neighbors': 29, 'weights': 'uniform'}\n",
      "0.8700564971751412 {'n_neighbors': 7, 'weights': 'distance'}\n",
      "0.8309193631227529 {'n_neighbors': 19, 'weights': 'uniform'}\n",
      "0.8481595617188837 {'n_neighbors': 11, 'weights': 'uniform'}\n",
      "0.827170005136107 {'n_neighbors': 24, 'weights': 'uniform'}\n",
      "0.8847286423557611 {'n_neighbors': 4, 'weights': 'distance'}\n",
      "0.827170005136107 {'n_neighbors': 24, 'weights': 'uniform'}\n",
      "0.8296695771272041 {'n_neighbors': 22, 'weights': 'uniform'}\n",
      "0.8919191919191919 {'n_neighbors': 2, 'weights': 'distance'}\n",
      "0.8613251155624037 {'n_neighbors': 12, 'weights': 'distance'}\n",
      "0.8774524910118131 {'n_neighbors': 6, 'weights': 'distance'}\n",
      "0.8233521657250471 {'n_neighbors': 28, 'weights': 'uniform'}\n",
      "0.8933573018318782 {'n_neighbors': 1, 'weights': 'distance'}\n",
      "0.8453175826057182 {'n_neighbors': 26, 'weights': 'distance'}\n",
      "0.8446070878274268 {'n_neighbors': 29, 'weights': 'distance'}\n",
      "0.8237630542715288 {'n_neighbors': 25, 'weights': 'uniform'}\n",
      "0.8216230097586031 {'n_neighbors': 27, 'weights': 'uniform'}\n"
     ]
    }
   ],
   "source": [
    "cv_res = rnd_search_knn.cv_results_\n",
    "for mean_score, params in zip(cv_res[\"mean_test_score\"], cv_res[\"params\"]):\n",
    "    print(mean_score, params)"
   ]
  },
  {
   "cell_type": "markdown",
   "metadata": {},
   "source": [
    "### `GridSearchCV()` (Exhaustive search over specified parameter values for an estimator):"
   ]
  },
  {
   "cell_type": "code",
   "execution_count": 10,
   "metadata": {},
   "outputs": [
    {
     "name": "stdout",
     "output_type": "stream",
     "text": [
      "Version 2 of the model (KNN), with 'GridSearchCV', has been successfully uploaded!\n"
     ]
    }
   ],
   "source": [
    "# Verifica se vamos realizar a pesquisa dos hiperparâmetros:\n",
    "if (SEARCHING): # Utilizar \"SEARCHING=True\" (no Setup) para pesquisar os melhores hiperparâmetros!\n",
    "    # Definindo o \"grid\" de parâmetros:\n",
    "    n_neighbors = list(range(1, 31))\n",
    "    param_grid = [{'weights': [\"uniform\", \"distance\"], 'n_neighbors': n_neighbors}]\n",
    "    \n",
    "    # Inicia a pesquisa:\n",
    "    et.start(et.start(msg=\"Starting the searching (KNN) with 'GridSearchCV'...\"))\n",
    "    \n",
    "    # Criando uma instância do classificador KNN:\n",
    "    knn_clf = KNeighborsClassifier(n_jobs=-1)\n",
    "    \n",
    "    # Criando uma instância do 'GridSearchCV':\n",
    "    grd_search_knn = GridSearchCV(estimator=knn_clf, param_grid=param_grid, scoring='accuracy',\n",
    "                                  n_jobs=-1, refit=True, cv=NUM_FOLDS, verbose=3, return_train_score=False)\n",
    "\n",
    "    # Fit nos dados de treinamento:\n",
    "    grd_search_knn.fit(X_train_rfe, y_train)\n",
    "    \n",
    "    # Fim da pesquisa:\n",
    "    et.end(msg=\"Time consumed for searching (KNN) with 'GridSearchCV':\")\n",
    "    \n",
    "    # Salvando o modelo com os melhores hiperparâmetros encontrados:\n",
    "    dslib.pickle_object_save (path=PROJECT_ML_PATH, file=\"grd_search_knn_v2.pickle\", object_name=grd_search_knn,\n",
    "                              msg=\"Version 2 of the model (KNN), with 'GridSearchCV', was successfully saved!\")\n",
    "else:\n",
    "    # Os melhores hiperparâmetros já foram encontrados!\n",
    "    # Carregando o modelo com os melhores hiperparâmetros: \"grd_search_knn_v2.pickle\":\n",
    "    grd_search_knn = dslib.pickle_object_load(path=PROJECT_ML_PATH, file=\"grd_search_knn_v2.pickle\",\n",
    "                                              msg=\"Version 2 of the model (KNN), with 'GridSearchCV', has been successfully uploaded!\")"
   ]
  },
  {
   "cell_type": "markdown",
   "metadata": {},
   "source": [
    "**Análise:** o treinamento do **`KNN`**, utilizando a função **`GridSearchCV()`** para a seleção dos melhores hiperparâmetros, demorou **`33.32 minutos`**."
   ]
  },
  {
   "cell_type": "code",
   "execution_count": 11,
   "metadata": {},
   "outputs": [
    {
     "name": "stdout",
     "output_type": "stream",
     "text": [
      "Best results with 'Grid Search CV':\n",
      "Best params: {'n_neighbors': 1, 'weights': 'uniform'}\n",
      "Best estimator: KNeighborsClassifier(n_jobs=-1, n_neighbors=1)\n",
      "Best score: 0.8934\n"
     ]
    }
   ],
   "source": [
    "# Relatório dos melhores resultados utilizando o \"GridSearchCV()\":\n",
    "mllib.best_results_report(estimator=grd_search_knn, title=\"Best results with 'Grid Search CV':\")"
   ]
  },
  {
   "cell_type": "markdown",
   "metadata": {},
   "source": [
    "**Análise:** podemos observar que com as duas funções (`RandomSearchCV()` e `GridSearchCV()`) conseguimos encontrar os melhores hiperparâmetros para o **`KNN`**. Com os melhores parâmetros atingimos uma pontuação (`score`) de **89.34%**, ou seja, a sua acurácia (`accuracy`) aumentou **`3%`** em relação a sua versão anterior (**v1**)."
   ]
  },
  {
   "cell_type": "markdown",
   "metadata": {},
   "source": [
    "### `Matriz de Confusão`\n",
    "\n",
    "Para calcularmos a ***Confusion Matrix***, primeiro precisamos ter um conjunto de previsões que possam ser comparadas com os valores (*labels*) reais. Como não podemos utilizar os dados do nosso conjunto de testes, utilizaremos a função ***`cross_val_predict()`***.\n",
    "\n",
    "Assim como a função ***cross_val_score***, ela desempenha a validação cruzada *K-fold*, mas em vez de retornar as pontuações da avaliação, ela retorna as previsões feitas em cada parte do teste, ou seja, isso significa que nós obteremos uma previsão limpa para cada instância no conjunto de treinamento (**\"limpa\"**, significando que a previsão é feita por um modelo que nunca viu os dados durante o treinamento)."
   ]
  },
  {
   "cell_type": "code",
   "execution_count": 12,
   "metadata": {},
   "outputs": [
    {
     "name": "stdout",
     "output_type": "stream",
     "text": [
      "Version 2 of the predicts (KNN) has been successfully uploaded!\n"
     ]
    }
   ],
   "source": [
    "# Calculando as previsões nos dados de treinamento:\n",
    "# Verifica se vamos fazer as previsões utilizando \"validação cruzada\":\n",
    "if (CROSS_VAL_PREDICT): # Utilizar \"CROSS_VAL_PREDICT=True\" (no Setup) para fazer as 'previsões'!\n",
    "    # Inicia as previsões:\n",
    "    et.start(et.start(msg=\"Starting cross validation predict (KNN)...\"))\n",
    "    y_train_pred_knn = cross_val_predict(estimator=grd_search_knn.best_estimator_, X=X_train_rfe, y=y_train,\n",
    "                                         cv=NUM_FOLDS_CVP, n_jobs=-1)\n",
    "    \n",
    "    # Fim das previsões:\n",
    "    et.end(msg=\"Time consumed for cross validation predict (KNN):\")\n",
    "    \n",
    "    # Salvando as previsões:\n",
    "    dslib.pickle_object_save (path=PROJECT_ML_PATH, file=\"y_train_pred_knn_v2.pickle\", object_name=y_train_pred_knn,\n",
    "                              msg=\"Version 2 of the predicts (KNN) was successfully saved!\")\n",
    "else:\n",
    "    # As previsões já foram feitas!\n",
    "    # Carregando as previsões \"y_train_pred_knn_v2.pickle\":\n",
    "    y_train_pred_knn = dslib.pickle_object_load(path=PROJECT_ML_PATH, file=\"y_train_pred_knn_v2.pickle\",\n",
    "                                                msg=\"Version 2 of the predicts (KNN) has been successfully uploaded!\")"
   ]
  },
  {
   "cell_type": "markdown",
   "metadata": {},
   "source": [
    "**Análise:** o tempo consumido para fazermos as **`previsões`**, com o modelo **`KNN`**, foi de **26.37 segundos**."
   ]
  },
  {
   "cell_type": "code",
   "execution_count": 13,
   "metadata": {},
   "outputs": [
    {
     "name": "stdout",
     "output_type": "stream",
     "text": [
      "Saving figure: plot_confusion_matrix_knn_v2\n"
     ]
    },
    {
     "data": {
      "image/png": "[encoded data removed]",
      "text/plain": [
       "<Figure size 432x432 with 2 Axes>"
      ]
     },
     "metadata": {},
     "output_type": "display_data"
    }
   ],
   "source": [
    "# Plot da \"Confusion Matrix\":\n",
    "target_names = ['Satisfied', 'Dissatisfied']\n",
    "ptlib.plot_confusion_matrix(truth=y_train, pred=y_train_pred_knn, display_labels=target_names, normalize=False,\n",
    "                            plot_style='seaborn-ticks', colors=plt.cm.Oranges, title=\"Confusion Matrix (KNN)\",\n",
    "                            title_fontsize=20, labels_fontsize=18, ticks_fontsize=15, values_fontsize=15, rotation=0,\n",
    "                            width=6, height=6, figure_id='plot_confusion_matrix_knn_v2', figure_path=PROJECT_IMG_PATH,\n",
    "                            figure_file_format=\"png\", figure_file_extension=\".png\", tight_layout=True, dpi=300\n",
    "                           )"
   ]
  },
  {
   "cell_type": "markdown",
   "metadata": {},
   "source": [
    "**Análise:**\n",
    "\n",
    "Cada **linha** em uma **Matriz de Confusão** representa uma **Classe Real**, enquanto que cada **coluna** representa uma **Classe Prevista**. Portanto, a primeira linha considera os clientes **Satisfeitos** (a classe negativa) e a segunda linha considera os clientes **Insatisfeitos** (a classe positiva). A primeira coluna considera os clientes preditos como **Satisfeitos** (a classe negativa) e a segunda coluna considera os clientes preditos como **Insatisfeitos** (a classe positiva).\n",
    "\n",
    "Sendo assim, temos no gráfico **`Confusion Matrix`** os seguintes valores:\n",
    "\n",
    "1. **`TN = 51943`** (**True Negative**): são os clientes que foram classificados (preditos) `corretamente` como `Satisfeitos`;\n",
    "\n",
    "2. **`FP = 6467`** (**False Positive**): são os clientes que foram classificados (preditos) `erroneamente` como `Insatisfeitos` (na verdade os clientes estão *Satisfeitos*);\n",
    "\n",
    "3. **`FN = 5991`** (**False Negative**): são os clientes que foram classificados (preditos) `erroneamente` como `Satisfeitos` (na verdade os clientes estão *Insatisfeitos*);\n",
    "\n",
    "4. **`TP = 52419`** (**True Positive**): são os clientes que foram classificados (preditos) `corretamente` como `Insatisfeitos`."
   ]
  },
  {
   "cell_type": "markdown",
   "metadata": {},
   "source": [
    "### Métricas: `Accuracy`, `Precision`, `Recall`, e `f1-score`"
   ]
  },
  {
   "cell_type": "code",
   "execution_count": 14,
   "metadata": {},
   "outputs": [
    {
     "name": "stdout",
     "output_type": "stream",
     "text": [
      "Metrics of 'KNN' model:\n",
      "Accuracy = 0.8934\n",
      "Precision = 0.8902\n",
      "Recall = 0.8974\n",
      "f1-score = 0.8938\n"
     ]
    }
   ],
   "source": [
    "# Calculando e mostrando as métricas de classificação com o \"KNN\":\n",
    "print(\"Metrics of 'KNN' model:\")\n",
    "accuracy, precision, recall, F1_score = mllib.classif_metrics(y_real=y_train, y_pred=y_train_pred_knn, metric='All')\n",
    "\n",
    "# Armazenando as métricas calculadas no data frame:\n",
    "classif_metrics_df.loc['KNN', 'Accuracy'] = np.round(accuracy, decimals=4)\n",
    "classif_metrics_df.loc['KNN', 'Precision'] = np.round(precision, decimals=4)\n",
    "classif_metrics_df.loc['KNN', 'Recall'] = np.round(recall, decimals=4)\n",
    "classif_metrics_df.loc['KNN', 'f1-score'] = np.round(F1_score, decimals=4)"
   ]
  },
  {
   "cell_type": "markdown",
   "metadata": {},
   "source": [
    "**Análise:**\n",
    "\n",
    "1. com o classificador **`KNN`** obtivemos uma taxa de **acurácia** de **89.34%**, ou seja, é a porcentagem de clientes **satisfeitos** e **insatisfeitos** que foram classificados corretamente por ele. Em nosso projeto, o objetivo é entregarmos uma **acurácia** que seja, no **mínimo**, de **90%**. Portanto, o nosso classificador **`KNN`** apresentou um resultado *muito próximo do mínimo desejado*;\n",
    "\n",
    "\n",
    "2. com o nosso classificador **`KNN`** obtivemos uma taxa de **precisão** de **89.02%**, ou seja, é a porcentagem de clientes **insatisfeitos** que foram classificados corretamente por ele;\n",
    "\n",
    "\n",
    "3. com o nosso classificador **`KNN`** obtivemos uma taxa de **revocação** de **89.74%**, ou seja, é a porcentagem de clientes **insatisfeitos** que ele conseguiu detectar. Em nosso projeto, o objetivo é entregarmos uma taxa de **revocação** que seja, no **mínimo**, de **85%**. Portanto, o nosso classificador **`KNN`** apresentou um resultado *acima do mínimo desejado*;\n",
    "\n",
    "\n",
    "4. com o classificador **`KNN`** obtivemos uma **`pontuação F1`** **alta**, devido principalmente a ótima taxa de **revocação**."
   ]
  },
  {
   "cell_type": "markdown",
   "metadata": {},
   "source": [
    "### `Curva ROC`"
   ]
  },
  {
   "cell_type": "code",
   "execution_count": 15,
   "metadata": {},
   "outputs": [
    {
     "name": "stdout",
     "output_type": "stream",
     "text": [
      "Version 2 of the decision scores (KNN) has been successfully uploaded!\n"
     ]
    }
   ],
   "source": [
    "# Calculando as 'pontuações de decisão' nos dados de treinamento:\n",
    "# Verifica se vamos fazer os cálculos utilizando \"validação cruzada\":\n",
    "if (CROSS_VAL_PREDICT): # Utilizar \"CROSS_VAL_PREDICT=True\" (no Setup) para calcular as pontuações de decisão:\n",
    "    # Inicia o cálculo das pontuações de decisão:\n",
    "    et.start(et.start(msg=\"Starting the calculations of decision scores (KNN)...\"))\n",
    "    \n",
    "    # Primeiro, calcularemos as probabilidades de cada classe:\n",
    "    y_probas_knn = cross_val_predict(estimator=grd_search_knn.best_estimator_, X=X_train_rfe, y=y_train,\n",
    "                                     cv=NUM_FOLDS_CVP, method=\"predict_proba\", n_jobs=-1)\n",
    "    \n",
    "    # Agora, vamos utilizar as probabilidades da classe positiva (1) como sendo as pontuações de decisão:\n",
    "    y_dec_scores_knn = y_probas_knn[:, 1]\n",
    "    \n",
    "    # Fim do cálculo das pontuações de decisão:\n",
    "    et.end(msg=\"Time consumed for the calculations of decision scores (KNN):\")\n",
    "    \n",
    "    # Salvando as pontuações de decisão:\n",
    "    dslib.pickle_object_save (path=PROJECT_ML_PATH, file=\"y_dec_scores_knn_v2.pickle\", object_name=y_dec_scores_knn,\n",
    "                              msg=\"Version 2 of the decision scores (KNN) was successfully saved!\")\n",
    "else:\n",
    "    # Os cálculos das pontuações de decisão já foram feitas!\n",
    "    # Carregando as pontuações de decisão \"y_dec_scores_knn_v2.pickle\":\n",
    "    y_dec_scores_knn = dslib.pickle_object_load(path=PROJECT_ML_PATH, file=\"y_dec_scores_knn_v2.pickle\",\n",
    "                                                msg=\"Version 2 of the decision scores (KNN) has been successfully uploaded!\")"
   ]
  },
  {
   "cell_type": "markdown",
   "metadata": {},
   "source": [
    "**Análise:** o tempo consumido para calcularmos as **`pontuações de decisão`**, com o modelo **`KNN`**, foi de **22.55 segundos**."
   ]
  },
  {
   "cell_type": "code",
   "execution_count": 16,
   "metadata": {},
   "outputs": [],
   "source": [
    "# Calculando o \"FPR\" e \"TPR\":\n",
    "fpr_knn, tpr_knn, thresholds_knn = roc_curve(y_train, y_dec_scores_knn)\n",
    "\n",
    "# Calculando a \"Area Under Curve\" (AUC):\n",
    "auc = roc_auc_score(y_train, y_dec_scores_knn)\n",
    "\n",
    "# Armazenando a métrica ('AUC') no data frame:\n",
    "classif_metrics_df.loc['KNN', 'AUC'] = np.round(auc, decimals=4)"
   ]
  },
  {
   "cell_type": "code",
   "execution_count": 17,
   "metadata": {},
   "outputs": [
    {
     "name": "stdout",
     "output_type": "stream",
     "text": [
      "Saving figure: plot_roc_curve_knn_v2\n"
     ]
    },
    {
     "data": {
      "image/png": "[encoded data removed]",
      "text/plain": [
       "<Figure size 504x360 with 1 Axes>"
      ]
     },
     "metadata": {},
     "output_type": "display_data"
    }
   ],
   "source": [
    "# Plot da \"Curva ROC\":\n",
    "ptlib.plot_roc_curve(fpr_knn, tpr_knn, auc=auc, auc_decimals=2, plot_style='ggplot', color='green', line_width=2,\n",
    "                     title='ROC curve', title_fontsize=18, labels_fontsize=15, ticks_fontsize=13,\n",
    "                     legendtitle='Model(AUC)', legendtitle_fontsize=13, legend_label='KNN', legend_fontsize=13,\n",
    "                     width=7, height=5, figure_id='plot_roc_curve_knn_v2', figure_path=PROJECT_IMG_PATH,\n",
    "                     figure_file_format=\"png\", figure_file_extension=\".png\", tight_layout=True, dpi=300\n",
    "                    )"
   ]
  },
  {
   "cell_type": "markdown",
   "metadata": {},
   "source": [
    "**Análise:**\n",
    "\n",
    "Podemos observar que o nosso classificador **`KNN`** apresentou uma ***`ROC curve`*** **próxima** do *canto superior esquerdo*. Entretanto, a sua versão anterior (**`v1`**) obteve um resultado um pouco melhor (**`AUC = 0.93`**)."
   ]
  },
  {
   "cell_type": "markdown",
   "metadata": {},
   "source": [
    "## 4.2- [RFC](https://scikit-learn.org/stable/modules/generated/sklearn.ensemble.RandomForestClassifier.html) (Random Forest Classifier):"
   ]
  },
  {
   "cell_type": "markdown",
   "metadata": {},
   "source": [
    "Para selecionarmos os melhores parâmetros do **`RFC`**, utilizaremos a função **`RandomizedSearchCV()`**. Também utilizaremos neste processo as melhores *features* selecionadas na etapa anterior."
   ]
  },
  {
   "cell_type": "markdown",
   "metadata": {},
   "source": [
    "### `Feature Selection`:\n",
    "\n",
    "Vamos utilizar as *features* selecionadas (importantes) na etapa anterior."
   ]
  },
  {
   "cell_type": "code",
   "execution_count": 18,
   "metadata": {},
   "outputs": [
    {
     "name": "stdout",
     "output_type": "stream",
     "text": [
      "X_train_rfc (shape): (116820, 28)\n"
     ]
    }
   ],
   "source": [
    "# Selecionando os dados de treinamento, de acordo com as features selecionadas (Importantes) na etapa anterior (Step 01):\n",
    "X_train_rfc = X_train[:, rfecv_rfc.get_support()]\n",
    "print(\"X_train_rfc (shape):\",X_train_rfc.shape)"
   ]
  },
  {
   "cell_type": "markdown",
   "metadata": {},
   "source": [
    "### `RandomizedSearchCV()` (Randomized search on hyper parameters):"
   ]
  },
  {
   "cell_type": "code",
   "execution_count": 19,
   "metadata": {},
   "outputs": [
    {
     "name": "stdout",
     "output_type": "stream",
     "text": [
      "Version 2 of the model (RFC), with 'RandomSearchCV', has been successfully uploaded!\n"
     ]
    }
   ],
   "source": [
    "# Verifica se vamos realizar a pesquisa dos hiperparâmetros:\n",
    "if (SEARCHING): # Utilizar \"SEARCHING=True\" (no Setup) para pesquisar os melhores hiperparâmetros!\n",
    "    # Definindo o \"grid\" de parâmetros:\n",
    "    param_distribs = [\n",
    "        {'n_estimators': randint(low=1, high=200), 'max_features': randint(low=1, high=8)},\n",
    "        {'bootstrap': [False], 'n_estimators': randint(low=1, high=200), 'max_features': randint(low=1, high=8),\n",
    "         \"criterion\": [\"entropy\"]},\n",
    "        ]\n",
    "\n",
    "    # Inicia a pesquisa:\n",
    "    et.start(et.start(msg=\"Starting the searching (RFC) with 'RandomSearchCV'...\"))\n",
    "    \n",
    "    # Criando uma instância do classificador RFC:\n",
    "    rf_clf = RandomForestClassifier(random_state=42, n_jobs=-1)\n",
    "    \n",
    "    # Criando uma instância do 'RandomizedSearchCV':\n",
    "    rnd_search_rfc = RandomizedSearchCV(rf_clf, param_distributions=param_distribs,\n",
    "                                        n_iter=NUM_ITER, cv=NUM_FOLDS, scoring='accuracy',\n",
    "                                        random_state=RANDOM_STATE)\n",
    "    \n",
    "    # Fit nos dados de treinamento:\n",
    "    rnd_search_rfc.fit(X_train_rfc, y_train)\n",
    "    \n",
    "    # Fim da pesquisa:\n",
    "    et.end(msg=\"Time consumed for searching (RFC) with 'RandomSearchCV':\")\n",
    "    \n",
    "    # Salvando o modelo com os melhores hiperparâmetros encontrados:\n",
    "    dslib.pickle_object_save (path=PROJECT_ML_PATH, file=\"rnd_search_rfc_v2.pickle\", object_name=rnd_search_rfc,\n",
    "                              msg=\"Version 2 of the model (RFC), with 'RandomSearchCV', was successfully saved!\")\n",
    "else:\n",
    "    # Os melhores hiperparâmetros já foram encontrados!\n",
    "    # Carregando o modelo com os melhores hiperparâmetros: \"rnd_search_rfc_v2.pickle\":\n",
    "    rnd_search_rfc = dslib.pickle_object_load(path=PROJECT_ML_PATH, file=\"rnd_search_rfc_v2.pickle\",\n",
    "                                              msg=\"Version 2 of the model (RFC), with 'RandomSearchCV', has been successfully uploaded!\")"
   ]
  },
  {
   "cell_type": "markdown",
   "metadata": {},
   "source": [
    "**Análise:** o treinamento do **`RFC`**, utilizando a função **`RandomSearchCV()`** para a seleção dos melhores hiperparâmetros, demorou **`8.97 minutos`**."
   ]
  },
  {
   "cell_type": "code",
   "execution_count": 20,
   "metadata": {},
   "outputs": [
    {
     "name": "stdout",
     "output_type": "stream",
     "text": [
      "Best results with 'Random Search CV':\n",
      "Best params: {'bootstrap': False, 'criterion': 'entropy', 'max_features': 7, 'n_estimators': 190}\n",
      "Best estimator: RandomForestClassifier(bootstrap=False, criterion='entropy', max_features=7,\n",
      "                       n_estimators=190, n_jobs=-1, random_state=42)\n",
      "Best score: 0.9314\n"
     ]
    }
   ],
   "source": [
    "# Relatório dos melhores resultados utilizando o \"RandomSearchCV()\":\n",
    "mllib.best_results_report(estimator=rnd_search_rfc, title=\"Best results with 'Random Search CV':\")"
   ]
  },
  {
   "cell_type": "markdown",
   "metadata": {},
   "source": [
    "Vamos ver a pontuação (**`Score`**) de cada combinação dos hiperparâmetros testados durante a pesquisa com o **`Random Search`**:"
   ]
  },
  {
   "cell_type": "code",
   "execution_count": 21,
   "metadata": {},
   "outputs": [
    {
     "name": "stdout",
     "output_type": "stream",
     "text": [
      "0.9299349426468071 {'max_features': 4, 'n_estimators': 93}\n",
      "0.9294983735661703 {'max_features': 3, 'n_estimators': 72}\n",
      "0.9307567197397706 {'max_features': 5, 'n_estimators': 103}\n",
      "0.9291645266221538 {'bootstrap': False, 'criterion': 'entropy', 'max_features': 3, 'n_estimators': 75}\n",
      "0.9308252011641842 {'max_features': 5, 'n_estimators': 100}\n",
      "0.9298750214004452 {'bootstrap': False, 'criterion': 'entropy', 'max_features': 3, 'n_estimators': 150}\n",
      "0.9293357301831879 {'max_features': 2, 'n_estimators': 88}\n",
      "0.9298407806882383 {'bootstrap': False, 'criterion': 'entropy', 'max_features': 6, 'n_estimators': 38}\n",
      "0.9289248416367061 {'bootstrap': False, 'criterion': 'entropy', 'max_features': 4, 'n_estimators': 21}\n",
      "0.9295240541003252 {'max_features': 4, 'n_estimators': 58}\n",
      "0.9304057524396507 {'bootstrap': False, 'criterion': 'entropy', 'max_features': 5, 'n_estimators': 89}\n",
      "0.9292843691148777 {'max_features': 3, 'n_estimators': 59}\n",
      "0.9299863037151173 {'max_features': 2, 'n_estimators': 188}\n",
      "0.9313644923814415 {'bootstrap': False, 'criterion': 'entropy', 'max_features': 7, 'n_estimators': 190}\n",
      "0.9313644923814415 {'bootstrap': False, 'criterion': 'entropy', 'max_features': 7, 'n_estimators': 190}\n",
      "0.9296096558808424 {'max_features': 4, 'n_estimators': 55}\n",
      "0.9290361239513782 {'bootstrap': False, 'criterion': 'entropy', 'max_features': 1, 'n_estimators': 131}\n",
      "0.9299520630029103 {'max_features': 3, 'n_estimators': 135}\n",
      "0.9298065399760315 {'max_features': 1, 'n_estimators': 167}\n",
      "0.9302088683444616 {'bootstrap': False, 'criterion': 'entropy', 'max_features': 4, 'n_estimators': 89}\n"
     ]
    }
   ],
   "source": [
    "cv_res = rnd_search_rfc.cv_results_\n",
    "for mean_score, params in zip(cv_res[\"mean_test_score\"], cv_res[\"params\"]):\n",
    "    print(mean_score, params)"
   ]
  },
  {
   "cell_type": "markdown",
   "metadata": {},
   "source": [
    "### `GridSearchCV()` (Exhaustive search over specified parameter values for an estimator):"
   ]
  },
  {
   "cell_type": "code",
   "execution_count": 22,
   "metadata": {},
   "outputs": [
    {
     "name": "stdout",
     "output_type": "stream",
     "text": [
      "Version 2 of the model (RFC), with 'GridSearchCV', has been successfully uploaded!\n"
     ]
    }
   ],
   "source": [
    "# Verifica se vamos realizar a pesquisa dos hiperparâmetros:\n",
    "if (SEARCHING): # Utilizar \"SEARCHING=True\" (no Setup) para pesquisar os melhores hiperparâmetros!\n",
    "    # Definindo o \"grid\" de parâmetros:\n",
    "    n_estimators = [50, 100, 150, 200, 300, 350, 400, 450, 500]\n",
    "    max_features = list(range(1, 9))\n",
    "        \n",
    "    # Definindo o \"grid\" de parâmetros:\n",
    "    param_grid = [\n",
    "        {'n_estimators': n_estimators, 'max_features': max_features},\n",
    "        {'bootstrap': [False], 'n_estimators': n_estimators, 'max_features': max_features,\n",
    "         \"criterion\": [\"entropy\"]},\n",
    "        ]\n",
    "        \n",
    "    # Inicia a pesquisa:\n",
    "    et.start(et.start(msg=\"Starting the searching (RFC) with 'GridSearchCV'...\"))\n",
    "    \n",
    "    # Criando uma instância do classificador RFC:\n",
    "    rf_clf = RandomForestClassifier(random_state=42, n_jobs=-1)\n",
    "    \n",
    "    # Criando uma instância do 'GridSearchCV':\n",
    "    grd_search_rfc = GridSearchCV(estimator=rf_clf, param_grid=param_grid, scoring='accuracy',\n",
    "                                  n_jobs=-1, refit=True, cv=NUM_FOLDS, verbose=3, return_train_score=False)\n",
    "\n",
    "    # Fit nos dados de treinamento:\n",
    "    grd_search_rfc.fit(X_train_rfc, y_train)\n",
    "    \n",
    "    # Fim da pesquisa:\n",
    "    et.end(msg=\"Time consumed for searching (RFC) with 'GridSearchCV':\")\n",
    "    \n",
    "    # Salvando o modelo com os melhores hiperparâmetros encontrados:\n",
    "    dslib.pickle_object_save (path=PROJECT_ML_PATH, file=\"grd_search_rfc_v2.pickle\", object_name=grd_search_rfc,\n",
    "                              msg=\"Version 2 of the model (RFC), with 'GridSearchCV', was successfully saved!\")\n",
    "else:\n",
    "    # Os melhores hiperparâmetros já foram encontrados!\n",
    "    # Carregando o modelo com os melhores hiperparâmetros: \"grd_search_rfc_v2.pickle\":\n",
    "    grd_search_rfc = dslib.pickle_object_load(path=PROJECT_ML_PATH, file=\"grd_search_rfc_v2.pickle\",\n",
    "                                              msg=\"Version 2 of the model (RFC), with 'GridSearchCV', has been successfully uploaded!\")"
   ]
  },
  {
   "cell_type": "markdown",
   "metadata": {},
   "source": [
    "**Análise:** o treinamento do **`RFC`**, utilizando a função **`GridSearchCV()`** para a seleção dos melhores hiperparâmetros, demorou **`2.56 horas`**."
   ]
  },
  {
   "cell_type": "code",
   "execution_count": 23,
   "metadata": {},
   "outputs": [
    {
     "name": "stdout",
     "output_type": "stream",
     "text": [
      "Best results with 'Grid Search CV':\n",
      "Best params: {'max_features': 7, 'n_estimators': 400}\n",
      "Best estimator: RandomForestClassifier(max_features=7, n_estimators=400, n_jobs=-1,\n",
      "                       random_state=42)\n",
      "Best score: 0.9317\n"
     ]
    }
   ],
   "source": [
    "# Relatório dos melhores resultados utilizando o \"GridSearchCV()\":\n",
    "mllib.best_results_report(estimator=grd_search_rfc, title=\"Best results with 'Grid Search CV':\")"
   ]
  },
  {
   "cell_type": "markdown",
   "metadata": {},
   "source": [
    "**Análise:** podemos observar que com as duas funções (`RandomSearchCV()` e `GridSearchCV()`) conseguimos encontrar os melhores hiperparâmetros para o **`RFC`**. Com os melhores parâmetros atingimos uma pontuação (`score`) de **93.17%**, ou seja, a sua acurácia (`accuracy`) praticamente continuou a mesma em relação a sua versão anterior (**v1**). "
   ]
  },
  {
   "cell_type": "markdown",
   "metadata": {},
   "source": [
    "### `Matriz de Confusão`\n",
    "\n",
    "Para calcularmos a ***Confusion Matrix***, primeiro precisamos ter um conjunto de previsões que possam ser comparadas com os valores (*labels*) reais. Como não podemos utilizar os dados do nosso conjunto de testes, utilizaremos a função ***`cross_val_predict()`***.\n",
    "\n",
    "Assim como a função ***cross_val_score***, ela desempenha a validação cruzada *K-fold*, mas em vez de retornar as pontuações da avaliação, ela retorna as previsões feitas em cada parte do teste, ou seja, isso significa que nós obteremos uma previsão limpa para cada instância no conjunto de treinamento (**\"limpa\"**, significando que a previsão é feita por um modelo que nunca viu os dados durante o treinamento)."
   ]
  },
  {
   "cell_type": "code",
   "execution_count": 24,
   "metadata": {},
   "outputs": [
    {
     "name": "stdout",
     "output_type": "stream",
     "text": [
      "Version 2 of the predicts (RFC) has been successfully uploaded!\n"
     ]
    }
   ],
   "source": [
    "# Calculando as previsões nos dados de treinamento:\n",
    "# Verifica se vamos fazer as previsões utilizando \"validação cruzada\":\n",
    "if (CROSS_VAL_PREDICT): # Utilizar \"CROSS_VAL_PREDICT=True\" (no Setup) para fazer as 'previsões'!\n",
    "    # Inicia as previsões:\n",
    "    et.start(et.start(msg=\"Starting cross validation predict (RFC)...\"))\n",
    "    y_train_pred_rfc = cross_val_predict(estimator=grd_search_rfc.best_estimator_, X=X_train_rfc, y=y_train,\n",
    "                                         cv=NUM_FOLDS_CVP, n_jobs=-1)\n",
    "    \n",
    "    # Fim das previsões:\n",
    "    et.end(msg=\"Time consumed for cross validation predict (RFC):\")\n",
    "    \n",
    "    # Salvando as previsões:\n",
    "    dslib.pickle_object_save (path=PROJECT_ML_PATH, file=\"y_train_pred_rfc_v2.pickle\", object_name=y_train_pred_rfc,\n",
    "                              msg=\"Version 2 of the predicts (RFC) was successfully saved!\")\n",
    "else:\n",
    "    # As previsões já foram feitas!\n",
    "    # Carregando as previsões \"y_train_pred_rfc_v2.pickle\":\n",
    "    y_train_pred_rfc = dslib.pickle_object_load(path=PROJECT_ML_PATH, file=\"y_train_pred_rfc_v2.pickle\",\n",
    "                                                msg=\"Version 2 of the predicts (RFC) has been successfully uploaded!\")"
   ]
  },
  {
   "cell_type": "markdown",
   "metadata": {},
   "source": [
    "**Análise:** o tempo consumido para fazermos as **`previsões`**, com o modelo **`RFC`**, foi de **1.37 minutos**."
   ]
  },
  {
   "cell_type": "code",
   "execution_count": 25,
   "metadata": {},
   "outputs": [
    {
     "name": "stdout",
     "output_type": "stream",
     "text": [
      "Saving figure: plot_confusion_matrix_rfc_v2\n"
     ]
    },
    {
     "data": {
      "image/png": "[encoded data removed]",
      "text/plain": [
       "<Figure size 432x432 with 2 Axes>"
      ]
     },
     "metadata": {},
     "output_type": "display_data"
    }
   ],
   "source": [
    "# Plot da \"Confusion Matrix\":\n",
    "target_names = ['Satisfied', 'Dissatisfied']\n",
    "ptlib.plot_confusion_matrix(truth=y_train, pred=y_train_pred_rfc, display_labels=target_names, normalize=False,\n",
    "                            plot_style='seaborn-ticks', colors=plt.cm.Oranges, title=\"Confusion Matrix (RFC)\",\n",
    "                            title_fontsize=20, labels_fontsize=18, ticks_fontsize=15, values_fontsize=13, rotation=0,\n",
    "                            width=6, height=6, figure_id='plot_confusion_matrix_rfc_v2', figure_path=PROJECT_IMG_PATH,\n",
    "                            figure_file_format=\"png\", figure_file_extension=\".png\", tight_layout=True, dpi=300\n",
    "                           )"
   ]
  },
  {
   "cell_type": "markdown",
   "metadata": {},
   "source": [
    "**Análise:**\n",
    "\n",
    "Cada **linha** em uma **Matriz de Confusão** representa uma **Classe Real**, enquanto que cada **coluna** representa uma **Classe Prevista**. Portanto, a primeira linha considera os clientes **Satisfeitos** (a classe negativa) e a segunda linha considera os clientes **Insatisfeitos** (a classe positiva). A primeira coluna considera os clientes preditos como **Satisfeitos** (a classe negativa) e a segunda coluna considera os clientes preditos como **Insatisfeitos** (a classe positiva).\n",
    "\n",
    "Sendo assim, temos no gráfico **`Confusion Matrix`** os seguintes valores:\n",
    "\n",
    "1. **`TN = 54046`** (**True Negative**): são os clientes que foram classificados (preditos) `corretamente` como `Satisfeitos`;\n",
    "\n",
    "2. **`FP = 4364`** (**False Positive**): são os clientes que foram classificados (preditos) `erroneamente` como `Insatisfeitos` (na verdade os clientes estão *Satisfeitos*);\n",
    "\n",
    "3. **`FN = 3615`** (**False Negative**): são os clientes que foram classificados (preditos) `erroneamente` como `Satisfeitos` (na verdade os clientes estão *Insatisfeitos*);\n",
    "\n",
    "4. **`TP = 54795`** (**True Positive**): são os clientes que foram classificados (preditos) `corretamente` como `Insatisfeitos`."
   ]
  },
  {
   "cell_type": "markdown",
   "metadata": {},
   "source": [
    "### Métricas: `Accuracy`, `Precision`, `Recall` e `f1-score`"
   ]
  },
  {
   "cell_type": "code",
   "execution_count": 26,
   "metadata": {},
   "outputs": [
    {
     "name": "stdout",
     "output_type": "stream",
     "text": [
      "Metrics of 'RFC' model:\n",
      "Accuracy = 0.9317\n",
      "Precision = 0.9262\n",
      "Recall = 0.9381\n",
      "f1-score = 0.9321\n"
     ]
    }
   ],
   "source": [
    "# Calculando e mostrando as métricas de classificação com o \"KNN\":\n",
    "print(\"Metrics of 'RFC' model:\")\n",
    "accuracy, precision, recall, F1_score = mllib.classif_metrics(y_real=y_train, y_pred=y_train_pred_rfc, metric='All')\n",
    "\n",
    "# Armazenando as métricas calculadas no data frame:\n",
    "classif_metrics_df.loc['RFC', 'Accuracy'] = np.round(accuracy, decimals=4)\n",
    "classif_metrics_df.loc['RFC', 'Precision'] = np.round(precision, decimals=4)\n",
    "classif_metrics_df.loc['RFC', 'Recall'] = np.round(recall, decimals=4)\n",
    "classif_metrics_df.loc['RFC', 'f1-score'] = np.round(F1_score, decimals=4)"
   ]
  },
  {
   "cell_type": "markdown",
   "metadata": {},
   "source": [
    "**Análise:**\n",
    "\n",
    "1. com o classificador **`RFC`** obtivemos uma ótima taxa de **acurácia** de **93.17%**, ou seja, é a porcentagem de clientes **satisfeitos** e **insatisfeitos** que foram classificados corretamente por ele. Em nosso projeto, o objetivo é entregarmos uma **acurácia** que seja, no **mínimo**, de **90%**. Portanto, o nosso classificador **`RFC`** apresentou um resultado *acima do mínimo desejado*;\n",
    "\n",
    "\n",
    "2. com o nosso classificador **`RFC`** obtivemos uma taxa de **precisão** de **92.62%**, ou seja, é a porcentagem de clientes **insatisfeitos** que foram classificados corretamente por ele;\n",
    "\n",
    "\n",
    "3. com o nosso classificador **`RFC`** obtivemos uma taxa de **revocação** de **93.81%**, ou seja, é a porcentagem de clientes **insatisfeitos** que ele conseguiu detectar. Em nosso projeto, o objetivo é entregarmos uma taxa de **revocação** que seja, no **mínimo**, de **85%**. Portanto, o nosso classificador **`RFC`** apresentou um resultado *acima do mínimo desejado*;\n",
    "\n",
    "\n",
    "4. com o classificador **`RFC`** obtivemos uma **`pontuação F1`** **alta**, devido as ótimas taxas de **precisão** e **revocação**."
   ]
  },
  {
   "cell_type": "markdown",
   "metadata": {},
   "source": [
    "### `Curva ROC`"
   ]
  },
  {
   "cell_type": "code",
   "execution_count": 27,
   "metadata": {},
   "outputs": [
    {
     "name": "stdout",
     "output_type": "stream",
     "text": [
      "Version 2 of the decision scores (RFC) has been successfully uploaded!\n"
     ]
    }
   ],
   "source": [
    "# Calculando as 'pontuações de decisão' nos dados de treinamento:\n",
    "# Verifica se vamos fazer os cálculos utilizando \"validação cruzada\":\n",
    "if (CROSS_VAL_PREDICT): # Utilizar \"CROSS_VAL_PREDICT=True\" (no Setup) para calcular as pontuações de decisão:\n",
    "    # Inicia o cálculo das pontuações de decisão:\n",
    "    et.start(et.start(msg=\"Starting the calculations of decision scores (RFC)...\"))\n",
    "    \n",
    "    # Primeiro, calcularemos as probabilidades de cada classe:\n",
    "    y_probas_rfc = cross_val_predict(estimator=grd_search_rfc.best_estimator_, X=X_train_rfc, y=y_train,\n",
    "                                     cv=NUM_FOLDS_CVP, method=\"predict_proba\", n_jobs=-1)\n",
    "    \n",
    "    # Agora, vamos utilizar as probabilidades da classe positiva (1) como sendo as pontuações de decisão:\n",
    "    y_dec_scores_rfc = y_probas_rfc[:, 1]\n",
    "    \n",
    "    # Fim do cálculo das pontuações de decisão:\n",
    "    et.end(msg=\"Time consumed for the calculations of decision scores (RFC):\")\n",
    "    \n",
    "    # Salvando as pontuações de decisão:\n",
    "    dslib.pickle_object_save (path=PROJECT_ML_PATH, file=\"y_dec_scores_rfc_v2.pickle\", object_name=y_dec_scores_rfc,\n",
    "                              msg=\"Version 2 of the decision scores (RFC) was successfully saved!\")\n",
    "else:\n",
    "    # Os cálculos das pontuações de decisão já foram feitas!\n",
    "    # Carregando as pontuações de decisão \"y_dec_scores_rfc_v2.pickle\":\n",
    "    y_dec_scores_rfc = dslib.pickle_object_load(path=PROJECT_ML_PATH, file=\"y_dec_scores_rfc_v2.pickle\",\n",
    "                                                msg=\"Version 2 of the decision scores (RFC) has been successfully uploaded!\")"
   ]
  },
  {
   "cell_type": "markdown",
   "metadata": {},
   "source": [
    "**Análise:** o tempo consumido para calcularmos as **`pontuações de decisão`**, com o modelo **`RFC`**, foi de **1.33 minutos**."
   ]
  },
  {
   "cell_type": "code",
   "execution_count": 28,
   "metadata": {},
   "outputs": [],
   "source": [
    "# Calculando o \"FPR\" e \"TPR\":\n",
    "fpr_rfc, tpr_rfc, thresholds_rfc = roc_curve(y_train, y_dec_scores_rfc)\n",
    "\n",
    "# Calculando a \"Area Under Curve\" (AUC):\n",
    "auc = roc_auc_score(y_train, y_dec_scores_rfc)\n",
    "\n",
    "# Armazenando a métrica ('AUC') no data frame:\n",
    "classif_metrics_df.loc['RFC', 'AUC'] = np.round(auc, decimals=4)"
   ]
  },
  {
   "cell_type": "code",
   "execution_count": 29,
   "metadata": {},
   "outputs": [
    {
     "name": "stdout",
     "output_type": "stream",
     "text": [
      "Saving figure: plot_roc_curve_rfc_v2\n"
     ]
    },
    {
     "data": {
      "image/png": "[encoded data removed]",
      "text/plain": [
       "<Figure size 504x360 with 1 Axes>"
      ]
     },
     "metadata": {},
     "output_type": "display_data"
    }
   ],
   "source": [
    "# Plot da \"Curva ROC\":\n",
    "ptlib.plot_roc_curve(fpr_rfc, tpr_rfc, auc=auc, auc_decimals=2, plot_style='ggplot', color='green', line_width=2,\n",
    "                     title='ROC curve', title_fontsize=18, labels_fontsize=15, ticks_fontsize=13,\n",
    "                     legendtitle='Model(AUC)', legendtitle_fontsize=13, legend_label='RFC', legend_fontsize=13,\n",
    "                     width=7, height=5, figure_id='plot_roc_curve_rfc_v2', figure_path=PROJECT_IMG_PATH,\n",
    "                     figure_file_format=\"png\", figure_file_extension=\".png\", tight_layout=True, dpi=300\n",
    "                    )"
   ]
  },
  {
   "cell_type": "markdown",
   "metadata": {},
   "source": [
    "**Análise:**\n",
    "\n",
    "Podemos observar que o nosso classificador **`RFC`** apresentou uma ***`ROC curve`*** **muito próxima** do *canto superior esquerdo*. A *`Area Under Curve`* nas duas versões foram iguais (**`AUC = 0.97`**)."
   ]
  },
  {
   "cell_type": "markdown",
   "metadata": {},
   "source": [
    "## 4.3- [XGBC](https://xgboost.readthedocs.io/en/latest/python/python_api.html?highlight=xgbclassifier#xgboost.XGBClassifier) (XGBoost Classifier):"
   ]
  },
  {
   "cell_type": "markdown",
   "metadata": {},
   "source": [
    "Para selecionarmos os melhores parâmetros do **`XGBC`**, utilizaremos a função **`RandomizedSearchCV()`**. Também utilizaremos neste processo as melhores *features* selecionadas na etapa anterior."
   ]
  },
  {
   "cell_type": "markdown",
   "metadata": {},
   "source": [
    "### `Feature Selection`:\n",
    "\n",
    "Vamos utilizar as *features* selecionadas (importantes) na etapa anterior."
   ]
  },
  {
   "cell_type": "code",
   "execution_count": 30,
   "metadata": {},
   "outputs": [
    {
     "name": "stdout",
     "output_type": "stream",
     "text": [
      "X_train_xgbc (shape): (116820, 32)\n"
     ]
    }
   ],
   "source": [
    "# Selecionando os dados de treinamento, de acordo com as features selecionadas (Importantes) na etapa anterior (Step 01):\n",
    "X_train_xgbc = X_train[:, rfecv_xgbc.get_support()]\n",
    "print(\"X_train_xgbc (shape):\",X_train_xgbc.shape)"
   ]
  },
  {
   "cell_type": "markdown",
   "metadata": {},
   "source": [
    "### `RandomizedSearchCV()` (Randomized search on hyper parameters):"
   ]
  },
  {
   "cell_type": "code",
   "execution_count": 31,
   "metadata": {},
   "outputs": [
    {
     "name": "stdout",
     "output_type": "stream",
     "text": [
      "Version 2 of the model (XGBC), with 'RandomSearchCV', has been successfully uploaded!\n"
     ]
    }
   ],
   "source": [
    "# Verifica se vamos realizar a pesquisa dos hiperparâmetros:\n",
    "if (SEARCHING): # Utilizar \"SEARCHING=True\" (no Setup) para pesquisar os melhores hiperparâmetros!\n",
    "    # Definindo o \"grid\" de parâmetros: utilizei informações deste link:\n",
    "    # https://towardsdatascience.com/fine-tuning-xgboost-in-python-like-a-boss-b4543ed8b1e\n",
    "    param_distribs = {'learning_rate': [0.1, 0.01, 0.001],\n",
    "                      'max_depth': [4, 5, 6],\n",
    "                      'subsample': [0.8, 0.85, 0.9, 0.95, 1.0],\n",
    "                      'colsample_bytree': [0.3, 0.4, 0.5, 0.6, 0.7, 0.8],\n",
    "                      'gamma': [0, 1, 5],\n",
    "                      'n_estimators': randint(low=100, high=1000)\n",
    "                      }\n",
    "\n",
    "    # Inicia a pesquisa:\n",
    "    et.start(et.start(msg=\"Starting the searching (XGBC) with 'RandomSearchCV'...\"))\n",
    "    \n",
    "    # Criando uma instância do classificador RFC:\n",
    "    xgb_clf = XGBClassifier(random_state=RANDOM_STATE, n_jobs=-1)\n",
    "    \n",
    "    # Criando uma instância do 'RandomizedSearchCV':\n",
    "    rnd_search_xgbc = RandomizedSearchCV(xgb_clf, param_distributions=param_distribs,\n",
    "                                         n_iter=NUM_ITER, cv=NUM_FOLDS, scoring='accuracy',\n",
    "                                         random_state=RANDOM_STATE)\n",
    "    \n",
    "    # Fit nos dados de treinamento:\n",
    "    rnd_search_xgbc.fit(X_train_xgbc, y_train)\n",
    "    \n",
    "    # Fim da pesquisa:\n",
    "    et.end(msg=\"Time consumed for searching (XGBC) with 'RandomSearchCV':\")\n",
    "    \n",
    "    # Salvando o modelo com os melhores hiperparâmetros encontrados:\n",
    "    dslib.pickle_object_save (path=PROJECT_ML_PATH, file=\"rnd_search_xgbc_v2.pickle\", object_name=rnd_search_xgbc,\n",
    "                              msg=\"Version 2 of the model (XGBC), with 'RandomSearchCV', was successfully saved!\")\n",
    "else:\n",
    "    # Os melhores hiperparâmetros já foram encontrados!\n",
    "    # Carregando o modelo com os melhores hiperparâmetros: \"rnd_search_xgbc_v2.pickle\":\n",
    "    rnd_search_xgbc = dslib.pickle_object_load(path=PROJECT_ML_PATH, file=\"rnd_search_xgbc_v2.pickle\",\n",
    "                                               msg=\"Version 2 of the model (XGBC), with 'RandomSearchCV', has been successfully uploaded!\")"
   ]
  },
  {
   "cell_type": "markdown",
   "metadata": {},
   "source": [
    "**Análise:** o treinamento do **`XGBC`**, utilizando a função **`RandomSearchCV()`** para a seleção dos melhores hiperparâmetros, demorou **`40.68 minutos`**."
   ]
  },
  {
   "cell_type": "code",
   "execution_count": 32,
   "metadata": {},
   "outputs": [
    {
     "name": "stdout",
     "output_type": "stream",
     "text": [
      "Best results (XGBC) with 'Random Search CV':\n",
      "Best params: {'colsample_bytree': 0.5, 'gamma': 1, 'learning_rate': 0.1, 'max_depth': 5, 'n_estimators': 971, 'subsample': 0.95}\n",
      "Best estimator: XGBClassifier(base_score=0.5, booster='gbtree', colsample_bylevel=1,\n",
      "              colsample_bynode=1, colsample_bytree=0.5, gamma=1, gpu_id=-1,\n",
      "              importance_type='gain', interaction_constraints='',\n",
      "              learning_rate=0.1, max_delta_step=0, max_depth=5,\n",
      "              min_child_weight=1, missing=nan, monotone_constraints='()',\n",
      "              n_estimators=971, n_jobs=-1, num_parallel_tree=1, random_state=42,\n",
      "              reg_alpha=0, reg_lambda=1, scale_pos_weight=1, subsample=0.95,\n",
      "              tree_method='exact', validate_parameters=1, verbosity=None)\n",
      "Best score: 0.9316\n"
     ]
    }
   ],
   "source": [
    "# Relatório dos melhores resultados utilizando o \"RandomSearchCV()\":\n",
    "mllib.best_results_report(estimator=rnd_search_xgbc, title=\"Best results (XGBC) with 'Random Search CV':\")"
   ]
  },
  {
   "cell_type": "markdown",
   "metadata": {},
   "source": [
    "Vamos ver a pontuação (**`Score`**) de cada combinação dos hiperparâmetros testados durante a pesquisa com o **`Random Search`**:"
   ]
  },
  {
   "cell_type": "code",
   "execution_count": 33,
   "metadata": {
    "scrolled": true
   },
   "outputs": [
    {
     "name": "stdout",
     "output_type": "stream",
     "text": [
      "0.8360640301318268 {'colsample_bytree': 0.6, 'gamma': 0, 'learning_rate': 0.001, 'max_depth': 6, 'n_estimators': 171, 'subsample': 1.0}\n",
      "0.8801489470980997 {'colsample_bytree': 0.7, 'gamma': 5, 'learning_rate': 0.01, 'max_depth': 6, 'n_estimators': 314, 'subsample': 0.9}\n",
      "0.8242167437082693 {'colsample_bytree': 0.5, 'gamma': 0, 'learning_rate': 0.001, 'max_depth': 5, 'n_estimators': 408, 'subsample': 0.85}\n",
      "0.8636791645266222 {'colsample_bytree': 0.6, 'gamma': 1, 'learning_rate': 0.01, 'max_depth': 5, 'n_estimators': 291, 'subsample': 0.95}\n",
      "0.8690035952747817 {'colsample_bytree': 0.7, 'gamma': 0, 'learning_rate': 0.01, 'max_depth': 5, 'n_estimators': 352, 'subsample': 0.95}\n",
      "0.8365434001027221 {'colsample_bytree': 0.3, 'gamma': 0, 'learning_rate': 0.001, 'max_depth': 6, 'n_estimators': 610, 'subsample': 0.85}\n",
      "0.8960708782742681 {'colsample_bytree': 0.6, 'gamma': 5, 'learning_rate': 0.01, 'max_depth': 5, 'n_estimators': 786, 'subsample': 0.9}\n",
      "0.9287365177195686 {'colsample_bytree': 0.6, 'gamma': 5, 'learning_rate': 0.1, 'max_depth': 6, 'n_estimators': 584, 'subsample': 0.9}\n",
      "0.822316384180791 {'colsample_bytree': 0.7, 'gamma': 0, 'learning_rate': 0.001, 'max_depth': 5, 'n_estimators': 487, 'subsample': 0.8}\n",
      "0.9001455230268791 {'colsample_bytree': 0.6, 'gamma': 1, 'learning_rate': 0.01, 'max_depth': 5, 'n_estimators': 876, 'subsample': 0.85}\n",
      "0.8392569765451121 {'colsample_bytree': 0.7, 'gamma': 1, 'learning_rate': 0.001, 'max_depth': 6, 'n_estimators': 527, 'subsample': 1.0}\n",
      "0.931638418079096 {'colsample_bytree': 0.5, 'gamma': 1, 'learning_rate': 0.1, 'max_depth': 5, 'n_estimators': 971, 'subsample': 0.95}\n",
      "0.8565314158534498 {'colsample_bytree': 0.4, 'gamma': 1, 'learning_rate': 0.01, 'max_depth': 5, 'n_estimators': 205, 'subsample': 0.95}\n",
      "0.8341123095360384 {'colsample_bytree': 0.8, 'gamma': 0, 'learning_rate': 0.001, 'max_depth': 5, 'n_estimators': 829, 'subsample': 0.95}\n",
      "0.900085601780517 {'colsample_bytree': 0.4, 'gamma': 1, 'learning_rate': 0.01, 'max_depth': 5, 'n_estimators': 962, 'subsample': 0.95}\n",
      "0.9151429549734635 {'colsample_bytree': 0.3, 'gamma': 1, 'learning_rate': 0.1, 'max_depth': 4, 'n_estimators': 437, 'subsample': 1.0}\n",
      "0.9089539462420818 {'colsample_bytree': 0.4, 'gamma': 0, 'learning_rate': 0.1, 'max_depth': 4, 'n_estimators': 256, 'subsample': 1.0}\n",
      "0.7865091593905154 {'colsample_bytree': 0.3, 'gamma': 0, 'learning_rate': 0.001, 'max_depth': 4, 'n_estimators': 443, 'subsample': 0.8}\n",
      "0.8457969525766135 {'colsample_bytree': 0.6, 'gamma': 5, 'learning_rate': 0.001, 'max_depth': 6, 'n_estimators': 692, 'subsample': 0.9}\n",
      "0.8059065228556754 {'colsample_bytree': 0.5, 'gamma': 0, 'learning_rate': 0.001, 'max_depth': 4, 'n_estimators': 589, 'subsample': 0.85}\n"
     ]
    }
   ],
   "source": [
    "cv_res = rnd_search_xgbc.cv_results_\n",
    "for mean_score, params in zip(cv_res[\"mean_test_score\"], cv_res[\"params\"]):\n",
    "    print(mean_score, params)"
   ]
  },
  {
   "cell_type": "markdown",
   "metadata": {},
   "source": [
    "### `Matriz de Confusão`\n",
    "\n",
    "Para calcularmos a ***Confusion Matrix***, primeiro precisamos ter um conjunto de previsões que possam ser comparadas com os valores (*labels*) reais. Como não podemos utilizar os dados do nosso conjunto de testes, utilizaremos a função ***`cross_val_predict()`***.\n",
    "\n",
    "Assim como a função ***cross_val_score***, ela desempenha a validação cruzada *K-fold*, mas em vez de retornar as pontuações da avaliação, ela retorna as previsões feitas em cada parte do teste, ou seja, isso significa que nós obteremos uma previsão limpa para cada instância no conjunto de treinamento (**\"limpa\"**, significando que a previsão é feita por um modelo que nunca viu os dados durante o treinamento)."
   ]
  },
  {
   "cell_type": "code",
   "execution_count": 34,
   "metadata": {},
   "outputs": [
    {
     "name": "stdout",
     "output_type": "stream",
     "text": [
      "Version 2 of the predicts (XGBC) has been successfully uploaded!\n"
     ]
    }
   ],
   "source": [
    "# Calculando as previsões nos dados de treinamento:\n",
    "# Verifica se vamos fazer as previsões utilizando \"validação cruzada\":\n",
    "if (CROSS_VAL_PREDICT): # Utilizar \"CROSS_VAL_PREDICT=True\" (no Setup) para fazer as 'previsões'!\n",
    "    # Inicia as previsões:\n",
    "    et.start(et.start(msg=\"Starting cross validation predict (XGBC)...\"))\n",
    "    y_train_pred_xgbc = cross_val_predict(estimator=rnd_search_xgbc.best_estimator_, X=X_train_xgbc, y=y_train,\n",
    "                                          cv=NUM_FOLDS_CVP, n_jobs=-1)\n",
    "    \n",
    "    # Fim das previsões:\n",
    "    et.end(msg=\"Time consumed for cross validation predict (XGBC):\")\n",
    "    \n",
    "    # Salvando as previsões:\n",
    "    dslib.pickle_object_save (path=PROJECT_ML_PATH, file=\"y_train_pred_xgbc_v2.pickle\", object_name=y_train_pred_xgbc,\n",
    "                              msg=\"Version 2 of the predicts (XGBC) was successfully saved!\")\n",
    "else:\n",
    "    # As previsões já foram feitas!\n",
    "    # Carregando as previsões \"y_train_pred_xgbc_v2.pickle\":\n",
    "    y_train_pred_xgbc = dslib.pickle_object_load(path=PROJECT_ML_PATH, file=\"y_train_pred_xgbc_v2.pickle\",\n",
    "                                                 msg=\"Version 2 of the predicts (XGBC) has been successfully uploaded!\")"
   ]
  },
  {
   "cell_type": "markdown",
   "metadata": {},
   "source": [
    "**Análise:** o tempo consumido para fazermos as **`previsões`**, com o modelo **`XGBC`**, foi de **2.12 minutos**."
   ]
  },
  {
   "cell_type": "code",
   "execution_count": 35,
   "metadata": {},
   "outputs": [
    {
     "name": "stdout",
     "output_type": "stream",
     "text": [
      "Saving figure: plot_confusion_matrix_xgbc_v2\n"
     ]
    },
    {
     "data": {
      "image/png": "[encoded data removed]",
      "text/plain": [
       "<Figure size 432x432 with 2 Axes>"
      ]
     },
     "metadata": {},
     "output_type": "display_data"
    }
   ],
   "source": [
    "# Plot da \"Confusion Matrix\":\n",
    "target_names = ['Satisfied', 'Dissatisfied']\n",
    "ptlib.plot_confusion_matrix(truth=y_train, pred=y_train_pred_xgbc, display_labels=target_names, normalize=False,\n",
    "                            plot_style='seaborn-ticks', colors=plt.cm.Oranges, title=\"Confusion Matrix (XGBC)\",\n",
    "                            title_fontsize=20, labels_fontsize=18, ticks_fontsize=15, values_fontsize=15, rotation=0,\n",
    "                            width=6, height=6, figure_id='plot_confusion_matrix_xgbc_v2', figure_path=PROJECT_IMG_PATH,\n",
    "                            figure_file_format=\"png\", figure_file_extension=\".png\", tight_layout=True, dpi=300\n",
    "                           )"
   ]
  },
  {
   "cell_type": "markdown",
   "metadata": {},
   "source": [
    "**Análise:**\n",
    "\n",
    "Cada **linha** em uma **Matriz de Confusão** representa uma **Classe Real**, enquanto que cada **coluna** representa uma **Classe Prevista**. Portanto, a primeira linha considera os clientes **Satisfeitos** (a classe negativa) e a segunda linha considera os clientes **Insatisfeitos** (a classe positiva). A primeira coluna considera os clientes preditos como **Satisfeitos** (a classe negativa) e a segunda coluna considera os clientes preditos como **Insatisfeitos** (a classe positiva).\n",
    "\n",
    "Sendo assim, temos no gráfico **`Confusion Matrix`** os seguintes valores:\n",
    "\n",
    "1. **`TN = 54372`** (**True Negative**): são os clientes que foram classificados (preditos) `corretamente` como `Satisfeitos`;\n",
    "\n",
    "2. **`FP = 4038`** (**False Positive**): são os clientes que foram classificados (preditos) `erroneamente` como `Insatisfeitos` (na verdade os clientes estão *Satisfeitos*);\n",
    "\n",
    "3. **`FN = 3948`** (**False Negative**): são os clientes que foram classificados (preditos) `erroneamente` como `Satisfeitos` (na verdade os clientes estão *Insatisfeitos*);\n",
    "\n",
    "4. **`TP = 54462`** (**True Positive**): são os clientes que foram classificados (preditos) `corretamente` como `Insatisfeitos`."
   ]
  },
  {
   "cell_type": "markdown",
   "metadata": {},
   "source": [
    "### Métricas: `Accuracy`, `Precision`, `Recall` e `f1-score`"
   ]
  },
  {
   "cell_type": "code",
   "execution_count": 36,
   "metadata": {},
   "outputs": [
    {
     "name": "stdout",
     "output_type": "stream",
     "text": [
      "Metrics of 'XGBC' model:\n",
      "Accuracy = 0.9316\n",
      "Precision = 0.9310\n",
      "Recall = 0.9324\n",
      "f1-score = 0.9317\n"
     ]
    }
   ],
   "source": [
    "# Calculando e mostrando as métricas de classificação com o \"XGBC\":\n",
    "print(\"Metrics of 'XGBC' model:\")\n",
    "accuracy, precision, recall, F1_score = mllib.classif_metrics(y_real=y_train, y_pred=y_train_pred_xgbc, metric='All')\n",
    "\n",
    "# Armazenando as métricas calculadas no data frame:\n",
    "classif_metrics_df.loc['XGBC', 'Accuracy'] = np.round(accuracy, decimals=4)\n",
    "classif_metrics_df.loc['XGBC', 'Precision'] = np.round(precision, decimals=4)\n",
    "classif_metrics_df.loc['XGBC', 'Recall'] = np.round(recall, decimals=4)\n",
    "classif_metrics_df.loc['XGBC', 'f1-score'] = np.round(F1_score, decimals=4)"
   ]
  },
  {
   "cell_type": "markdown",
   "metadata": {},
   "source": [
    "**Análise:**\n",
    "\n",
    "1. com o classificador **`XGBC`** obtivemos uma ótima taxa de **acurácia** de **93.16%**, ou seja, é a porcentagem de clientes **satisfeitos** e **insatisfeitos** que foram classificados corretamente por ele. Em nosso projeto, o objetivo é entregarmos uma **acurácia** que seja, no **mínimo**, de **90%**. Portanto, o nosso classificador **`XGBC`** apresentou um resultado *acima do mínimo desejado*;\n",
    "\n",
    "\n",
    "2. com o nosso classificador **`XGBC`** obtivemos uma taxa de **precisão** de **93.10%**, ou seja, é a porcentagem de clientes **insatisfeitos** que foram classificados corretamente por ele;\n",
    "\n",
    "\n",
    "3. com o nosso classificador **`XGBC`** obtivemos uma taxa de **revocação** de **93.24%**, ou seja, é a porcentagem de clientes **insatisfeitos** que ele conseguiu detectar. Em nosso projeto, o objetivo é entregarmos uma taxa de **revocação** que seja, no **mínimo**, de **85%**. Portanto, o nosso classificador **`XGBC`** apresentou um resultado *acima do mínimo desejado*;\n",
    "\n",
    "\n",
    "4. com o classificador **`XGBC`** obtivemos uma **`pontuação F1`** **alta**, devido as ótimas taxas de **precisão** e **revocação**."
   ]
  },
  {
   "cell_type": "markdown",
   "metadata": {},
   "source": [
    "### `Curva ROC`"
   ]
  },
  {
   "cell_type": "code",
   "execution_count": 37,
   "metadata": {},
   "outputs": [
    {
     "name": "stdout",
     "output_type": "stream",
     "text": [
      "Version 2 of the decision scores (XGBC) has been successfully uploaded!\n"
     ]
    }
   ],
   "source": [
    "# Calculando as 'pontuações de decisão' nos dados de treinamento:\n",
    "# Verifica se vamos fazer os cálculos utilizando \"validação cruzada\":\n",
    "if (CROSS_VAL_PREDICT): # Utilizar \"CROSS_VAL_PREDICT=True\" (no Setup) para calcular as pontuações de decisão:\n",
    "    # Inicia o cálculo das pontuações de decisão:\n",
    "    et.start(et.start(msg=\"Starting the calculations of decision scores (XGBC)...\"))\n",
    "    \n",
    "    # Primeiro, calcularemos as probabilidades de cada classe:\n",
    "    y_probas_xgbc = cross_val_predict(estimator=rnd_search_xgbc.best_estimator_, X=X_train_xgbc, y=y_train,\n",
    "                                      cv=NUM_FOLDS_CVP, method=\"predict_proba\", n_jobs=-1)\n",
    "    \n",
    "    # Agora, vamos utilizar as probabilidades da classe positiva (1) como sendo as pontuações de decisão:\n",
    "    y_dec_scores_xgbc = y_probas_xgbc[:, 1]\n",
    "    \n",
    "    # Fim do cálculo das pontuações de decisão:\n",
    "    et.end(msg=\"Time consumed for the calculations of decision scores (XGBC):\")\n",
    "    \n",
    "    # Salvando as pontuações de decisão:\n",
    "    dslib.pickle_object_save (path=PROJECT_ML_PATH, file=\"y_dec_scores_xgbc_v2.pickle\", object_name=y_dec_scores_xgbc,\n",
    "                              msg=\"Version 2 of the decision scores (XGBC) was successfully saved!\")\n",
    "else:\n",
    "    # Os cálculos das pontuações de decisão já foram feitas!\n",
    "    # Carregando as pontuações de decisão \"y_dec_scores_xgbc_v2.pickle\":\n",
    "    y_dec_scores_xgbc = dslib.pickle_object_load(path=PROJECT_ML_PATH, file=\"y_dec_scores_xgbc_v2.pickle\",\n",
    "                                                 msg=\"Version 2 of the decision scores (XGBC) has been successfully uploaded!\")"
   ]
  },
  {
   "cell_type": "markdown",
   "metadata": {},
   "source": [
    "**Análise:** o tempo consumido para calcularmos as **`pontuações de decisão`**, com o modelo **`XGBC`**, foi de **2.00 minutos**."
   ]
  },
  {
   "cell_type": "code",
   "execution_count": 38,
   "metadata": {},
   "outputs": [],
   "source": [
    "# Calculando o \"FPR\" e \"TPR\":\n",
    "fpr_xgbc, tpr_xgbc, thresholds_xgbc = roc_curve(y_train, y_dec_scores_xgbc)\n",
    "\n",
    "# Calculando a \"Area Under Curve\" (AUC):\n",
    "auc = roc_auc_score(y_train, y_dec_scores_xgbc)\n",
    "\n",
    "# Armazenando a métrica ('AUC') no data frame:\n",
    "classif_metrics_df.loc['XGBC', 'AUC'] = np.round(auc, decimals=4)"
   ]
  },
  {
   "cell_type": "code",
   "execution_count": 39,
   "metadata": {},
   "outputs": [
    {
     "name": "stdout",
     "output_type": "stream",
     "text": [
      "Saving figure: plot_roc_curve_xgbc_v2\n"
     ]
    },
    {
     "data": {
      "image/png": "[encoded data removed]",
      "text/plain": [
       "<Figure size 504x360 with 1 Axes>"
      ]
     },
     "metadata": {},
     "output_type": "display_data"
    }
   ],
   "source": [
    "# Plot da \"Curva ROC\":\n",
    "ptlib.plot_roc_curve(fpr_xgbc, tpr_xgbc, auc=auc, auc_decimals=2, plot_style='ggplot', color='green', line_width=2,\n",
    "                     title='ROC curve', title_fontsize=18, labels_fontsize=15, ticks_fontsize=13,\n",
    "                     legendtitle='Model(AUC)', legendtitle_fontsize=13, legend_label='XGBC', legend_fontsize=13,\n",
    "                     width=7, height=5, figure_id='plot_roc_curve_xgbc_v2', figure_path=PROJECT_IMG_PATH,\n",
    "                     figure_file_format=\"png\", figure_file_extension=\".png\", tight_layout=True, dpi=300\n",
    "                    )"
   ]
  },
  {
   "cell_type": "markdown",
   "metadata": {},
   "source": [
    "**Análise:** \n",
    "\n",
    "Podemos observar que o nosso classificador **`XGBC`** apresentou uma ***`ROC curve`*** **muito próxima** do *canto superior esquerdo*. A *`Area Under Curve`* nas duas versões foram iguais (**`AUC = 0.98`**)."
   ]
  },
  {
   "cell_type": "markdown",
   "metadata": {},
   "source": [
    "### Comparando as `Curvas ROC` entre os modelos:"
   ]
  },
  {
   "cell_type": "code",
   "execution_count": 40,
   "metadata": {},
   "outputs": [],
   "source": [
    "# Criando um objeto 'dicionário' para os valores \"FPR\", calculados, de cada modelo:\n",
    "fpr_dic = {'KNN': fpr_knn, 'RFC': fpr_rfc, 'XGBC': fpr_xgbc}\n",
    "\n",
    "# Criando um objeto 'dicionário' para os valores \"TPR\", calculados, de cada modelo:\n",
    "tpr_dic = {'KNN': tpr_knn, 'RFC': tpr_rfc, 'XGBC': tpr_xgbc}"
   ]
  },
  {
   "cell_type": "code",
   "execution_count": 41,
   "metadata": {},
   "outputs": [
    {
     "name": "stdout",
     "output_type": "stream",
     "text": [
      "Saving figure: plot_roc_curves_models_v2\n"
     ]
    },
    {
     "data": {
      "image/png": "[encoded data removed]",
      "text/plain": [
       "<Figure size 504x360 with 1 Axes>"
      ]
     },
     "metadata": {},
     "output_type": "display_data"
    },
    {
     "name": "stdout",
     "output_type": "stream",
     "text": [
      "Saving figure: plot_roc_curves_zoomed_models_v2\n"
     ]
    },
    {
     "data": {
      "image/png": "[encoded data removed]",
      "text/plain": [
       "<Figure size 504x360 with 1 Axes>"
      ]
     },
     "metadata": {},
     "output_type": "display_data"
    }
   ],
   "source": [
    "# Plot das \"Curvas ROC\":\n",
    "ptlib.plot_roc_curves(fpr=fpr_dic, tpr=tpr_dic, auc=classif_metrics_df[['AUC']], auc_decimals=2, plot_style='ggplot',\n",
    "                      color=['red', 'green', 'blue'], line_width=2, scales=None, title='ROC curve', title_fontsize=18,\n",
    "                      labels_fontsize=15, ticks_fontsize=13, legendtitle='Model(AUC)', legendtitle_fontsize=13,\n",
    "                      legend_label=['KNN', 'RFC', 'XGBC'], legend_fontsize=13, width=7, height=5,\n",
    "                      figure_id='plot_roc_curves_models_v2', figure_path=PROJECT_IMG_PATH,\n",
    "                      figure_file_format=\"png\", figure_file_extension=\".png\", tight_layout=True, dpi=300\n",
    "                     )\n",
    "\n",
    "# Plot das \"Curvas ROC\" (com 'foco' no canto superior esquerdo):\n",
    "ptlib.plot_roc_curves(fpr=fpr_dic, tpr=tpr_dic, auc=classif_metrics_df[['AUC']], auc_decimals=2, plot_style='ggplot',\n",
    "                      color=['red', 'green', 'blue'], line_width=2, scales=[0, 0.2, 0.8, 1.0],\n",
    "                      title='ROC curve (zoomed in at top left)', title_fontsize=18, labels_fontsize=15, ticks_fontsize=13,\n",
    "                      legendtitle='Model(AUC)', legendtitle_fontsize=13, legend_label=['KNN', 'RFC', 'XGBC'],\n",
    "                      legend_fontsize=13, width=7, height=5,\n",
    "                      figure_id='plot_roc_curves_zoomed_models_v2', figure_path=PROJECT_IMG_PATH,\n",
    "                      figure_file_format=\"png\", figure_file_extension=\".png\", tight_layout=True, dpi=300\n",
    "                     )"
   ]
  },
  {
   "cell_type": "markdown",
   "metadata": {},
   "source": [
    "**Análise:**\n",
    "\n",
    "Podemos observar que os melhores resultados foram obtidos com os modelos **`RFC`** (**`AUC=0.97`**) e **`XGBC`** (**`AUC=0.98`**)."
   ]
  },
  {
   "cell_type": "markdown",
   "metadata": {},
   "source": [
    "## 05- Conclusão:\n",
    "\n",
    "Agora, vamos plotar um gráfico comparando as taxas de acurácia (**`Accuracy`**) e as taxas de revocação (**`Recall`**), de cada modelo, e então vamos selecionar alguns modelos para a próxima etapa (**`Machine Learning (Step 04)`**):"
   ]
  },
  {
   "cell_type": "code",
   "execution_count": 42,
   "metadata": {},
   "outputs": [
    {
     "name": "stdout",
     "output_type": "stream",
     "text": [
      "Saving figure: plot_models_vs_accuracy_v2\n"
     ]
    },
    {
     "data": {
      "image/png": "[encoded data removed]",
      "text/plain": [
       "<Figure size 576x432 with 1 Axes>"
      ]
     },
     "metadata": {},
     "output_type": "display_data"
    },
    {
     "name": "stdout",
     "output_type": "stream",
     "text": [
      "Saving figure: plot_models_vs_recall_v2\n"
     ]
    },
    {
     "data": {
      "image/png": "[encoded data removed]",
      "text/plain": [
       "<Figure size 576x432 with 1 Axes>"
      ]
     },
     "metadata": {},
     "output_type": "display_data"
    }
   ],
   "source": [
    "# Classificando as taxas de acurácia:\n",
    "models_accuracy = classif_metrics_df['Accuracy'].sort_values(ascending=False)\n",
    "\n",
    "# Plot:\n",
    "ptlib.plot_models_vs_scores(scores=models_accuracy, plot_style='ggplot', bar_color='coral', alpha=0.8,\n",
    "                            score_color='dimgrey', score_fontsize=15, title=\"Models vs. Accuracy\",\n",
    "                            title_fontsize=20, xlabel=\"Scores\", xlabel_fontsize=18, ylabel='Models',\n",
    "                            ylabel_fontsize=18, ticks_fontsize=13, width=8, height=6,\n",
    "                            figure_id='plot_models_vs_accuracy_v2', figure_path=PROJECT_IMG_PATH,\n",
    "                            figure_file_format=\"png\", figure_file_extension=\".png\",\n",
    "                            tight_layout=True, dpi=300\n",
    "                           )\n",
    "\n",
    "# Classificando as taxas de revocação:\n",
    "models_recall = classif_metrics_df['Recall'].sort_values(ascending=False)\n",
    "\n",
    "# Plot:\n",
    "ptlib.plot_models_vs_scores(scores=models_recall, plot_style='ggplot', bar_color='blue', alpha=0.8,\n",
    "                            score_color='dimgrey', score_fontsize=15, title=\"Models vs. Recall\",\n",
    "                            title_fontsize=20, xlabel=\"Scores\", xlabel_fontsize=18, ylabel='Models',\n",
    "                            ylabel_fontsize=18, ticks_fontsize=13, width=8, height=6,\n",
    "                            figure_id='plot_models_vs_recall_v2', figure_path=PROJECT_IMG_PATH,\n",
    "                            figure_file_format=\"png\", figure_file_extension=\".png\",\n",
    "                            tight_layout=True, dpi=300\n",
    "                           )"
   ]
  },
  {
   "cell_type": "markdown",
   "metadata": {},
   "source": [
    "**Análise:**\n",
    "\n",
    "De acordo com os objetivos do projeto (**`Accuracy = 90%`** e **`Recall = 85%`**), podemos observar que os `03` algoritmos se destacaram e obtiveram resultados satisfatórios (com o **`KNN`** conseguimos chegar muito próximo do mínimo desejado para a **acurácia**).\n",
    "\n",
    "Portanto, para a etapa final desta fase, vamos utilizar os `03` algoritmos e comparar os resultados:\n",
    "\n",
    "> 1. **`RFC`**: Random Forest Classifier;\n",
    "> 2. **`XGBC`**: XGBoost Classifier;\n",
    "> 3. **`KNN`**: K Nearest Neighbors."
   ]
  },
  {
   "cell_type": "markdown",
   "metadata": {},
   "source": [
    "## 06- Salvando as `métricas de classificação`:"
   ]
  },
  {
   "cell_type": "code",
   "execution_count": 43,
   "metadata": {},
   "outputs": [
    {
     "data": {
      "text/html": [
       "<div>\n",
       "<style scoped>\n",
       "    .dataframe tbody tr th:only-of-type {\n",
       "        vertical-align: middle;\n",
       "    }\n",
       "\n",
       "    .dataframe tbody tr th {\n",
       "        vertical-align: top;\n",
       "    }\n",
       "\n",
       "    .dataframe thead th {\n",
       "        text-align: right;\n",
       "    }\n",
       "</style>\n",
       "<table border=\"1\" class=\"dataframe\">\n",
       "  <thead>\n",
       "    <tr style=\"text-align: right;\">\n",
       "      <th></th>\n",
       "      <th>Accuracy</th>\n",
       "      <th>Precision</th>\n",
       "      <th>Recall</th>\n",
       "      <th>f1-score</th>\n",
       "      <th>AUC</th>\n",
       "    </tr>\n",
       "    <tr>\n",
       "      <th>Models</th>\n",
       "      <th></th>\n",
       "      <th></th>\n",
       "      <th></th>\n",
       "      <th></th>\n",
       "      <th></th>\n",
       "    </tr>\n",
       "  </thead>\n",
       "  <tbody>\n",
       "    <tr>\n",
       "      <th>KNN</th>\n",
       "      <td>0.8934</td>\n",
       "      <td>0.8902</td>\n",
       "      <td>0.8974</td>\n",
       "      <td>0.8938</td>\n",
       "      <td>0.8934</td>\n",
       "    </tr>\n",
       "    <tr>\n",
       "      <th>RFC</th>\n",
       "      <td>0.9317</td>\n",
       "      <td>0.9262</td>\n",
       "      <td>0.9381</td>\n",
       "      <td>0.9321</td>\n",
       "      <td>0.9711</td>\n",
       "    </tr>\n",
       "    <tr>\n",
       "      <th>XGBC</th>\n",
       "      <td>0.9316</td>\n",
       "      <td>0.931</td>\n",
       "      <td>0.9324</td>\n",
       "      <td>0.9317</td>\n",
       "      <td>0.9783</td>\n",
       "    </tr>\n",
       "  </tbody>\n",
       "</table>\n",
       "</div>"
      ],
      "text/plain": [
       "       Accuracy Precision  Recall f1-score     AUC\n",
       "Models                                            \n",
       "KNN      0.8934    0.8902  0.8974   0.8938  0.8934\n",
       "RFC      0.9317    0.9262  0.9381   0.9321  0.9711\n",
       "XGBC     0.9316     0.931  0.9324   0.9317  0.9783"
      ]
     },
     "execution_count": 43,
     "metadata": {},
     "output_type": "execute_result"
    }
   ],
   "source": [
    "# Mostrar as métricas de classificação calculadas nesta etapa:\n",
    "classif_metrics_df"
   ]
  },
  {
   "cell_type": "code",
   "execution_count": 44,
   "metadata": {},
   "outputs": [
    {
     "name": "stdout",
     "output_type": "stream",
     "text": [
      "The 'classif_metrics_df_v2' (metrics) has been successfully saved!\n"
     ]
    }
   ],
   "source": [
    "# Salvando as métricas de classificação:\n",
    "dslib.pickle_object_save (path=PROJECT_ML_PATH, file=\"classif_metrics_df_v2.pickle\", object_name=classif_metrics_df,\n",
    "                          msg=\"The 'classif_metrics_df_v2' (metrics) has been successfully saved!\")"
   ]
  },
  {
   "cell_type": "markdown",
   "metadata": {},
   "source": [
    "## <font color='black'>FIM</font>"
   ]
  }
 ],
 "metadata": {
  "kernelspec": {
   "display_name": "Python 3",
   "language": "python",
   "name": "python3"
  },
  "language_info": {
   "codemirror_mode": {
    "name": "ipython",
    "version": 3
   },
   "file_extension": ".py",
   "mimetype": "text/x-python",
   "name": "python",
   "nbconvert_exporter": "python",
   "pygments_lexer": "ipython3",
   "version": "3.7.7"
  }
 },
 "nbformat": 4,
 "nbformat_minor": 2
}
