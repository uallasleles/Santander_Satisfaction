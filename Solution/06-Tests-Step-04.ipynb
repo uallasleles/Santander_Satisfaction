{
 "cells": [
  {
   "cell_type": "markdown",
   "metadata": {},
   "source": [
    "![satisfaction.png](satisfaction.png)\n",
    "\n",
    "# <font color='black'>Projeto:</font> <font color='blue'>Prevendo o Nível de Satisfação dos Clientes do Santander.</font>\n",
    "\n",
    "## <font color='black'>Data:</font> <font color='blue'>julho, 2020</font>\n",
    "\n",
    "## <font color='black'>Cientista de Dados:</font> <font color='blue'>Walter Trevisan</font>"
   ]
  },
  {
   "cell_type": "markdown",
   "metadata": {},
   "source": [
    "## 06- Tests (`Step 04`)\n",
    "\n",
    "Nesta etapa, vamos aplicar o melhor modelo preditivo (***`XGBoost Classifier`***) no dataset de **`testes`** da competição, na plataforma **`Kaggle`**, e depois vamos submeter o resultado para verificar o score na própria competição.\n",
    "\n",
    "Portanto, nesta etapa, vamos realizar as seguintes atividades:\n",
    "\n",
    "1. Carregar o *dataset* com os dados de teste: **`test.csv`**;\n",
    "\n",
    "\n",
    "2. Carregar objeto *importante* criado na fase de *Análise Exploratória*, ou seja, **`03-Explore-The-Data (Step-05)`**;\n",
    "\n",
    "\n",
    "3. Carregar os objetos *importantes* criados na fase de *Pré-processamento*, ou seja, **`04-Preprocessing`**;\n",
    "\n",
    "\n",
    "4. Carregar os objetos *importantes* criados na fase de *Machine Learning*, ou seja, **`05-Machine-Learning (Step-03)`**;\n",
    "\n",
    "\n",
    "5. Preparar o *dataset* de teste (**`test.csv`**) para relizarmos os testes com o nosso melhor modelo preditivo;\n",
    "\n",
    "\n",
    "6. Realizar os testes com o melhor modelo preditivo (**`XGBC`**);\n",
    "\n",
    "\n",
    "7. Criar e salvar o arquivo que será submetido na competição da plataforma `Kaggle`, ou seja: **`sample_submission.csv`**;\n",
    "\n",
    "\n",
    "8. Verificar o **`score`** e a posição no **`leaderboard`**, na plataforma `Kaggle`."
   ]
  },
  {
   "cell_type": "markdown",
   "metadata": {},
   "source": [
    "## Setup"
   ]
  },
  {
   "cell_type": "code",
   "execution_count": 1,
   "metadata": {},
   "outputs": [
    {
     "name": "stdout",
     "output_type": "stream",
     "text": [
      "Setup Complete!\n"
     ]
    }
   ],
   "source": [
    "# As novas versões do Pandas e Matplotlib trazem diversas mensagens de aviso ao desenvolvedor.\n",
    "# Então, vamos desativar essas mensagens.\n",
    "import sys # O pacote \"sys\" permite manipulações com o sistema operacional:\n",
    "import os  # Operation System (Packages and Functions)\n",
    "import warnings\n",
    "if not sys.warnoptions:\n",
    "    warnings.simplefilter(\"ignore\")\n",
    "warnings.simplefilter(action='ignore', category=FutureWarning)\n",
    "warnings.filterwarnings(\"ignore\", category=FutureWarning)\n",
    "\n",
    "# Common imports:\n",
    "import numpy as np    # NumPy\n",
    "import pandas as pd   # Pandas\n",
    "\n",
    "# Machine Learning imports\n",
    "from xgboost import XGBClassifier\n",
    "\n",
    "# Flag para fazer as previsões nos dados de teste:\n",
    "# Se \"True\", faz as previsões utilizando a função.\n",
    "# Se \"False\", faz a leitura das previsões (objetos) que foram salvas.\n",
    "PREDICT=True\n",
    "\n",
    "# Definindo o diretório raiz (Root) onde serão armazenados todas as informações\n",
    "# (Imagens, Objetos, Dados, Modelos de ML, etc...) do projeto.\n",
    "# Diretório Raiz (Root) do Projeto:\n",
    "PROJECT_ROOT_DIR = \".\"\n",
    "\n",
    "# Path: onde ficarão armazenados os \"Objetos\" (Estrututras de Dados) relacionados ao Projeto:\n",
    "PROJECT_OBJ_PATH = os.path.join(PROJECT_ROOT_DIR, \"Objects\")\n",
    "# Criando o diretório, se ele não existir:\n",
    "os.makedirs(PROJECT_OBJ_PATH, exist_ok=True)\n",
    "\n",
    "# Path: onde ficarão armazenados os \"Modelos\" (Machine Learning) relacionados ao Projeto:\n",
    "PROJECT_ML_PATH = os.path.join(PROJECT_ROOT_DIR, \"Models\")\n",
    "# Criando o diretório, se ele não existir:\n",
    "os.makedirs(PROJECT_ML_PATH, exist_ok=True)\n",
    "\n",
    "# Path: onde ficará armazenado o arquivo que será submetido na competição (kaggle):\n",
    "PROJECT_OUTPUT_PATH = os.path.join(PROJECT_ROOT_DIR, \"Output\")\n",
    "# Criando o diretório, se ele não existir:\n",
    "os.makedirs(PROJECT_OUTPUT_PATH, exist_ok=True)\n",
    "\n",
    "# Path: onde ficarão armazenados os \"datasets\" (arquivos \"csv\") e os \"Objetos\" (Data Frames) do Projeto:\n",
    "PROJECT_DATA_PATH = os.path.join(PROJECT_ROOT_DIR, \"Data\")\n",
    "# Criando o diretório, se ele não existir:\n",
    "os.makedirs(PROJECT_DATA_PATH, exist_ok=True)\n",
    "\n",
    "# Path: onde estão armazenadas as classes e funções que serão utilizadas neste notebook:\n",
    "PROJECT_LIB_PATH = os.path.join(PROJECT_ROOT_DIR, \"Library\")\n",
    "\n",
    "# Adicionando o diretório ao 'path' do Sistema, para podermos importar classes e funções que serão\n",
    "# utilizadas neste notebook:\n",
    "sys.path.append(PROJECT_LIB_PATH)\n",
    "\n",
    "# Importando para este notebook, as classes e funções definidas no módulo \"DataScience_Library_v1_0\":\n",
    "import DataScience_Library_v1_0 as dslib\n",
    "\n",
    "# Importando para este notebook, as classes e funções definidas no módulo \"DSA_Project_03_Library\":\n",
    "import DSA_Project_03_Library as pjlib\n",
    "\n",
    "# Criando um objeto para calularmos os tempos de processamento:\n",
    "et = dslib.ElapsedTime(builder_msg=False)\n",
    "\n",
    "print(\"Setup Complete!\")"
   ]
  },
  {
   "cell_type": "code",
   "execution_count": 2,
   "metadata": {},
   "outputs": [
    {
     "name": "stdout",
     "output_type": "stream",
     "text": [
      "numpy  1.18.2\n",
      "pandas 0.25.3\n",
      "Walter Trevisan\n"
     ]
    }
   ],
   "source": [
    "# Versões dos pacotes usados neste jupyter notebook:\n",
    "%reload_ext watermark\n",
    "%watermark -a \"Walter Trevisan\" --iversions"
   ]
  },
  {
   "cell_type": "markdown",
   "metadata": {},
   "source": [
    "## `01-` Carregar o *dataset* de `testes`: `santander_test.pickle`"
   ]
  },
  {
   "cell_type": "code",
   "execution_count": 3,
   "metadata": {},
   "outputs": [
    {
     "name": "stdout",
     "output_type": "stream",
     "text": [
      "Loading file: ..\\Datasets\\test.csv\n",
      "The label \"TARGET\" has been replaced by the label \"Satisfaction\"\n",
      "Elapsed time: 3.11 seconds.\n"
     ]
    }
   ],
   "source": [
    "# Carregando o dataset \"test.csv\" que contém as variáveis preditoras:\n",
    "test_df = pjlib.load_test_dataset_kaggle()"
   ]
  },
  {
   "cell_type": "code",
   "execution_count": 4,
   "metadata": {},
   "outputs": [],
   "source": [
    "# Renomeando o label \"ind_var10cte_ult1\", em nosso dataset, para colocá-lo no mesmo padrão das outras variáveis (features).\n",
    "test_df.rename(columns={'ind_var10cte_ult1': 'ind_var10_cte_ult1'}, inplace=True)"
   ]
  },
  {
   "cell_type": "code",
   "execution_count": 5,
   "metadata": {},
   "outputs": [],
   "source": [
    "# Criando uma cópia do atributo \"ID\" que será utilizado na criação do arquivo que será submetido na competição:\n",
    "output_df = test_df[['ID']].copy()"
   ]
  },
  {
   "cell_type": "markdown",
   "metadata": {},
   "source": [
    "## `02-` Carregar o `objeto` criado na fase `03-Explore-The-Data (Step-05)`:\n",
    "\n",
    "Agora, vamos carregar o seguinte **`objeto`**, criado na fase de análise exploratória dos dados: `03-Explore-The-Data (Step-05)`:\n",
    "\n",
    "1. **`santander_relevant_feat`:** dicionário com as principais informações sobre cada uma das features **`Relevantes`**, ou seja, `tipo de variável`, valores ausentes (`NaN`), valores extremos (`Outliers`), e também uma lista com as variáveis que são **`Irrelevantes`**, ou seja, que não serão analisadas para a criação dos modelos preditivos (`Irrelevant`)."
   ]
  },
  {
   "cell_type": "code",
   "execution_count": 6,
   "metadata": {},
   "outputs": [
    {
     "name": "stdout",
     "output_type": "stream",
     "text": [
      "The 'santander_relevant_feat' object has been successfully uploaded!\n"
     ]
    }
   ],
   "source": [
    "# 1. Carregando o objeto \"santander_relevant_feat\":\n",
    "info = \"The 'santander_relevant_feat' object has been successfully uploaded!\"\n",
    "dataset_relevant_feat = dslib.pickle_object_load(path=PROJECT_OBJ_PATH, file=\"santander_relevant_feat.pickle\",\n",
    "                                                 msg=info)"
   ]
  },
  {
   "cell_type": "markdown",
   "metadata": {},
   "source": [
    "## `03-` Carregar os `objetos` criados na fase de `04-Preprocessing`:\n",
    "\n",
    "Vamos carregar os seguintes **`objetos`**, criados na fase de preparação dos dados (`04-Preprocessing`):\n",
    "\n",
    "1. **`santander_feat_eng`:** objeto (dicionário) com informações sobre cada uma das transformações (**`Feature Engineering`**) que foram realizadas nas features **`Relevantes`** do nosso *data frame* de treinamento;\n",
    "\n",
    "2. **`ohe`:** instância (objeto) criado da classe **`OneHotEncoder()`** onde foram realizadas transformações (**`Feature Engineering`**) nas features **`Categóricas`** do nosso *data frame* de treinamento;\n",
    "\n",
    "3. **`pt`:** instância (objeto) criado da classe **`PowerTransformer()`** onde foram realizadas transformações (**`Feature Engineering`**) nas features **`Numéricas`** do nosso *data frame* de treinamento;\n",
    "\n",
    "4. **`qt`:** instância (objeto) criado da classe **`QuantileTransformer()`** onde foram realizadas transformações (**`Feature Engineering`**) nas features **`Numéricas`** do nosso *data frame* de treinamento."
   ]
  },
  {
   "cell_type": "code",
   "execution_count": 7,
   "metadata": {},
   "outputs": [
    {
     "name": "stdout",
     "output_type": "stream",
     "text": [
      "The 'santander_feat_eng' object has been successfully uploaded!\n",
      "The 'ohe' object has been successfully uploaded!\n",
      "The 'pt' object has been successfully uploaded!\n",
      "The 'qt' object has been successfully uploaded!\n"
     ]
    }
   ],
   "source": [
    "# 1. Carregando o objeto \"santander_feat_eng\":\n",
    "dataset_feat_eng = dslib.pickle_object_load (path=PROJECT_OBJ_PATH, file=\"santander_feat_eng.pickle\",\n",
    "                                             msg=\"The 'santander_feat_eng' object has been successfully uploaded!\")\n",
    "\n",
    "# 2. Carregando o objeto \"ohe\":\n",
    "ohe = dslib.pickle_object_load (path=PROJECT_OBJ_PATH, file=\"OneHotEncoder.pickle\",\n",
    "                                msg=\"The 'ohe' object has been successfully uploaded!\")\n",
    "\n",
    "# 3. Carregando o objeto \"pt\":\n",
    "pt = dslib.pickle_object_load (path=PROJECT_OBJ_PATH, file=\"PowerTransformer.pickle\",\n",
    "                               msg=\"The 'pt' object has been successfully uploaded!\")\n",
    "\n",
    "# 4. Carregando o objeto \"qt\":\n",
    "qt = dslib.pickle_object_load (path=PROJECT_OBJ_PATH, file=\"QuantileTransformer.pickle\",\n",
    "                               msg=\"The 'qt' object has been successfully uploaded!\")"
   ]
  },
  {
   "cell_type": "markdown",
   "metadata": {},
   "source": [
    "## `04-` Carregar os `objetos` importantes (`Machine Learning`):\n",
    "\n",
    "Vamos carregar os seguintes **`objetos`**, criados na fase **`05-Machine Learning`**:"
   ]
  },
  {
   "cell_type": "markdown",
   "metadata": {},
   "source": [
    "### `4.1-` Objeto que contém as `features` mais importantes (`Feature Selection`) do modelo preditivo:\n",
    "\n",
    "**`feat_sel_xgbc`**: Contém as *features* (mais importantes) selecionadas para o modelo preditivo treinado com o **`XGBC`**."
   ]
  },
  {
   "cell_type": "code",
   "execution_count": 8,
   "metadata": {},
   "outputs": [
    {
     "name": "stdout",
     "output_type": "stream",
     "text": [
      "The features selection for 'XGBC' model has been successfully uploaded!\n"
     ]
    }
   ],
   "source": [
    "# Carregando as *features* (mais importantes) selecionadas para o modelo preditivo treinado com o \"XGBC\":\n",
    "feat_sel_xgbc = dslib.pickle_object_load(path=PROJECT_ML_PATH, file=\"rfecv_xgbc_v1.pickle\",\n",
    "                                         msg=\"The features selection for 'XGBC' model has been successfully uploaded!\")"
   ]
  },
  {
   "cell_type": "markdown",
   "metadata": {},
   "source": [
    "### `4.2-` Objeto que contém o `modelo preditivo` treinado com os melhores `hiperparâmetros`:\n",
    "\n",
    "**`xgbc`**: Modelo preditivo do algorito **`XGBC`** com os melhores hiperparâmetros selecionados."
   ]
  },
  {
   "cell_type": "code",
   "execution_count": 9,
   "metadata": {},
   "outputs": [
    {
     "name": "stdout",
     "output_type": "stream",
     "text": [
      "The best 'XGBC' model has been successfully uploaded!\n"
     ]
    }
   ],
   "source": [
    "# Carregando o modelo \"XGBC\" com os melhores hiperparâmetros selecionados:\n",
    "xgbc = dslib.pickle_object_load(path=PROJECT_ML_PATH, file=\"rnd_search_xgbc_v2.pickle\",\n",
    "                                msg=\"The best 'XGBC' model has been successfully uploaded!\")"
   ]
  },
  {
   "cell_type": "markdown",
   "metadata": {},
   "source": [
    "## `05-` Preparar o *data frame* de `testes`: **`test_df`**\n",
    "\n",
    "Agora, vamos preparar o nosso *data frame* de *testes* executando as seguintes etapas:\n",
    "\n",
    "> **`5.1-`** Remover do *data frame* as **`features`** irrelevantes (**`Irrelevant`**);\n",
    "\n",
    "\n",
    "> **`5.2-`** Aplicar a função `OneHotEncoder()` nas features `Categóricas` (Qualitativas) do *data frame*;\n",
    "\n",
    "\n",
    "> **`5.3-`** Aplicar a função `QuantileTransformer()` nas features `numéricas` (Quantitativas) do *data frame*;\n",
    "\n",
    "\n",
    "> **`5.4-`** Aplicando a função `PowerTransformer()` nas features `numéricas` (Quantitativas) do *data frame*;\n",
    "\n",
    "\n",
    "> **`5.5-`** Atualizar o *data frame* de `testes` com as features numéricas *transformadas*."
   ]
  },
  {
   "cell_type": "markdown",
   "metadata": {},
   "source": [
    "### `5.1-` Remover do *data frame* as `features` classificadas como `Irrelevant` (Irrelevantes):"
   ]
  },
  {
   "cell_type": "code",
   "execution_count": 10,
   "metadata": {},
   "outputs": [
    {
     "name": "stdout",
     "output_type": "stream",
     "text": [
      "Relevant features:\n",
      "     Binary: 1\n",
      "    Ordinal: 0\n",
      "Categorical: 4\n",
      "   Discrete: 10\n",
      " Continuous: 8\n",
      "----------------\n",
      "      Total: 23\n"
     ]
    }
   ],
   "source": [
    "# Resumo das features \"relevantes\" por tipo de informação:\n",
    "print(\"Relevant features:\")\n",
    "print('     Binary: {}'.format(dataset_relevant_feat.count(keys=['Binary'])))\n",
    "print('    Ordinal: {}'.format(dataset_relevant_feat.count(keys=['Ordinal'])))\n",
    "print('Categorical: {}'.format(dataset_relevant_feat.count(keys=['Categorical'])))\n",
    "print('   Discrete: {}'.format(dataset_relevant_feat.count(keys=['Discrete'])))\n",
    "print(' Continuous: {}'.format(dataset_relevant_feat.count(keys=['Continuous'])))\n",
    "print('----------------')\n",
    "print('      Total: {}'.format(dataset_relevant_feat.count(keys=['Categorical', 'Binary', 'Ordinal', 'Discrete',\n",
    "                                                                  'Continuous'])))"
   ]
  },
  {
   "cell_type": "code",
   "execution_count": 11,
   "metadata": {},
   "outputs": [
    {
     "name": "stdout",
     "output_type": "stream",
     "text": [
      "Irrelevant features: 346\n"
     ]
    }
   ],
   "source": [
    "# Resumo das features \"Irrelevantes\":\n",
    "print(\"Irrelevant features: {}\".format(dataset_relevant_feat.count(keys=['Irrelevant'])))"
   ]
  },
  {
   "cell_type": "code",
   "execution_count": 12,
   "metadata": {},
   "outputs": [
    {
     "name": "stdout",
     "output_type": "stream",
     "text": [
      "<class 'pandas.core.frame.DataFrame'>\n",
      "RangeIndex: 75818 entries, 0 to 75817\n",
      "Data columns (total 23 columns):\n",
      "var15                       75818 non-null int64\n",
      "ind_var30                   75818 non-null int64\n",
      "num_var4                    75818 non-null int64\n",
      "num_var5                    75818 non-null int64\n",
      "num_var30                   75818 non-null int64\n",
      "num_var35                   75818 non-null int64\n",
      "num_var42                   75818 non-null int64\n",
      "saldo_var5                  75818 non-null float64\n",
      "saldo_var30                 75818 non-null float64\n",
      "saldo_var42                 75818 non-null float64\n",
      "var36                       75818 non-null int64\n",
      "num_var22_ult3              75818 non-null int64\n",
      "num_meses_var5_ult3         75818 non-null int64\n",
      "num_meses_var39_vig_ult3    75818 non-null int64\n",
      "num_var45_hace2             75818 non-null int64\n",
      "num_var45_hace3             75818 non-null int64\n",
      "num_var45_ult1              75818 non-null int64\n",
      "num_var45_ult3              75818 non-null int64\n",
      "saldo_medio_var5_hace2      75818 non-null float64\n",
      "saldo_medio_var5_hace3      75818 non-null float64\n",
      "saldo_medio_var5_ult1       75818 non-null float64\n",
      "saldo_medio_var5_ult3       75818 non-null float64\n",
      "var38                       75818 non-null float64\n",
      "dtypes: float64(8), int64(15)\n",
      "memory usage: 13.3 MB\n"
     ]
    }
   ],
   "source": [
    "# Eliminando as features \"Irrelevantes\" do data frame de testes:\n",
    "test_df.drop(columns=dataset_relevant_feat.get(key='Irrelevant'), inplace=True)\n",
    "\n",
    "# Eliminando a feature \"ID\" (Primary Key) do data frame de testes:\n",
    "test_df.drop(columns='ID', inplace=True)\n",
    "\n",
    "# Resumo do data frame:\n",
    "test_df.info()"
   ]
  },
  {
   "cell_type": "markdown",
   "metadata": {},
   "source": [
    "### `5.2-` Aplicar a função `OneHotEncoder()` nas features `Categóricas` (Qualitativas) do *data frame*:"
   ]
  },
  {
   "cell_type": "code",
   "execution_count": 13,
   "metadata": {},
   "outputs": [
    {
     "name": "stdout",
     "output_type": "stream",
     "text": [
      "Category features: ['ind_var30', 'num_var4', 'var36', 'num_meses_var5_ult3', 'num_meses_var39_vig_ult3']\n"
     ]
    }
   ],
   "source": [
    "# Obtem todas as variáveis preditoras (features) categóricas (Relevantes):\n",
    "category_feats = dataset_relevant_feat.get(key='Binary') + dataset_relevant_feat.get(key='Categorical')\n",
    "print(\"Category features: {}\".format(category_feats))"
   ]
  },
  {
   "cell_type": "code",
   "execution_count": 14,
   "metadata": {},
   "outputs": [
    {
     "data": {
      "text/plain": [
       "[('ind_var30', 2),\n",
       " ('num_meses_var5_ult3', 4),\n",
       " ('num_meses_var39_vig_ult3', 4),\n",
       " ('var36', 5),\n",
       " ('num_var4', 10)]"
      ]
     },
     "execution_count": 14,
     "metadata": {},
     "output_type": "execute_result"
    }
   ],
   "source": [
    "# Obtendo o número único de entradas em cada feature com dados categóricos no data frame de testes:\n",
    "test_category_num_unique = list(map(lambda feat: test_df[feat].nunique(), category_feats))\n",
    "d = dict(zip(category_feats, test_category_num_unique))\n",
    "\n",
    "# Imprime as categorias em ordem crescente pela quantidde de classes únicas:\n",
    "sorted(d.items(), key=lambda x: x[1])"
   ]
  },
  {
   "cell_type": "code",
   "execution_count": 15,
   "metadata": {},
   "outputs": [
    {
     "data": {
      "text/plain": [
       "{'ind_var30': array([1, 0], dtype=int64),\n",
       " 'num_var4': array([1, 2, 0, 6, 3, 4, 5, 7, 8, 9], dtype=int64),\n",
       " 'var36': array([ 3, 99,  1,  2,  0], dtype=int64),\n",
       " 'num_meses_var5_ult3': array([3, 0, 2, 1], dtype=int64),\n",
       " 'num_meses_var39_vig_ult3': array([2, 0, 1, 3], dtype=int64)}"
      ]
     },
     "execution_count": 15,
     "metadata": {},
     "output_type": "execute_result"
    }
   ],
   "source": [
    "# Obtendo as entradas únicas em cada feature com dados categóricos no data frame de testes:\n",
    "test_category_unique = list(map(lambda feat: test_df[feat].unique(), category_feats))\n",
    "test_cat_unique_dict = dict(zip(category_feats, test_category_unique))\n",
    "\n",
    "# Mostrando as features categóricas com as suas categorias:\n",
    "test_cat_unique_dict"
   ]
  },
  {
   "cell_type": "code",
   "execution_count": 16,
   "metadata": {},
   "outputs": [
    {
     "data": {
      "text/plain": [
       "{'ind_var30': array([0, 1], dtype=int64),\n",
       " 'num_var4': array([0, 1, 2, 3, 4, 5, 6, 7], dtype=int64),\n",
       " 'var36': array([ 0,  1,  2,  3, 99], dtype=int64),\n",
       " 'num_meses_var5_ult3': array([0, 1, 2, 3], dtype=int64),\n",
       " 'num_meses_var39_vig_ult3': array([0, 1, 2, 3], dtype=int64)}"
      ]
     },
     "execution_count": 16,
     "metadata": {},
     "output_type": "execute_result"
    }
   ],
   "source": [
    "# Agora, vamos verificar se todas as categorias no data frame de \"testes\" estão contidas no data frame de \"treinamento\":\n",
    "train_cat_unique_dict = dict(zip(category_feats, ohe.categories_))\n",
    "train_cat_unique_dict"
   ]
  },
  {
   "cell_type": "markdown",
   "metadata": {},
   "source": [
    "**Análise:** podemos observar na feature **`num_var4`**, que duas categorias (**`8` e `9 `**) no *data frame* de testes não estão contidas no *data frame* de treinamento. Ou seja, ao aplicarmos a função **`OneHotEncoder()`** em nosso *data frame* de testes, não teremos duas colunas de dados relacionados a estas duas categorias. Se estas duas categorias forem significativas (importantes) para a classificação dos clientes, o nosso modelo muito provavelmente apresentará um resultado (**`score`**) ruim para a métrica **`AUC`**."
   ]
  },
  {
   "cell_type": "code",
   "execution_count": 17,
   "metadata": {},
   "outputs": [
    {
     "name": "stdout",
     "output_type": "stream",
     "text": [
      "<class 'pandas.core.frame.DataFrame'>\n",
      "RangeIndex: 75818 entries, 0 to 75817\n",
      "Data columns (total 41 columns):\n",
      "var15                             75818 non-null int64\n",
      "num_var5                          75818 non-null int64\n",
      "num_var30                         75818 non-null int64\n",
      "num_var35                         75818 non-null int64\n",
      "num_var42                         75818 non-null int64\n",
      "saldo_var5                        75818 non-null float64\n",
      "saldo_var30                       75818 non-null float64\n",
      "saldo_var42                       75818 non-null float64\n",
      "num_var22_ult3                    75818 non-null int64\n",
      "num_var45_hace2                   75818 non-null int64\n",
      "num_var45_hace3                   75818 non-null int64\n",
      "num_var45_ult1                    75818 non-null int64\n",
      "num_var45_ult3                    75818 non-null int64\n",
      "saldo_medio_var5_hace2            75818 non-null float64\n",
      "saldo_medio_var5_hace3            75818 non-null float64\n",
      "saldo_medio_var5_ult1             75818 non-null float64\n",
      "saldo_medio_var5_ult3             75818 non-null float64\n",
      "var38                             75818 non-null float64\n",
      "ind_var30_cat_0                   75818 non-null float64\n",
      "ind_var30_cat_1                   75818 non-null float64\n",
      "num_var4_cat_0                    75818 non-null float64\n",
      "num_var4_cat_1                    75818 non-null float64\n",
      "num_var4_cat_2                    75818 non-null float64\n",
      "num_var4_cat_3                    75818 non-null float64\n",
      "num_var4_cat_4                    75818 non-null float64\n",
      "num_var4_cat_5                    75818 non-null float64\n",
      "num_var4_cat_6                    75818 non-null float64\n",
      "num_var4_cat_7                    75818 non-null float64\n",
      "var36_cat_0                       75818 non-null float64\n",
      "var36_cat_1                       75818 non-null float64\n",
      "var36_cat_2                       75818 non-null float64\n",
      "var36_cat_3                       75818 non-null float64\n",
      "var36_cat_99                      75818 non-null float64\n",
      "num_meses_var5_ult3_cat_0         75818 non-null float64\n",
      "num_meses_var5_ult3_cat_1         75818 non-null float64\n",
      "num_meses_var5_ult3_cat_2         75818 non-null float64\n",
      "num_meses_var5_ult3_cat_3         75818 non-null float64\n",
      "num_meses_var39_vig_ult3_cat_0    75818 non-null float64\n",
      "num_meses_var39_vig_ult3_cat_1    75818 non-null float64\n",
      "num_meses_var39_vig_ult3_cat_2    75818 non-null float64\n",
      "num_meses_var39_vig_ult3_cat_3    75818 non-null float64\n",
      "dtypes: float64(31), int64(10)\n",
      "memory usage: 23.7 MB\n"
     ]
    }
   ],
   "source": [
    "# Criando uma cópia do dataset de testes que contém apenas os atributos categóricos:\n",
    "test_cat = test_df[category_feats].copy()\n",
    "\n",
    "# Aplicando o \"one-hot encoding\" nos dados de teste:\n",
    "test_cat_ohe = ohe.transform(X=test_cat.values).toarray()\n",
    "\n",
    "# Definindo os nomes das features:\n",
    "cat_labels = [feat + '_cat' for feat in category_feats]\n",
    "feat_names = list(ohe.get_feature_names(cat_labels))\n",
    "\n",
    "# Criando um data frame com as features \"OHE\":\n",
    "test_cat_ohe_df = pd.DataFrame(data=test_cat_ohe, columns=feat_names)\n",
    "\n",
    "# Incluindo as features \"OHE\" em nosso data frame de testes:\n",
    "test_df = pd.concat([test_df, test_cat_ohe_df], axis=1)\n",
    "\n",
    "# Excluindo as \"features\" categóricas do nosso data frame de testes, porque as mesmas já foram transformadas (OHE):\n",
    "test_df.drop(columns=category_feats, inplace=True)\n",
    "\n",
    "# Resumo do nosso data frame de testes:\n",
    "test_df.info()"
   ]
  },
  {
   "cell_type": "markdown",
   "metadata": {},
   "source": [
    "### `5.3-` Aplicar a função `QuantileTransformer()` nas features `numéricas` (Quantitativas) do *data frame*:"
   ]
  },
  {
   "cell_type": "code",
   "execution_count": 18,
   "metadata": {},
   "outputs": [
    {
     "name": "stdout",
     "output_type": "stream",
     "text": [
      "Feature Engineering (Quantile Transformation): 1\n",
      "['var38']\n"
     ]
    }
   ],
   "source": [
    "# Visializando todas as \"features\" onde aplicaremos a função \"QuantileTransformer()\":\n",
    "print(\"Feature Engineering (Quantile Transformation): {}\".format(len(dataset_feat_eng[\"QuantileTransformation\"])))\n",
    "print(dataset_feat_eng[\"QuantileTransformation\"])"
   ]
  },
  {
   "cell_type": "code",
   "execution_count": 19,
   "metadata": {},
   "outputs": [],
   "source": [
    "# Criando uma cópia das features numéricas onde aplicaremos a função \"QuantileTransformer()\":\n",
    "num_feat_df = test_df[dataset_feat_eng[\"QuantileTransformation\"]].copy()\n",
    "\n",
    "# Padronizando as features com a função:\n",
    "qt_num_feat = qt.transform(num_feat_df)\n",
    "\n",
    "# Criando um novo \"data frame\" com as features transformadas:\n",
    "cols = [feat + \"_qt\" for feat in num_feat_df.columns]\n",
    "qt_num_feat_df = pd.DataFrame(qt_num_feat, columns=cols)"
   ]
  },
  {
   "cell_type": "markdown",
   "metadata": {},
   "source": [
    "### `5.4-` Aplicando a função `PowerTransformer()` nas features `numéricas` (Quantitativas) do *data frame*:"
   ]
  },
  {
   "cell_type": "code",
   "execution_count": 20,
   "metadata": {},
   "outputs": [
    {
     "name": "stdout",
     "output_type": "stream",
     "text": [
      "Feature Engineering (Power Transformation): 17\n",
      "['var15', 'num_var35', 'num_var42', 'num_var22_ult3', 'num_var30', 'num_var45_hace2', 'num_var45_hace3', 'num_var45_ult1', 'num_var45_ult3', 'num_var5', 'saldo_var42', 'saldo_var30', 'saldo_medio_var5_hace2', 'saldo_medio_var5_hace3', 'saldo_medio_var5_ult1', 'saldo_medio_var5_ult3', 'saldo_var5']\n"
     ]
    }
   ],
   "source": [
    "# Visializando todas as \"features\" onde aplicaremos a função \"PowerTransformer()\":\n",
    "print(\"Feature Engineering (Power Transformation): {}\".format(len(dataset_feat_eng[\"PowerTransformation\"])))\n",
    "print(dataset_feat_eng[\"PowerTransformation\"])"
   ]
  },
  {
   "cell_type": "code",
   "execution_count": 21,
   "metadata": {},
   "outputs": [],
   "source": [
    "# Criando uma cópia das features numéricas onde aplicaremos a função \"PowerTransformer()\":\n",
    "num_feat_df = test_df[dataset_feat_eng[\"PowerTransformation\"]].copy()\n",
    "\n",
    "# Padronizando as features com a função:\n",
    "pt_num_feat = pt.transform(num_feat_df)\n",
    "\n",
    "# Criando um novo \"data frame\" com as features transformadas:\n",
    "cols = [feat + \"_pt\" for feat in num_feat_df.columns]\n",
    "pt_num_feat_df = pd.DataFrame(pt_num_feat, columns=cols)"
   ]
  },
  {
   "cell_type": "markdown",
   "metadata": {},
   "source": [
    "### `5.5-` Atualizar o *data frame* de `testes` com as features numéricas *transformadas*:"
   ]
  },
  {
   "cell_type": "code",
   "execution_count": 22,
   "metadata": {},
   "outputs": [
    {
     "name": "stdout",
     "output_type": "stream",
     "text": [
      "<class 'pandas.core.frame.DataFrame'>\n",
      "RangeIndex: 75818 entries, 0 to 75817\n",
      "Data columns (total 41 columns):\n",
      "ind_var30_cat_0                   75818 non-null float64\n",
      "ind_var30_cat_1                   75818 non-null float64\n",
      "num_var4_cat_0                    75818 non-null float64\n",
      "num_var4_cat_1                    75818 non-null float64\n",
      "num_var4_cat_2                    75818 non-null float64\n",
      "num_var4_cat_3                    75818 non-null float64\n",
      "num_var4_cat_4                    75818 non-null float64\n",
      "num_var4_cat_5                    75818 non-null float64\n",
      "num_var4_cat_6                    75818 non-null float64\n",
      "num_var4_cat_7                    75818 non-null float64\n",
      "var36_cat_0                       75818 non-null float64\n",
      "var36_cat_1                       75818 non-null float64\n",
      "var36_cat_2                       75818 non-null float64\n",
      "var36_cat_3                       75818 non-null float64\n",
      "var36_cat_99                      75818 non-null float64\n",
      "num_meses_var5_ult3_cat_0         75818 non-null float64\n",
      "num_meses_var5_ult3_cat_1         75818 non-null float64\n",
      "num_meses_var5_ult3_cat_2         75818 non-null float64\n",
      "num_meses_var5_ult3_cat_3         75818 non-null float64\n",
      "num_meses_var39_vig_ult3_cat_0    75818 non-null float64\n",
      "num_meses_var39_vig_ult3_cat_1    75818 non-null float64\n",
      "num_meses_var39_vig_ult3_cat_2    75818 non-null float64\n",
      "num_meses_var39_vig_ult3_cat_3    75818 non-null float64\n",
      "var38_qt                          75818 non-null float64\n",
      "var15_pt                          75818 non-null float64\n",
      "num_var35_pt                      75818 non-null float64\n",
      "num_var42_pt                      75818 non-null float64\n",
      "num_var22_ult3_pt                 75818 non-null float64\n",
      "num_var30_pt                      75818 non-null float64\n",
      "num_var45_hace2_pt                75818 non-null float64\n",
      "num_var45_hace3_pt                75818 non-null float64\n",
      "num_var45_ult1_pt                 75818 non-null float64\n",
      "num_var45_ult3_pt                 75818 non-null float64\n",
      "num_var5_pt                       75818 non-null float64\n",
      "saldo_var42_pt                    75818 non-null float64\n",
      "saldo_var30_pt                    75818 non-null float64\n",
      "saldo_medio_var5_hace2_pt         75818 non-null float64\n",
      "saldo_medio_var5_hace3_pt         75818 non-null float64\n",
      "saldo_medio_var5_ult1_pt          75818 non-null float64\n",
      "saldo_medio_var5_ult3_pt          75818 non-null float64\n",
      "saldo_var5_pt                     75818 non-null float64\n",
      "dtypes: float64(41)\n",
      "memory usage: 23.7 MB\n"
     ]
    }
   ],
   "source": [
    "# Excluindo as \"features\" \"Quantitativas Discretas e Contínuas\" do nosso data frame de testes:\n",
    "num_feats = dataset_relevant_feat.get(key='Discrete') + dataset_relevant_feat.get(key='Continuous')\n",
    "test_df.drop(columns=num_feats, inplace=True)\n",
    "\n",
    "# Incluindo as features \"Quantitativas Discretas e Contínuas\" (\"transformadas\") em nosso data frame de testes:\n",
    "test_df = pd.concat([test_df, qt_num_feat_df, pt_num_feat_df], axis=1)\n",
    "\n",
    "# Resumo do nosso data frame de testes:\n",
    "test_df.info()"
   ]
  },
  {
   "cell_type": "code",
   "execution_count": 23,
   "metadata": {},
   "outputs": [
    {
     "data": {
      "text/plain": [
       "(75818, 41)"
      ]
     },
     "execution_count": 23,
     "metadata": {},
     "output_type": "execute_result"
    }
   ],
   "source": [
    "# Criando um array com os dados das \"features\" no objeto \"X_test\":\n",
    "X_test = test_df.values\n",
    "X_test.shape"
   ]
  },
  {
   "cell_type": "markdown",
   "metadata": {},
   "source": [
    "## `06-` Realizar os `testes` com o nosso melhor `modelo preditivo (ML)`:\n",
    "\n",
    "## [XGBC](https://xgboost.readthedocs.io/en/latest/python/python_api.html?highlight=xgbclassifier#xgboost.XGBClassifier) (XGBoost Classifier)"
   ]
  },
  {
   "cell_type": "markdown",
   "metadata": {},
   "source": [
    "### `Feature Selection`:\n",
    "\n",
    "Vamos utilizar as *features* selecionadas (**`importantes`**), que foram definidas na fase anterior (**`05-Machine Learning`**)."
   ]
  },
  {
   "cell_type": "code",
   "execution_count": 24,
   "metadata": {},
   "outputs": [
    {
     "name": "stdout",
     "output_type": "stream",
     "text": [
      "X_test_xgbc (shape): (75818, 32)\n"
     ]
    }
   ],
   "source": [
    "# Selecionando os dados de treinamento, de acordo com as features selecionadas (Importantes) na fase anterior (ML):\n",
    "X_test_xgbc = X_test[:, feat_sel_xgbc.get_support()]\n",
    "print(\"X_test_xgbc (shape):\",X_test_xgbc.shape)"
   ]
  },
  {
   "cell_type": "markdown",
   "metadata": {},
   "source": [
    "### `Predict`"
   ]
  },
  {
   "cell_type": "code",
   "execution_count": 25,
   "metadata": {},
   "outputs": [
    {
     "name": "stdout",
     "output_type": "stream",
     "text": [
      "Starting predict (XGBC)...\n",
      "Time consumed for predict (XGBC): 0.45 seconds.\n",
      "The predicts (tests) with 'XGBC' model was successfully saved!\n"
     ]
    }
   ],
   "source": [
    "# Calculando as previsões nos dados de teste:\n",
    "# Verifica se vamos fazer as previsões:\n",
    "if (PREDICT): # Utilizar \"PREDICT=True\" (no Setup) para fazer as 'previsões'!\n",
    "    # Inicia as previsões:\n",
    "    et.start(et.start(msg=\"Starting predict (XGBC)...\"))\n",
    "    y_test_pred_xgbc = xgbc.predict(X=X_test_xgbc)\n",
    "    \n",
    "    # Fim das previsões:\n",
    "    et.end(msg=\"Time consumed for predict (XGBC):\")\n",
    "    \n",
    "    # Salvando as previsões:\n",
    "    dslib.pickle_object_save (path=PROJECT_OUTPUT_PATH, file=\"y_test_pred_xgbc.pickle\", object_name=y_test_pred_xgbc,\n",
    "                              msg=\"The predicts (tests) with 'XGBC' model was successfully saved!\")\n",
    "else:\n",
    "    # As previsões já foram feitas!\n",
    "    # Carregando as previsões \"y_test_pred_xgbc.pickle\":\n",
    "    y_test_pred_xgbc = dslib.pickle_object_load(path=PROJECT_OUTPUT_PATH, file=\"y_test_pred_xgbc.pickle\",\n",
    "                                                msg=\"The predicts (tests) with 'XGBC' model has been successfully uploaded!\")"
   ]
  },
  {
   "cell_type": "markdown",
   "metadata": {},
   "source": [
    "## `07-` Criar e salvar o arquivo que será submetido na plataforma `Kaggle`:\n",
    "\n",
    "### `sample_submission.csv`"
   ]
  },
  {
   "cell_type": "code",
   "execution_count": 26,
   "metadata": {},
   "outputs": [
    {
     "data": {
      "text/html": [
       "<div>\n",
       "<style scoped>\n",
       "    .dataframe tbody tr th:only-of-type {\n",
       "        vertical-align: middle;\n",
       "    }\n",
       "\n",
       "    .dataframe tbody tr th {\n",
       "        vertical-align: top;\n",
       "    }\n",
       "\n",
       "    .dataframe thead th {\n",
       "        text-align: right;\n",
       "    }\n",
       "</style>\n",
       "<table border=\"1\" class=\"dataframe\">\n",
       "  <thead>\n",
       "    <tr style=\"text-align: right;\">\n",
       "      <th></th>\n",
       "      <th>TARGET</th>\n",
       "    </tr>\n",
       "    <tr>\n",
       "      <th>ID</th>\n",
       "      <th></th>\n",
       "    </tr>\n",
       "  </thead>\n",
       "  <tbody>\n",
       "    <tr>\n",
       "      <th>2</th>\n",
       "      <td>0</td>\n",
       "    </tr>\n",
       "    <tr>\n",
       "      <th>5</th>\n",
       "      <td>0</td>\n",
       "    </tr>\n",
       "    <tr>\n",
       "      <th>6</th>\n",
       "      <td>0</td>\n",
       "    </tr>\n",
       "    <tr>\n",
       "      <th>7</th>\n",
       "      <td>0</td>\n",
       "    </tr>\n",
       "    <tr>\n",
       "      <th>9</th>\n",
       "      <td>0</td>\n",
       "    </tr>\n",
       "    <tr>\n",
       "      <th>...</th>\n",
       "      <td>...</td>\n",
       "    </tr>\n",
       "    <tr>\n",
       "      <th>151831</th>\n",
       "      <td>0</td>\n",
       "    </tr>\n",
       "    <tr>\n",
       "      <th>151832</th>\n",
       "      <td>0</td>\n",
       "    </tr>\n",
       "    <tr>\n",
       "      <th>151833</th>\n",
       "      <td>0</td>\n",
       "    </tr>\n",
       "    <tr>\n",
       "      <th>151834</th>\n",
       "      <td>0</td>\n",
       "    </tr>\n",
       "    <tr>\n",
       "      <th>151837</th>\n",
       "      <td>0</td>\n",
       "    </tr>\n",
       "  </tbody>\n",
       "</table>\n",
       "<p>75818 rows × 1 columns</p>\n",
       "</div>"
      ],
      "text/plain": [
       "        TARGET\n",
       "ID            \n",
       "2            0\n",
       "5            0\n",
       "6            0\n",
       "7            0\n",
       "9            0\n",
       "...        ...\n",
       "151831       0\n",
       "151832       0\n",
       "151833       0\n",
       "151834       0\n",
       "151837       0\n",
       "\n",
       "[75818 rows x 1 columns]"
      ]
     },
     "execution_count": 26,
     "metadata": {},
     "output_type": "execute_result"
    }
   ],
   "source": [
    "# Armazenando os resultados no data frame de saída \"output_df\":\n",
    "output_df['TARGET'] = y_test_pred_xgbc\n",
    "\n",
    "# Definindo o 'ID' como índice:\n",
    "output_df.set_index(keys='ID', inplace=True)\n",
    "\n",
    "# Visualizando os resultados:\n",
    "output_df"
   ]
  },
  {
   "cell_type": "code",
   "execution_count": 27,
   "metadata": {},
   "outputs": [],
   "source": [
    "# Definindo o 'Path' para salvar o arquivo:\n",
    "sample_submission_file = os.path.join(PROJECT_OUTPUT_PATH, \"sample_submission.csv\")\n",
    "\n",
    "# Salvando os resultados:\n",
    "output_df.to_csv(sample_submission_file)"
   ]
  },
  {
   "cell_type": "markdown",
   "metadata": {},
   "source": [
    "## `08-` Verificar o `score` e a posição no `leaderboard`, na plataforma `Kaggle`:"
   ]
  },
  {
   "cell_type": "markdown",
   "metadata": {},
   "source": [
    "### `Score`:\n",
    "\n",
    "![Kaggle-Score.png](.\\output\\Kaggle-Score.png)"
   ]
  },
  {
   "cell_type": "markdown",
   "metadata": {},
   "source": [
    "### `Leaderboard`:\n",
    "\n",
    "![Kaggle-Leaderboard.png](.\\output\\Kaggle-Leaderboard.png)"
   ]
  },
  {
   "cell_type": "markdown",
   "metadata": {},
   "source": [
    "## <font color='black'>FIM</font>"
   ]
  }
 ],
 "metadata": {
  "kernelspec": {
   "display_name": "Python 3",
   "language": "python",
   "name": "python3"
  },
  "language_info": {
   "codemirror_mode": {
    "name": "ipython",
    "version": 3
   },
   "file_extension": ".py",
   "mimetype": "text/x-python",
   "name": "python",
   "nbconvert_exporter": "python",
   "pygments_lexer": "ipython3",
   "version": "3.7.7"
  }
 },
 "nbformat": 4,
 "nbformat_minor": 2
}
