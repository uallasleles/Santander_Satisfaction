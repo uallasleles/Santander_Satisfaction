{
 "cells": [
  {
   "cell_type": "markdown",
   "metadata": {},
   "source": [
    "# <font color='black'>Projeto:</font> <font color='blue'>Prevendo o Nível de Satisfação dos Clientes do Santander.</font>\n",
    "\n",
    "## <font color='black'>Data:</font> <font color='blue'>julho, 2020</font>\n",
    "\n",
    "## <font color='black'>Cientista de Dados:</font> <font color='blue'>Walter Trevisan</font>"
   ]
  },
  {
   "cell_type": "markdown",
   "metadata": {},
   "source": [
    "## 03- Explore The Data (`Step 02`)\n",
    "\n",
    "Nesta etapa, vamos continuar a nossa **`Análise Exploratória`** dos dados, utilizando o dataset de treinamento que foi preparado na etapa anterior (**`02-Get-The-Data`**), ou seja, o *data frame* que foi salvo no arquivo **`santander_train.pickle`**.\n",
    "\n",
    "Então, vamos realizar as seguintes atividades:\n",
    "\n",
    "1. Carregar o *data frame* de treinamento, salvo no arquivo **`santander_train.pickle`**;\n",
    "\n",
    "\n",
    "2. Restaurar as informações (objetos) importantes criados e/ou alterados na **`Step 01`** da nossa análise exploratória;\n",
    "\n",
    "\n",
    "3. Estudar cada atributo/feature e suas características (entender as informações e os tipos de dados), verificando também possíveis valores ausentes (**`Missing Values = NaN`**) e possíveis **`Outliers`**;\n",
    "\n",
    "\n",
    "4. Salvar informações (objetos) importantes criados e/ou alterados durante a nossa análise exploratória (**`Step 02`**)."
   ]
  },
  {
   "cell_type": "markdown",
   "metadata": {},
   "source": [
    "## Setup"
   ]
  },
  {
   "cell_type": "code",
   "execution_count": 1,
   "metadata": {},
   "outputs": [
    {
     "name": "stdout",
     "output_type": "stream",
     "text": [
      "Setup Complete!\n"
     ]
    }
   ],
   "source": [
    "# As novas versões do Pandas e Matplotlib trazem diversas mensagens de aviso ao desenvolvedor.\n",
    "# Então, vamos desativar essas mensagens.\n",
    "import sys # O pacote \"sys\" permite manipulações com o sistema operacional:\n",
    "import os  # Operation System (Packages and Functions)\n",
    "import warnings\n",
    "import matplotlib.cbook\n",
    "if not sys.warnoptions:\n",
    "    warnings.simplefilter(\"ignore\")\n",
    "warnings.simplefilter(action='ignore', category=FutureWarning)\n",
    "warnings.filterwarnings(\"ignore\", category=FutureWarning)\n",
    "warnings.filterwarnings(\"ignore\", category=matplotlib.cbook.mplDeprecation)\n",
    "\n",
    "# Common imports:\n",
    "import numpy as np    # NumPy\n",
    "import pandas as pd   # Pandas\n",
    "import pickle # Para salvar/carregar objetos.\n",
    "\n",
    "# To plot pretty figures\n",
    "%matplotlib inline\n",
    "import matplotlib as mpl\n",
    "import matplotlib.pyplot as plt\n",
    "mpl.rc('axes', labelsize=14)\n",
    "mpl.rc('xtick', labelsize=12)\n",
    "mpl.rc('ytick', labelsize=12)\n",
    "# Importa o pacote \"seaborn\"\n",
    "import seaborn as sns\n",
    "\n",
    "# Definindo o diretório raiz (Root) onde serão armazenados todas as informações\n",
    "# (Imagens, Objetos, Dados, Modelos de ML, etc...) do projeto.\n",
    "# Diretório Raiz (Root) do Projeto:\n",
    "PROJECT_ROOT_DIR = \".\"\n",
    "\n",
    "# Path: onde serão armazenadas as \"Imagens\" (Figuras e Gráficos) desta Fase do Projeto:\n",
    "PROJECT_IMG_PATH = os.path.join(PROJECT_ROOT_DIR, \"Images\", \"03-Explore_The_Data\")\n",
    "# Criando o diretório, se ele não existir:\n",
    "os.makedirs(PROJECT_IMG_PATH, exist_ok=True)\n",
    "\n",
    "# Path: onde ficarão armazenados os \"Objetos\" (Estrututras de Dados) relacionados ao Projeto:\n",
    "PROJECT_OBJ_PATH = os.path.join(PROJECT_ROOT_DIR, \"Objects\")\n",
    "# Criando o diretório, se ele não existir:\n",
    "os.makedirs(PROJECT_OBJ_PATH, exist_ok=True)\n",
    "\n",
    "# Path: onde ficarão armazenados os \"datasets\" (arquivos \"csv\") e os \"Objetos\" (Data Frames) do Projeto:\n",
    "PROJECT_DATA_PATH = os.path.join(PROJECT_ROOT_DIR, \"Data\")\n",
    "# Criando o diretório, se ele não existir:\n",
    "os.makedirs(PROJECT_DATA_PATH, exist_ok=True)\n",
    "\n",
    "# Path: onde estão armazenadas as classes e funções que serão utilizadas neste notebook:\n",
    "PROJECT_LIB_PATH = os.path.join(PROJECT_ROOT_DIR, \"Library\")\n",
    "\n",
    "# Adicionando o diretório ao 'path' do Sistema, para podermos importar classes e funções que serão\n",
    "# utilizadas neste notebook:\n",
    "sys.path.append(PROJECT_LIB_PATH)\n",
    "\n",
    "# Importando para este notebook, as classes e funções definidas no módulo \"DataScience_Library_v1_0\":\n",
    "import DataScience_Library_v1_0 as dslib\n",
    "\n",
    "# Importando para este notebook, as classes e funções definidas no módulo \"DataScience_Plot_Library_v1_0\":\n",
    "import DataScience_Plot_Library_v1_0 as ptlib\n",
    "\n",
    "# Importando para este notebook, as classes e funções definidas no módulo \"DSA_Project_03_Library\":\n",
    "import DSA_Project_03_Library as pjlib\n",
    "\n",
    "print(\"Setup Complete!\")"
   ]
  },
  {
   "cell_type": "code",
   "execution_count": 2,
   "metadata": {},
   "outputs": [
    {
     "name": "stdout",
     "output_type": "stream",
     "text": [
      "numpy      1.18.2\n",
      "pandas     0.25.3\n",
      "seaborn    0.10.0\n",
      "matplotlib 3.2.1\n",
      "Walter Trevisan\n"
     ]
    }
   ],
   "source": [
    "# Versões dos pacotes usados neste jupyter notebook:\n",
    "%reload_ext watermark\n",
    "%watermark -a \"Walter Trevisan\" --iversions"
   ]
  },
  {
   "cell_type": "markdown",
   "metadata": {},
   "source": [
    "## 01- Carregando o nosso *data frame* de treinamento: `santander_train.pickle`"
   ]
  },
  {
   "cell_type": "code",
   "execution_count": 3,
   "metadata": {},
   "outputs": [
    {
     "name": "stdout",
     "output_type": "stream",
     "text": [
      "The 'santander_train' (data frame) has been successfully uploaded!\n"
     ]
    }
   ],
   "source": [
    "# Carregando o objeto (data frame) \"santander_train\":\n",
    "train_df = dslib.pickle_object_load(path=PROJECT_DATA_PATH, file=\"santander_train.pickle\",\n",
    "                                    msg=\"The 'santander_train' (data frame) has been successfully uploaded!\")"
   ]
  },
  {
   "cell_type": "code",
   "execution_count": 4,
   "metadata": {},
   "outputs": [],
   "source": [
    "# Renomeando o label \"ind_var10cte_ult1\", em nosso dataset, para colocá-lo no mesmo padrão das outras variáveis (features).\n",
    "train_df.rename(columns={'ind_var10cte_ult1': 'ind_var10_cte_ult1'}, inplace=True)"
   ]
  },
  {
   "cell_type": "markdown",
   "metadata": {},
   "source": [
    "## 02 - Restaurando informações (`objetos`) importantes que serão utilizados nesta etapa:"
   ]
  },
  {
   "cell_type": "markdown",
   "metadata": {},
   "source": [
    "Primeiro, vamos restaurar/carregar os seguintes `objetos` importantes que serão utilizados nesta etapa da `Análise Exploratória`:\n",
    "\n",
    "1. **`feat_groupby_vars`:** dicionário com as features agrupadas por tipo de variável (var1, var2, var18, etc...);\n",
    "\n",
    "2. **`vars_groupby_featcount`:** dicionário com as variáveis (var1, var2, var18, etc...) agrupadas por quantidade (contagem) de features (Feat_1, Feat_2, Feat_3, etc...);\n",
    "\n",
    "3. **`santander_feat_info`:** dicionário com as principais informações sobre cada uma das features, ou seja, `tipo de variável`, valores ausentes (`NaN`), valores extremos (`Outliers`) e uma lista das variáveis que não são importantes para a criação dos modelos preditivos (`Drop`)."
   ]
  },
  {
   "cell_type": "code",
   "execution_count": 5,
   "metadata": {},
   "outputs": [
    {
     "name": "stdout",
     "output_type": "stream",
     "text": [
      "The 'feat_groupby_vars' object has been successfully uploaded!\n",
      "The 'vars_groupby_featcount' object has been successfully uploaded!\n",
      "The 'santander_feat_info' object has been successfully uploaded!\n"
     ]
    }
   ],
   "source": [
    "# Carregando o objeto \"feat_groupby_vars\":\n",
    "feat_groupby_vars = dslib.pickle_object_load(path=PROJECT_OBJ_PATH, file=\"feat_groupby_vars.pickle\",\n",
    "                                             msg=\"The 'feat_groupby_vars' object has been successfully uploaded!\")\n",
    "\n",
    "# Carregando o objeto \"vars_groupby_featcount\":\n",
    "vars_groupby_featcount = dslib.pickle_object_load(path=PROJECT_OBJ_PATH, file=\"vars_groupby_featcount.pickle\",\n",
    "                                                  msg=\"The 'vars_groupby_featcount' object has been successfully uploaded!\")\n",
    "\n",
    "# Carregando o objeto \"santander_feat_info\":\n",
    "santander_feat_info = dslib.pickle_object_load(path=PROJECT_OBJ_PATH, file=\"santander_feat_info.pickle\",\n",
    "                                               msg=\"The 'santander_feat_info' object has been successfully uploaded!\")"
   ]
  },
  {
   "cell_type": "markdown",
   "metadata": {},
   "source": [
    "## 03- Entendendo as informações e os tipos de dados de cada atributo (`Feature`):"
   ]
  },
  {
   "cell_type": "markdown",
   "metadata": {},
   "source": [
    "## Variáveis que possuem `5 features` em nosso dataset:"
   ]
  },
  {
   "cell_type": "code",
   "execution_count": 6,
   "metadata": {},
   "outputs": [
    {
     "name": "stdout",
     "output_type": "stream",
     "text": [
      "Count of variables: 14\n",
      "['var1', 'var2', 'var6', 'var14', 'var20', 'var22', 'var24', 'var27', 'var28', 'var30', 'var31', 'var43', 'var45', 'var46']\n"
     ]
    }
   ],
   "source": [
    "# Verificando as variáveis que possuem \"5\" features (variáveis preditoras) no dataset:\n",
    "feat_vars = vars_groupby_featcount['Feat_5']\n",
    "print(\"Count of variables: {}\".format(len(feat_vars)))\n",
    "print(feat_vars)"
   ]
  },
  {
   "cell_type": "code",
   "execution_count": 7,
   "metadata": {},
   "outputs": [
    {
     "name": "stdout",
     "output_type": "stream",
     "text": [
      "Count of features: 70\n"
     ]
    }
   ],
   "source": [
    "# Conferindo a contagem de features para cada variável:\n",
    "feat_total = 0\n",
    "for v in feat_vars:\n",
    "    feat_total += len(feat_groupby_vars[v])\n",
    "    \n",
    "print(\"Count of features: {}\".format(feat_total))"
   ]
  },
  {
   "cell_type": "markdown",
   "metadata": {},
   "source": [
    "## var1"
   ]
  },
  {
   "cell_type": "code",
   "execution_count": 8,
   "metadata": {},
   "outputs": [
    {
     "name": "stdout",
     "output_type": "stream",
     "text": [
      "<class 'pandas.core.frame.DataFrame'>\n",
      "RangeIndex: 60816 entries, 0 to 60815\n",
      "Data columns (total 5 columns):\n",
      "ind_var1      60816 non-null int64\n",
      "ind_var1_0    60816 non-null int64\n",
      "num_var1      60816 non-null int64\n",
      "num_var1_0    60816 non-null int64\n",
      "saldo_var1    60816 non-null float64\n",
      "dtypes: float64(1), int64(4)\n",
      "memory usage: 2.3 MB\n"
     ]
    }
   ],
   "source": [
    "# Resumo das informações:\n",
    "train_df[feat_groupby_vars['var1']].info()"
   ]
  },
  {
   "cell_type": "markdown",
   "metadata": {},
   "source": [
    "Agora, vamos calcular algumas medidas **estatísticas descritivas** para análsise destas **`features`** em nosso dataset:"
   ]
  },
  {
   "cell_type": "code",
   "execution_count": 9,
   "metadata": {
    "scrolled": true
   },
   "outputs": [
    {
     "data": {
      "text/html": [
       "<div>\n",
       "<style scoped>\n",
       "    .dataframe tbody tr th:only-of-type {\n",
       "        vertical-align: middle;\n",
       "    }\n",
       "\n",
       "    .dataframe tbody tr th {\n",
       "        vertical-align: top;\n",
       "    }\n",
       "\n",
       "    .dataframe thead th {\n",
       "        text-align: right;\n",
       "    }\n",
       "</style>\n",
       "<table border=\"1\" class=\"dataframe\">\n",
       "  <thead>\n",
       "    <tr style=\"text-align: right;\">\n",
       "      <th></th>\n",
       "      <th>ind_var1</th>\n",
       "      <th>ind_var1_0</th>\n",
       "      <th>num_var1</th>\n",
       "      <th>num_var1_0</th>\n",
       "      <th>saldo_var1</th>\n",
       "    </tr>\n",
       "  </thead>\n",
       "  <tbody>\n",
       "    <tr>\n",
       "      <th>count</th>\n",
       "      <td>60816.000000</td>\n",
       "      <td>60816.000000</td>\n",
       "      <td>60816.000000</td>\n",
       "      <td>60816.000000</td>\n",
       "      <td>6.081600e+04</td>\n",
       "    </tr>\n",
       "    <tr>\n",
       "      <th>mean</th>\n",
       "      <td>0.003585</td>\n",
       "      <td>0.011132</td>\n",
       "      <td>0.010754</td>\n",
       "      <td>0.033445</td>\n",
       "      <td>5.421243e+01</td>\n",
       "    </tr>\n",
       "    <tr>\n",
       "      <th>std</th>\n",
       "      <td>0.059764</td>\n",
       "      <td>0.104920</td>\n",
       "      <td>0.179293</td>\n",
       "      <td>0.315459</td>\n",
       "      <td>1.216651e+04</td>\n",
       "    </tr>\n",
       "    <tr>\n",
       "      <th>min</th>\n",
       "      <td>0.000000</td>\n",
       "      <td>0.000000</td>\n",
       "      <td>0.000000</td>\n",
       "      <td>0.000000</td>\n",
       "      <td>0.000000e+00</td>\n",
       "    </tr>\n",
       "    <tr>\n",
       "      <th>25%</th>\n",
       "      <td>0.000000</td>\n",
       "      <td>0.000000</td>\n",
       "      <td>0.000000</td>\n",
       "      <td>0.000000</td>\n",
       "      <td>0.000000e+00</td>\n",
       "    </tr>\n",
       "    <tr>\n",
       "      <th>50%</th>\n",
       "      <td>0.000000</td>\n",
       "      <td>0.000000</td>\n",
       "      <td>0.000000</td>\n",
       "      <td>0.000000</td>\n",
       "      <td>0.000000e+00</td>\n",
       "    </tr>\n",
       "    <tr>\n",
       "      <th>75%</th>\n",
       "      <td>0.000000</td>\n",
       "      <td>0.000000</td>\n",
       "      <td>0.000000</td>\n",
       "      <td>0.000000</td>\n",
       "      <td>0.000000e+00</td>\n",
       "    </tr>\n",
       "    <tr>\n",
       "      <th>max</th>\n",
       "      <td>1.000000</td>\n",
       "      <td>1.000000</td>\n",
       "      <td>3.000000</td>\n",
       "      <td>6.000000</td>\n",
       "      <td>3.000000e+06</td>\n",
       "    </tr>\n",
       "  </tbody>\n",
       "</table>\n",
       "</div>"
      ],
      "text/plain": [
       "           ind_var1    ind_var1_0      num_var1    num_var1_0    saldo_var1\n",
       "count  60816.000000  60816.000000  60816.000000  60816.000000  6.081600e+04\n",
       "mean       0.003585      0.011132      0.010754      0.033445  5.421243e+01\n",
       "std        0.059764      0.104920      0.179293      0.315459  1.216651e+04\n",
       "min        0.000000      0.000000      0.000000      0.000000  0.000000e+00\n",
       "25%        0.000000      0.000000      0.000000      0.000000  0.000000e+00\n",
       "50%        0.000000      0.000000      0.000000      0.000000  0.000000e+00\n",
       "75%        0.000000      0.000000      0.000000      0.000000  0.000000e+00\n",
       "max        1.000000      1.000000      3.000000      6.000000  3.000000e+06"
      ]
     },
     "execution_count": 9,
     "metadata": {},
     "output_type": "execute_result"
    }
   ],
   "source": [
    "# Dataframe \"train_df\":\n",
    "train_df[feat_groupby_vars['var1']].describe()"
   ]
  },
  {
   "cell_type": "code",
   "execution_count": 10,
   "metadata": {},
   "outputs": [
    {
     "data": {
      "text/html": [
       "<div>\n",
       "<style scoped>\n",
       "    .dataframe tbody tr th:only-of-type {\n",
       "        vertical-align: middle;\n",
       "    }\n",
       "\n",
       "    .dataframe tbody tr th {\n",
       "        vertical-align: top;\n",
       "    }\n",
       "\n",
       "    .dataframe thead th {\n",
       "        text-align: right;\n",
       "    }\n",
       "</style>\n",
       "<table border=\"1\" class=\"dataframe\">\n",
       "  <thead>\n",
       "    <tr style=\"text-align: right;\">\n",
       "      <th></th>\n",
       "      <th>ind_var1</th>\n",
       "      <th>ind_var1_0</th>\n",
       "      <th>num_var1</th>\n",
       "      <th>num_var1_0</th>\n",
       "      <th>saldo_var1</th>\n",
       "    </tr>\n",
       "    <tr>\n",
       "      <th>Percentile</th>\n",
       "      <th></th>\n",
       "      <th></th>\n",
       "      <th></th>\n",
       "      <th></th>\n",
       "      <th></th>\n",
       "    </tr>\n",
       "  </thead>\n",
       "  <tbody>\n",
       "    <tr>\n",
       "      <th>95%</th>\n",
       "      <td>0.0</td>\n",
       "      <td>0.0</td>\n",
       "      <td>0.0</td>\n",
       "      <td>0.0</td>\n",
       "      <td>0.0</td>\n",
       "    </tr>\n",
       "    <tr>\n",
       "      <th>96%</th>\n",
       "      <td>0.0</td>\n",
       "      <td>0.0</td>\n",
       "      <td>0.0</td>\n",
       "      <td>0.0</td>\n",
       "      <td>0.0</td>\n",
       "    </tr>\n",
       "    <tr>\n",
       "      <th>97%</th>\n",
       "      <td>0.0</td>\n",
       "      <td>0.0</td>\n",
       "      <td>0.0</td>\n",
       "      <td>0.0</td>\n",
       "      <td>0.0</td>\n",
       "    </tr>\n",
       "    <tr>\n",
       "      <th>98%</th>\n",
       "      <td>0.0</td>\n",
       "      <td>0.0</td>\n",
       "      <td>0.0</td>\n",
       "      <td>0.0</td>\n",
       "      <td>0.0</td>\n",
       "    </tr>\n",
       "    <tr>\n",
       "      <th>99%</th>\n",
       "      <td>0.0</td>\n",
       "      <td>1.0</td>\n",
       "      <td>0.0</td>\n",
       "      <td>3.0</td>\n",
       "      <td>0.0</td>\n",
       "    </tr>\n",
       "    <tr>\n",
       "      <th>100%</th>\n",
       "      <td>1.0</td>\n",
       "      <td>1.0</td>\n",
       "      <td>3.0</td>\n",
       "      <td>6.0</td>\n",
       "      <td>3000000.0</td>\n",
       "    </tr>\n",
       "  </tbody>\n",
       "</table>\n",
       "</div>"
      ],
      "text/plain": [
       "            ind_var1  ind_var1_0  num_var1  num_var1_0  saldo_var1\n",
       "Percentile                                                        \n",
       "95%              0.0         0.0       0.0         0.0         0.0\n",
       "96%              0.0         0.0       0.0         0.0         0.0\n",
       "97%              0.0         0.0       0.0         0.0         0.0\n",
       "98%              0.0         0.0       0.0         0.0         0.0\n",
       "99%              0.0         1.0       0.0         3.0         0.0\n",
       "100%             1.0         1.0       3.0         6.0   3000000.0"
      ]
     },
     "execution_count": 10,
     "metadata": {},
     "output_type": "execute_result"
    }
   ],
   "source": [
    "# Obtendo os percentis a partir de \"95%\", com intervá-los de \"1%\":\n",
    "result = dslib.get_features_percentiles(data=train_df, features=feat_groupby_vars['var1'], percent_range=range(95, 101, 1))\n",
    "result"
   ]
  },
  {
   "cell_type": "code",
   "execution_count": 11,
   "metadata": {
    "scrolled": false
   },
   "outputs": [
    {
     "name": "stdout",
     "output_type": "stream",
     "text": [
      "          Total  Percent\n",
      "ind_var1                \n",
      "0         60598   0.9964\n",
      "1           218   0.0036\n",
      "\n",
      "            Total  Percent\n",
      "ind_var1_0                \n",
      "0           60139   0.9889\n",
      "1             677   0.0111\n",
      "\n",
      "          Total  Percent\n",
      "num_var1                \n",
      "0         60598   0.9964\n",
      "3           218   0.0036\n",
      "\n",
      "            Total  Percent\n",
      "num_var1_0                \n",
      "0           60139   0.9889\n",
      "3             676   0.0111\n",
      "6               1   0.0000\n",
      "\n",
      "            Total  Percent\n",
      "saldo_var1                \n",
      "0.00        60598   0.9964\n",
      "4035.00         2   0.0000\n",
      "969.54          1   0.0000\n",
      "995.88          1   0.0000\n",
      "1015.50         1   0.0000\n",
      "...           ...      ...\n",
      "396.00          1   0.0000\n",
      "400.83          1   0.0000\n",
      "404.34          1   0.0000\n",
      "415.05          1   0.0000\n",
      "3000000.00      1   0.0000\n",
      "\n",
      "[218 rows x 2 columns]\n",
      "\n"
     ]
    }
   ],
   "source": [
    "# Vamos verificar a proporção dos valores para as variáveis relacionadas a \"var1\":\n",
    "for feat in feat_groupby_vars['var1']:\n",
    "    print(dslib.percent_count_feature(df=train_df, feature=feat, lines_drop=False))\n",
    "    print()"
   ]
  },
  {
   "cell_type": "markdown",
   "metadata": {},
   "source": [
    "**Análise:** observamos que as **`features`** **`ind_var1`** e **`ind_var1_0`**, relacionadas com **`var1`**, são variáveis do tipo `Categóricas Nominais Binárias`, com apenas duas classes **`0`** e **`1`**. Entretanto, as **`features`** **`num_var1`** e **`num_var1_0`**, relacionadas com **`var1`**, são variáveis do tipo `Quantitativa Discreta`. A feature **`saldo_var1`** é uma variável do tipo `Quantitativa Contínua`.\n",
    "\n",
    "Observamos, também, que nas features **`ind_var1`** e **`ind_var1_0`**, **`99%`** das observações estão concentradas na classe **`0`**, e nas features **`num_var1`** e **`num_var1_0`**, **`99%`** das observações possuem valores iguais a **`0`**. Na feature **`saldo_var1`** **`99.64%`** das observações possuem valores iguais a **`0`**."
   ]
  },
  {
   "cell_type": "markdown",
   "metadata": {},
   "source": [
    "Agora, vamos verificar se existe alguma **correlação** entre as **`features`** de **`var1`**:"
   ]
  },
  {
   "cell_type": "code",
   "execution_count": 12,
   "metadata": {},
   "outputs": [
    {
     "name": "stdout",
     "output_type": "stream",
     "text": [
      "Saving figure: plot_corr_features_var1\n"
     ]
    },
    {
     "data": {
      "image/png": "[encoded data removed]",
      "text/plain": [
       "<Figure size 720x432 with 2 Axes>"
      ]
     },
     "metadata": {
      "needs_background": "light"
     },
     "output_type": "display_data"
    }
   ],
   "source": [
    "# Analisando a correlação entre as features numéricas de \"var5\" do tipo \"float64\":\n",
    "ptlib.plot_corr_features(df=train_df, features=feat_groupby_vars['var1'], digits=3, title=\"var1 (Features)\",\n",
    "                         title_fontsize=18, xtick_labelsize=13, ytick_labelsize=13, width=10, height=6,\n",
    "                         figure_id='plot_corr_features_var1', figure_path=PROJECT_IMG_PATH,\n",
    "                         figure_file_format=\"png\", figure_file_extension=\".png\", tight_layout=True, dpi=300\n",
    "                        )"
   ]
  },
  {
   "cell_type": "markdown",
   "metadata": {},
   "source": [
    "**Análise:** observando a **correlação entre as features** (**plot acima**) concluímos que:\n",
    "\n",
    "1. **`ind_var1 x num_var_1`** são **colineares**, pois representam a mesma informação (`correlação = 1.0`);\n",
    "2. **`ind_var1_0 x num_var_1_0`** são **colineares**, pois representam a mesma informação (`correlação = 1.0`);\n",
    "2. **`saldo_var1`** não possui corrrelação com as demais features."
   ]
  },
  {
   "cell_type": "markdown",
   "metadata": {},
   "source": [
    "**Conclusão:** Portanto, entendemos que estas **features são `irrelevantes`** para serem analisadas na criação dos modelos preditivos."
   ]
  },
  {
   "cell_type": "code",
   "execution_count": 13,
   "metadata": {},
   "outputs": [],
   "source": [
    "# Armazenando informações sobre as features:\n",
    "features = ['ind_var1', 'ind_var1_0']\n",
    "santander_feat_info.save(key='Binary', features=features) # Categórica Nominal Binária.\n",
    "\n",
    "features = ['num_var1', 'num_var1_0']\n",
    "santander_feat_info.save(key='Discrete', features=features) # Quantitativa Discreta.\n",
    "\n",
    "features = ['saldo_var1']\n",
    "santander_feat_info.save(key='Continuous', features=features) # Quantitativa Contínua.\n",
    "\n",
    "santander_feat_info.save(key='Irrelevant', features=feat_groupby_vars['var1']) # Irrelevantes."
   ]
  },
  {
   "cell_type": "markdown",
   "metadata": {},
   "source": [
    "## var2"
   ]
  },
  {
   "cell_type": "code",
   "execution_count": 14,
   "metadata": {},
   "outputs": [
    {
     "name": "stdout",
     "output_type": "stream",
     "text": [
      "<class 'pandas.core.frame.DataFrame'>\n",
      "RangeIndex: 60816 entries, 0 to 60815\n",
      "Data columns (total 5 columns):\n",
      "ind_var2           60816 non-null int64\n",
      "ind_var2_0         60816 non-null int64\n",
      "num_var2_0_ult1    60816 non-null int64\n",
      "num_var2_ult1      60816 non-null int64\n",
      "saldo_var2_ult1    60816 non-null int64\n",
      "dtypes: int64(5)\n",
      "memory usage: 2.3 MB\n"
     ]
    }
   ],
   "source": [
    "# Resumo das informações:\n",
    "train_df[feat_groupby_vars['var2']].info()"
   ]
  },
  {
   "cell_type": "code",
   "execution_count": 15,
   "metadata": {
    "scrolled": true
   },
   "outputs": [
    {
     "data": {
      "text/html": [
       "<div>\n",
       "<style scoped>\n",
       "    .dataframe tbody tr th:only-of-type {\n",
       "        vertical-align: middle;\n",
       "    }\n",
       "\n",
       "    .dataframe tbody tr th {\n",
       "        vertical-align: top;\n",
       "    }\n",
       "\n",
       "    .dataframe thead th {\n",
       "        text-align: right;\n",
       "    }\n",
       "</style>\n",
       "<table border=\"1\" class=\"dataframe\">\n",
       "  <thead>\n",
       "    <tr style=\"text-align: right;\">\n",
       "      <th></th>\n",
       "      <th>ind_var2</th>\n",
       "      <th>ind_var2_0</th>\n",
       "      <th>num_var2_0_ult1</th>\n",
       "      <th>num_var2_ult1</th>\n",
       "      <th>saldo_var2_ult1</th>\n",
       "    </tr>\n",
       "  </thead>\n",
       "  <tbody>\n",
       "    <tr>\n",
       "      <th>count</th>\n",
       "      <td>60816.0</td>\n",
       "      <td>60816.0</td>\n",
       "      <td>60816.0</td>\n",
       "      <td>60816.0</td>\n",
       "      <td>60816.0</td>\n",
       "    </tr>\n",
       "    <tr>\n",
       "      <th>mean</th>\n",
       "      <td>0.0</td>\n",
       "      <td>0.0</td>\n",
       "      <td>0.0</td>\n",
       "      <td>0.0</td>\n",
       "      <td>0.0</td>\n",
       "    </tr>\n",
       "    <tr>\n",
       "      <th>std</th>\n",
       "      <td>0.0</td>\n",
       "      <td>0.0</td>\n",
       "      <td>0.0</td>\n",
       "      <td>0.0</td>\n",
       "      <td>0.0</td>\n",
       "    </tr>\n",
       "    <tr>\n",
       "      <th>min</th>\n",
       "      <td>0.0</td>\n",
       "      <td>0.0</td>\n",
       "      <td>0.0</td>\n",
       "      <td>0.0</td>\n",
       "      <td>0.0</td>\n",
       "    </tr>\n",
       "    <tr>\n",
       "      <th>25%</th>\n",
       "      <td>0.0</td>\n",
       "      <td>0.0</td>\n",
       "      <td>0.0</td>\n",
       "      <td>0.0</td>\n",
       "      <td>0.0</td>\n",
       "    </tr>\n",
       "    <tr>\n",
       "      <th>50%</th>\n",
       "      <td>0.0</td>\n",
       "      <td>0.0</td>\n",
       "      <td>0.0</td>\n",
       "      <td>0.0</td>\n",
       "      <td>0.0</td>\n",
       "    </tr>\n",
       "    <tr>\n",
       "      <th>75%</th>\n",
       "      <td>0.0</td>\n",
       "      <td>0.0</td>\n",
       "      <td>0.0</td>\n",
       "      <td>0.0</td>\n",
       "      <td>0.0</td>\n",
       "    </tr>\n",
       "    <tr>\n",
       "      <th>max</th>\n",
       "      <td>0.0</td>\n",
       "      <td>0.0</td>\n",
       "      <td>0.0</td>\n",
       "      <td>0.0</td>\n",
       "      <td>0.0</td>\n",
       "    </tr>\n",
       "  </tbody>\n",
       "</table>\n",
       "</div>"
      ],
      "text/plain": [
       "       ind_var2  ind_var2_0  num_var2_0_ult1  num_var2_ult1  saldo_var2_ult1\n",
       "count   60816.0     60816.0          60816.0        60816.0          60816.0\n",
       "mean        0.0         0.0              0.0            0.0              0.0\n",
       "std         0.0         0.0              0.0            0.0              0.0\n",
       "min         0.0         0.0              0.0            0.0              0.0\n",
       "25%         0.0         0.0              0.0            0.0              0.0\n",
       "50%         0.0         0.0              0.0            0.0              0.0\n",
       "75%         0.0         0.0              0.0            0.0              0.0\n",
       "max         0.0         0.0              0.0            0.0              0.0"
      ]
     },
     "execution_count": 15,
     "metadata": {},
     "output_type": "execute_result"
    }
   ],
   "source": [
    "# Dataframe \"train_df\":\n",
    "train_df[feat_groupby_vars['var2']].describe()"
   ]
  },
  {
   "cell_type": "code",
   "execution_count": 16,
   "metadata": {},
   "outputs": [
    {
     "data": {
      "text/html": [
       "<div>\n",
       "<style scoped>\n",
       "    .dataframe tbody tr th:only-of-type {\n",
       "        vertical-align: middle;\n",
       "    }\n",
       "\n",
       "    .dataframe tbody tr th {\n",
       "        vertical-align: top;\n",
       "    }\n",
       "\n",
       "    .dataframe thead th {\n",
       "        text-align: right;\n",
       "    }\n",
       "</style>\n",
       "<table border=\"1\" class=\"dataframe\">\n",
       "  <thead>\n",
       "    <tr style=\"text-align: right;\">\n",
       "      <th></th>\n",
       "      <th>ind_var2</th>\n",
       "      <th>ind_var2_0</th>\n",
       "      <th>num_var2_0_ult1</th>\n",
       "      <th>num_var2_ult1</th>\n",
       "      <th>saldo_var2_ult1</th>\n",
       "    </tr>\n",
       "    <tr>\n",
       "      <th>Percentile</th>\n",
       "      <th></th>\n",
       "      <th></th>\n",
       "      <th></th>\n",
       "      <th></th>\n",
       "      <th></th>\n",
       "    </tr>\n",
       "  </thead>\n",
       "  <tbody>\n",
       "    <tr>\n",
       "      <th>80%</th>\n",
       "      <td>0.0</td>\n",
       "      <td>0.0</td>\n",
       "      <td>0.0</td>\n",
       "      <td>0.0</td>\n",
       "      <td>0.0</td>\n",
       "    </tr>\n",
       "    <tr>\n",
       "      <th>85%</th>\n",
       "      <td>0.0</td>\n",
       "      <td>0.0</td>\n",
       "      <td>0.0</td>\n",
       "      <td>0.0</td>\n",
       "      <td>0.0</td>\n",
       "    </tr>\n",
       "    <tr>\n",
       "      <th>90%</th>\n",
       "      <td>0.0</td>\n",
       "      <td>0.0</td>\n",
       "      <td>0.0</td>\n",
       "      <td>0.0</td>\n",
       "      <td>0.0</td>\n",
       "    </tr>\n",
       "    <tr>\n",
       "      <th>95%</th>\n",
       "      <td>0.0</td>\n",
       "      <td>0.0</td>\n",
       "      <td>0.0</td>\n",
       "      <td>0.0</td>\n",
       "      <td>0.0</td>\n",
       "    </tr>\n",
       "    <tr>\n",
       "      <th>100%</th>\n",
       "      <td>0.0</td>\n",
       "      <td>0.0</td>\n",
       "      <td>0.0</td>\n",
       "      <td>0.0</td>\n",
       "      <td>0.0</td>\n",
       "    </tr>\n",
       "  </tbody>\n",
       "</table>\n",
       "</div>"
      ],
      "text/plain": [
       "            ind_var2  ind_var2_0  num_var2_0_ult1  num_var2_ult1  \\\n",
       "Percentile                                                         \n",
       "80%              0.0         0.0              0.0            0.0   \n",
       "85%              0.0         0.0              0.0            0.0   \n",
       "90%              0.0         0.0              0.0            0.0   \n",
       "95%              0.0         0.0              0.0            0.0   \n",
       "100%             0.0         0.0              0.0            0.0   \n",
       "\n",
       "            saldo_var2_ult1  \n",
       "Percentile                   \n",
       "80%                     0.0  \n",
       "85%                     0.0  \n",
       "90%                     0.0  \n",
       "95%                     0.0  \n",
       "100%                    0.0  "
      ]
     },
     "execution_count": 16,
     "metadata": {},
     "output_type": "execute_result"
    }
   ],
   "source": [
    "# Obtendo os percentis a partir de \"80%\", com intervá-los de \"5%\":\n",
    "result = dslib.get_features_percentiles(data=train_df, features=feat_groupby_vars['var2'], percent_range=range(80, 105, 5))\n",
    "result"
   ]
  },
  {
   "cell_type": "code",
   "execution_count": 17,
   "metadata": {
    "scrolled": false
   },
   "outputs": [
    {
     "name": "stdout",
     "output_type": "stream",
     "text": [
      "          Total  Percent\n",
      "ind_var2                \n",
      "0         60816      1.0\n",
      "\n",
      "            Total  Percent\n",
      "ind_var2_0                \n",
      "0           60816      1.0\n",
      "\n",
      "                 Total  Percent\n",
      "num_var2_0_ult1                \n",
      "0                60816      1.0\n",
      "\n",
      "               Total  Percent\n",
      "num_var2_ult1                \n",
      "0              60816      1.0\n",
      "\n",
      "                 Total  Percent\n",
      "saldo_var2_ult1                \n",
      "0                60816      1.0\n",
      "\n"
     ]
    }
   ],
   "source": [
    "# Vamos verificar a proporção dos valores para as variáveis relacionadas a \"var2\":\n",
    "for feat in feat_groupby_vars['var2']:\n",
    "    print(dslib.percent_count_feature(df=train_df, feature=feat, lines_drop=False))\n",
    "    print()"
   ]
  },
  {
   "cell_type": "markdown",
   "metadata": {},
   "source": [
    "**Análise:** observamos que as **`features`** **`ind_var2`** e **`ind_var2_0`**, relacionadas com **`var2`**, são variáveis do tipo `Categóricas Nominais Binárias`, com apenas duas classes **`0`** e **`1`**. Entretanto, as **`features`** **`num_var2_0_ult1`** e **`num_var2_ult1`**, relacionadas com **`var2`**, são variáveis do tipo `Quantitativa Discreta`. A feature **`saldo_var2_ult1`** é uma variável do tipo `Quantitativa Contínua`.\n",
    "\n",
    "Observamos, também, que nas features **`ind_var2`** e **`ind_var2_0`**, **`100%`** das observações estão concentradas na classe **`0`**. Enquanto que as features **`num_var2_0_ult1`**, **`num_var2_ult1`**, e **`saldo_var2_ult1`** possuem em **`100%`** das observações, valores iguais a **`0`**."
   ]
  },
  {
   "cell_type": "markdown",
   "metadata": {},
   "source": [
    "**Conclusão:** Portanto, entendemos que estas **features são `irrelevantes`** para serem analisadas na criação dos modelos preditivos."
   ]
  },
  {
   "cell_type": "code",
   "execution_count": 18,
   "metadata": {},
   "outputs": [],
   "source": [
    "# Armazenando informações sobre as features:\n",
    "features = ['ind_var2', 'ind_var2_0']\n",
    "santander_feat_info.save(key='Binary', features=features) # Categórica Nominal Binária.\n",
    "\n",
    "features = ['num_var2_0_ult1', 'num_var2_ult1']\n",
    "santander_feat_info.save(key='Discrete', features=features) # Quantitativa Discreta.\n",
    "\n",
    "features = ['saldo_var2_ult1']\n",
    "santander_feat_info.save(key='Continuous', features=features) # Quantitativa Contínua.\n",
    "\n",
    "santander_feat_info.save(key='Irrelevant', features=feat_groupby_vars['var2']) # Irrelevantes."
   ]
  },
  {
   "cell_type": "markdown",
   "metadata": {},
   "source": [
    "## var6"
   ]
  },
  {
   "cell_type": "code",
   "execution_count": 19,
   "metadata": {},
   "outputs": [
    {
     "name": "stdout",
     "output_type": "stream",
     "text": [
      "<class 'pandas.core.frame.DataFrame'>\n",
      "RangeIndex: 60816 entries, 0 to 60815\n",
      "Data columns (total 5 columns):\n",
      "ind_var6      60816 non-null int64\n",
      "ind_var6_0    60816 non-null int64\n",
      "num_var6      60816 non-null int64\n",
      "num_var6_0    60816 non-null int64\n",
      "saldo_var6    60816 non-null float64\n",
      "dtypes: float64(1), int64(4)\n",
      "memory usage: 2.3 MB\n"
     ]
    }
   ],
   "source": [
    "# Resumo das informações:\n",
    "train_df[feat_groupby_vars['var6']].info()"
   ]
  },
  {
   "cell_type": "markdown",
   "metadata": {},
   "source": [
    "Agora, vamos calcular algumas medidas **estatísticas descritivas** para análsise destas **`features`** em nosso dataset:"
   ]
  },
  {
   "cell_type": "code",
   "execution_count": 20,
   "metadata": {
    "scrolled": true
   },
   "outputs": [
    {
     "data": {
      "text/html": [
       "<div>\n",
       "<style scoped>\n",
       "    .dataframe tbody tr th:only-of-type {\n",
       "        vertical-align: middle;\n",
       "    }\n",
       "\n",
       "    .dataframe tbody tr th {\n",
       "        vertical-align: top;\n",
       "    }\n",
       "\n",
       "    .dataframe thead th {\n",
       "        text-align: right;\n",
       "    }\n",
       "</style>\n",
       "<table border=\"1\" class=\"dataframe\">\n",
       "  <thead>\n",
       "    <tr style=\"text-align: right;\">\n",
       "      <th></th>\n",
       "      <th>ind_var6</th>\n",
       "      <th>ind_var6_0</th>\n",
       "      <th>num_var6</th>\n",
       "      <th>num_var6_0</th>\n",
       "      <th>saldo_var6</th>\n",
       "    </tr>\n",
       "  </thead>\n",
       "  <tbody>\n",
       "    <tr>\n",
       "      <th>count</th>\n",
       "      <td>60816.000000</td>\n",
       "      <td>60816.000000</td>\n",
       "      <td>60816.000000</td>\n",
       "      <td>60816.000000</td>\n",
       "      <td>60816.000000</td>\n",
       "    </tr>\n",
       "    <tr>\n",
       "      <th>mean</th>\n",
       "      <td>0.000033</td>\n",
       "      <td>0.000132</td>\n",
       "      <td>0.000099</td>\n",
       "      <td>0.000395</td>\n",
       "      <td>0.518094</td>\n",
       "    </tr>\n",
       "    <tr>\n",
       "      <th>std</th>\n",
       "      <td>0.005735</td>\n",
       "      <td>0.011469</td>\n",
       "      <td>0.017204</td>\n",
       "      <td>0.034406</td>\n",
       "      <td>92.904907</td>\n",
       "    </tr>\n",
       "    <tr>\n",
       "      <th>min</th>\n",
       "      <td>0.000000</td>\n",
       "      <td>0.000000</td>\n",
       "      <td>0.000000</td>\n",
       "      <td>0.000000</td>\n",
       "      <td>0.000000</td>\n",
       "    </tr>\n",
       "    <tr>\n",
       "      <th>25%</th>\n",
       "      <td>0.000000</td>\n",
       "      <td>0.000000</td>\n",
       "      <td>0.000000</td>\n",
       "      <td>0.000000</td>\n",
       "      <td>0.000000</td>\n",
       "    </tr>\n",
       "    <tr>\n",
       "      <th>50%</th>\n",
       "      <td>0.000000</td>\n",
       "      <td>0.000000</td>\n",
       "      <td>0.000000</td>\n",
       "      <td>0.000000</td>\n",
       "      <td>0.000000</td>\n",
       "    </tr>\n",
       "    <tr>\n",
       "      <th>75%</th>\n",
       "      <td>0.000000</td>\n",
       "      <td>0.000000</td>\n",
       "      <td>0.000000</td>\n",
       "      <td>0.000000</td>\n",
       "      <td>0.000000</td>\n",
       "    </tr>\n",
       "    <tr>\n",
       "      <th>max</th>\n",
       "      <td>1.000000</td>\n",
       "      <td>1.000000</td>\n",
       "      <td>3.000000</td>\n",
       "      <td>3.000000</td>\n",
       "      <td>19531.800000</td>\n",
       "    </tr>\n",
       "  </tbody>\n",
       "</table>\n",
       "</div>"
      ],
      "text/plain": [
       "           ind_var6    ind_var6_0      num_var6    num_var6_0    saldo_var6\n",
       "count  60816.000000  60816.000000  60816.000000  60816.000000  60816.000000\n",
       "mean       0.000033      0.000132      0.000099      0.000395      0.518094\n",
       "std        0.005735      0.011469      0.017204      0.034406     92.904907\n",
       "min        0.000000      0.000000      0.000000      0.000000      0.000000\n",
       "25%        0.000000      0.000000      0.000000      0.000000      0.000000\n",
       "50%        0.000000      0.000000      0.000000      0.000000      0.000000\n",
       "75%        0.000000      0.000000      0.000000      0.000000      0.000000\n",
       "max        1.000000      1.000000      3.000000      3.000000  19531.800000"
      ]
     },
     "execution_count": 20,
     "metadata": {},
     "output_type": "execute_result"
    }
   ],
   "source": [
    "# Dataframe \"train_df\":\n",
    "train_df[feat_groupby_vars['var6']].describe()"
   ]
  },
  {
   "cell_type": "code",
   "execution_count": 21,
   "metadata": {},
   "outputs": [
    {
     "data": {
      "text/html": [
       "<div>\n",
       "<style scoped>\n",
       "    .dataframe tbody tr th:only-of-type {\n",
       "        vertical-align: middle;\n",
       "    }\n",
       "\n",
       "    .dataframe tbody tr th {\n",
       "        vertical-align: top;\n",
       "    }\n",
       "\n",
       "    .dataframe thead th {\n",
       "        text-align: right;\n",
       "    }\n",
       "</style>\n",
       "<table border=\"1\" class=\"dataframe\">\n",
       "  <thead>\n",
       "    <tr style=\"text-align: right;\">\n",
       "      <th></th>\n",
       "      <th>ind_var6</th>\n",
       "      <th>ind_var6_0</th>\n",
       "      <th>num_var6</th>\n",
       "      <th>num_var6_0</th>\n",
       "      <th>saldo_var6</th>\n",
       "    </tr>\n",
       "    <tr>\n",
       "      <th>Percentile</th>\n",
       "      <th></th>\n",
       "      <th></th>\n",
       "      <th></th>\n",
       "      <th></th>\n",
       "      <th></th>\n",
       "    </tr>\n",
       "  </thead>\n",
       "  <tbody>\n",
       "    <tr>\n",
       "      <th>95%</th>\n",
       "      <td>0.0</td>\n",
       "      <td>0.0</td>\n",
       "      <td>0.0</td>\n",
       "      <td>0.0</td>\n",
       "      <td>0.0</td>\n",
       "    </tr>\n",
       "    <tr>\n",
       "      <th>96%</th>\n",
       "      <td>0.0</td>\n",
       "      <td>0.0</td>\n",
       "      <td>0.0</td>\n",
       "      <td>0.0</td>\n",
       "      <td>0.0</td>\n",
       "    </tr>\n",
       "    <tr>\n",
       "      <th>97%</th>\n",
       "      <td>0.0</td>\n",
       "      <td>0.0</td>\n",
       "      <td>0.0</td>\n",
       "      <td>0.0</td>\n",
       "      <td>0.0</td>\n",
       "    </tr>\n",
       "    <tr>\n",
       "      <th>98%</th>\n",
       "      <td>0.0</td>\n",
       "      <td>0.0</td>\n",
       "      <td>0.0</td>\n",
       "      <td>0.0</td>\n",
       "      <td>0.0</td>\n",
       "    </tr>\n",
       "    <tr>\n",
       "      <th>99%</th>\n",
       "      <td>0.0</td>\n",
       "      <td>0.0</td>\n",
       "      <td>0.0</td>\n",
       "      <td>0.0</td>\n",
       "      <td>0.0</td>\n",
       "    </tr>\n",
       "    <tr>\n",
       "      <th>100%</th>\n",
       "      <td>1.0</td>\n",
       "      <td>1.0</td>\n",
       "      <td>3.0</td>\n",
       "      <td>3.0</td>\n",
       "      <td>19531.8</td>\n",
       "    </tr>\n",
       "  </tbody>\n",
       "</table>\n",
       "</div>"
      ],
      "text/plain": [
       "            ind_var6  ind_var6_0  num_var6  num_var6_0  saldo_var6\n",
       "Percentile                                                        \n",
       "95%              0.0         0.0       0.0         0.0         0.0\n",
       "96%              0.0         0.0       0.0         0.0         0.0\n",
       "97%              0.0         0.0       0.0         0.0         0.0\n",
       "98%              0.0         0.0       0.0         0.0         0.0\n",
       "99%              0.0         0.0       0.0         0.0         0.0\n",
       "100%             1.0         1.0       3.0         3.0     19531.8"
      ]
     },
     "execution_count": 21,
     "metadata": {},
     "output_type": "execute_result"
    }
   ],
   "source": [
    "# Obtendo os percentis a partir de \"95%\", com intervá-los de \"1%\":\n",
    "result = dslib.get_features_percentiles(data=train_df, features=feat_groupby_vars['var6'], percent_range=range(95, 101, 1))\n",
    "result"
   ]
  },
  {
   "cell_type": "code",
   "execution_count": 22,
   "metadata": {
    "scrolled": false
   },
   "outputs": [
    {
     "name": "stdout",
     "output_type": "stream",
     "text": [
      "          Total  Percent\n",
      "ind_var6                \n",
      "0         60814      1.0\n",
      "1             2      0.0\n",
      "\n",
      "            Total  Percent\n",
      "ind_var6_0                \n",
      "0           60808   0.9999\n",
      "1               8   0.0001\n",
      "\n",
      "          Total  Percent\n",
      "num_var6                \n",
      "0         60814      1.0\n",
      "3             2      0.0\n",
      "\n",
      "            Total  Percent\n",
      "num_var6_0                \n",
      "0           60808   0.9999\n",
      "3               8   0.0001\n",
      "\n",
      "            Total  Percent\n",
      "saldo_var6                \n",
      "0.0         60814      1.0\n",
      "11976.6         1      0.0\n",
      "19531.8         1      0.0\n",
      "\n"
     ]
    }
   ],
   "source": [
    "# Vamos verificar a proporção dos valores para as variáveis relacionadas a \"var6\":\n",
    "for feat in feat_groupby_vars['var6']:\n",
    "    print(dslib.percent_count_feature(df=train_df, feature=feat, lines_drop=False))\n",
    "    print()"
   ]
  },
  {
   "cell_type": "markdown",
   "metadata": {},
   "source": [
    "**Análise:** observamos que as **`features`** **`ind_var6`** e **`ind_var6_0`**, relacionadas com **`var6`**, são variáveis do tipo `Categóricas Nominais Binárias`, com apenas duas classes **`0`** e **`1`**. Entretanto, as **`features`** **`num_var6`** e **`num_var6_0`**, relacionadas com **`var6`**, são variáveis do tipo `Quantitativa Discrete`. A feature **`saldo_var6`** é uma variável do tipo `Quantitativa Contínua`.\n",
    "\n",
    "Observamos, também, que nas features **`ind_var6`** e **`ind_var6_0`**, **`99.99%`** das observações estão concentradas na classe **`0`**, e nas features **`num_var6`** e **`num_var6_0`**, **`99.99%`** das observações possuem valores iguais a **`0`**. A feature **`saldo_var6`** possui, em **`99%`** das observações, também valores iguais a **`0`**."
   ]
  },
  {
   "cell_type": "markdown",
   "metadata": {},
   "source": [
    "**Conclusão:** Portanto, entendemos que estas **features são `irrelevantes`** para serem analisadas na criação dos modelos preditivos."
   ]
  },
  {
   "cell_type": "code",
   "execution_count": 23,
   "metadata": {},
   "outputs": [],
   "source": [
    "# Armazenando informações sobre as features:\n",
    "features = ['ind_var6', 'ind_var6_0']\n",
    "santander_feat_info.save(key='Binary', features=features) # Categórica Nominal Binária.\n",
    "\n",
    "features = ['num_var6', 'num_var6_0']\n",
    "santander_feat_info.save(key='Discrete', features=features) # Quantitativa Discreta.\n",
    "\n",
    "features = ['saldo_var6']\n",
    "santander_feat_info.save(key='Continuous', features=features) # Quantitativa Contínua.\n",
    "\n",
    "santander_feat_info.save(key='Irrelevant', features=feat_groupby_vars['var6']) # Irrelevantes."
   ]
  },
  {
   "cell_type": "markdown",
   "metadata": {},
   "source": [
    "## var14"
   ]
  },
  {
   "cell_type": "code",
   "execution_count": 24,
   "metadata": {},
   "outputs": [
    {
     "name": "stdout",
     "output_type": "stream",
     "text": [
      "<class 'pandas.core.frame.DataFrame'>\n",
      "RangeIndex: 60816 entries, 0 to 60815\n",
      "Data columns (total 5 columns):\n",
      "ind_var14      60816 non-null int64\n",
      "ind_var14_0    60816 non-null int64\n",
      "num_var14      60816 non-null int64\n",
      "num_var14_0    60816 non-null int64\n",
      "saldo_var14    60816 non-null float64\n",
      "dtypes: float64(1), int64(4)\n",
      "memory usage: 2.3 MB\n"
     ]
    }
   ],
   "source": [
    "# Resumo das informações:\n",
    "train_df[feat_groupby_vars['var14']].info()"
   ]
  },
  {
   "cell_type": "markdown",
   "metadata": {},
   "source": [
    "Agora, vamos calcular algumas medidas **estatísticas descritivas** para análsise destas **`features`** em nosso dataset:"
   ]
  },
  {
   "cell_type": "code",
   "execution_count": 25,
   "metadata": {
    "scrolled": true
   },
   "outputs": [
    {
     "data": {
      "text/html": [
       "<div>\n",
       "<style scoped>\n",
       "    .dataframe tbody tr th:only-of-type {\n",
       "        vertical-align: middle;\n",
       "    }\n",
       "\n",
       "    .dataframe tbody tr th {\n",
       "        vertical-align: top;\n",
       "    }\n",
       "\n",
       "    .dataframe thead th {\n",
       "        text-align: right;\n",
       "    }\n",
       "</style>\n",
       "<table border=\"1\" class=\"dataframe\">\n",
       "  <thead>\n",
       "    <tr style=\"text-align: right;\">\n",
       "      <th></th>\n",
       "      <th>ind_var14</th>\n",
       "      <th>ind_var14_0</th>\n",
       "      <th>num_var14</th>\n",
       "      <th>num_var14_0</th>\n",
       "      <th>saldo_var14</th>\n",
       "    </tr>\n",
       "  </thead>\n",
       "  <tbody>\n",
       "    <tr>\n",
       "      <th>count</th>\n",
       "      <td>60816.000000</td>\n",
       "      <td>60816.000000</td>\n",
       "      <td>60816.000000</td>\n",
       "      <td>60816.000000</td>\n",
       "      <td>60816.000000</td>\n",
       "    </tr>\n",
       "    <tr>\n",
       "      <th>mean</th>\n",
       "      <td>0.005278</td>\n",
       "      <td>0.023481</td>\n",
       "      <td>0.016081</td>\n",
       "      <td>0.072563</td>\n",
       "      <td>73.400380</td>\n",
       "    </tr>\n",
       "    <tr>\n",
       "      <th>std</th>\n",
       "      <td>0.072460</td>\n",
       "      <td>0.151426</td>\n",
       "      <td>0.224397</td>\n",
       "      <td>0.642269</td>\n",
       "      <td>3051.818963</td>\n",
       "    </tr>\n",
       "    <tr>\n",
       "      <th>min</th>\n",
       "      <td>0.000000</td>\n",
       "      <td>0.000000</td>\n",
       "      <td>0.000000</td>\n",
       "      <td>0.000000</td>\n",
       "      <td>0.000000</td>\n",
       "    </tr>\n",
       "    <tr>\n",
       "      <th>25%</th>\n",
       "      <td>0.000000</td>\n",
       "      <td>0.000000</td>\n",
       "      <td>0.000000</td>\n",
       "      <td>0.000000</td>\n",
       "      <td>0.000000</td>\n",
       "    </tr>\n",
       "    <tr>\n",
       "      <th>50%</th>\n",
       "      <td>0.000000</td>\n",
       "      <td>0.000000</td>\n",
       "      <td>0.000000</td>\n",
       "      <td>0.000000</td>\n",
       "      <td>0.000000</td>\n",
       "    </tr>\n",
       "    <tr>\n",
       "      <th>75%</th>\n",
       "      <td>0.000000</td>\n",
       "      <td>0.000000</td>\n",
       "      <td>0.000000</td>\n",
       "      <td>0.000000</td>\n",
       "      <td>0.000000</td>\n",
       "    </tr>\n",
       "    <tr>\n",
       "      <th>max</th>\n",
       "      <td>1.000000</td>\n",
       "      <td>1.000000</td>\n",
       "      <td>12.000000</td>\n",
       "      <td>111.000000</td>\n",
       "      <td>450000.000000</td>\n",
       "    </tr>\n",
       "  </tbody>\n",
       "</table>\n",
       "</div>"
      ],
      "text/plain": [
       "          ind_var14   ind_var14_0     num_var14   num_var14_0    saldo_var14\n",
       "count  60816.000000  60816.000000  60816.000000  60816.000000   60816.000000\n",
       "mean       0.005278      0.023481      0.016081      0.072563      73.400380\n",
       "std        0.072460      0.151426      0.224397      0.642269    3051.818963\n",
       "min        0.000000      0.000000      0.000000      0.000000       0.000000\n",
       "25%        0.000000      0.000000      0.000000      0.000000       0.000000\n",
       "50%        0.000000      0.000000      0.000000      0.000000       0.000000\n",
       "75%        0.000000      0.000000      0.000000      0.000000       0.000000\n",
       "max        1.000000      1.000000     12.000000    111.000000  450000.000000"
      ]
     },
     "execution_count": 25,
     "metadata": {},
     "output_type": "execute_result"
    }
   ],
   "source": [
    "# Dataframe \"train_df\":\n",
    "train_df[feat_groupby_vars['var14']].describe()"
   ]
  },
  {
   "cell_type": "code",
   "execution_count": 26,
   "metadata": {},
   "outputs": [
    {
     "data": {
      "text/html": [
       "<div>\n",
       "<style scoped>\n",
       "    .dataframe tbody tr th:only-of-type {\n",
       "        vertical-align: middle;\n",
       "    }\n",
       "\n",
       "    .dataframe tbody tr th {\n",
       "        vertical-align: top;\n",
       "    }\n",
       "\n",
       "    .dataframe thead th {\n",
       "        text-align: right;\n",
       "    }\n",
       "</style>\n",
       "<table border=\"1\" class=\"dataframe\">\n",
       "  <thead>\n",
       "    <tr style=\"text-align: right;\">\n",
       "      <th></th>\n",
       "      <th>ind_var14</th>\n",
       "      <th>ind_var14_0</th>\n",
       "      <th>num_var14</th>\n",
       "      <th>num_var14_0</th>\n",
       "      <th>saldo_var14</th>\n",
       "    </tr>\n",
       "    <tr>\n",
       "      <th>Percentile</th>\n",
       "      <th></th>\n",
       "      <th></th>\n",
       "      <th></th>\n",
       "      <th></th>\n",
       "      <th></th>\n",
       "    </tr>\n",
       "  </thead>\n",
       "  <tbody>\n",
       "    <tr>\n",
       "      <th>95%</th>\n",
       "      <td>0.0</td>\n",
       "      <td>0.0</td>\n",
       "      <td>0.0</td>\n",
       "      <td>0.0</td>\n",
       "      <td>0.0</td>\n",
       "    </tr>\n",
       "    <tr>\n",
       "      <th>96%</th>\n",
       "      <td>0.0</td>\n",
       "      <td>0.0</td>\n",
       "      <td>0.0</td>\n",
       "      <td>0.0</td>\n",
       "      <td>0.0</td>\n",
       "    </tr>\n",
       "    <tr>\n",
       "      <th>97%</th>\n",
       "      <td>0.0</td>\n",
       "      <td>0.0</td>\n",
       "      <td>0.0</td>\n",
       "      <td>0.0</td>\n",
       "      <td>0.0</td>\n",
       "    </tr>\n",
       "    <tr>\n",
       "      <th>98%</th>\n",
       "      <td>0.0</td>\n",
       "      <td>1.0</td>\n",
       "      <td>0.0</td>\n",
       "      <td>3.0</td>\n",
       "      <td>0.0</td>\n",
       "    </tr>\n",
       "    <tr>\n",
       "      <th>99%</th>\n",
       "      <td>0.0</td>\n",
       "      <td>1.0</td>\n",
       "      <td>0.0</td>\n",
       "      <td>3.0</td>\n",
       "      <td>0.0</td>\n",
       "    </tr>\n",
       "    <tr>\n",
       "      <th>100%</th>\n",
       "      <td>1.0</td>\n",
       "      <td>1.0</td>\n",
       "      <td>12.0</td>\n",
       "      <td>111.0</td>\n",
       "      <td>450000.0</td>\n",
       "    </tr>\n",
       "  </tbody>\n",
       "</table>\n",
       "</div>"
      ],
      "text/plain": [
       "            ind_var14  ind_var14_0  num_var14  num_var14_0  saldo_var14\n",
       "Percentile                                                             \n",
       "95%               0.0          0.0        0.0          0.0          0.0\n",
       "96%               0.0          0.0        0.0          0.0          0.0\n",
       "97%               0.0          0.0        0.0          0.0          0.0\n",
       "98%               0.0          1.0        0.0          3.0          0.0\n",
       "99%               0.0          1.0        0.0          3.0          0.0\n",
       "100%              1.0          1.0       12.0        111.0     450000.0"
      ]
     },
     "execution_count": 26,
     "metadata": {},
     "output_type": "execute_result"
    }
   ],
   "source": [
    "# Obtendo os percentis a partir de \"95%\", com intervá-los de \"1%\":\n",
    "result = dslib.get_features_percentiles(data=train_df, features=feat_groupby_vars['var14'], percent_range=range(95, 101, 1))\n",
    "result"
   ]
  },
  {
   "cell_type": "code",
   "execution_count": 27,
   "metadata": {
    "scrolled": true
   },
   "outputs": [
    {
     "name": "stdout",
     "output_type": "stream",
     "text": [
      "           Total  Percent\n",
      "ind_var14                \n",
      "0          60495   0.9947\n",
      "1            321   0.0053\n",
      "\n",
      "             Total  Percent\n",
      "ind_var14_0                \n",
      "0            59388   0.9765\n",
      "1             1428   0.0235\n",
      "\n",
      "           Total  Percent\n",
      "num_var14                \n",
      "0          60495   0.9947\n",
      "3            318   0.0052\n",
      "6              2   0.0000\n",
      "12             1   0.0000\n",
      "\n",
      "             Total  Percent\n",
      "num_var14_0                \n",
      "0            59388   0.9765\n",
      "3             1422   0.0234\n",
      "6                4   0.0001\n",
      "12               1   0.0000\n",
      "111              1   0.0000\n",
      "\n",
      "             Total  Percent\n",
      "saldo_var14                \n",
      "0.00         60495   0.9947\n",
      "3000.00          8   0.0001\n",
      "1200.00          6   0.0001\n",
      "600.00           5   0.0001\n",
      "450.00           4   0.0001\n",
      "...            ...      ...\n",
      "824.46           1   0.0000\n",
      "900.06           1   0.0000\n",
      "900.27           1   0.0000\n",
      "960.06           1   0.0000\n",
      "450000.00        1   0.0000\n",
      "\n",
      "[279 rows x 2 columns]\n",
      "\n"
     ]
    }
   ],
   "source": [
    "# Vamos verificar a proporção dos valores para as variáveis relacionadas a \"var14\":\n",
    "for feat in feat_groupby_vars['var14']:\n",
    "    print(dslib.percent_count_feature(df=train_df, feature=feat, lines_drop=False))\n",
    "    print()"
   ]
  },
  {
   "cell_type": "markdown",
   "metadata": {},
   "source": [
    "**Análise:** observamos que as **`features`** **`ind_var14`** e **`ind_var14_0`**, relacionadas com **`var14`**, são variáveis do tipo `Categóricas Nominais Binárias`, com apenas duas classes **`0`** e **`1`**. Entretanto, as **`features`** **`num_var14`** e **`num_var14_0`**, relacionadas com **`var14`**, são variáveis do tipo `Quantitativa Discreta`. A feature **`saldo_var14`** é uma variável do tipo `Quantitativa Contínua`.\n",
    "\n",
    "Observamos, também, que nas features **`ind_var14`** e **`ind_var14_0`**, **`99%`** e **`98%`** das observações, respectivamente, estão concentradas na classe **`0`**, e nas features **`num_var14`** e **`num_var14_0`**, **`99%`** e **`98%`** das observações, respectivamente, pussuem valores iguais a **`0`**. A feature **`saldo_var14`** possui em **`99%`** das observações, valores iguais a **`0`**."
   ]
  },
  {
   "cell_type": "markdown",
   "metadata": {},
   "source": [
    "**Conclusão:** Portanto, entendemos que estas **features são `irrelevantes`** para serem analisadas na criação dos modelos preditivos."
   ]
  },
  {
   "cell_type": "code",
   "execution_count": 28,
   "metadata": {},
   "outputs": [],
   "source": [
    "# Armazenando informações sobre as features:\n",
    "features = ['ind_var14', 'ind_var14_0']\n",
    "santander_feat_info.save(key='Binary', features=features) # Categórica Nominal Binária.\n",
    "\n",
    "features = ['num_var14', 'num_var14_0']\n",
    "santander_feat_info.save(key='Discrete', features=features) # Quantitativa Discreta.\n",
    "\n",
    "features = ['saldo_var14']\n",
    "santander_feat_info.save(key='Continuous', features=features) # Quantitativa Contínua.\n",
    "\n",
    "santander_feat_info.save(key='Irrelevant', features=feat_groupby_vars['var14']) # Irrelevantes."
   ]
  },
  {
   "cell_type": "markdown",
   "metadata": {},
   "source": [
    "## var20"
   ]
  },
  {
   "cell_type": "code",
   "execution_count": 29,
   "metadata": {},
   "outputs": [
    {
     "name": "stdout",
     "output_type": "stream",
     "text": [
      "<class 'pandas.core.frame.DataFrame'>\n",
      "RangeIndex: 60816 entries, 0 to 60815\n",
      "Data columns (total 5 columns):\n",
      "ind_var20      60816 non-null int64\n",
      "ind_var20_0    60816 non-null int64\n",
      "num_var20      60816 non-null int64\n",
      "num_var20_0    60816 non-null int64\n",
      "saldo_var20    60816 non-null float64\n",
      "dtypes: float64(1), int64(4)\n",
      "memory usage: 2.3 MB\n"
     ]
    }
   ],
   "source": [
    "# Resumo das informações:\n",
    "train_df[feat_groupby_vars['var20']].info()"
   ]
  },
  {
   "cell_type": "markdown",
   "metadata": {},
   "source": [
    "Agora, vamos calcular algumas medidas **estatísticas descritivas** para análsise destas **`features`** em nosso dataset:"
   ]
  },
  {
   "cell_type": "code",
   "execution_count": 30,
   "metadata": {
    "scrolled": true
   },
   "outputs": [
    {
     "data": {
      "text/html": [
       "<div>\n",
       "<style scoped>\n",
       "    .dataframe tbody tr th:only-of-type {\n",
       "        vertical-align: middle;\n",
       "    }\n",
       "\n",
       "    .dataframe tbody tr th {\n",
       "        vertical-align: top;\n",
       "    }\n",
       "\n",
       "    .dataframe thead th {\n",
       "        text-align: right;\n",
       "    }\n",
       "</style>\n",
       "<table border=\"1\" class=\"dataframe\">\n",
       "  <thead>\n",
       "    <tr style=\"text-align: right;\">\n",
       "      <th></th>\n",
       "      <th>ind_var20</th>\n",
       "      <th>ind_var20_0</th>\n",
       "      <th>num_var20</th>\n",
       "      <th>num_var20_0</th>\n",
       "      <th>saldo_var20</th>\n",
       "    </tr>\n",
       "  </thead>\n",
       "  <tbody>\n",
       "    <tr>\n",
       "      <th>count</th>\n",
       "      <td>60816.000000</td>\n",
       "      <td>60816.000000</td>\n",
       "      <td>60816.000000</td>\n",
       "      <td>60816.000000</td>\n",
       "      <td>60816.000000</td>\n",
       "    </tr>\n",
       "    <tr>\n",
       "      <th>mean</th>\n",
       "      <td>0.002483</td>\n",
       "      <td>0.003453</td>\n",
       "      <td>0.007449</td>\n",
       "      <td>0.010359</td>\n",
       "      <td>29.460104</td>\n",
       "    </tr>\n",
       "    <tr>\n",
       "      <th>std</th>\n",
       "      <td>0.049767</td>\n",
       "      <td>0.058662</td>\n",
       "      <td>0.149302</td>\n",
       "      <td>0.175985</td>\n",
       "      <td>2748.430264</td>\n",
       "    </tr>\n",
       "    <tr>\n",
       "      <th>min</th>\n",
       "      <td>0.000000</td>\n",
       "      <td>0.000000</td>\n",
       "      <td>0.000000</td>\n",
       "      <td>0.000000</td>\n",
       "      <td>0.000000</td>\n",
       "    </tr>\n",
       "    <tr>\n",
       "      <th>25%</th>\n",
       "      <td>0.000000</td>\n",
       "      <td>0.000000</td>\n",
       "      <td>0.000000</td>\n",
       "      <td>0.000000</td>\n",
       "      <td>0.000000</td>\n",
       "    </tr>\n",
       "    <tr>\n",
       "      <th>50%</th>\n",
       "      <td>0.000000</td>\n",
       "      <td>0.000000</td>\n",
       "      <td>0.000000</td>\n",
       "      <td>0.000000</td>\n",
       "      <td>0.000000</td>\n",
       "    </tr>\n",
       "    <tr>\n",
       "      <th>75%</th>\n",
       "      <td>0.000000</td>\n",
       "      <td>0.000000</td>\n",
       "      <td>0.000000</td>\n",
       "      <td>0.000000</td>\n",
       "      <td>0.000000</td>\n",
       "    </tr>\n",
       "    <tr>\n",
       "      <th>max</th>\n",
       "      <td>1.000000</td>\n",
       "      <td>1.000000</td>\n",
       "      <td>3.000000</td>\n",
       "      <td>3.000000</td>\n",
       "      <td>455858.160000</td>\n",
       "    </tr>\n",
       "  </tbody>\n",
       "</table>\n",
       "</div>"
      ],
      "text/plain": [
       "          ind_var20   ind_var20_0     num_var20   num_var20_0    saldo_var20\n",
       "count  60816.000000  60816.000000  60816.000000  60816.000000   60816.000000\n",
       "mean       0.002483      0.003453      0.007449      0.010359      29.460104\n",
       "std        0.049767      0.058662      0.149302      0.175985    2748.430264\n",
       "min        0.000000      0.000000      0.000000      0.000000       0.000000\n",
       "25%        0.000000      0.000000      0.000000      0.000000       0.000000\n",
       "50%        0.000000      0.000000      0.000000      0.000000       0.000000\n",
       "75%        0.000000      0.000000      0.000000      0.000000       0.000000\n",
       "max        1.000000      1.000000      3.000000      3.000000  455858.160000"
      ]
     },
     "execution_count": 30,
     "metadata": {},
     "output_type": "execute_result"
    }
   ],
   "source": [
    "# Dataframe \"train_df\":\n",
    "train_df[feat_groupby_vars['var20']].describe()"
   ]
  },
  {
   "cell_type": "code",
   "execution_count": 31,
   "metadata": {},
   "outputs": [
    {
     "data": {
      "text/html": [
       "<div>\n",
       "<style scoped>\n",
       "    .dataframe tbody tr th:only-of-type {\n",
       "        vertical-align: middle;\n",
       "    }\n",
       "\n",
       "    .dataframe tbody tr th {\n",
       "        vertical-align: top;\n",
       "    }\n",
       "\n",
       "    .dataframe thead th {\n",
       "        text-align: right;\n",
       "    }\n",
       "</style>\n",
       "<table border=\"1\" class=\"dataframe\">\n",
       "  <thead>\n",
       "    <tr style=\"text-align: right;\">\n",
       "      <th></th>\n",
       "      <th>ind_var20</th>\n",
       "      <th>ind_var20_0</th>\n",
       "      <th>num_var20</th>\n",
       "      <th>num_var20_0</th>\n",
       "      <th>saldo_var20</th>\n",
       "    </tr>\n",
       "    <tr>\n",
       "      <th>Percentile</th>\n",
       "      <th></th>\n",
       "      <th></th>\n",
       "      <th></th>\n",
       "      <th></th>\n",
       "      <th></th>\n",
       "    </tr>\n",
       "  </thead>\n",
       "  <tbody>\n",
       "    <tr>\n",
       "      <th>95%</th>\n",
       "      <td>0.0</td>\n",
       "      <td>0.0</td>\n",
       "      <td>0.0</td>\n",
       "      <td>0.0</td>\n",
       "      <td>0.00</td>\n",
       "    </tr>\n",
       "    <tr>\n",
       "      <th>96%</th>\n",
       "      <td>0.0</td>\n",
       "      <td>0.0</td>\n",
       "      <td>0.0</td>\n",
       "      <td>0.0</td>\n",
       "      <td>0.00</td>\n",
       "    </tr>\n",
       "    <tr>\n",
       "      <th>97%</th>\n",
       "      <td>0.0</td>\n",
       "      <td>0.0</td>\n",
       "      <td>0.0</td>\n",
       "      <td>0.0</td>\n",
       "      <td>0.00</td>\n",
       "    </tr>\n",
       "    <tr>\n",
       "      <th>98%</th>\n",
       "      <td>0.0</td>\n",
       "      <td>0.0</td>\n",
       "      <td>0.0</td>\n",
       "      <td>0.0</td>\n",
       "      <td>0.00</td>\n",
       "    </tr>\n",
       "    <tr>\n",
       "      <th>99%</th>\n",
       "      <td>0.0</td>\n",
       "      <td>0.0</td>\n",
       "      <td>0.0</td>\n",
       "      <td>0.0</td>\n",
       "      <td>0.00</td>\n",
       "    </tr>\n",
       "    <tr>\n",
       "      <th>100%</th>\n",
       "      <td>1.0</td>\n",
       "      <td>1.0</td>\n",
       "      <td>3.0</td>\n",
       "      <td>3.0</td>\n",
       "      <td>455858.16</td>\n",
       "    </tr>\n",
       "  </tbody>\n",
       "</table>\n",
       "</div>"
      ],
      "text/plain": [
       "            ind_var20  ind_var20_0  num_var20  num_var20_0  saldo_var20\n",
       "Percentile                                                             \n",
       "95%               0.0          0.0        0.0          0.0         0.00\n",
       "96%               0.0          0.0        0.0          0.0         0.00\n",
       "97%               0.0          0.0        0.0          0.0         0.00\n",
       "98%               0.0          0.0        0.0          0.0         0.00\n",
       "99%               0.0          0.0        0.0          0.0         0.00\n",
       "100%              1.0          1.0        3.0          3.0    455858.16"
      ]
     },
     "execution_count": 31,
     "metadata": {},
     "output_type": "execute_result"
    }
   ],
   "source": [
    "# Obtendo os percentis a partir de \"95%\", com intervá-los de \"1%\":\n",
    "result = dslib.get_features_percentiles(data=train_df, features=feat_groupby_vars['var20'], percent_range=range(95, 101, 1))\n",
    "result"
   ]
  },
  {
   "cell_type": "code",
   "execution_count": 32,
   "metadata": {
    "scrolled": true
   },
   "outputs": [
    {
     "name": "stdout",
     "output_type": "stream",
     "text": [
      "           Total  Percent\n",
      "ind_var20                \n",
      "0          60665   0.9975\n",
      "1            151   0.0025\n",
      "\n",
      "             Total  Percent\n",
      "ind_var20_0                \n",
      "0            60606   0.9965\n",
      "1              210   0.0035\n",
      "\n",
      "           Total  Percent\n",
      "num_var20                \n",
      "0          60665   0.9975\n",
      "3            151   0.0025\n",
      "\n",
      "             Total  Percent\n",
      "num_var20_0                \n",
      "0            60606   0.9965\n",
      "3              210   0.0035\n",
      "\n",
      "             Total  Percent\n",
      "saldo_var20                \n",
      "0.00         60665   0.9975\n",
      "150.00           3   0.0000\n",
      "300.12           3   0.0000\n",
      "900.36           3   0.0000\n",
      "300.00           3   0.0000\n",
      "...            ...      ...\n",
      "900.30           1   0.0000\n",
      "900.21           1   0.0000\n",
      "600.33           1   0.0000\n",
      "600.30           1   0.0000\n",
      "455858.16        1   0.0000\n",
      "\n",
      "[136 rows x 2 columns]\n",
      "\n"
     ]
    }
   ],
   "source": [
    "# Vamos verificar a proporção dos valores para as variáveis relacionadas a \"var20\":\n",
    "for feat in feat_groupby_vars['var20']:\n",
    "    print(dslib.percent_count_feature(df=train_df, feature=feat, lines_drop=False))\n",
    "    print()"
   ]
  },
  {
   "cell_type": "markdown",
   "metadata": {},
   "source": [
    "**Análise:** observamos que as **`features`** **`ind_var20`** e **`ind_var20_0`**, relacionadas com **`var20`**, são variáveis do tipo `Categóricas Nominais Binárias`, com apenas duas classes **`0`** e **`1`**. Entretanto, as **`features`** **`num_var20`** e **`num_var20_0`**, relacionadas com **`var20`**, são variáveis do tipo `Quantitativa Discreta`. A feature **`saldo_var20`** é uma variável do tipo `Quantitativa Contínua`.\n",
    "\n",
    "Observamos, também, que nas features **`ind_var20`** e **`ind_var20_0`**, **`99%`** das observações estão concentradas na classe **`0`**, e nas features **`num_var20`** e **`num_var20_0`**, **`99%`** das observações possuem valores iguais a **`0`**. A feature **`saldo_var20`** possui em **`99%`** das observações, valores iguais a **`0`**."
   ]
  },
  {
   "cell_type": "markdown",
   "metadata": {},
   "source": [
    "**Conclusão:** Portanto, entendemos que estas **features são `irrelevantes`** para serem analisadas na criação dos modelos preditivos."
   ]
  },
  {
   "cell_type": "code",
   "execution_count": 33,
   "metadata": {},
   "outputs": [],
   "source": [
    "# Armazenando informações sobre as features:\n",
    "features = ['ind_var20', 'ind_var20_0']\n",
    "santander_feat_info.save(key='Binary', features=features) # Categórica Nominal Binária.\n",
    "\n",
    "features = ['num_var20', 'num_var20_0']\n",
    "santander_feat_info.save(key='Discrete', features=features) # Quantitativa Discreta.\n",
    "\n",
    "features = ['saldo_var20']\n",
    "santander_feat_info.save(key='Continuous', features=features) # Quantitativa Contínua.\n",
    "\n",
    "santander_feat_info.save(key='Irrelevant', features=feat_groupby_vars['var20']) # Irrelevantes."
   ]
  },
  {
   "cell_type": "markdown",
   "metadata": {},
   "source": [
    "## var22"
   ]
  },
  {
   "cell_type": "code",
   "execution_count": 34,
   "metadata": {},
   "outputs": [
    {
     "name": "stdout",
     "output_type": "stream",
     "text": [
      "<class 'pandas.core.frame.DataFrame'>\n",
      "RangeIndex: 60816 entries, 0 to 60815\n",
      "Data columns (total 5 columns):\n",
      "num_med_var22_ult3    60816 non-null int64\n",
      "num_var22_hace2       60816 non-null int64\n",
      "num_var22_hace3       60816 non-null int64\n",
      "num_var22_ult1        60816 non-null int64\n",
      "num_var22_ult3        60816 non-null int64\n",
      "dtypes: int64(5)\n",
      "memory usage: 2.3 MB\n"
     ]
    }
   ],
   "source": [
    "# Resumo das informações:\n",
    "train_df[feat_groupby_vars['var22']].info()"
   ]
  },
  {
   "cell_type": "markdown",
   "metadata": {},
   "source": [
    "Agora, vamos calcular algumas medidas **estatísticas descritivas** para análsise destas **`features`** em nosso dataset:"
   ]
  },
  {
   "cell_type": "code",
   "execution_count": 35,
   "metadata": {
    "scrolled": true
   },
   "outputs": [
    {
     "data": {
      "text/html": [
       "<div>\n",
       "<style scoped>\n",
       "    .dataframe tbody tr th:only-of-type {\n",
       "        vertical-align: middle;\n",
       "    }\n",
       "\n",
       "    .dataframe tbody tr th {\n",
       "        vertical-align: top;\n",
       "    }\n",
       "\n",
       "    .dataframe thead th {\n",
       "        text-align: right;\n",
       "    }\n",
       "</style>\n",
       "<table border=\"1\" class=\"dataframe\">\n",
       "  <thead>\n",
       "    <tr style=\"text-align: right;\">\n",
       "      <th></th>\n",
       "      <th>num_med_var22_ult3</th>\n",
       "      <th>num_var22_hace2</th>\n",
       "      <th>num_var22_hace3</th>\n",
       "      <th>num_var22_ult1</th>\n",
       "      <th>num_var22_ult3</th>\n",
       "    </tr>\n",
       "  </thead>\n",
       "  <tbody>\n",
       "    <tr>\n",
       "      <th>count</th>\n",
       "      <td>60816.000000</td>\n",
       "      <td>60816.000000</td>\n",
       "      <td>60816.000000</td>\n",
       "      <td>60816.000000</td>\n",
       "      <td>60816.000000</td>\n",
       "    </tr>\n",
       "    <tr>\n",
       "      <th>mean</th>\n",
       "      <td>0.641131</td>\n",
       "      <td>1.305495</td>\n",
       "      <td>1.187253</td>\n",
       "      <td>0.566397</td>\n",
       "      <td>3.059146</td>\n",
       "    </tr>\n",
       "    <tr>\n",
       "      <th>std</th>\n",
       "      <td>1.848512</td>\n",
       "      <td>3.477569</td>\n",
       "      <td>3.256957</td>\n",
       "      <td>2.131784</td>\n",
       "      <td>6.245634</td>\n",
       "    </tr>\n",
       "    <tr>\n",
       "      <th>min</th>\n",
       "      <td>0.000000</td>\n",
       "      <td>0.000000</td>\n",
       "      <td>0.000000</td>\n",
       "      <td>0.000000</td>\n",
       "      <td>0.000000</td>\n",
       "    </tr>\n",
       "    <tr>\n",
       "      <th>25%</th>\n",
       "      <td>0.000000</td>\n",
       "      <td>0.000000</td>\n",
       "      <td>0.000000</td>\n",
       "      <td>0.000000</td>\n",
       "      <td>0.000000</td>\n",
       "    </tr>\n",
       "    <tr>\n",
       "      <th>50%</th>\n",
       "      <td>0.000000</td>\n",
       "      <td>0.000000</td>\n",
       "      <td>0.000000</td>\n",
       "      <td>0.000000</td>\n",
       "      <td>0.000000</td>\n",
       "    </tr>\n",
       "    <tr>\n",
       "      <th>75%</th>\n",
       "      <td>0.000000</td>\n",
       "      <td>0.000000</td>\n",
       "      <td>0.000000</td>\n",
       "      <td>0.000000</td>\n",
       "      <td>3.000000</td>\n",
       "    </tr>\n",
       "    <tr>\n",
       "      <th>max</th>\n",
       "      <td>78.000000</td>\n",
       "      <td>123.000000</td>\n",
       "      <td>108.000000</td>\n",
       "      <td>96.000000</td>\n",
       "      <td>234.000000</td>\n",
       "    </tr>\n",
       "  </tbody>\n",
       "</table>\n",
       "</div>"
      ],
      "text/plain": [
       "       num_med_var22_ult3  num_var22_hace2  num_var22_hace3  num_var22_ult1  \\\n",
       "count        60816.000000     60816.000000     60816.000000    60816.000000   \n",
       "mean             0.641131         1.305495         1.187253        0.566397   \n",
       "std              1.848512         3.477569         3.256957        2.131784   \n",
       "min              0.000000         0.000000         0.000000        0.000000   \n",
       "25%              0.000000         0.000000         0.000000        0.000000   \n",
       "50%              0.000000         0.000000         0.000000        0.000000   \n",
       "75%              0.000000         0.000000         0.000000        0.000000   \n",
       "max             78.000000       123.000000       108.000000       96.000000   \n",
       "\n",
       "       num_var22_ult3  \n",
       "count    60816.000000  \n",
       "mean         3.059146  \n",
       "std          6.245634  \n",
       "min          0.000000  \n",
       "25%          0.000000  \n",
       "50%          0.000000  \n",
       "75%          3.000000  \n",
       "max        234.000000  "
      ]
     },
     "execution_count": 35,
     "metadata": {},
     "output_type": "execute_result"
    }
   ],
   "source": [
    "# Dataframe \"train_df\":\n",
    "train_df[feat_groupby_vars['var22']].describe()"
   ]
  },
  {
   "cell_type": "code",
   "execution_count": 36,
   "metadata": {},
   "outputs": [
    {
     "data": {
      "text/html": [
       "<div>\n",
       "<style scoped>\n",
       "    .dataframe tbody tr th:only-of-type {\n",
       "        vertical-align: middle;\n",
       "    }\n",
       "\n",
       "    .dataframe tbody tr th {\n",
       "        vertical-align: top;\n",
       "    }\n",
       "\n",
       "    .dataframe thead th {\n",
       "        text-align: right;\n",
       "    }\n",
       "</style>\n",
       "<table border=\"1\" class=\"dataframe\">\n",
       "  <thead>\n",
       "    <tr style=\"text-align: right;\">\n",
       "      <th></th>\n",
       "      <th>num_med_var22_ult3</th>\n",
       "      <th>num_var22_hace2</th>\n",
       "      <th>num_var22_hace3</th>\n",
       "      <th>num_var22_ult1</th>\n",
       "      <th>num_var22_ult3</th>\n",
       "    </tr>\n",
       "    <tr>\n",
       "      <th>Percentile</th>\n",
       "      <th></th>\n",
       "      <th></th>\n",
       "      <th></th>\n",
       "      <th></th>\n",
       "      <th></th>\n",
       "    </tr>\n",
       "  </thead>\n",
       "  <tbody>\n",
       "    <tr>\n",
       "      <th>80%</th>\n",
       "      <td>0.0</td>\n",
       "      <td>3.0</td>\n",
       "      <td>0.0</td>\n",
       "      <td>0.0</td>\n",
       "      <td>6.0</td>\n",
       "    </tr>\n",
       "    <tr>\n",
       "      <th>81%</th>\n",
       "      <td>0.0</td>\n",
       "      <td>3.0</td>\n",
       "      <td>0.0</td>\n",
       "      <td>0.0</td>\n",
       "      <td>6.0</td>\n",
       "    </tr>\n",
       "    <tr>\n",
       "      <th>82%</th>\n",
       "      <td>0.0</td>\n",
       "      <td>3.0</td>\n",
       "      <td>3.0</td>\n",
       "      <td>0.0</td>\n",
       "      <td>6.0</td>\n",
       "    </tr>\n",
       "    <tr>\n",
       "      <th>83%</th>\n",
       "      <td>0.0</td>\n",
       "      <td>3.0</td>\n",
       "      <td>3.0</td>\n",
       "      <td>0.0</td>\n",
       "      <td>6.0</td>\n",
       "    </tr>\n",
       "    <tr>\n",
       "      <th>84%</th>\n",
       "      <td>0.0</td>\n",
       "      <td>3.0</td>\n",
       "      <td>3.0</td>\n",
       "      <td>0.0</td>\n",
       "      <td>6.0</td>\n",
       "    </tr>\n",
       "    <tr>\n",
       "      <th>85%</th>\n",
       "      <td>0.0</td>\n",
       "      <td>3.0</td>\n",
       "      <td>3.0</td>\n",
       "      <td>0.0</td>\n",
       "      <td>6.0</td>\n",
       "    </tr>\n",
       "    <tr>\n",
       "      <th>86%</th>\n",
       "      <td>3.0</td>\n",
       "      <td>3.0</td>\n",
       "      <td>3.0</td>\n",
       "      <td>0.0</td>\n",
       "      <td>9.0</td>\n",
       "    </tr>\n",
       "    <tr>\n",
       "      <th>87%</th>\n",
       "      <td>3.0</td>\n",
       "      <td>3.0</td>\n",
       "      <td>3.0</td>\n",
       "      <td>0.0</td>\n",
       "      <td>9.0</td>\n",
       "    </tr>\n",
       "    <tr>\n",
       "      <th>88%</th>\n",
       "      <td>3.0</td>\n",
       "      <td>3.0</td>\n",
       "      <td>3.0</td>\n",
       "      <td>0.0</td>\n",
       "      <td>9.0</td>\n",
       "    </tr>\n",
       "    <tr>\n",
       "      <th>89%</th>\n",
       "      <td>3.0</td>\n",
       "      <td>3.0</td>\n",
       "      <td>3.0</td>\n",
       "      <td>0.0</td>\n",
       "      <td>9.0</td>\n",
       "    </tr>\n",
       "    <tr>\n",
       "      <th>90%</th>\n",
       "      <td>3.0</td>\n",
       "      <td>6.0</td>\n",
       "      <td>3.0</td>\n",
       "      <td>3.0</td>\n",
       "      <td>9.0</td>\n",
       "    </tr>\n",
       "    <tr>\n",
       "      <th>91%</th>\n",
       "      <td>3.0</td>\n",
       "      <td>6.0</td>\n",
       "      <td>6.0</td>\n",
       "      <td>3.0</td>\n",
       "      <td>12.0</td>\n",
       "    </tr>\n",
       "    <tr>\n",
       "      <th>92%</th>\n",
       "      <td>3.0</td>\n",
       "      <td>6.0</td>\n",
       "      <td>6.0</td>\n",
       "      <td>3.0</td>\n",
       "      <td>12.0</td>\n",
       "    </tr>\n",
       "    <tr>\n",
       "      <th>93%</th>\n",
       "      <td>3.0</td>\n",
       "      <td>6.0</td>\n",
       "      <td>6.0</td>\n",
       "      <td>3.0</td>\n",
       "      <td>12.0</td>\n",
       "    </tr>\n",
       "    <tr>\n",
       "      <th>94%</th>\n",
       "      <td>3.0</td>\n",
       "      <td>6.0</td>\n",
       "      <td>6.0</td>\n",
       "      <td>3.0</td>\n",
       "      <td>15.0</td>\n",
       "    </tr>\n",
       "    <tr>\n",
       "      <th>95%</th>\n",
       "      <td>3.0</td>\n",
       "      <td>9.0</td>\n",
       "      <td>9.0</td>\n",
       "      <td>3.0</td>\n",
       "      <td>15.0</td>\n",
       "    </tr>\n",
       "    <tr>\n",
       "      <th>96%</th>\n",
       "      <td>6.0</td>\n",
       "      <td>9.0</td>\n",
       "      <td>9.0</td>\n",
       "      <td>6.0</td>\n",
       "      <td>18.0</td>\n",
       "    </tr>\n",
       "    <tr>\n",
       "      <th>97%</th>\n",
       "      <td>6.0</td>\n",
       "      <td>9.0</td>\n",
       "      <td>9.0</td>\n",
       "      <td>6.0</td>\n",
       "      <td>18.0</td>\n",
       "    </tr>\n",
       "    <tr>\n",
       "      <th>98%</th>\n",
       "      <td>6.0</td>\n",
       "      <td>12.0</td>\n",
       "      <td>12.0</td>\n",
       "      <td>6.0</td>\n",
       "      <td>21.0</td>\n",
       "    </tr>\n",
       "    <tr>\n",
       "      <th>99%</th>\n",
       "      <td>9.0</td>\n",
       "      <td>15.0</td>\n",
       "      <td>15.0</td>\n",
       "      <td>9.0</td>\n",
       "      <td>27.0</td>\n",
       "    </tr>\n",
       "    <tr>\n",
       "      <th>100%</th>\n",
       "      <td>78.0</td>\n",
       "      <td>123.0</td>\n",
       "      <td>108.0</td>\n",
       "      <td>96.0</td>\n",
       "      <td>234.0</td>\n",
       "    </tr>\n",
       "  </tbody>\n",
       "</table>\n",
       "</div>"
      ],
      "text/plain": [
       "            num_med_var22_ult3  num_var22_hace2  num_var22_hace3  \\\n",
       "Percentile                                                         \n",
       "80%                        0.0              3.0              0.0   \n",
       "81%                        0.0              3.0              0.0   \n",
       "82%                        0.0              3.0              3.0   \n",
       "83%                        0.0              3.0              3.0   \n",
       "84%                        0.0              3.0              3.0   \n",
       "85%                        0.0              3.0              3.0   \n",
       "86%                        3.0              3.0              3.0   \n",
       "87%                        3.0              3.0              3.0   \n",
       "88%                        3.0              3.0              3.0   \n",
       "89%                        3.0              3.0              3.0   \n",
       "90%                        3.0              6.0              3.0   \n",
       "91%                        3.0              6.0              6.0   \n",
       "92%                        3.0              6.0              6.0   \n",
       "93%                        3.0              6.0              6.0   \n",
       "94%                        3.0              6.0              6.0   \n",
       "95%                        3.0              9.0              9.0   \n",
       "96%                        6.0              9.0              9.0   \n",
       "97%                        6.0              9.0              9.0   \n",
       "98%                        6.0             12.0             12.0   \n",
       "99%                        9.0             15.0             15.0   \n",
       "100%                      78.0            123.0            108.0   \n",
       "\n",
       "            num_var22_ult1  num_var22_ult3  \n",
       "Percentile                                  \n",
       "80%                    0.0             6.0  \n",
       "81%                    0.0             6.0  \n",
       "82%                    0.0             6.0  \n",
       "83%                    0.0             6.0  \n",
       "84%                    0.0             6.0  \n",
       "85%                    0.0             6.0  \n",
       "86%                    0.0             9.0  \n",
       "87%                    0.0             9.0  \n",
       "88%                    0.0             9.0  \n",
       "89%                    0.0             9.0  \n",
       "90%                    3.0             9.0  \n",
       "91%                    3.0            12.0  \n",
       "92%                    3.0            12.0  \n",
       "93%                    3.0            12.0  \n",
       "94%                    3.0            15.0  \n",
       "95%                    3.0            15.0  \n",
       "96%                    6.0            18.0  \n",
       "97%                    6.0            18.0  \n",
       "98%                    6.0            21.0  \n",
       "99%                    9.0            27.0  \n",
       "100%                  96.0           234.0  "
      ]
     },
     "execution_count": 36,
     "metadata": {},
     "output_type": "execute_result"
    }
   ],
   "source": [
    "# Obtendo os percentis a partir de \"80%\", com intervá-los de \"1%\":\n",
    "result = dslib.get_features_percentiles(data=train_df, features=feat_groupby_vars['var22'], percent_range=range(80, 101, 1))\n",
    "result"
   ]
  },
  {
   "cell_type": "code",
   "execution_count": 37,
   "metadata": {
    "scrolled": true
   },
   "outputs": [
    {
     "name": "stdout",
     "output_type": "stream",
     "text": [
      "                    Total  Percent\n",
      "num_med_var22_ult3                \n",
      "0                   51711   0.8503\n",
      "3                    6495   0.1068\n",
      "6                    1809   0.0297\n",
      "9                     545   0.0090\n",
      "12                    161   0.0026\n",
      "15                     52   0.0009\n",
      "18                     20   0.0003\n",
      "21                      8   0.0001\n",
      "24                      4   0.0001\n",
      "27                      4   0.0001\n",
      "30                      2   0.0000\n",
      "33                      2   0.0000\n",
      "48                      1   0.0000\n",
      "51                      1   0.0000\n",
      "78                      1   0.0000\n",
      "\n",
      "                 Total  Percent\n",
      "num_var22_hace2                \n",
      "0                48419   0.7962\n",
      "3                 5930   0.0975\n",
      "6                 3116   0.0512\n",
      "9                 1540   0.0253\n",
      "12                 822   0.0135\n",
      "15                 441   0.0073\n",
      "18                 220   0.0036\n",
      "21                 139   0.0023\n",
      "24                  82   0.0013\n",
      "27                  41   0.0007\n",
      "30                  21   0.0003\n",
      "33                  11   0.0002\n",
      "36                   9   0.0001\n",
      "42                   7   0.0001\n",
      "39                   6   0.0001\n",
      "45                   3   0.0000\n",
      "48                   3   0.0000\n",
      "54                   2   0.0000\n",
      "99                   2   0.0000\n",
      "63                   1   0.0000\n",
      "123                  1   0.0000\n",
      "\n",
      "                 Total  Percent\n",
      "num_var22_hace3                \n",
      "0                49449   0.8131\n",
      "3                 5565   0.0915\n",
      "6                 2706   0.0445\n",
      "9                 1351   0.0222\n",
      "12                 818   0.0135\n",
      "15                 442   0.0073\n",
      "18                 217   0.0036\n",
      "21                 128   0.0021\n",
      "24                  56   0.0009\n",
      "27                  34   0.0006\n",
      "30                  22   0.0004\n",
      "33                  10   0.0002\n",
      "36                   5   0.0001\n",
      "39                   4   0.0001\n",
      "48                   4   0.0001\n",
      "42                   2   0.0000\n",
      "51                   2   0.0000\n",
      "108                  1   0.0000\n",
      "\n",
      "                Total  Percent\n",
      "num_var22_ult1                \n",
      "0               54319   0.8932\n",
      "3                3895   0.0640\n",
      "6                1452   0.0239\n",
      "9                 613   0.0101\n",
      "12                250   0.0041\n",
      "15                137   0.0023\n",
      "18                 63   0.0010\n",
      "21                 33   0.0005\n",
      "24                 20   0.0003\n",
      "27                 12   0.0002\n",
      "33                  7   0.0001\n",
      "30                  6   0.0001\n",
      "36                  2   0.0000\n",
      "39                  2   0.0000\n",
      "48                  2   0.0000\n",
      "42                  1   0.0000\n",
      "51                  1   0.0000\n",
      "96                  1   0.0000\n",
      "\n",
      "                Total  Percent\n",
      "num_var22_ult3                \n",
      "0               39913   0.6563\n",
      "3                7325   0.1204\n",
      "6                4473   0.0735\n",
      "9                3062   0.0503\n",
      "12               2074   0.0341\n",
      "15               1359   0.0223\n",
      "18                868   0.0143\n",
      "21                557   0.0092\n",
      "24                384   0.0063\n",
      "27                234   0.0038\n",
      "30                195   0.0032\n",
      "33                116   0.0019\n",
      "36                 68   0.0011\n",
      "42                 48   0.0008\n",
      "39                 45   0.0007\n",
      "45                 21   0.0003\n",
      "48                 19   0.0003\n",
      "51                 12   0.0002\n",
      "54                 12   0.0002\n",
      "66                  5   0.0001\n",
      "57                  4   0.0001\n",
      "60                  4   0.0001\n",
      "63                  3   0.0000\n",
      "72                  3   0.0000\n",
      "81                  3   0.0000\n",
      "93                  2   0.0000\n",
      "75                  1   0.0000\n",
      "87                  1   0.0000\n",
      "99                  1   0.0000\n",
      "102                 1   0.0000\n",
      "144                 1   0.0000\n",
      "159                 1   0.0000\n",
      "234                 1   0.0000\n",
      "\n"
     ]
    }
   ],
   "source": [
    "# Vamos verificar a proporção dos valores para as variáveis relacionadas a \"var22\":\n",
    "for feat in feat_groupby_vars['var22']:\n",
    "    print(dslib.percent_count_feature(df=train_df, feature=feat, lines_drop=False))\n",
    "    print()"
   ]
  },
  {
   "cell_type": "markdown",
   "metadata": {},
   "source": [
    "**Análise:** observamos que todas as **`features`** relacionadas com **`var22`**, são variáveis do tipo `Quantitativa Discreta`. Agora, vamos verificar se existe alguma **correlação** entre as **`features`** de **`var22`**:"
   ]
  },
  {
   "cell_type": "code",
   "execution_count": 38,
   "metadata": {},
   "outputs": [
    {
     "name": "stdout",
     "output_type": "stream",
     "text": [
      "Saving figure: plot_corr_features_var22\n"
     ]
    },
    {
     "data": {
      "image/png": "[encoded data removed]",
      "text/plain": [
       "<Figure size 576x432 with 2 Axes>"
      ]
     },
     "metadata": {
      "needs_background": "light"
     },
     "output_type": "display_data"
    }
   ],
   "source": [
    "# Analisando a correlação entre as features numéricas de \"var22\":\n",
    "ptlib.plot_corr_features(df=train_df, features=feat_groupby_vars['var22'], digits=3, title=\"var22 (Features)\",\n",
    "                         title_fontsize=18, xtick_labelsize=13, ytick_labelsize=13, width=8, height=6,\n",
    "                         figure_id='plot_corr_features_var22', figure_path=PROJECT_IMG_PATH,\n",
    "                         figure_file_format=\"png\", figure_file_extension=\".png\", tight_layout=True, dpi=300\n",
    "                        )"
   ]
  },
  {
   "cell_type": "markdown",
   "metadata": {},
   "source": [
    "**Análise:** observando a **correlação entre as features** (**plot acima**) concluímos que:\n",
    "1. **`num_med_var22_ult3 x num_var22_hace2`** possuem uma alta correlação positiva (`correlação = 0.75`);\n",
    "2. **`num_med_var22_ult3 x num_var22_hace3`** possuem uma média correlação positiva (`correlação = 0.66`);\n",
    "3. **`num_med_var22_ult3 x num_var22_ult1`** possuem uma média correlação positiva (`correlação = 0.56`);\n",
    "4. **`num_med_var22_ult3 x num_var22_ult3`** são **colineares**, pois representam a mesma informação (`correlação = 0.95`);\n",
    "5. **`num_var22_hace2 x num_var22_hace3`** não possuem correlação (`correlação = 0.24`);\n",
    "6. **`num_var22_hace2 x num_var22_ult1`** não possuem correlação (`correlação = 0.31`);\n",
    "7. **`num_var22_hace2 x num_var22_ult3`** possuem uma alta correlação positiva (`correlação = 0.79`);\n",
    "8. **`num_var22_hace3 x num_var22_ult1`** não possuem correlação (`correlação = 0.13`);\n",
    "9. **`num_var22_hace3 x num_var22_ult3`** possuem uma alta correlação positiva (`correlação = 0.70`);\n",
    "10. **`num_var22_ult1 x num_var22_ult3`** possuem uma média correlação positiva (`correlação = 0.58`).\n",
    "\n",
    "Vamos analisar as suas distribuições de frequências (*Histograma*) e também verificar se existem **outliers** com os gráficos de *BoxPlot*."
   ]
  },
  {
   "cell_type": "code",
   "execution_count": 39,
   "metadata": {},
   "outputs": [
    {
     "name": "stdout",
     "output_type": "stream",
     "text": [
      "Saving figure: plot_histograms_var22\n"
     ]
    },
    {
     "data": {
      "image/png": "[encoded data removed]",
      "text/plain": [
       "<Figure size 1080x720 with 5 Axes>"
      ]
     },
     "metadata": {},
     "output_type": "display_data"
    }
   ],
   "source": [
    "# Desenhando os histogramas para as features de \"var22\":\n",
    "ptlib.plot_histograms_features(df=train_df, features=feat_groupby_vars['var22'], plot_style='ticks', kde=False, colors='r',\n",
    "                               titles=feat_groupby_vars['var22'], titles_fontsize=16, xlabels=None, xlabels_fontsize=13,\n",
    "                               ylabels=None, ylabels_fontsize=13, xtick_labelsize=13, ytick_labelsize=13,\n",
    "                               cols_nr=2, rows_nr=3, width=15, height=10, wspace=None, hspace=None,\n",
    "                               figure_id=\"plot_histograms_var22\", figure_path=PROJECT_IMG_PATH,\n",
    "                               figure_file_format=\"png\", figure_file_extension=\".png\",\n",
    "                               tight_layout=True, dpi=300\n",
    "                              )"
   ]
  },
  {
   "cell_type": "code",
   "execution_count": 40,
   "metadata": {},
   "outputs": [
    {
     "name": "stdout",
     "output_type": "stream",
     "text": [
      "Saving figure: plot_boxplots_var22\n"
     ]
    },
    {
     "data": {
      "image/png": "[encoded data removed]",
      "text/plain": [
       "<Figure size 1080x720 with 5 Axes>"
      ]
     },
     "metadata": {},
     "output_type": "display_data"
    }
   ],
   "source": [
    "# Desenhando os boxplots para as features de \"var22\":\n",
    "ptlib.plot_boxplots_features(df=train_df, features=feat_groupby_vars['var22'], plot_style='ticks', colors='r',\n",
    "                             orient='h', saturation=0.75,\n",
    "                             titles=feat_groupby_vars['var22'], titles_fontsize=16, xlabels=None, xlabels_fontsize=13,\n",
    "                             ylabels=None, ylabels_fontsize=13, xtick_labelsize=13, ytick_labelsize=13,\n",
    "                             cols_nr=2, rows_nr=3, width=15, height=10, wspace=None, hspace=None,\n",
    "                             figure_id=\"plot_boxplots_var22\", figure_path=PROJECT_IMG_PATH,\n",
    "                             figure_file_format=\"png\", figure_file_extension=\".png\",\n",
    "                             tight_layout=True, dpi=300\n",
    "                            )"
   ]
  },
  {
   "cell_type": "markdown",
   "metadata": {},
   "source": [
    "**Análise:** Temos uma alta variabilidade nos dados ocasionada pelos **outliers** (*Box Plot*). Também podemos observar que as distribuições de frequência em todas as features estão concentradas em valores iguais a **`0`** (**`66%`** dos valores na feature **`num_var22_ult3`**, e acima de **`80%`** dos valores nas outras features), conforme podemos observar no *histograma* e no relatório de *percentis*."
   ]
  },
  {
   "cell_type": "markdown",
   "metadata": {},
   "source": [
    "**Conclusão:**\n",
    "\n",
    "1. Para as **features** **`num_med_var22_ult3`**, **`num_var22_hace2`**, **`num_var22_hace3`** e **`num_var22_ult1`**, a grande maioria dos valores são constantes e iguais a **`0`**. Portanto, entendemos que estas **features são `irrelevantes`** para serem analisadas na criação dos modelos preditivos;\n",
    "\n",
    "2. A feature **`num_med_var22_ult3`** que possui a mesma informação da feature **`num_var22_ult3`**, pois são **colineares** (`correlação = 0.95`);\n",
    "\n",
    "3. Entendemos que a feature **`num_var22_ult3`** é **`relevante`** e deverá ser analisada na criação dos modelos preditivos."
   ]
  },
  {
   "cell_type": "code",
   "execution_count": 41,
   "metadata": {},
   "outputs": [],
   "source": [
    "# Armazenando informações sobre as features:\n",
    "santander_feat_info.save(key='Discrete', features=feat_groupby_vars['var22']) # Quantitativa Discreta.\n",
    "santander_feat_info.save(key='Outliers', features=['num_var22_ult3'])         # Variável têm \"Outliers\".\n",
    "\n",
    "features = ['num_med_var22_ult3', 'num_var22_hace2', 'num_var22_hace3', 'num_var22_ult1']\n",
    "santander_feat_info.save(key='Irrelevant', features=features) # Irrelevantes."
   ]
  },
  {
   "cell_type": "markdown",
   "metadata": {},
   "source": [
    "## var24"
   ]
  },
  {
   "cell_type": "code",
   "execution_count": 42,
   "metadata": {},
   "outputs": [
    {
     "name": "stdout",
     "output_type": "stream",
     "text": [
      "<class 'pandas.core.frame.DataFrame'>\n",
      "RangeIndex: 60816 entries, 0 to 60815\n",
      "Data columns (total 5 columns):\n",
      "ind_var24      60816 non-null int64\n",
      "ind_var24_0    60816 non-null int64\n",
      "num_var24      60816 non-null int64\n",
      "num_var24_0    60816 non-null int64\n",
      "saldo_var24    60816 non-null float64\n",
      "dtypes: float64(1), int64(4)\n",
      "memory usage: 2.3 MB\n"
     ]
    }
   ],
   "source": [
    "# Resumo das informações:\n",
    "train_df[feat_groupby_vars['var24']].info()"
   ]
  },
  {
   "cell_type": "markdown",
   "metadata": {},
   "source": [
    "Agora, vamos calcular algumas medidas **estatísticas descritivas** para análsise destas **`features`** em nosso dataset:"
   ]
  },
  {
   "cell_type": "code",
   "execution_count": 43,
   "metadata": {
    "scrolled": true
   },
   "outputs": [
    {
     "data": {
      "text/html": [
       "<div>\n",
       "<style scoped>\n",
       "    .dataframe tbody tr th:only-of-type {\n",
       "        vertical-align: middle;\n",
       "    }\n",
       "\n",
       "    .dataframe tbody tr th {\n",
       "        vertical-align: top;\n",
       "    }\n",
       "\n",
       "    .dataframe thead th {\n",
       "        text-align: right;\n",
       "    }\n",
       "</style>\n",
       "<table border=\"1\" class=\"dataframe\">\n",
       "  <thead>\n",
       "    <tr style=\"text-align: right;\">\n",
       "      <th></th>\n",
       "      <th>ind_var24</th>\n",
       "      <th>ind_var24_0</th>\n",
       "      <th>num_var24</th>\n",
       "      <th>num_var24_0</th>\n",
       "      <th>saldo_var24</th>\n",
       "    </tr>\n",
       "  </thead>\n",
       "  <tbody>\n",
       "    <tr>\n",
       "      <th>count</th>\n",
       "      <td>60816.000000</td>\n",
       "      <td>60816.000000</td>\n",
       "      <td>60816.000000</td>\n",
       "      <td>60816.000000</td>\n",
       "      <td>6.081600e+04</td>\n",
       "    </tr>\n",
       "    <tr>\n",
       "      <th>mean</th>\n",
       "      <td>0.038329</td>\n",
       "      <td>0.042735</td>\n",
       "      <td>0.115134</td>\n",
       "      <td>0.128848</td>\n",
       "      <td>6.042704e+03</td>\n",
       "    </tr>\n",
       "    <tr>\n",
       "      <th>std</th>\n",
       "      <td>0.191990</td>\n",
       "      <td>0.202262</td>\n",
       "      <td>0.577096</td>\n",
       "      <td>0.611630</td>\n",
       "      <td>4.961221e+04</td>\n",
       "    </tr>\n",
       "    <tr>\n",
       "      <th>min</th>\n",
       "      <td>0.000000</td>\n",
       "      <td>0.000000</td>\n",
       "      <td>0.000000</td>\n",
       "      <td>0.000000</td>\n",
       "      <td>0.000000e+00</td>\n",
       "    </tr>\n",
       "    <tr>\n",
       "      <th>25%</th>\n",
       "      <td>0.000000</td>\n",
       "      <td>0.000000</td>\n",
       "      <td>0.000000</td>\n",
       "      <td>0.000000</td>\n",
       "      <td>0.000000e+00</td>\n",
       "    </tr>\n",
       "    <tr>\n",
       "      <th>50%</th>\n",
       "      <td>0.000000</td>\n",
       "      <td>0.000000</td>\n",
       "      <td>0.000000</td>\n",
       "      <td>0.000000</td>\n",
       "      <td>0.000000e+00</td>\n",
       "    </tr>\n",
       "    <tr>\n",
       "      <th>75%</th>\n",
       "      <td>0.000000</td>\n",
       "      <td>0.000000</td>\n",
       "      <td>0.000000</td>\n",
       "      <td>0.000000</td>\n",
       "      <td>0.000000e+00</td>\n",
       "    </tr>\n",
       "    <tr>\n",
       "      <th>max</th>\n",
       "      <td>1.000000</td>\n",
       "      <td>1.000000</td>\n",
       "      <td>6.000000</td>\n",
       "      <td>9.000000</td>\n",
       "      <td>3.008077e+06</td>\n",
       "    </tr>\n",
       "  </tbody>\n",
       "</table>\n",
       "</div>"
      ],
      "text/plain": [
       "          ind_var24   ind_var24_0     num_var24   num_var24_0   saldo_var24\n",
       "count  60816.000000  60816.000000  60816.000000  60816.000000  6.081600e+04\n",
       "mean       0.038329      0.042735      0.115134      0.128848  6.042704e+03\n",
       "std        0.191990      0.202262      0.577096      0.611630  4.961221e+04\n",
       "min        0.000000      0.000000      0.000000      0.000000  0.000000e+00\n",
       "25%        0.000000      0.000000      0.000000      0.000000  0.000000e+00\n",
       "50%        0.000000      0.000000      0.000000      0.000000  0.000000e+00\n",
       "75%        0.000000      0.000000      0.000000      0.000000  0.000000e+00\n",
       "max        1.000000      1.000000      6.000000      9.000000  3.008077e+06"
      ]
     },
     "execution_count": 43,
     "metadata": {},
     "output_type": "execute_result"
    }
   ],
   "source": [
    "# Dataframe \"train_df\":\n",
    "train_df[feat_groupby_vars['var24']].describe()"
   ]
  },
  {
   "cell_type": "code",
   "execution_count": 44,
   "metadata": {},
   "outputs": [
    {
     "data": {
      "text/html": [
       "<div>\n",
       "<style scoped>\n",
       "    .dataframe tbody tr th:only-of-type {\n",
       "        vertical-align: middle;\n",
       "    }\n",
       "\n",
       "    .dataframe tbody tr th {\n",
       "        vertical-align: top;\n",
       "    }\n",
       "\n",
       "    .dataframe thead th {\n",
       "        text-align: right;\n",
       "    }\n",
       "</style>\n",
       "<table border=\"1\" class=\"dataframe\">\n",
       "  <thead>\n",
       "    <tr style=\"text-align: right;\">\n",
       "      <th></th>\n",
       "      <th>ind_var24</th>\n",
       "      <th>ind_var24_0</th>\n",
       "      <th>num_var24</th>\n",
       "      <th>num_var24_0</th>\n",
       "      <th>saldo_var24</th>\n",
       "    </tr>\n",
       "    <tr>\n",
       "      <th>Percentile</th>\n",
       "      <th></th>\n",
       "      <th></th>\n",
       "      <th></th>\n",
       "      <th></th>\n",
       "      <th></th>\n",
       "    </tr>\n",
       "  </thead>\n",
       "  <tbody>\n",
       "    <tr>\n",
       "      <th>95%</th>\n",
       "      <td>0.0</td>\n",
       "      <td>0.0</td>\n",
       "      <td>0.0</td>\n",
       "      <td>0.0</td>\n",
       "      <td>0.000000e+00</td>\n",
       "    </tr>\n",
       "    <tr>\n",
       "      <th>96%</th>\n",
       "      <td>0.0</td>\n",
       "      <td>1.0</td>\n",
       "      <td>0.0</td>\n",
       "      <td>3.0</td>\n",
       "      <td>0.000000e+00</td>\n",
       "    </tr>\n",
       "    <tr>\n",
       "      <th>97%</th>\n",
       "      <td>1.0</td>\n",
       "      <td>1.0</td>\n",
       "      <td>3.0</td>\n",
       "      <td>3.0</td>\n",
       "      <td>3.131196e+04</td>\n",
       "    </tr>\n",
       "    <tr>\n",
       "      <th>98%</th>\n",
       "      <td>1.0</td>\n",
       "      <td>1.0</td>\n",
       "      <td>3.0</td>\n",
       "      <td>3.0</td>\n",
       "      <td>9.691388e+04</td>\n",
       "    </tr>\n",
       "    <tr>\n",
       "      <th>99%</th>\n",
       "      <td>1.0</td>\n",
       "      <td>1.0</td>\n",
       "      <td>3.0</td>\n",
       "      <td>3.0</td>\n",
       "      <td>2.062186e+05</td>\n",
       "    </tr>\n",
       "    <tr>\n",
       "      <th>100%</th>\n",
       "      <td>1.0</td>\n",
       "      <td>1.0</td>\n",
       "      <td>6.0</td>\n",
       "      <td>9.0</td>\n",
       "      <td>3.008077e+06</td>\n",
       "    </tr>\n",
       "  </tbody>\n",
       "</table>\n",
       "</div>"
      ],
      "text/plain": [
       "            ind_var24  ind_var24_0  num_var24  num_var24_0   saldo_var24\n",
       "Percentile                                                              \n",
       "95%               0.0          0.0        0.0          0.0  0.000000e+00\n",
       "96%               0.0          1.0        0.0          3.0  0.000000e+00\n",
       "97%               1.0          1.0        3.0          3.0  3.131196e+04\n",
       "98%               1.0          1.0        3.0          3.0  9.691388e+04\n",
       "99%               1.0          1.0        3.0          3.0  2.062186e+05\n",
       "100%              1.0          1.0        6.0          9.0  3.008077e+06"
      ]
     },
     "execution_count": 44,
     "metadata": {},
     "output_type": "execute_result"
    }
   ],
   "source": [
    "# Obtendo os percentis a partir de \"95%\", com intervá-los de \"1%\":\n",
    "result = dslib.get_features_percentiles(data=train_df, features=feat_groupby_vars['var24'], percent_range=range(95, 101, 1))\n",
    "result"
   ]
  },
  {
   "cell_type": "code",
   "execution_count": 45,
   "metadata": {
    "scrolled": false
   },
   "outputs": [
    {
     "name": "stdout",
     "output_type": "stream",
     "text": [
      "           Total  Percent\n",
      "ind_var24                \n",
      "0          58485   0.9617\n",
      "1           2331   0.0383\n",
      "\n",
      "             Total  Percent\n",
      "ind_var24_0                \n",
      "0            58217   0.9573\n",
      "1             2599   0.0427\n",
      "\n",
      "           Total  Percent\n",
      "num_var24                \n",
      "0          58485   0.9617\n",
      "3           2328   0.0383\n",
      "6              3   0.0000\n",
      "\n",
      "             Total  Percent\n",
      "num_var24_0                \n",
      "0            58217   0.9573\n",
      "3             2587   0.0425\n",
      "6               11   0.0002\n",
      "9                1   0.0000\n",
      "\n",
      "             Total  Percent\n",
      "saldo_var24                \n",
      "0.00         58485   0.9617\n",
      "30000.00         8   0.0001\n",
      "300385.68        7   0.0001\n",
      "150392.37        7   0.0001\n",
      "300000.00        6   0.0001\n",
      "...            ...      ...\n",
      "60900.00         1   0.0000\n",
      "60792.66         1   0.0000\n",
      "60747.45         1   0.0000\n",
      "60718.65         1   0.0000\n",
      "3008077.32       1   0.0000\n",
      "\n",
      "[2130 rows x 2 columns]\n",
      "\n"
     ]
    }
   ],
   "source": [
    "# Vamos verificar a proporção dos valores para as variáveis relacionadas a \"var24\":\n",
    "for feat in feat_groupby_vars['var24']:\n",
    "    print(dslib.percent_count_feature(df=train_df, feature=feat, lines_drop=False))\n",
    "    print()"
   ]
  },
  {
   "cell_type": "markdown",
   "metadata": {},
   "source": [
    "**Análise:** observamos que as **`features`** **`ind_var24`** e **`ind_var24_0`**, relacionadas com **`var24`**, são variáveis do tipo `Categóricas Nominais Binárias`, com apenas duas classes **`0`** e **`1`**. Entretanto, as **`features`** **`num_var24`** e **`num_var24_0`**, relacionadas com **`var24`**, são variáveis do tipo `Quantitativa Discreta`. A feature **`saldo_var24`** é uma variável do tipo `Quantitativa Contínua`.\n",
    "\n",
    "Observamos, também, que nas features **`ind_var24`** e **`ind_var24_0`**, **`96%`** das observações estão concentradas na classe **`0`**. As features **`num_var24`** e **`num_var24_0`**, possuem em **`96%`** e **`95%`** das observações valores iguais a **`0`**, respectivamente. A feature **`saldo_var24`** também possui em **`95%`** das observações, valores iguais a **`0`**."
   ]
  },
  {
   "cell_type": "markdown",
   "metadata": {},
   "source": [
    "**Conclusão:** Portanto, entendemos que estas **features são `irrelevantes`** para serem analisadas na criação dos modelos preditivos."
   ]
  },
  {
   "cell_type": "code",
   "execution_count": 46,
   "metadata": {},
   "outputs": [],
   "source": [
    "# Armazenando informações sobre as features:\n",
    "features = ['ind_var24', 'ind_var24_0']\n",
    "santander_feat_info.save(key='Binary', features=features) # Categórica Nominal Binária.\n",
    "\n",
    "features = ['num_var24', 'num_var24_0']\n",
    "santander_feat_info.save(key='Discrete', features=features) # Quantitativa Discreta.\n",
    "\n",
    "features = ['saldo_var24']\n",
    "santander_feat_info.save(key='Continuous', features=features) # Quantitativa Contínua.\n",
    "\n",
    "santander_feat_info.save(key='Irrelevant', features=feat_groupby_vars['var24']) # Irrelevantes."
   ]
  },
  {
   "cell_type": "markdown",
   "metadata": {},
   "source": [
    "## var27"
   ]
  },
  {
   "cell_type": "code",
   "execution_count": 47,
   "metadata": {},
   "outputs": [
    {
     "name": "stdout",
     "output_type": "stream",
     "text": [
      "<class 'pandas.core.frame.DataFrame'>\n",
      "RangeIndex: 60816 entries, 0 to 60815\n",
      "Data columns (total 5 columns):\n",
      "ind_var27      60816 non-null int64\n",
      "ind_var27_0    60816 non-null int64\n",
      "num_var27      60816 non-null int64\n",
      "num_var27_0    60816 non-null int64\n",
      "saldo_var27    60816 non-null int64\n",
      "dtypes: int64(5)\n",
      "memory usage: 2.3 MB\n"
     ]
    }
   ],
   "source": [
    "# Resumo das informações:\n",
    "train_df[feat_groupby_vars['var27']].info()"
   ]
  },
  {
   "cell_type": "markdown",
   "metadata": {},
   "source": [
    "Agora, vamos calcular algumas medidas **estatísticas descritivas** para análsise destas **`features`** em nosso dataset:"
   ]
  },
  {
   "cell_type": "code",
   "execution_count": 48,
   "metadata": {
    "scrolled": true
   },
   "outputs": [
    {
     "data": {
      "text/html": [
       "<div>\n",
       "<style scoped>\n",
       "    .dataframe tbody tr th:only-of-type {\n",
       "        vertical-align: middle;\n",
       "    }\n",
       "\n",
       "    .dataframe tbody tr th {\n",
       "        vertical-align: top;\n",
       "    }\n",
       "\n",
       "    .dataframe thead th {\n",
       "        text-align: right;\n",
       "    }\n",
       "</style>\n",
       "<table border=\"1\" class=\"dataframe\">\n",
       "  <thead>\n",
       "    <tr style=\"text-align: right;\">\n",
       "      <th></th>\n",
       "      <th>ind_var27</th>\n",
       "      <th>ind_var27_0</th>\n",
       "      <th>num_var27</th>\n",
       "      <th>num_var27_0</th>\n",
       "      <th>saldo_var27</th>\n",
       "    </tr>\n",
       "  </thead>\n",
       "  <tbody>\n",
       "    <tr>\n",
       "      <th>count</th>\n",
       "      <td>60816.0</td>\n",
       "      <td>60816.0</td>\n",
       "      <td>60816.0</td>\n",
       "      <td>60816.0</td>\n",
       "      <td>60816.0</td>\n",
       "    </tr>\n",
       "    <tr>\n",
       "      <th>mean</th>\n",
       "      <td>0.0</td>\n",
       "      <td>0.0</td>\n",
       "      <td>0.0</td>\n",
       "      <td>0.0</td>\n",
       "      <td>0.0</td>\n",
       "    </tr>\n",
       "    <tr>\n",
       "      <th>std</th>\n",
       "      <td>0.0</td>\n",
       "      <td>0.0</td>\n",
       "      <td>0.0</td>\n",
       "      <td>0.0</td>\n",
       "      <td>0.0</td>\n",
       "    </tr>\n",
       "    <tr>\n",
       "      <th>min</th>\n",
       "      <td>0.0</td>\n",
       "      <td>0.0</td>\n",
       "      <td>0.0</td>\n",
       "      <td>0.0</td>\n",
       "      <td>0.0</td>\n",
       "    </tr>\n",
       "    <tr>\n",
       "      <th>25%</th>\n",
       "      <td>0.0</td>\n",
       "      <td>0.0</td>\n",
       "      <td>0.0</td>\n",
       "      <td>0.0</td>\n",
       "      <td>0.0</td>\n",
       "    </tr>\n",
       "    <tr>\n",
       "      <th>50%</th>\n",
       "      <td>0.0</td>\n",
       "      <td>0.0</td>\n",
       "      <td>0.0</td>\n",
       "      <td>0.0</td>\n",
       "      <td>0.0</td>\n",
       "    </tr>\n",
       "    <tr>\n",
       "      <th>75%</th>\n",
       "      <td>0.0</td>\n",
       "      <td>0.0</td>\n",
       "      <td>0.0</td>\n",
       "      <td>0.0</td>\n",
       "      <td>0.0</td>\n",
       "    </tr>\n",
       "    <tr>\n",
       "      <th>max</th>\n",
       "      <td>0.0</td>\n",
       "      <td>0.0</td>\n",
       "      <td>0.0</td>\n",
       "      <td>0.0</td>\n",
       "      <td>0.0</td>\n",
       "    </tr>\n",
       "  </tbody>\n",
       "</table>\n",
       "</div>"
      ],
      "text/plain": [
       "       ind_var27  ind_var27_0  num_var27  num_var27_0  saldo_var27\n",
       "count    60816.0      60816.0    60816.0      60816.0      60816.0\n",
       "mean         0.0          0.0        0.0          0.0          0.0\n",
       "std          0.0          0.0        0.0          0.0          0.0\n",
       "min          0.0          0.0        0.0          0.0          0.0\n",
       "25%          0.0          0.0        0.0          0.0          0.0\n",
       "50%          0.0          0.0        0.0          0.0          0.0\n",
       "75%          0.0          0.0        0.0          0.0          0.0\n",
       "max          0.0          0.0        0.0          0.0          0.0"
      ]
     },
     "execution_count": 48,
     "metadata": {},
     "output_type": "execute_result"
    }
   ],
   "source": [
    "# Dataframe \"train_df\":\n",
    "train_df[feat_groupby_vars['var27']].describe()"
   ]
  },
  {
   "cell_type": "code",
   "execution_count": 49,
   "metadata": {},
   "outputs": [
    {
     "data": {
      "text/html": [
       "<div>\n",
       "<style scoped>\n",
       "    .dataframe tbody tr th:only-of-type {\n",
       "        vertical-align: middle;\n",
       "    }\n",
       "\n",
       "    .dataframe tbody tr th {\n",
       "        vertical-align: top;\n",
       "    }\n",
       "\n",
       "    .dataframe thead th {\n",
       "        text-align: right;\n",
       "    }\n",
       "</style>\n",
       "<table border=\"1\" class=\"dataframe\">\n",
       "  <thead>\n",
       "    <tr style=\"text-align: right;\">\n",
       "      <th></th>\n",
       "      <th>ind_var27</th>\n",
       "      <th>ind_var27_0</th>\n",
       "      <th>num_var27</th>\n",
       "      <th>num_var27_0</th>\n",
       "      <th>saldo_var27</th>\n",
       "    </tr>\n",
       "    <tr>\n",
       "      <th>Percentile</th>\n",
       "      <th></th>\n",
       "      <th></th>\n",
       "      <th></th>\n",
       "      <th></th>\n",
       "      <th></th>\n",
       "    </tr>\n",
       "  </thead>\n",
       "  <tbody>\n",
       "    <tr>\n",
       "      <th>80%</th>\n",
       "      <td>0.0</td>\n",
       "      <td>0.0</td>\n",
       "      <td>0.0</td>\n",
       "      <td>0.0</td>\n",
       "      <td>0.0</td>\n",
       "    </tr>\n",
       "    <tr>\n",
       "      <th>85%</th>\n",
       "      <td>0.0</td>\n",
       "      <td>0.0</td>\n",
       "      <td>0.0</td>\n",
       "      <td>0.0</td>\n",
       "      <td>0.0</td>\n",
       "    </tr>\n",
       "    <tr>\n",
       "      <th>90%</th>\n",
       "      <td>0.0</td>\n",
       "      <td>0.0</td>\n",
       "      <td>0.0</td>\n",
       "      <td>0.0</td>\n",
       "      <td>0.0</td>\n",
       "    </tr>\n",
       "    <tr>\n",
       "      <th>95%</th>\n",
       "      <td>0.0</td>\n",
       "      <td>0.0</td>\n",
       "      <td>0.0</td>\n",
       "      <td>0.0</td>\n",
       "      <td>0.0</td>\n",
       "    </tr>\n",
       "    <tr>\n",
       "      <th>100%</th>\n",
       "      <td>0.0</td>\n",
       "      <td>0.0</td>\n",
       "      <td>0.0</td>\n",
       "      <td>0.0</td>\n",
       "      <td>0.0</td>\n",
       "    </tr>\n",
       "  </tbody>\n",
       "</table>\n",
       "</div>"
      ],
      "text/plain": [
       "            ind_var27  ind_var27_0  num_var27  num_var27_0  saldo_var27\n",
       "Percentile                                                             \n",
       "80%               0.0          0.0        0.0          0.0          0.0\n",
       "85%               0.0          0.0        0.0          0.0          0.0\n",
       "90%               0.0          0.0        0.0          0.0          0.0\n",
       "95%               0.0          0.0        0.0          0.0          0.0\n",
       "100%              0.0          0.0        0.0          0.0          0.0"
      ]
     },
     "execution_count": 49,
     "metadata": {},
     "output_type": "execute_result"
    }
   ],
   "source": [
    "# Obtendo os percentis a partir de \"80%\", com intervá-los de \"5%\":\n",
    "result = dslib.get_features_percentiles(data=train_df, features=feat_groupby_vars['var27'], percent_range=range(80, 105, 5))\n",
    "result"
   ]
  },
  {
   "cell_type": "code",
   "execution_count": 50,
   "metadata": {
    "scrolled": false
   },
   "outputs": [
    {
     "name": "stdout",
     "output_type": "stream",
     "text": [
      "           Total  Percent\n",
      "ind_var27                \n",
      "0          60816      1.0\n",
      "\n",
      "             Total  Percent\n",
      "ind_var27_0                \n",
      "0            60816      1.0\n",
      "\n",
      "           Total  Percent\n",
      "num_var27                \n",
      "0          60816      1.0\n",
      "\n",
      "             Total  Percent\n",
      "num_var27_0                \n",
      "0            60816      1.0\n",
      "\n",
      "             Total  Percent\n",
      "saldo_var27                \n",
      "0            60816      1.0\n",
      "\n"
     ]
    }
   ],
   "source": [
    "# Vamos verificar a proporção dos valores para as variáveis relacionadas a \"var27\":\n",
    "for feat in feat_groupby_vars['var27']:\n",
    "    print(dslib.percent_count_feature(df=train_df, feature=feat, lines_drop=False))\n",
    "    print()"
   ]
  },
  {
   "cell_type": "markdown",
   "metadata": {},
   "source": [
    "**Análise:** observamos que as **`features`** **`ind_var27`** e **`ind_var27_0`**, relacionadas com **`var27`**, são variáveis do tipo `Categóricas Nominais Binárias`, com apenas duas classes **`0`** e **`1`**. Entretanto, as **`features`** **`num_var27`** e **`num_var27_0`**, relacionadas com **`var27`**, são variáveis do tipo `Quantitativa Discreta`. A feature **`saldo_var27`** é uma variável do tipo `Quantitativa Contínua`.\n",
    "\n",
    "Observamos, também, que nas features **`ind_var27`** e **`ind_var27_0`**, **`100%`** das observações estão concentradas na classe **`0`**. As features **`num_var27`**, **`num_var27_0`**, e **`saldo_var27`**, possuem em **`100%`** das observações, valores iguais a **`0`**."
   ]
  },
  {
   "cell_type": "markdown",
   "metadata": {},
   "source": [
    "**Conclusão:** Portanto, entendemos que estas **features são `irrelevantes`** para serem analisadas na criação dos modelos preditivos."
   ]
  },
  {
   "cell_type": "code",
   "execution_count": 51,
   "metadata": {},
   "outputs": [],
   "source": [
    "# Armazenando informações sobre as features:\n",
    "features = ['ind_var27', 'ind_var27_0']\n",
    "santander_feat_info.save(key='Binary', features=features) # Categórica Nominal Binária.\n",
    "\n",
    "features = ['num_var27', 'num_var27_0']\n",
    "santander_feat_info.save(key='Discrete', features=features) # Quantitativa Discreta.\n",
    "\n",
    "features = ['saldo_var27']\n",
    "santander_feat_info.save(key='Continuous', features=features) # Quantitativa Contínua.\n",
    "\n",
    "santander_feat_info.save(key='Irrelevant', features=feat_groupby_vars['var27']) # Irrelevantes."
   ]
  },
  {
   "cell_type": "markdown",
   "metadata": {},
   "source": [
    "## var28"
   ]
  },
  {
   "cell_type": "code",
   "execution_count": 52,
   "metadata": {},
   "outputs": [
    {
     "name": "stdout",
     "output_type": "stream",
     "text": [
      "<class 'pandas.core.frame.DataFrame'>\n",
      "RangeIndex: 60816 entries, 0 to 60815\n",
      "Data columns (total 5 columns):\n",
      "ind_var28      60816 non-null int64\n",
      "ind_var28_0    60816 non-null int64\n",
      "num_var28      60816 non-null int64\n",
      "num_var28_0    60816 non-null int64\n",
      "saldo_var28    60816 non-null int64\n",
      "dtypes: int64(5)\n",
      "memory usage: 2.3 MB\n"
     ]
    }
   ],
   "source": [
    "# Resumo das informações:\n",
    "train_df[feat_groupby_vars['var28']].info()"
   ]
  },
  {
   "cell_type": "markdown",
   "metadata": {},
   "source": [
    "Agora, vamos calcular algumas medidas **estatísticas descritivas** para análsise destas **`features`** em nosso dataset:"
   ]
  },
  {
   "cell_type": "code",
   "execution_count": 53,
   "metadata": {
    "scrolled": true
   },
   "outputs": [
    {
     "data": {
      "text/html": [
       "<div>\n",
       "<style scoped>\n",
       "    .dataframe tbody tr th:only-of-type {\n",
       "        vertical-align: middle;\n",
       "    }\n",
       "\n",
       "    .dataframe tbody tr th {\n",
       "        vertical-align: top;\n",
       "    }\n",
       "\n",
       "    .dataframe thead th {\n",
       "        text-align: right;\n",
       "    }\n",
       "</style>\n",
       "<table border=\"1\" class=\"dataframe\">\n",
       "  <thead>\n",
       "    <tr style=\"text-align: right;\">\n",
       "      <th></th>\n",
       "      <th>ind_var28</th>\n",
       "      <th>ind_var28_0</th>\n",
       "      <th>num_var28</th>\n",
       "      <th>num_var28_0</th>\n",
       "      <th>saldo_var28</th>\n",
       "    </tr>\n",
       "  </thead>\n",
       "  <tbody>\n",
       "    <tr>\n",
       "      <th>count</th>\n",
       "      <td>60816.0</td>\n",
       "      <td>60816.0</td>\n",
       "      <td>60816.0</td>\n",
       "      <td>60816.0</td>\n",
       "      <td>60816.0</td>\n",
       "    </tr>\n",
       "    <tr>\n",
       "      <th>mean</th>\n",
       "      <td>0.0</td>\n",
       "      <td>0.0</td>\n",
       "      <td>0.0</td>\n",
       "      <td>0.0</td>\n",
       "      <td>0.0</td>\n",
       "    </tr>\n",
       "    <tr>\n",
       "      <th>std</th>\n",
       "      <td>0.0</td>\n",
       "      <td>0.0</td>\n",
       "      <td>0.0</td>\n",
       "      <td>0.0</td>\n",
       "      <td>0.0</td>\n",
       "    </tr>\n",
       "    <tr>\n",
       "      <th>min</th>\n",
       "      <td>0.0</td>\n",
       "      <td>0.0</td>\n",
       "      <td>0.0</td>\n",
       "      <td>0.0</td>\n",
       "      <td>0.0</td>\n",
       "    </tr>\n",
       "    <tr>\n",
       "      <th>25%</th>\n",
       "      <td>0.0</td>\n",
       "      <td>0.0</td>\n",
       "      <td>0.0</td>\n",
       "      <td>0.0</td>\n",
       "      <td>0.0</td>\n",
       "    </tr>\n",
       "    <tr>\n",
       "      <th>50%</th>\n",
       "      <td>0.0</td>\n",
       "      <td>0.0</td>\n",
       "      <td>0.0</td>\n",
       "      <td>0.0</td>\n",
       "      <td>0.0</td>\n",
       "    </tr>\n",
       "    <tr>\n",
       "      <th>75%</th>\n",
       "      <td>0.0</td>\n",
       "      <td>0.0</td>\n",
       "      <td>0.0</td>\n",
       "      <td>0.0</td>\n",
       "      <td>0.0</td>\n",
       "    </tr>\n",
       "    <tr>\n",
       "      <th>max</th>\n",
       "      <td>0.0</td>\n",
       "      <td>0.0</td>\n",
       "      <td>0.0</td>\n",
       "      <td>0.0</td>\n",
       "      <td>0.0</td>\n",
       "    </tr>\n",
       "  </tbody>\n",
       "</table>\n",
       "</div>"
      ],
      "text/plain": [
       "       ind_var28  ind_var28_0  num_var28  num_var28_0  saldo_var28\n",
       "count    60816.0      60816.0    60816.0      60816.0      60816.0\n",
       "mean         0.0          0.0        0.0          0.0          0.0\n",
       "std          0.0          0.0        0.0          0.0          0.0\n",
       "min          0.0          0.0        0.0          0.0          0.0\n",
       "25%          0.0          0.0        0.0          0.0          0.0\n",
       "50%          0.0          0.0        0.0          0.0          0.0\n",
       "75%          0.0          0.0        0.0          0.0          0.0\n",
       "max          0.0          0.0        0.0          0.0          0.0"
      ]
     },
     "execution_count": 53,
     "metadata": {},
     "output_type": "execute_result"
    }
   ],
   "source": [
    "# Dataframe \"train_df\":\n",
    "train_df[feat_groupby_vars['var28']].describe()"
   ]
  },
  {
   "cell_type": "code",
   "execution_count": 54,
   "metadata": {},
   "outputs": [
    {
     "data": {
      "text/html": [
       "<div>\n",
       "<style scoped>\n",
       "    .dataframe tbody tr th:only-of-type {\n",
       "        vertical-align: middle;\n",
       "    }\n",
       "\n",
       "    .dataframe tbody tr th {\n",
       "        vertical-align: top;\n",
       "    }\n",
       "\n",
       "    .dataframe thead th {\n",
       "        text-align: right;\n",
       "    }\n",
       "</style>\n",
       "<table border=\"1\" class=\"dataframe\">\n",
       "  <thead>\n",
       "    <tr style=\"text-align: right;\">\n",
       "      <th></th>\n",
       "      <th>ind_var28</th>\n",
       "      <th>ind_var28_0</th>\n",
       "      <th>num_var28</th>\n",
       "      <th>num_var28_0</th>\n",
       "      <th>saldo_var28</th>\n",
       "    </tr>\n",
       "    <tr>\n",
       "      <th>Percentile</th>\n",
       "      <th></th>\n",
       "      <th></th>\n",
       "      <th></th>\n",
       "      <th></th>\n",
       "      <th></th>\n",
       "    </tr>\n",
       "  </thead>\n",
       "  <tbody>\n",
       "    <tr>\n",
       "      <th>80%</th>\n",
       "      <td>0.0</td>\n",
       "      <td>0.0</td>\n",
       "      <td>0.0</td>\n",
       "      <td>0.0</td>\n",
       "      <td>0.0</td>\n",
       "    </tr>\n",
       "    <tr>\n",
       "      <th>85%</th>\n",
       "      <td>0.0</td>\n",
       "      <td>0.0</td>\n",
       "      <td>0.0</td>\n",
       "      <td>0.0</td>\n",
       "      <td>0.0</td>\n",
       "    </tr>\n",
       "    <tr>\n",
       "      <th>90%</th>\n",
       "      <td>0.0</td>\n",
       "      <td>0.0</td>\n",
       "      <td>0.0</td>\n",
       "      <td>0.0</td>\n",
       "      <td>0.0</td>\n",
       "    </tr>\n",
       "    <tr>\n",
       "      <th>95%</th>\n",
       "      <td>0.0</td>\n",
       "      <td>0.0</td>\n",
       "      <td>0.0</td>\n",
       "      <td>0.0</td>\n",
       "      <td>0.0</td>\n",
       "    </tr>\n",
       "    <tr>\n",
       "      <th>100%</th>\n",
       "      <td>0.0</td>\n",
       "      <td>0.0</td>\n",
       "      <td>0.0</td>\n",
       "      <td>0.0</td>\n",
       "      <td>0.0</td>\n",
       "    </tr>\n",
       "  </tbody>\n",
       "</table>\n",
       "</div>"
      ],
      "text/plain": [
       "            ind_var28  ind_var28_0  num_var28  num_var28_0  saldo_var28\n",
       "Percentile                                                             \n",
       "80%               0.0          0.0        0.0          0.0          0.0\n",
       "85%               0.0          0.0        0.0          0.0          0.0\n",
       "90%               0.0          0.0        0.0          0.0          0.0\n",
       "95%               0.0          0.0        0.0          0.0          0.0\n",
       "100%              0.0          0.0        0.0          0.0          0.0"
      ]
     },
     "execution_count": 54,
     "metadata": {},
     "output_type": "execute_result"
    }
   ],
   "source": [
    "# Obtendo os percentis a partir de \"80%\", com intervá-los de \"5%\":\n",
    "result = dslib.get_features_percentiles(data=train_df, features=feat_groupby_vars['var28'], percent_range=range(80, 105, 5))\n",
    "result"
   ]
  },
  {
   "cell_type": "code",
   "execution_count": 55,
   "metadata": {
    "scrolled": false
   },
   "outputs": [
    {
     "name": "stdout",
     "output_type": "stream",
     "text": [
      "           Total  Percent\n",
      "ind_var28                \n",
      "0          60816      1.0\n",
      "\n",
      "             Total  Percent\n",
      "ind_var28_0                \n",
      "0            60816      1.0\n",
      "\n",
      "           Total  Percent\n",
      "num_var28                \n",
      "0          60816      1.0\n",
      "\n",
      "             Total  Percent\n",
      "num_var28_0                \n",
      "0            60816      1.0\n",
      "\n",
      "             Total  Percent\n",
      "saldo_var28                \n",
      "0            60816      1.0\n",
      "\n"
     ]
    }
   ],
   "source": [
    "# Vamos verificar a proporção dos valores para as variáveis relacionadas a \"var28\":\n",
    "for feat in feat_groupby_vars['var28']:\n",
    "    print(dslib.percent_count_feature(df=train_df, feature=feat, lines_drop=False))\n",
    "    print()"
   ]
  },
  {
   "cell_type": "markdown",
   "metadata": {},
   "source": [
    "**Análise:** observamos que as **`features`** **`ind_var28`** e **`ind_var28_0`**, relacionadas com **`var28`**, são variáveis do tipo `Categóricas Nominais Binárias`, com apenas duas classes **`0`** e **`1`**. Entretanto, as **`features`** **`num_var28`** e **`num_var28_0`**, relacionadas com **`var28`**, são variáveis do tipo `Quantitativa Discreta`. A feature **`saldo_var28`** é uma variável do tipo `Quantitativa Contínua`.\n",
    "\n",
    "Observamos, também, que nas features **`ind_var28`** e **`ind_var28_0`**, **`100%`** das observações estão concentradas na classe **`0`**. As features **`num_var28`**, **`num_var28_0`**, e **`saldo_var28`**, possuem em **`100%`** das observações, valores iguais a **`0`**."
   ]
  },
  {
   "cell_type": "markdown",
   "metadata": {},
   "source": [
    "**Conclusão:** Portanto, entendemos que estas **features são `irrelevantes`** para serem analisadas na criação dos modelos preditivos."
   ]
  },
  {
   "cell_type": "code",
   "execution_count": 56,
   "metadata": {},
   "outputs": [],
   "source": [
    "# Armazenando informações sobre as features:\n",
    "features = ['ind_var28', 'ind_var28_0']\n",
    "santander_feat_info.save(key='Binary', features=features) # Categórica Nominal Binária.\n",
    "\n",
    "features = ['num_var28', 'num_var28_0']\n",
    "santander_feat_info.save(key='Discrete', features=features) # Quantitativa Discreta.\n",
    "\n",
    "features = ['saldo_var28']\n",
    "santander_feat_info.save(key='Continuous', features=features) # Quantitativa Contínua.\n",
    "\n",
    "santander_feat_info.save(key='Irrelevant', features=feat_groupby_vars['var28']) # Irrelevantes."
   ]
  },
  {
   "cell_type": "markdown",
   "metadata": {},
   "source": [
    "## var30"
   ]
  },
  {
   "cell_type": "code",
   "execution_count": 57,
   "metadata": {},
   "outputs": [
    {
     "name": "stdout",
     "output_type": "stream",
     "text": [
      "<class 'pandas.core.frame.DataFrame'>\n",
      "RangeIndex: 60816 entries, 0 to 60815\n",
      "Data columns (total 5 columns):\n",
      "ind_var30      60816 non-null int64\n",
      "ind_var30_0    60816 non-null int64\n",
      "num_var30      60816 non-null int64\n",
      "num_var30_0    60816 non-null int64\n",
      "saldo_var30    60816 non-null float64\n",
      "dtypes: float64(1), int64(4)\n",
      "memory usage: 2.3 MB\n"
     ]
    }
   ],
   "source": [
    "# Resumo das informações:\n",
    "train_df[feat_groupby_vars['var30']].info()"
   ]
  },
  {
   "cell_type": "markdown",
   "metadata": {},
   "source": [
    "Agora, vamos calcular algumas medidas **estatísticas descritivas** para análsise destas **`features`** em nosso dataset:"
   ]
  },
  {
   "cell_type": "code",
   "execution_count": 58,
   "metadata": {
    "scrolled": true
   },
   "outputs": [
    {
     "data": {
      "text/html": [
       "<div>\n",
       "<style scoped>\n",
       "    .dataframe tbody tr th:only-of-type {\n",
       "        vertical-align: middle;\n",
       "    }\n",
       "\n",
       "    .dataframe tbody tr th {\n",
       "        vertical-align: top;\n",
       "    }\n",
       "\n",
       "    .dataframe thead th {\n",
       "        text-align: right;\n",
       "    }\n",
       "</style>\n",
       "<table border=\"1\" class=\"dataframe\">\n",
       "  <thead>\n",
       "    <tr style=\"text-align: right;\">\n",
       "      <th></th>\n",
       "      <th>ind_var30</th>\n",
       "      <th>ind_var30_0</th>\n",
       "      <th>num_var30</th>\n",
       "      <th>num_var30_0</th>\n",
       "      <th>saldo_var30</th>\n",
       "    </tr>\n",
       "  </thead>\n",
       "  <tbody>\n",
       "    <tr>\n",
       "      <th>count</th>\n",
       "      <td>60816.000000</td>\n",
       "      <td>60816.000000</td>\n",
       "      <td>60816.000000</td>\n",
       "      <td>60816.000000</td>\n",
       "      <td>6.081600e+04</td>\n",
       "    </tr>\n",
       "    <tr>\n",
       "      <th>mean</th>\n",
       "      <td>0.733097</td>\n",
       "      <td>0.995659</td>\n",
       "      <td>2.384323</td>\n",
       "      <td>3.374309</td>\n",
       "      <td>1.388042e+04</td>\n",
       "    </tr>\n",
       "    <tr>\n",
       "      <th>std</th>\n",
       "      <td>0.442345</td>\n",
       "      <td>0.065743</td>\n",
       "      <td>1.642766</td>\n",
       "      <td>1.349025</td>\n",
       "      <td>6.467857e+04</td>\n",
       "    </tr>\n",
       "    <tr>\n",
       "      <th>min</th>\n",
       "      <td>0.000000</td>\n",
       "      <td>0.000000</td>\n",
       "      <td>0.000000</td>\n",
       "      <td>0.000000</td>\n",
       "      <td>-4.942260e+03</td>\n",
       "    </tr>\n",
       "    <tr>\n",
       "      <th>25%</th>\n",
       "      <td>0.000000</td>\n",
       "      <td>1.000000</td>\n",
       "      <td>0.000000</td>\n",
       "      <td>3.000000</td>\n",
       "      <td>0.000000e+00</td>\n",
       "    </tr>\n",
       "    <tr>\n",
       "      <th>50%</th>\n",
       "      <td>1.000000</td>\n",
       "      <td>1.000000</td>\n",
       "      <td>3.000000</td>\n",
       "      <td>3.000000</td>\n",
       "      <td>3.000000e+00</td>\n",
       "    </tr>\n",
       "    <tr>\n",
       "      <th>75%</th>\n",
       "      <td>1.000000</td>\n",
       "      <td>1.000000</td>\n",
       "      <td>3.000000</td>\n",
       "      <td>3.000000</td>\n",
       "      <td>2.403075e+02</td>\n",
       "    </tr>\n",
       "    <tr>\n",
       "      <th>max</th>\n",
       "      <td>1.000000</td>\n",
       "      <td>1.000000</td>\n",
       "      <td>33.000000</td>\n",
       "      <td>114.000000</td>\n",
       "      <td>3.458077e+06</td>\n",
       "    </tr>\n",
       "  </tbody>\n",
       "</table>\n",
       "</div>"
      ],
      "text/plain": [
       "          ind_var30   ind_var30_0     num_var30   num_var30_0   saldo_var30\n",
       "count  60816.000000  60816.000000  60816.000000  60816.000000  6.081600e+04\n",
       "mean       0.733097      0.995659      2.384323      3.374309  1.388042e+04\n",
       "std        0.442345      0.065743      1.642766      1.349025  6.467857e+04\n",
       "min        0.000000      0.000000      0.000000      0.000000 -4.942260e+03\n",
       "25%        0.000000      1.000000      0.000000      3.000000  0.000000e+00\n",
       "50%        1.000000      1.000000      3.000000      3.000000  3.000000e+00\n",
       "75%        1.000000      1.000000      3.000000      3.000000  2.403075e+02\n",
       "max        1.000000      1.000000     33.000000    114.000000  3.458077e+06"
      ]
     },
     "execution_count": 58,
     "metadata": {},
     "output_type": "execute_result"
    }
   ],
   "source": [
    "# Dataframe \"train_df\":\n",
    "train_df[feat_groupby_vars['var30']].describe()"
   ]
  },
  {
   "cell_type": "code",
   "execution_count": 59,
   "metadata": {
    "scrolled": true
   },
   "outputs": [
    {
     "data": {
      "text/html": [
       "<div>\n",
       "<style scoped>\n",
       "    .dataframe tbody tr th:only-of-type {\n",
       "        vertical-align: middle;\n",
       "    }\n",
       "\n",
       "    .dataframe tbody tr th {\n",
       "        vertical-align: top;\n",
       "    }\n",
       "\n",
       "    .dataframe thead th {\n",
       "        text-align: right;\n",
       "    }\n",
       "</style>\n",
       "<table border=\"1\" class=\"dataframe\">\n",
       "  <thead>\n",
       "    <tr style=\"text-align: right;\">\n",
       "      <th></th>\n",
       "      <th>ind_var30</th>\n",
       "      <th>ind_var30_0</th>\n",
       "      <th>num_var30</th>\n",
       "      <th>num_var30_0</th>\n",
       "      <th>saldo_var30</th>\n",
       "    </tr>\n",
       "    <tr>\n",
       "      <th>Percentile</th>\n",
       "      <th></th>\n",
       "      <th></th>\n",
       "      <th></th>\n",
       "      <th></th>\n",
       "      <th></th>\n",
       "    </tr>\n",
       "  </thead>\n",
       "  <tbody>\n",
       "    <tr>\n",
       "      <th>75%</th>\n",
       "      <td>1.0</td>\n",
       "      <td>1.0</td>\n",
       "      <td>3.0</td>\n",
       "      <td>3.0</td>\n",
       "      <td>2.403075e+02</td>\n",
       "    </tr>\n",
       "    <tr>\n",
       "      <th>76%</th>\n",
       "      <td>1.0</td>\n",
       "      <td>1.0</td>\n",
       "      <td>3.0</td>\n",
       "      <td>3.0</td>\n",
       "      <td>3.000000e+02</td>\n",
       "    </tr>\n",
       "    <tr>\n",
       "      <th>77%</th>\n",
       "      <td>1.0</td>\n",
       "      <td>1.0</td>\n",
       "      <td>3.0</td>\n",
       "      <td>3.0</td>\n",
       "      <td>3.630000e+02</td>\n",
       "    </tr>\n",
       "    <tr>\n",
       "      <th>78%</th>\n",
       "      <td>1.0</td>\n",
       "      <td>1.0</td>\n",
       "      <td>3.0</td>\n",
       "      <td>3.0</td>\n",
       "      <td>4.620720e+02</td>\n",
       "    </tr>\n",
       "    <tr>\n",
       "      <th>79%</th>\n",
       "      <td>1.0</td>\n",
       "      <td>1.0</td>\n",
       "      <td>3.0</td>\n",
       "      <td>3.0</td>\n",
       "      <td>6.000000e+02</td>\n",
       "    </tr>\n",
       "    <tr>\n",
       "      <th>80%</th>\n",
       "      <td>1.0</td>\n",
       "      <td>1.0</td>\n",
       "      <td>3.0</td>\n",
       "      <td>3.0</td>\n",
       "      <td>7.299300e+02</td>\n",
       "    </tr>\n",
       "    <tr>\n",
       "      <th>81%</th>\n",
       "      <td>1.0</td>\n",
       "      <td>1.0</td>\n",
       "      <td>3.0</td>\n",
       "      <td>3.0</td>\n",
       "      <td>9.000000e+02</td>\n",
       "    </tr>\n",
       "    <tr>\n",
       "      <th>82%</th>\n",
       "      <td>1.0</td>\n",
       "      <td>1.0</td>\n",
       "      <td>3.0</td>\n",
       "      <td>3.0</td>\n",
       "      <td>1.101171e+03</td>\n",
       "    </tr>\n",
       "    <tr>\n",
       "      <th>83%</th>\n",
       "      <td>1.0</td>\n",
       "      <td>1.0</td>\n",
       "      <td>3.0</td>\n",
       "      <td>3.0</td>\n",
       "      <td>1.380135e+03</td>\n",
       "    </tr>\n",
       "    <tr>\n",
       "      <th>84%</th>\n",
       "      <td>1.0</td>\n",
       "      <td>1.0</td>\n",
       "      <td>3.0</td>\n",
       "      <td>3.0</td>\n",
       "      <td>1.680000e+03</td>\n",
       "    </tr>\n",
       "    <tr>\n",
       "      <th>85%</th>\n",
       "      <td>1.0</td>\n",
       "      <td>1.0</td>\n",
       "      <td>3.0</td>\n",
       "      <td>3.0</td>\n",
       "      <td>2.122725e+03</td>\n",
       "    </tr>\n",
       "    <tr>\n",
       "      <th>86%</th>\n",
       "      <td>1.0</td>\n",
       "      <td>1.0</td>\n",
       "      <td>3.0</td>\n",
       "      <td>3.0</td>\n",
       "      <td>2.761707e+03</td>\n",
       "    </tr>\n",
       "    <tr>\n",
       "      <th>87%</th>\n",
       "      <td>1.0</td>\n",
       "      <td>1.0</td>\n",
       "      <td>3.0</td>\n",
       "      <td>3.0</td>\n",
       "      <td>3.442028e+03</td>\n",
       "    </tr>\n",
       "    <tr>\n",
       "      <th>88%</th>\n",
       "      <td>1.0</td>\n",
       "      <td>1.0</td>\n",
       "      <td>3.0</td>\n",
       "      <td>3.0</td>\n",
       "      <td>4.600578e+03</td>\n",
       "    </tr>\n",
       "    <tr>\n",
       "      <th>89%</th>\n",
       "      <td>1.0</td>\n",
       "      <td>1.0</td>\n",
       "      <td>3.0</td>\n",
       "      <td>3.0</td>\n",
       "      <td>6.309816e+03</td>\n",
       "    </tr>\n",
       "    <tr>\n",
       "      <th>90%</th>\n",
       "      <td>1.0</td>\n",
       "      <td>1.0</td>\n",
       "      <td>3.0</td>\n",
       "      <td>6.0</td>\n",
       "      <td>9.435855e+03</td>\n",
       "    </tr>\n",
       "    <tr>\n",
       "      <th>91%</th>\n",
       "      <td>1.0</td>\n",
       "      <td>1.0</td>\n",
       "      <td>3.0</td>\n",
       "      <td>6.0</td>\n",
       "      <td>1.580958e+04</td>\n",
       "    </tr>\n",
       "    <tr>\n",
       "      <th>92%</th>\n",
       "      <td>1.0</td>\n",
       "      <td>1.0</td>\n",
       "      <td>3.0</td>\n",
       "      <td>6.0</td>\n",
       "      <td>2.869965e+04</td>\n",
       "    </tr>\n",
       "    <tr>\n",
       "      <th>93%</th>\n",
       "      <td>1.0</td>\n",
       "      <td>1.0</td>\n",
       "      <td>3.0</td>\n",
       "      <td>6.0</td>\n",
       "      <td>4.500000e+04</td>\n",
       "    </tr>\n",
       "    <tr>\n",
       "      <th>94%</th>\n",
       "      <td>1.0</td>\n",
       "      <td>1.0</td>\n",
       "      <td>3.0</td>\n",
       "      <td>6.0</td>\n",
       "      <td>6.450000e+04</td>\n",
       "    </tr>\n",
       "    <tr>\n",
       "      <th>95%</th>\n",
       "      <td>1.0</td>\n",
       "      <td>1.0</td>\n",
       "      <td>6.0</td>\n",
       "      <td>6.0</td>\n",
       "      <td>9.000600e+04</td>\n",
       "    </tr>\n",
       "    <tr>\n",
       "      <th>96%</th>\n",
       "      <td>1.0</td>\n",
       "      <td>1.0</td>\n",
       "      <td>6.0</td>\n",
       "      <td>6.0</td>\n",
       "      <td>1.201814e+05</td>\n",
       "    </tr>\n",
       "    <tr>\n",
       "      <th>97%</th>\n",
       "      <td>1.0</td>\n",
       "      <td>1.0</td>\n",
       "      <td>6.0</td>\n",
       "      <td>6.0</td>\n",
       "      <td>1.573217e+05</td>\n",
       "    </tr>\n",
       "    <tr>\n",
       "      <th>98%</th>\n",
       "      <td>1.0</td>\n",
       "      <td>1.0</td>\n",
       "      <td>6.0</td>\n",
       "      <td>9.0</td>\n",
       "      <td>2.161919e+05</td>\n",
       "    </tr>\n",
       "    <tr>\n",
       "      <th>99%</th>\n",
       "      <td>1.0</td>\n",
       "      <td>1.0</td>\n",
       "      <td>6.0</td>\n",
       "      <td>9.0</td>\n",
       "      <td>3.000150e+05</td>\n",
       "    </tr>\n",
       "    <tr>\n",
       "      <th>100%</th>\n",
       "      <td>1.0</td>\n",
       "      <td>1.0</td>\n",
       "      <td>33.0</td>\n",
       "      <td>114.0</td>\n",
       "      <td>3.458077e+06</td>\n",
       "    </tr>\n",
       "  </tbody>\n",
       "</table>\n",
       "</div>"
      ],
      "text/plain": [
       "            ind_var30  ind_var30_0  num_var30  num_var30_0   saldo_var30\n",
       "Percentile                                                              \n",
       "75%               1.0          1.0        3.0          3.0  2.403075e+02\n",
       "76%               1.0          1.0        3.0          3.0  3.000000e+02\n",
       "77%               1.0          1.0        3.0          3.0  3.630000e+02\n",
       "78%               1.0          1.0        3.0          3.0  4.620720e+02\n",
       "79%               1.0          1.0        3.0          3.0  6.000000e+02\n",
       "80%               1.0          1.0        3.0          3.0  7.299300e+02\n",
       "81%               1.0          1.0        3.0          3.0  9.000000e+02\n",
       "82%               1.0          1.0        3.0          3.0  1.101171e+03\n",
       "83%               1.0          1.0        3.0          3.0  1.380135e+03\n",
       "84%               1.0          1.0        3.0          3.0  1.680000e+03\n",
       "85%               1.0          1.0        3.0          3.0  2.122725e+03\n",
       "86%               1.0          1.0        3.0          3.0  2.761707e+03\n",
       "87%               1.0          1.0        3.0          3.0  3.442028e+03\n",
       "88%               1.0          1.0        3.0          3.0  4.600578e+03\n",
       "89%               1.0          1.0        3.0          3.0  6.309816e+03\n",
       "90%               1.0          1.0        3.0          6.0  9.435855e+03\n",
       "91%               1.0          1.0        3.0          6.0  1.580958e+04\n",
       "92%               1.0          1.0        3.0          6.0  2.869965e+04\n",
       "93%               1.0          1.0        3.0          6.0  4.500000e+04\n",
       "94%               1.0          1.0        3.0          6.0  6.450000e+04\n",
       "95%               1.0          1.0        6.0          6.0  9.000600e+04\n",
       "96%               1.0          1.0        6.0          6.0  1.201814e+05\n",
       "97%               1.0          1.0        6.0          6.0  1.573217e+05\n",
       "98%               1.0          1.0        6.0          9.0  2.161919e+05\n",
       "99%               1.0          1.0        6.0          9.0  3.000150e+05\n",
       "100%              1.0          1.0       33.0        114.0  3.458077e+06"
      ]
     },
     "execution_count": 59,
     "metadata": {},
     "output_type": "execute_result"
    }
   ],
   "source": [
    "# Obtendo os percentis a partir de \"75%\", com intervá-los de \"1%\":\n",
    "result = dslib.get_features_percentiles(data=train_df, features=feat_groupby_vars['var30'], percent_range=range(75, 101, 1))\n",
    "result"
   ]
  },
  {
   "cell_type": "code",
   "execution_count": 60,
   "metadata": {
    "scrolled": true
   },
   "outputs": [
    {
     "name": "stdout",
     "output_type": "stream",
     "text": [
      "           Total  Percent\n",
      "ind_var30                \n",
      "1          44584   0.7331\n",
      "0          16232   0.2669\n",
      "\n",
      "             Total  Percent\n",
      "ind_var30_0                \n",
      "1            60552   0.9957\n",
      "0              264   0.0043\n",
      "\n",
      "           Total  Percent\n",
      "num_var30                \n",
      "3          41162   0.6768\n",
      "0          16232   0.2669\n",
      "6           3135   0.0515\n",
      "9            259   0.0043\n",
      "12            21   0.0003\n",
      "15             5   0.0001\n",
      "18             1   0.0000\n",
      "33             1   0.0000\n",
      "\n",
      "             Total  Percent\n",
      "num_var30_0                \n",
      "3            54433   0.8950\n",
      "6             4579   0.0753\n",
      "9             1402   0.0231\n",
      "0              264   0.0043\n",
      "12             123   0.0020\n",
      "15              12   0.0002\n",
      "18               1   0.0000\n",
      "33               1   0.0000\n",
      "114              1   0.0000\n",
      "\n",
      "             Total  Percent\n",
      "saldo_var30                \n",
      "0.00         16232   0.2669\n",
      "3.00         14587   0.2399\n",
      "90.00         4214   0.0693\n",
      "30.00         1253   0.0206\n",
      "15.00         1185   0.0195\n",
      "...            ...      ...\n",
      "1065.00          1   0.0000\n",
      "1065.39          1   0.0000\n",
      "1065.45          1   0.0000\n",
      "1065.72          1   0.0000\n",
      "3458077.32       1   0.0000\n",
      "\n",
      "[13974 rows x 2 columns]\n",
      "\n"
     ]
    }
   ],
   "source": [
    "# Vamos verificar a proporção dos valores para as variáveis relacionadas a \"var30\":\n",
    "for feat in feat_groupby_vars['var30']:\n",
    "    print(dslib.percent_count_feature(df=train_df, feature=feat, lines_drop=False))\n",
    "    print()"
   ]
  },
  {
   "cell_type": "markdown",
   "metadata": {},
   "source": [
    "**Análise:** observamos que as **`features`** **`ind_var30`** e **`ind_var30_0`**, relacionadas com **`var30`**, são variáveis do tipo `Categóricas Nominais Binárias`, com apenas duas classes **`0`** e **`1`**. Entretanto, as **`features`** **`num_var30`** e **`num_var30_0`**, relacionadas com **`var30`**, são variáveis do tipo `Quantitativa Discreta`. A feature **`saldo_var30`** é uma variável do tipo `Quantitativa Contínua`.\n",
    "\n",
    "Agora, vamos analisar, para as features **`num_var30`**, **`num_var30_0`** e **`saldo_var30`**, as suas distribuições de frequências (*Histograma*) e também verificar se existem **outliers** com um *BoxPlot*."
   ]
  },
  {
   "cell_type": "code",
   "execution_count": 61,
   "metadata": {},
   "outputs": [
    {
     "name": "stdout",
     "output_type": "stream",
     "text": [
      "Saving figure: plot_histograms_var30\n"
     ]
    },
    {
     "data": {
      "image/png": "[encoded data removed]",
      "text/plain": [
       "<Figure size 1080x720 with 3 Axes>"
      ]
     },
     "metadata": {},
     "output_type": "display_data"
    }
   ],
   "source": [
    "# Desenhando os histogramas para as features 'num_var30', 'num_var30_0' e 'saldo_var30' de \"var30\":\n",
    "# Features:\n",
    "feats = ['num_var30', 'num_var30_0', 'saldo_var30']\n",
    "\n",
    "# Histogramas:\n",
    "ptlib.plot_histograms_features(df=train_df, features=feats, plot_style='ticks', kde=False, colors='r',\n",
    "                               titles=feats, titles_fontsize=16, xlabels=None, xlabels_fontsize=13,\n",
    "                               ylabels=None, ylabels_fontsize=13, xtick_labelsize=13, ytick_labelsize=13,\n",
    "                               cols_nr=2, rows_nr=2, width=15, height=10, wspace=None, hspace=None,\n",
    "                               figure_id=\"plot_histograms_var30\", figure_path=PROJECT_IMG_PATH,\n",
    "                               figure_file_format=\"png\", figure_file_extension=\".png\",\n",
    "                               tight_layout=True, dpi=300\n",
    "                              )"
   ]
  },
  {
   "cell_type": "code",
   "execution_count": 62,
   "metadata": {},
   "outputs": [
    {
     "name": "stdout",
     "output_type": "stream",
     "text": [
      "Saving figure: plot_boxplots_var30\n"
     ]
    },
    {
     "data": {
      "image/png": "[encoded data removed]",
      "text/plain": [
       "<Figure size 1080x720 with 3 Axes>"
      ]
     },
     "metadata": {},
     "output_type": "display_data"
    }
   ],
   "source": [
    "# Desenhando os histogramas para as features 'num_var30', 'num_var30_0' e 'saldo_var30' de \"var30\":\n",
    "# Features:\n",
    "feats = ['num_var30', 'num_var30_0', 'saldo_var30']\n",
    "\n",
    "# BoxPlots:\n",
    "ptlib.plot_boxplots_features(df=train_df, features=feats, plot_style='ticks', colors='r',\n",
    "                             orient='h', saturation=0.75,\n",
    "                             titles=feats, titles_fontsize=16, xlabels=None, xlabels_fontsize=13,\n",
    "                             ylabels=None, ylabels_fontsize=13, xtick_labelsize=13, ytick_labelsize=13,\n",
    "                             cols_nr=2, rows_nr=2, width=15, height=10, wspace=None, hspace=None,\n",
    "                             figure_id=\"plot_boxplots_var30\", figure_path=PROJECT_IMG_PATH,\n",
    "                             figure_file_format=\"png\", figure_file_extension=\".png\",\n",
    "                             tight_layout=True, dpi=300\n",
    "                            )"
   ]
  },
  {
   "cell_type": "markdown",
   "metadata": {},
   "source": [
    "Agora, vamos verificar se existe alguma **correlação** entre as **`features`** de **`var30`**:"
   ]
  },
  {
   "cell_type": "code",
   "execution_count": 63,
   "metadata": {},
   "outputs": [
    {
     "name": "stdout",
     "output_type": "stream",
     "text": [
      "Saving figure: plot_corr_features_var30\n"
     ]
    },
    {
     "data": {
      "image/png": "[encoded data removed]",
      "text/plain": [
       "<Figure size 720x432 with 2 Axes>"
      ]
     },
     "metadata": {},
     "output_type": "display_data"
    }
   ],
   "source": [
    "# Analisando a correlação entre as features de \"var30\":\n",
    "ptlib.plot_corr_features(df=train_df, features=feat_groupby_vars['var30'], digits=3, title=\"var30 (Features)\",\n",
    "                         title_fontsize=18, xtick_labelsize=13, ytick_labelsize=13, width=10, height=6,\n",
    "                         figure_id='plot_corr_features_var30', figure_path=PROJECT_IMG_PATH,\n",
    "                         figure_file_format=\"png\", figure_file_extension=\".png\", tight_layout=True, dpi=300\n",
    "                        )"
   ]
  },
  {
   "cell_type": "markdown",
   "metadata": {},
   "source": [
    "**Análise:**\n",
    "\n",
    "1. As features `ind_var30` e `num_var_30` possuem uma **alta correlação positiva** (`correlação = 0.88`);\n",
    "\n",
    "2. Na feature `ind_var30_0`, `99%` dos valores pertencem a categoria `1`;\n",
    "\n",
    "3. Na feature `num_var30`,  observamos que existe uma alta variabilidade nos dados ocasionada pelos **outliers** (*Box Plot*). Os **outliers** estão concentrados nos **valores acima de `8`**. No histograma, podemos notar que existe um *pico* de observações (**`68%`**) com valores iguais a `3`. Também podemos observar que `99%` da sua distribuição de frequência está concentrada em um faixa de valores entre **`0` e `6`**, conforme podemos observar no *histograma* e no relatório de *percentis*;\n",
    "\n",
    "4. Na feature `num_var30_0`,  observamos que existe uma alta variabilidade nos dados ocasionada pelos **outliers** (*Box Plot*). Os **outliers** estão concentrados nos **valores iguais a `0` e acima de `9`**. No histograma, podemos notar que existe um *pico* de observações (**`90%`**) com valores iguais a `3`. Também podemos observar que `97%` da sua distribuição de frequência está concentrada em um faixa de valores entre **`0` e `6`**, conforme podemos observar no *histograma* e no relatório de *percentis*;\n",
    "\n",
    "5. Na feature `saldo_var30`,  observamos que existe uma alta variabilidade nos dados ocasionada pelos **outliers** (*Box Plot*). Os **outliers** estão concentrados nos **valores acima de `90 mil`**.Também podemos observar que `90%` da sua distribuição de frequência está concentrada em um faixa de valores entre **`0` e `10 mil`**, conforme podemos observar no *histograma* e no relatório de *percentis*."
   ]
  },
  {
   "cell_type": "markdown",
   "metadata": {},
   "source": [
    "**Conclusão:** Portanto, entendemos que as **features** **`ind_var30_0`** e **`num_var30_0`** **são `irrelevantes`** para serem analisadas na criação dos modelos preditivos."
   ]
  },
  {
   "cell_type": "code",
   "execution_count": 64,
   "metadata": {},
   "outputs": [],
   "source": [
    "# Armazenando informações sobre as features:\n",
    "features = ['ind_var30', 'ind_var30_0']\n",
    "santander_feat_info.save(key='Binary', features=features) # Categórica Nominal Binária.\n",
    "\n",
    "features = ['num_var30', 'num_var30_0']\n",
    "santander_feat_info.save(key='Discrete', features=features) # Quantitativa Discreta.\n",
    "\n",
    "features = ['saldo_var30']\n",
    "santander_feat_info.save(key='Continuous', features=features) # Quantitativa Contínua.\n",
    "\n",
    "features = ['num_var30', 'saldo_var30']\n",
    "santander_feat_info.save(key='Outliers', features=features) # Variáveis têm \"Outliers\".\n",
    "\n",
    "features = ['ind_var30_0', 'num_var30_0']\n",
    "santander_feat_info.save(key='Irrelevant', features=features) # Irrelevantes."
   ]
  },
  {
   "cell_type": "markdown",
   "metadata": {},
   "source": [
    "## var31"
   ]
  },
  {
   "cell_type": "code",
   "execution_count": 65,
   "metadata": {},
   "outputs": [
    {
     "name": "stdout",
     "output_type": "stream",
     "text": [
      "<class 'pandas.core.frame.DataFrame'>\n",
      "RangeIndex: 60816 entries, 0 to 60815\n",
      "Data columns (total 5 columns):\n",
      "ind_var31      60816 non-null int64\n",
      "ind_var31_0    60816 non-null int64\n",
      "num_var31      60816 non-null int64\n",
      "num_var31_0    60816 non-null int64\n",
      "saldo_var31    60816 non-null float64\n",
      "dtypes: float64(1), int64(4)\n",
      "memory usage: 2.3 MB\n"
     ]
    }
   ],
   "source": [
    "# Resumo das informações:\n",
    "train_df[feat_groupby_vars['var31']].info()"
   ]
  },
  {
   "cell_type": "markdown",
   "metadata": {},
   "source": [
    "Agora, vamos calcular algumas medidas **estatísticas descritivas** para análsise destas **`features`** em nosso dataset:"
   ]
  },
  {
   "cell_type": "code",
   "execution_count": 66,
   "metadata": {
    "scrolled": true
   },
   "outputs": [
    {
     "data": {
      "text/html": [
       "<div>\n",
       "<style scoped>\n",
       "    .dataframe tbody tr th:only-of-type {\n",
       "        vertical-align: middle;\n",
       "    }\n",
       "\n",
       "    .dataframe tbody tr th {\n",
       "        vertical-align: top;\n",
       "    }\n",
       "\n",
       "    .dataframe thead th {\n",
       "        text-align: right;\n",
       "    }\n",
       "</style>\n",
       "<table border=\"1\" class=\"dataframe\">\n",
       "  <thead>\n",
       "    <tr style=\"text-align: right;\">\n",
       "      <th></th>\n",
       "      <th>ind_var31</th>\n",
       "      <th>ind_var31_0</th>\n",
       "      <th>num_var31</th>\n",
       "      <th>num_var31_0</th>\n",
       "      <th>saldo_var31</th>\n",
       "    </tr>\n",
       "  </thead>\n",
       "  <tbody>\n",
       "    <tr>\n",
       "      <th>count</th>\n",
       "      <td>60816.000000</td>\n",
       "      <td>60816.000000</td>\n",
       "      <td>60816.000000</td>\n",
       "      <td>60816.000000</td>\n",
       "      <td>6.081600e+04</td>\n",
       "    </tr>\n",
       "    <tr>\n",
       "      <th>mean</th>\n",
       "      <td>0.003700</td>\n",
       "      <td>0.004292</td>\n",
       "      <td>0.016476</td>\n",
       "      <td>0.020768</td>\n",
       "      <td>3.350655e+02</td>\n",
       "    </tr>\n",
       "    <tr>\n",
       "      <th>std</th>\n",
       "      <td>0.060713</td>\n",
       "      <td>0.065370</td>\n",
       "      <td>0.340224</td>\n",
       "      <td>0.424575</td>\n",
       "      <td>2.601808e+04</td>\n",
       "    </tr>\n",
       "    <tr>\n",
       "      <th>min</th>\n",
       "      <td>0.000000</td>\n",
       "      <td>0.000000</td>\n",
       "      <td>0.000000</td>\n",
       "      <td>0.000000</td>\n",
       "      <td>0.000000e+00</td>\n",
       "    </tr>\n",
       "    <tr>\n",
       "      <th>25%</th>\n",
       "      <td>0.000000</td>\n",
       "      <td>0.000000</td>\n",
       "      <td>0.000000</td>\n",
       "      <td>0.000000</td>\n",
       "      <td>0.000000e+00</td>\n",
       "    </tr>\n",
       "    <tr>\n",
       "      <th>50%</th>\n",
       "      <td>0.000000</td>\n",
       "      <td>0.000000</td>\n",
       "      <td>0.000000</td>\n",
       "      <td>0.000000</td>\n",
       "      <td>0.000000e+00</td>\n",
       "    </tr>\n",
       "    <tr>\n",
       "      <th>75%</th>\n",
       "      <td>0.000000</td>\n",
       "      <td>0.000000</td>\n",
       "      <td>0.000000</td>\n",
       "      <td>0.000000</td>\n",
       "      <td>0.000000e+00</td>\n",
       "    </tr>\n",
       "    <tr>\n",
       "      <th>max</th>\n",
       "      <td>1.000000</td>\n",
       "      <td>1.000000</td>\n",
       "      <td>27.000000</td>\n",
       "      <td>36.000000</td>\n",
       "      <td>6.119500e+06</td>\n",
       "    </tr>\n",
       "  </tbody>\n",
       "</table>\n",
       "</div>"
      ],
      "text/plain": [
       "          ind_var31   ind_var31_0     num_var31   num_var31_0   saldo_var31\n",
       "count  60816.000000  60816.000000  60816.000000  60816.000000  6.081600e+04\n",
       "mean       0.003700      0.004292      0.016476      0.020768  3.350655e+02\n",
       "std        0.060713      0.065370      0.340224      0.424575  2.601808e+04\n",
       "min        0.000000      0.000000      0.000000      0.000000  0.000000e+00\n",
       "25%        0.000000      0.000000      0.000000      0.000000  0.000000e+00\n",
       "50%        0.000000      0.000000      0.000000      0.000000  0.000000e+00\n",
       "75%        0.000000      0.000000      0.000000      0.000000  0.000000e+00\n",
       "max        1.000000      1.000000     27.000000     36.000000  6.119500e+06"
      ]
     },
     "execution_count": 66,
     "metadata": {},
     "output_type": "execute_result"
    }
   ],
   "source": [
    "# Dataframe \"train_df\":\n",
    "train_df[feat_groupby_vars['var31']].describe()"
   ]
  },
  {
   "cell_type": "code",
   "execution_count": 67,
   "metadata": {},
   "outputs": [
    {
     "data": {
      "text/html": [
       "<div>\n",
       "<style scoped>\n",
       "    .dataframe tbody tr th:only-of-type {\n",
       "        vertical-align: middle;\n",
       "    }\n",
       "\n",
       "    .dataframe tbody tr th {\n",
       "        vertical-align: top;\n",
       "    }\n",
       "\n",
       "    .dataframe thead th {\n",
       "        text-align: right;\n",
       "    }\n",
       "</style>\n",
       "<table border=\"1\" class=\"dataframe\">\n",
       "  <thead>\n",
       "    <tr style=\"text-align: right;\">\n",
       "      <th></th>\n",
       "      <th>ind_var31</th>\n",
       "      <th>ind_var31_0</th>\n",
       "      <th>num_var31</th>\n",
       "      <th>num_var31_0</th>\n",
       "      <th>saldo_var31</th>\n",
       "    </tr>\n",
       "    <tr>\n",
       "      <th>Percentile</th>\n",
       "      <th></th>\n",
       "      <th></th>\n",
       "      <th></th>\n",
       "      <th></th>\n",
       "      <th></th>\n",
       "    </tr>\n",
       "  </thead>\n",
       "  <tbody>\n",
       "    <tr>\n",
       "      <th>95%</th>\n",
       "      <td>0.0</td>\n",
       "      <td>0.0</td>\n",
       "      <td>0.0</td>\n",
       "      <td>0.0</td>\n",
       "      <td>0.00</td>\n",
       "    </tr>\n",
       "    <tr>\n",
       "      <th>96%</th>\n",
       "      <td>0.0</td>\n",
       "      <td>0.0</td>\n",
       "      <td>0.0</td>\n",
       "      <td>0.0</td>\n",
       "      <td>0.00</td>\n",
       "    </tr>\n",
       "    <tr>\n",
       "      <th>97%</th>\n",
       "      <td>0.0</td>\n",
       "      <td>0.0</td>\n",
       "      <td>0.0</td>\n",
       "      <td>0.0</td>\n",
       "      <td>0.00</td>\n",
       "    </tr>\n",
       "    <tr>\n",
       "      <th>98%</th>\n",
       "      <td>0.0</td>\n",
       "      <td>0.0</td>\n",
       "      <td>0.0</td>\n",
       "      <td>0.0</td>\n",
       "      <td>0.00</td>\n",
       "    </tr>\n",
       "    <tr>\n",
       "      <th>99%</th>\n",
       "      <td>0.0</td>\n",
       "      <td>0.0</td>\n",
       "      <td>0.0</td>\n",
       "      <td>0.0</td>\n",
       "      <td>0.00</td>\n",
       "    </tr>\n",
       "    <tr>\n",
       "      <th>100%</th>\n",
       "      <td>1.0</td>\n",
       "      <td>1.0</td>\n",
       "      <td>27.0</td>\n",
       "      <td>36.0</td>\n",
       "      <td>6119500.14</td>\n",
       "    </tr>\n",
       "  </tbody>\n",
       "</table>\n",
       "</div>"
      ],
      "text/plain": [
       "            ind_var31  ind_var31_0  num_var31  num_var31_0  saldo_var31\n",
       "Percentile                                                             \n",
       "95%               0.0          0.0        0.0          0.0         0.00\n",
       "96%               0.0          0.0        0.0          0.0         0.00\n",
       "97%               0.0          0.0        0.0          0.0         0.00\n",
       "98%               0.0          0.0        0.0          0.0         0.00\n",
       "99%               0.0          0.0        0.0          0.0         0.00\n",
       "100%              1.0          1.0       27.0         36.0   6119500.14"
      ]
     },
     "execution_count": 67,
     "metadata": {},
     "output_type": "execute_result"
    }
   ],
   "source": [
    "# Obtendo os percentis a partir de \"95%\", com intervá-los de \"1%\":\n",
    "result = dslib.get_features_percentiles(data=train_df, features=feat_groupby_vars['var31'], percent_range=range(95, 101, 1))\n",
    "result"
   ]
  },
  {
   "cell_type": "code",
   "execution_count": 68,
   "metadata": {
    "scrolled": true
   },
   "outputs": [
    {
     "name": "stdout",
     "output_type": "stream",
     "text": [
      "           Total  Percent\n",
      "ind_var31                \n",
      "0          60591   0.9963\n",
      "1            225   0.0037\n",
      "\n",
      "             Total  Percent\n",
      "ind_var31_0                \n",
      "0            60555   0.9957\n",
      "1              261   0.0043\n",
      "\n",
      "           Total  Percent\n",
      "num_var31                \n",
      "0          60591   0.9963\n",
      "3            172   0.0028\n",
      "6             26   0.0004\n",
      "9             14   0.0002\n",
      "12             5   0.0001\n",
      "15             4   0.0001\n",
      "18             2   0.0000\n",
      "21             1   0.0000\n",
      "27             1   0.0000\n",
      "\n",
      "             Total  Percent\n",
      "num_var31_0                \n",
      "0            60555   0.9957\n",
      "3              193   0.0032\n",
      "6               32   0.0005\n",
      "9               16   0.0003\n",
      "12               6   0.0001\n",
      "15               6   0.0001\n",
      "18               3   0.0000\n",
      "24               2   0.0000\n",
      "21               1   0.0000\n",
      "27               1   0.0000\n",
      "36               1   0.0000\n",
      "\n",
      "             Total  Percent\n",
      "saldo_var31                \n",
      "0.00         60591   0.9963\n",
      "65439.45         2   0.0000\n",
      "47629.02         1   0.0000\n",
      "37985.22         1   0.0000\n",
      "41010.93         1   0.0000\n",
      "...            ...      ...\n",
      "12222.84         1   0.0000\n",
      "12244.11         1   0.0000\n",
      "12347.49         1   0.0000\n",
      "12810.00         1   0.0000\n",
      "6119500.14       1   0.0000\n",
      "\n",
      "[225 rows x 2 columns]\n",
      "\n"
     ]
    }
   ],
   "source": [
    "# Vamos verificar a proporção dos valores para as variáveis relacionadas a \"var31\":\n",
    "for feat in feat_groupby_vars['var31']:\n",
    "    print(dslib.percent_count_feature(df=train_df, feature=feat, lines_drop=False))\n",
    "    print()"
   ]
  },
  {
   "cell_type": "markdown",
   "metadata": {},
   "source": [
    "**Análise:** observamos que as **`features`** **`ind_var31`** e **`ind_var31_0`**, relacionadas com **`var31`**, são variáveis do tipo `Categóricas Nominais Binárias`, com apenas duas classes **`0`** e **`1`**. Entretanto, as **`features`** **`num_var31`** e **`num_var31_0`**, relacionadas com **`var31`**, são variáveis do tipo `Quantitativa Discreta`. A feature **`saldo_var31`** é uma variável do tipo `Quantitativa Contínua`.\n",
    "\n",
    "Observamos, também, que nas features **`ind_var31`** e **`ind_var31_0`**, **`99%`** das observações estão concentradas na classe **`0`**. As features **`num_var31`**, **`num_var31_0`**, e **`saldo_var31`**, possuem em **`99%`** das observações, valores iguais a **`0`**."
   ]
  },
  {
   "cell_type": "markdown",
   "metadata": {},
   "source": [
    "**Conclusão:** Portanto, entendemos que estas **features são `irrelevantes`** para serem analisadas na criação dos modelos preditivos."
   ]
  },
  {
   "cell_type": "code",
   "execution_count": 69,
   "metadata": {},
   "outputs": [],
   "source": [
    "# Armazenando informações sobre as features:\n",
    "features = ['ind_var31', 'ind_var31_0']\n",
    "santander_feat_info.save(key='Binary', features=features) # Categórica Nominal Binária.\n",
    "\n",
    "features = ['num_var31', 'num_var31_0']\n",
    "santander_feat_info.save(key='Discrete', features=features) # Quantitativa Discreta.\n",
    "\n",
    "features = ['saldo_var31']\n",
    "santander_feat_info.save(key='Continuous', features=features) # Quantitativa Contínua.\n",
    "\n",
    "santander_feat_info.save(key='Irrelevant', features=feat_groupby_vars['var31']) # Irrelevantes."
   ]
  },
  {
   "cell_type": "markdown",
   "metadata": {},
   "source": [
    "## var43"
   ]
  },
  {
   "cell_type": "code",
   "execution_count": 70,
   "metadata": {},
   "outputs": [
    {
     "name": "stdout",
     "output_type": "stream",
     "text": [
      "<class 'pandas.core.frame.DataFrame'>\n",
      "RangeIndex: 60816 entries, 0 to 60815\n",
      "Data columns (total 5 columns):\n",
      "imp_var43_emit_ult1     60816 non-null float64\n",
      "ind_var43_emit_ult1     60816 non-null int64\n",
      "ind_var43_recib_ult1    60816 non-null int64\n",
      "num_var43_emit_ult1     60816 non-null int64\n",
      "num_var43_recib_ult1    60816 non-null int64\n",
      "dtypes: float64(1), int64(4)\n",
      "memory usage: 2.3 MB\n"
     ]
    }
   ],
   "source": [
    "# Resumo das informações:\n",
    "train_df[feat_groupby_vars['var43']].info()"
   ]
  },
  {
   "cell_type": "markdown",
   "metadata": {},
   "source": [
    "Agora, vamos calcular algumas medidas **estatísticas descritivas** para análsise destas **`features`** em nosso dataset:"
   ]
  },
  {
   "cell_type": "code",
   "execution_count": 71,
   "metadata": {
    "scrolled": true
   },
   "outputs": [
    {
     "data": {
      "text/html": [
       "<div>\n",
       "<style scoped>\n",
       "    .dataframe tbody tr th:only-of-type {\n",
       "        vertical-align: middle;\n",
       "    }\n",
       "\n",
       "    .dataframe tbody tr th {\n",
       "        vertical-align: top;\n",
       "    }\n",
       "\n",
       "    .dataframe thead th {\n",
       "        text-align: right;\n",
       "    }\n",
       "</style>\n",
       "<table border=\"1\" class=\"dataframe\">\n",
       "  <thead>\n",
       "    <tr style=\"text-align: right;\">\n",
       "      <th></th>\n",
       "      <th>imp_var43_emit_ult1</th>\n",
       "      <th>ind_var43_emit_ult1</th>\n",
       "      <th>ind_var43_recib_ult1</th>\n",
       "      <th>num_var43_emit_ult1</th>\n",
       "      <th>num_var43_recib_ult1</th>\n",
       "    </tr>\n",
       "  </thead>\n",
       "  <tbody>\n",
       "    <tr>\n",
       "      <th>count</th>\n",
       "      <td>60816.000000</td>\n",
       "      <td>60816.000000</td>\n",
       "      <td>60816.000000</td>\n",
       "      <td>60816.000000</td>\n",
       "      <td>60816.000000</td>\n",
       "    </tr>\n",
       "    <tr>\n",
       "      <th>mean</th>\n",
       "      <td>870.980582</td>\n",
       "      <td>0.066446</td>\n",
       "      <td>0.129834</td>\n",
       "      <td>0.393745</td>\n",
       "      <td>0.814621</td>\n",
       "    </tr>\n",
       "    <tr>\n",
       "      <th>std</th>\n",
       "      <td>13961.760981</td>\n",
       "      <td>0.249063</td>\n",
       "      <td>0.336124</td>\n",
       "      <td>2.274789</td>\n",
       "      <td>3.551331</td>\n",
       "    </tr>\n",
       "    <tr>\n",
       "      <th>min</th>\n",
       "      <td>0.000000</td>\n",
       "      <td>0.000000</td>\n",
       "      <td>0.000000</td>\n",
       "      <td>0.000000</td>\n",
       "      <td>0.000000</td>\n",
       "    </tr>\n",
       "    <tr>\n",
       "      <th>25%</th>\n",
       "      <td>0.000000</td>\n",
       "      <td>0.000000</td>\n",
       "      <td>0.000000</td>\n",
       "      <td>0.000000</td>\n",
       "      <td>0.000000</td>\n",
       "    </tr>\n",
       "    <tr>\n",
       "      <th>50%</th>\n",
       "      <td>0.000000</td>\n",
       "      <td>0.000000</td>\n",
       "      <td>0.000000</td>\n",
       "      <td>0.000000</td>\n",
       "      <td>0.000000</td>\n",
       "    </tr>\n",
       "    <tr>\n",
       "      <th>75%</th>\n",
       "      <td>0.000000</td>\n",
       "      <td>0.000000</td>\n",
       "      <td>0.000000</td>\n",
       "      <td>0.000000</td>\n",
       "      <td>0.000000</td>\n",
       "    </tr>\n",
       "    <tr>\n",
       "      <th>max</th>\n",
       "      <td>901169.100000</td>\n",
       "      <td>1.000000</td>\n",
       "      <td>1.000000</td>\n",
       "      <td>180.000000</td>\n",
       "      <td>264.000000</td>\n",
       "    </tr>\n",
       "  </tbody>\n",
       "</table>\n",
       "</div>"
      ],
      "text/plain": [
       "       imp_var43_emit_ult1  ind_var43_emit_ult1  ind_var43_recib_ult1  \\\n",
       "count         60816.000000         60816.000000          60816.000000   \n",
       "mean            870.980582             0.066446              0.129834   \n",
       "std           13961.760981             0.249063              0.336124   \n",
       "min               0.000000             0.000000              0.000000   \n",
       "25%               0.000000             0.000000              0.000000   \n",
       "50%               0.000000             0.000000              0.000000   \n",
       "75%               0.000000             0.000000              0.000000   \n",
       "max          901169.100000             1.000000              1.000000   \n",
       "\n",
       "       num_var43_emit_ult1  num_var43_recib_ult1  \n",
       "count         60816.000000          60816.000000  \n",
       "mean              0.393745              0.814621  \n",
       "std               2.274789              3.551331  \n",
       "min               0.000000              0.000000  \n",
       "25%               0.000000              0.000000  \n",
       "50%               0.000000              0.000000  \n",
       "75%               0.000000              0.000000  \n",
       "max             180.000000            264.000000  "
      ]
     },
     "execution_count": 71,
     "metadata": {},
     "output_type": "execute_result"
    }
   ],
   "source": [
    "# Dataframe \"train_df\":\n",
    "train_df[feat_groupby_vars['var43']].describe()"
   ]
  },
  {
   "cell_type": "code",
   "execution_count": 72,
   "metadata": {},
   "outputs": [
    {
     "data": {
      "text/html": [
       "<div>\n",
       "<style scoped>\n",
       "    .dataframe tbody tr th:only-of-type {\n",
       "        vertical-align: middle;\n",
       "    }\n",
       "\n",
       "    .dataframe tbody tr th {\n",
       "        vertical-align: top;\n",
       "    }\n",
       "\n",
       "    .dataframe thead th {\n",
       "        text-align: right;\n",
       "    }\n",
       "</style>\n",
       "<table border=\"1\" class=\"dataframe\">\n",
       "  <thead>\n",
       "    <tr style=\"text-align: right;\">\n",
       "      <th></th>\n",
       "      <th>imp_var43_emit_ult1</th>\n",
       "      <th>ind_var43_emit_ult1</th>\n",
       "      <th>ind_var43_recib_ult1</th>\n",
       "      <th>num_var43_emit_ult1</th>\n",
       "      <th>num_var43_recib_ult1</th>\n",
       "    </tr>\n",
       "    <tr>\n",
       "      <th>Percentile</th>\n",
       "      <th></th>\n",
       "      <th></th>\n",
       "      <th></th>\n",
       "      <th></th>\n",
       "      <th></th>\n",
       "    </tr>\n",
       "  </thead>\n",
       "  <tbody>\n",
       "    <tr>\n",
       "      <th>87%</th>\n",
       "      <td>0.000</td>\n",
       "      <td>0.0</td>\n",
       "      <td>0.0</td>\n",
       "      <td>0.0</td>\n",
       "      <td>0.0</td>\n",
       "    </tr>\n",
       "    <tr>\n",
       "      <th>88%</th>\n",
       "      <td>0.000</td>\n",
       "      <td>0.0</td>\n",
       "      <td>1.0</td>\n",
       "      <td>0.0</td>\n",
       "      <td>3.0</td>\n",
       "    </tr>\n",
       "    <tr>\n",
       "      <th>89%</th>\n",
       "      <td>0.000</td>\n",
       "      <td>0.0</td>\n",
       "      <td>1.0</td>\n",
       "      <td>0.0</td>\n",
       "      <td>3.0</td>\n",
       "    </tr>\n",
       "    <tr>\n",
       "      <th>90%</th>\n",
       "      <td>0.000</td>\n",
       "      <td>0.0</td>\n",
       "      <td>1.0</td>\n",
       "      <td>0.0</td>\n",
       "      <td>3.0</td>\n",
       "    </tr>\n",
       "    <tr>\n",
       "      <th>91%</th>\n",
       "      <td>0.000</td>\n",
       "      <td>0.0</td>\n",
       "      <td>1.0</td>\n",
       "      <td>0.0</td>\n",
       "      <td>3.0</td>\n",
       "    </tr>\n",
       "    <tr>\n",
       "      <th>92%</th>\n",
       "      <td>0.000</td>\n",
       "      <td>0.0</td>\n",
       "      <td>1.0</td>\n",
       "      <td>0.0</td>\n",
       "      <td>3.0</td>\n",
       "    </tr>\n",
       "    <tr>\n",
       "      <th>93%</th>\n",
       "      <td>0.000</td>\n",
       "      <td>0.0</td>\n",
       "      <td>1.0</td>\n",
       "      <td>0.0</td>\n",
       "      <td>3.0</td>\n",
       "    </tr>\n",
       "    <tr>\n",
       "      <th>94%</th>\n",
       "      <td>75.000</td>\n",
       "      <td>1.0</td>\n",
       "      <td>1.0</td>\n",
       "      <td>3.0</td>\n",
       "      <td>3.0</td>\n",
       "    </tr>\n",
       "    <tr>\n",
       "      <th>95%</th>\n",
       "      <td>300.000</td>\n",
       "      <td>1.0</td>\n",
       "      <td>1.0</td>\n",
       "      <td>3.0</td>\n",
       "      <td>6.0</td>\n",
       "    </tr>\n",
       "    <tr>\n",
       "      <th>96%</th>\n",
       "      <td>781.452</td>\n",
       "      <td>1.0</td>\n",
       "      <td>1.0</td>\n",
       "      <td>3.0</td>\n",
       "      <td>6.0</td>\n",
       "    </tr>\n",
       "    <tr>\n",
       "      <th>97%</th>\n",
       "      <td>1500.000</td>\n",
       "      <td>1.0</td>\n",
       "      <td>1.0</td>\n",
       "      <td>3.0</td>\n",
       "      <td>6.0</td>\n",
       "    </tr>\n",
       "    <tr>\n",
       "      <th>98%</th>\n",
       "      <td>3000.000</td>\n",
       "      <td>1.0</td>\n",
       "      <td>1.0</td>\n",
       "      <td>6.0</td>\n",
       "      <td>9.0</td>\n",
       "    </tr>\n",
       "    <tr>\n",
       "      <th>99%</th>\n",
       "      <td>7953.060</td>\n",
       "      <td>1.0</td>\n",
       "      <td>1.0</td>\n",
       "      <td>9.0</td>\n",
       "      <td>12.0</td>\n",
       "    </tr>\n",
       "    <tr>\n",
       "      <th>100%</th>\n",
       "      <td>901169.100</td>\n",
       "      <td>1.0</td>\n",
       "      <td>1.0</td>\n",
       "      <td>180.0</td>\n",
       "      <td>264.0</td>\n",
       "    </tr>\n",
       "  </tbody>\n",
       "</table>\n",
       "</div>"
      ],
      "text/plain": [
       "            imp_var43_emit_ult1  ind_var43_emit_ult1  ind_var43_recib_ult1  \\\n",
       "Percentile                                                                   \n",
       "87%                       0.000                  0.0                   0.0   \n",
       "88%                       0.000                  0.0                   1.0   \n",
       "89%                       0.000                  0.0                   1.0   \n",
       "90%                       0.000                  0.0                   1.0   \n",
       "91%                       0.000                  0.0                   1.0   \n",
       "92%                       0.000                  0.0                   1.0   \n",
       "93%                       0.000                  0.0                   1.0   \n",
       "94%                      75.000                  1.0                   1.0   \n",
       "95%                     300.000                  1.0                   1.0   \n",
       "96%                     781.452                  1.0                   1.0   \n",
       "97%                    1500.000                  1.0                   1.0   \n",
       "98%                    3000.000                  1.0                   1.0   \n",
       "99%                    7953.060                  1.0                   1.0   \n",
       "100%                 901169.100                  1.0                   1.0   \n",
       "\n",
       "            num_var43_emit_ult1  num_var43_recib_ult1  \n",
       "Percentile                                             \n",
       "87%                         0.0                   0.0  \n",
       "88%                         0.0                   3.0  \n",
       "89%                         0.0                   3.0  \n",
       "90%                         0.0                   3.0  \n",
       "91%                         0.0                   3.0  \n",
       "92%                         0.0                   3.0  \n",
       "93%                         0.0                   3.0  \n",
       "94%                         3.0                   3.0  \n",
       "95%                         3.0                   6.0  \n",
       "96%                         3.0                   6.0  \n",
       "97%                         3.0                   6.0  \n",
       "98%                         6.0                   9.0  \n",
       "99%                         9.0                  12.0  \n",
       "100%                      180.0                 264.0  "
      ]
     },
     "execution_count": 72,
     "metadata": {},
     "output_type": "execute_result"
    }
   ],
   "source": [
    "# Obtendo os percentis a partir de \"87%\", com intervá-los de \"1%\":\n",
    "result = dslib.get_features_percentiles(data=train_df, features=feat_groupby_vars['var43'], percent_range=range(87, 101, 1))\n",
    "result"
   ]
  },
  {
   "cell_type": "code",
   "execution_count": 73,
   "metadata": {
    "scrolled": true
   },
   "outputs": [
    {
     "name": "stdout",
     "output_type": "stream",
     "text": [
      "                     Total  Percent\n",
      "imp_var43_emit_ult1                \n",
      "0.00                 56775   0.9336\n",
      "3000.00                 94   0.0015\n",
      "300.00                  89   0.0015\n",
      "900.00                  86   0.0014\n",
      "1500.00                 84   0.0014\n",
      "...                    ...      ...\n",
      "944.91                   1   0.0000\n",
      "941.40                   1   0.0000\n",
      "937.50                   1   0.0000\n",
      "935.58                   1   0.0000\n",
      "901169.10                1   0.0000\n",
      "\n",
      "[1956 rows x 2 columns]\n",
      "\n",
      "                     Total  Percent\n",
      "ind_var43_emit_ult1                \n",
      "0                    56775   0.9336\n",
      "1                     4041   0.0664\n",
      "\n",
      "                      Total  Percent\n",
      "ind_var43_recib_ult1                \n",
      "0                     52920   0.8702\n",
      "1                      7896   0.1298\n",
      "\n",
      "                     Total  Percent\n",
      "num_var43_emit_ult1                \n",
      "0                    56775   0.9336\n",
      "3                     2383   0.0392\n",
      "6                      864   0.0142\n",
      "9                      363   0.0060\n",
      "12                     173   0.0028\n",
      "15                      81   0.0013\n",
      "18                      52   0.0009\n",
      "21                      35   0.0006\n",
      "24                      19   0.0003\n",
      "27                      18   0.0003\n",
      "33                      12   0.0002\n",
      "30                       8   0.0001\n",
      "36                       6   0.0001\n",
      "42                       4   0.0001\n",
      "45                       4   0.0001\n",
      "51                       3   0.0000\n",
      "60                       3   0.0000\n",
      "39                       3   0.0000\n",
      "57                       2   0.0000\n",
      "54                       1   0.0000\n",
      "48                       1   0.0000\n",
      "66                       1   0.0000\n",
      "69                       1   0.0000\n",
      "75                       1   0.0000\n",
      "84                       1   0.0000\n",
      "102                      1   0.0000\n",
      "180                      1   0.0000\n",
      "\n",
      "                      Total  Percent\n",
      "num_var43_recib_ult1                \n",
      "0                     52920   0.8702\n",
      "3                      4359   0.0717\n",
      "6                      1936   0.0318\n",
      "9                       689   0.0113\n",
      "12                      343   0.0056\n",
      "15                      169   0.0028\n",
      "18                      123   0.0020\n",
      "21                       79   0.0013\n",
      "24                       50   0.0008\n",
      "27                       26   0.0004\n",
      "30                       18   0.0003\n",
      "36                       18   0.0003\n",
      "39                       15   0.0002\n",
      "33                       14   0.0002\n",
      "51                        7   0.0001\n",
      "45                        7   0.0001\n",
      "48                        6   0.0001\n",
      "54                        5   0.0001\n",
      "63                        4   0.0001\n",
      "42                        3   0.0000\n",
      "66                        3   0.0000\n",
      "69                        3   0.0000\n",
      "102                       2   0.0000\n",
      "60                        2   0.0000\n",
      "93                        2   0.0000\n",
      "159                       1   0.0000\n",
      "150                       1   0.0000\n",
      "126                       1   0.0000\n",
      "108                       1   0.0000\n",
      "105                       1   0.0000\n",
      "57                        1   0.0000\n",
      "96                        1   0.0000\n",
      "90                        1   0.0000\n",
      "84                        1   0.0000\n",
      "78                        1   0.0000\n",
      "75                        1   0.0000\n",
      "72                        1   0.0000\n",
      "264                       1   0.0000\n",
      "\n"
     ]
    }
   ],
   "source": [
    "# Vamos verificar a proporção dos valores para as variáveis relacionadas a \"var43\":\n",
    "for feat in feat_groupby_vars['var43']:\n",
    "    print(dslib.percent_count_feature(df=train_df, feature=feat, lines_drop=False))\n",
    "    print()"
   ]
  },
  {
   "cell_type": "markdown",
   "metadata": {},
   "source": [
    "**Análise:** observamos que as **`features`** **`ind_var43_emit_ult1`** e **`ind_var43_recib_ult1`**, relacionadas com **`var43`**, são variáveis do tipo `Categórica Nominal Binária`, com apenas duas classes **`0`** e **`1`**. Entretanto, as **`features`** **`num_var43_emit_ult1`** e **`num_var43_recib_ult1`**, relacionadas com **`var43`**, são variáveis do tipo `Quantitativa Discreta`. A feature **`imp_var43_emit_ult1`** é uma variável do tipo `Quantitativa Contínua`.\n",
    "\n",
    "Observamos, também, que nas features **`ind_var43_emit_ult1`**, **`num_var43_emit_ult1`**, **`93%`** das observações possuem valores iguais a **`0`**. Nas features **`ind_var43_recib_ult1`** e **`num_var43_recib_ult1`**, **`87%`** possuem valores iguais a **`0`**. A feature **`imp_var43_emit_ult1`** possui em **`93%`** das observações, valores iguais a **`0`**."
   ]
  },
  {
   "cell_type": "markdown",
   "metadata": {},
   "source": [
    "**Conclusão:** Portanto, entendemos que estas **features são `irrelevantes`** para serem analisadas na criação dos modelos preditivos."
   ]
  },
  {
   "cell_type": "code",
   "execution_count": 74,
   "metadata": {},
   "outputs": [],
   "source": [
    "# Armazenando informações sobre as features:\n",
    "features = ['ind_var43_emit_ult1', 'ind_var43_recib_ult1']\n",
    "santander_feat_info.save(key='Binary', features=features) # Categórica Nominal Binária.\n",
    "\n",
    "features = ['num_var43_emit_ult1', 'num_var43_recib_ult1']\n",
    "santander_feat_info.save(key='Discrete', features=features) # Quantitativa Discreta.\n",
    "\n",
    "features = ['imp_var43_emit_ult1']\n",
    "santander_feat_info.save(key='Continuous', features=features) # Quantitativa Contínua.\n",
    "\n",
    "santander_feat_info.save(key='Irrelevant', features=feat_groupby_vars['var43']) # Irrelevantes."
   ]
  },
  {
   "cell_type": "markdown",
   "metadata": {},
   "source": [
    "## var45"
   ]
  },
  {
   "cell_type": "code",
   "execution_count": 75,
   "metadata": {},
   "outputs": [
    {
     "name": "stdout",
     "output_type": "stream",
     "text": [
      "<class 'pandas.core.frame.DataFrame'>\n",
      "RangeIndex: 60816 entries, 0 to 60815\n",
      "Data columns (total 5 columns):\n",
      "num_med_var45_ult3    60816 non-null int64\n",
      "num_var45_hace2       60816 non-null int64\n",
      "num_var45_hace3       60816 non-null int64\n",
      "num_var45_ult1        60816 non-null int64\n",
      "num_var45_ult3        60816 non-null int64\n",
      "dtypes: int64(5)\n",
      "memory usage: 2.3 MB\n"
     ]
    }
   ],
   "source": [
    "# Resumo das informações:\n",
    "train_df[feat_groupby_vars['var45']].info()"
   ]
  },
  {
   "cell_type": "markdown",
   "metadata": {},
   "source": [
    "Agora, vamos calcular algumas medidas **estatísticas descritivas** para análsise destas **`features`** em nosso dataset:"
   ]
  },
  {
   "cell_type": "code",
   "execution_count": 76,
   "metadata": {
    "scrolled": true
   },
   "outputs": [
    {
     "data": {
      "text/html": [
       "<div>\n",
       "<style scoped>\n",
       "    .dataframe tbody tr th:only-of-type {\n",
       "        vertical-align: middle;\n",
       "    }\n",
       "\n",
       "    .dataframe tbody tr th {\n",
       "        vertical-align: top;\n",
       "    }\n",
       "\n",
       "    .dataframe thead th {\n",
       "        text-align: right;\n",
       "    }\n",
       "</style>\n",
       "<table border=\"1\" class=\"dataframe\">\n",
       "  <thead>\n",
       "    <tr style=\"text-align: right;\">\n",
       "      <th></th>\n",
       "      <th>num_med_var45_ult3</th>\n",
       "      <th>num_var45_hace2</th>\n",
       "      <th>num_var45_hace3</th>\n",
       "      <th>num_var45_ult1</th>\n",
       "      <th>num_var45_ult3</th>\n",
       "    </tr>\n",
       "  </thead>\n",
       "  <tbody>\n",
       "    <tr>\n",
       "      <th>count</th>\n",
       "      <td>60816.000000</td>\n",
       "      <td>60816.000000</td>\n",
       "      <td>60816.000000</td>\n",
       "      <td>60816.000000</td>\n",
       "      <td>60816.000000</td>\n",
       "    </tr>\n",
       "    <tr>\n",
       "      <th>mean</th>\n",
       "      <td>4.012382</td>\n",
       "      <td>5.387086</td>\n",
       "      <td>3.870856</td>\n",
       "      <td>4.360596</td>\n",
       "      <td>13.618538</td>\n",
       "    </tr>\n",
       "    <tr>\n",
       "      <th>std</th>\n",
       "      <td>10.849619</td>\n",
       "      <td>14.409590</td>\n",
       "      <td>10.326959</td>\n",
       "      <td>14.260227</td>\n",
       "      <td>33.061046</td>\n",
       "    </tr>\n",
       "    <tr>\n",
       "      <th>min</th>\n",
       "      <td>0.000000</td>\n",
       "      <td>0.000000</td>\n",
       "      <td>0.000000</td>\n",
       "      <td>0.000000</td>\n",
       "      <td>0.000000</td>\n",
       "    </tr>\n",
       "    <tr>\n",
       "      <th>25%</th>\n",
       "      <td>0.000000</td>\n",
       "      <td>0.000000</td>\n",
       "      <td>0.000000</td>\n",
       "      <td>0.000000</td>\n",
       "      <td>0.000000</td>\n",
       "    </tr>\n",
       "    <tr>\n",
       "      <th>50%</th>\n",
       "      <td>0.000000</td>\n",
       "      <td>0.000000</td>\n",
       "      <td>0.000000</td>\n",
       "      <td>0.000000</td>\n",
       "      <td>0.000000</td>\n",
       "    </tr>\n",
       "    <tr>\n",
       "      <th>75%</th>\n",
       "      <td>3.000000</td>\n",
       "      <td>3.000000</td>\n",
       "      <td>3.000000</td>\n",
       "      <td>3.000000</td>\n",
       "      <td>12.000000</td>\n",
       "    </tr>\n",
       "    <tr>\n",
       "      <th>max</th>\n",
       "      <td>267.000000</td>\n",
       "      <td>342.000000</td>\n",
       "      <td>333.000000</td>\n",
       "      <td>510.000000</td>\n",
       "      <td>801.000000</td>\n",
       "    </tr>\n",
       "  </tbody>\n",
       "</table>\n",
       "</div>"
      ],
      "text/plain": [
       "       num_med_var45_ult3  num_var45_hace2  num_var45_hace3  num_var45_ult1  \\\n",
       "count        60816.000000     60816.000000     60816.000000    60816.000000   \n",
       "mean             4.012382         5.387086         3.870856        4.360596   \n",
       "std             10.849619        14.409590        10.326959       14.260227   \n",
       "min              0.000000         0.000000         0.000000        0.000000   \n",
       "25%              0.000000         0.000000         0.000000        0.000000   \n",
       "50%              0.000000         0.000000         0.000000        0.000000   \n",
       "75%              3.000000         3.000000         3.000000        3.000000   \n",
       "max            267.000000       342.000000       333.000000      510.000000   \n",
       "\n",
       "       num_var45_ult3  \n",
       "count    60816.000000  \n",
       "mean        13.618538  \n",
       "std         33.061046  \n",
       "min          0.000000  \n",
       "25%          0.000000  \n",
       "50%          0.000000  \n",
       "75%         12.000000  \n",
       "max        801.000000  "
      ]
     },
     "execution_count": 76,
     "metadata": {},
     "output_type": "execute_result"
    }
   ],
   "source": [
    "# Dataframe \"train_df\":\n",
    "train_df[feat_groupby_vars['var45']].describe()"
   ]
  },
  {
   "cell_type": "code",
   "execution_count": 77,
   "metadata": {},
   "outputs": [
    {
     "data": {
      "text/html": [
       "<div>\n",
       "<style scoped>\n",
       "    .dataframe tbody tr th:only-of-type {\n",
       "        vertical-align: middle;\n",
       "    }\n",
       "\n",
       "    .dataframe tbody tr th {\n",
       "        vertical-align: top;\n",
       "    }\n",
       "\n",
       "    .dataframe thead th {\n",
       "        text-align: right;\n",
       "    }\n",
       "</style>\n",
       "<table border=\"1\" class=\"dataframe\">\n",
       "  <thead>\n",
       "    <tr style=\"text-align: right;\">\n",
       "      <th></th>\n",
       "      <th>num_med_var45_ult3</th>\n",
       "      <th>num_var45_hace2</th>\n",
       "      <th>num_var45_hace3</th>\n",
       "      <th>num_var45_ult1</th>\n",
       "      <th>num_var45_ult3</th>\n",
       "    </tr>\n",
       "    <tr>\n",
       "      <th>Percentile</th>\n",
       "      <th></th>\n",
       "      <th></th>\n",
       "      <th></th>\n",
       "      <th></th>\n",
       "      <th></th>\n",
       "    </tr>\n",
       "  </thead>\n",
       "  <tbody>\n",
       "    <tr>\n",
       "      <th>80%</th>\n",
       "      <td>6.0</td>\n",
       "      <td>6.0</td>\n",
       "      <td>6.0</td>\n",
       "      <td>3.0</td>\n",
       "      <td>18.0</td>\n",
       "    </tr>\n",
       "    <tr>\n",
       "      <th>85%</th>\n",
       "      <td>9.0</td>\n",
       "      <td>9.0</td>\n",
       "      <td>6.0</td>\n",
       "      <td>6.0</td>\n",
       "      <td>27.0</td>\n",
       "    </tr>\n",
       "    <tr>\n",
       "      <th>90%</th>\n",
       "      <td>12.0</td>\n",
       "      <td>15.0</td>\n",
       "      <td>12.0</td>\n",
       "      <td>12.0</td>\n",
       "      <td>39.0</td>\n",
       "    </tr>\n",
       "    <tr>\n",
       "      <th>95%</th>\n",
       "      <td>21.0</td>\n",
       "      <td>27.0</td>\n",
       "      <td>21.0</td>\n",
       "      <td>24.0</td>\n",
       "      <td>66.0</td>\n",
       "    </tr>\n",
       "    <tr>\n",
       "      <th>100%</th>\n",
       "      <td>267.0</td>\n",
       "      <td>342.0</td>\n",
       "      <td>333.0</td>\n",
       "      <td>510.0</td>\n",
       "      <td>801.0</td>\n",
       "    </tr>\n",
       "  </tbody>\n",
       "</table>\n",
       "</div>"
      ],
      "text/plain": [
       "            num_med_var45_ult3  num_var45_hace2  num_var45_hace3  \\\n",
       "Percentile                                                         \n",
       "80%                        6.0              6.0              6.0   \n",
       "85%                        9.0              9.0              6.0   \n",
       "90%                       12.0             15.0             12.0   \n",
       "95%                       21.0             27.0             21.0   \n",
       "100%                     267.0            342.0            333.0   \n",
       "\n",
       "            num_var45_ult1  num_var45_ult3  \n",
       "Percentile                                  \n",
       "80%                    3.0            18.0  \n",
       "85%                    6.0            27.0  \n",
       "90%                   12.0            39.0  \n",
       "95%                   24.0            66.0  \n",
       "100%                 510.0           801.0  "
      ]
     },
     "execution_count": 77,
     "metadata": {},
     "output_type": "execute_result"
    }
   ],
   "source": [
    "# Obtendo os percentis a partir de \"80%\", com intervá-los de \"5%\":\n",
    "result = dslib.get_features_percentiles(data=train_df, features=feat_groupby_vars['var45'], percent_range=range(80, 105, 5))\n",
    "result"
   ]
  },
  {
   "cell_type": "code",
   "execution_count": 78,
   "metadata": {
    "scrolled": true
   },
   "outputs": [
    {
     "name": "stdout",
     "output_type": "stream",
     "text": [
      "                    Total  Percent\n",
      "num_med_var45_ult3                \n",
      "0                   41114   0.6760\n",
      "3                    6663   0.1096\n",
      "6                    3700   0.0608\n",
      "9                    2351   0.0387\n",
      "12                   1690   0.0278\n",
      "...                   ...      ...\n",
      "180                     1   0.0000\n",
      "159                     1   0.0000\n",
      "141                     1   0.0000\n",
      "120                     1   0.0000\n",
      "267                     1   0.0000\n",
      "\n",
      "[66 rows x 2 columns]\n",
      "\n",
      "                 Total  Percent\n",
      "num_var45_hace2                \n",
      "0                39059   0.6422\n",
      "3                 6645   0.1093\n",
      "6                 3782   0.0622\n",
      "9                 2459   0.0404\n",
      "12                1819   0.0299\n",
      "...                ...      ...\n",
      "255                  1   0.0000\n",
      "186                  1   0.0000\n",
      "180                  1   0.0000\n",
      "177                  1   0.0000\n",
      "342                  1   0.0000\n",
      "\n",
      "[80 rows x 2 columns]\n",
      "\n",
      "                 Total  Percent\n",
      "num_var45_hace3                \n",
      "0                40530   0.6664\n",
      "3                 7583   0.1247\n",
      "6                 3823   0.0629\n",
      "9                 2323   0.0382\n",
      "12                1514   0.0249\n",
      "...                ...      ...\n",
      "168                  1   0.0000\n",
      "159                  1   0.0000\n",
      "156                  1   0.0000\n",
      "138                  1   0.0000\n",
      "333                  1   0.0000\n",
      "\n",
      "[64 rows x 2 columns]\n",
      "\n",
      "                Total  Percent\n",
      "num_var45_ult1                \n",
      "0               43532   0.7158\n",
      "3                5539   0.0911\n",
      "6                3137   0.0516\n",
      "9                1967   0.0323\n",
      "12               1340   0.0220\n",
      "...               ...      ...\n",
      "186                 1   0.0000\n",
      "183                 1   0.0000\n",
      "168                 1   0.0000\n",
      "144                 1   0.0000\n",
      "510                 1   0.0000\n",
      "\n",
      "[89 rows x 2 columns]\n",
      "\n",
      "                Total  Percent\n",
      "num_var45_ult3                \n",
      "0               30628   0.5036\n",
      "3                6572   0.1081\n",
      "6                3914   0.0644\n",
      "9                2777   0.0457\n",
      "12               2096   0.0345\n",
      "...               ...      ...\n",
      "426                 1   0.0000\n",
      "453                 1   0.0000\n",
      "459                 1   0.0000\n",
      "465                 1   0.0000\n",
      "801                 1   0.0000\n",
      "\n",
      "[160 rows x 2 columns]\n",
      "\n"
     ]
    }
   ],
   "source": [
    "# Vamos verificar a proporção dos valores para as variáveis relacionadas a \"var45\":\n",
    "for feat in feat_groupby_vars['var45']:\n",
    "    print(dslib.percent_count_feature(df=train_df, feature=feat, lines_drop=False))\n",
    "    print()"
   ]
  },
  {
   "cell_type": "markdown",
   "metadata": {},
   "source": [
    "**Análise:** observamos que todas as **`features`** relacionadas com **`var45`**, são variáveis do tipo `Quantitativa Discreta`. Agora, vamos verificar se existe alguma **correlação** entre as **`features`** de **`var45`**:"
   ]
  },
  {
   "cell_type": "code",
   "execution_count": 79,
   "metadata": {},
   "outputs": [
    {
     "name": "stdout",
     "output_type": "stream",
     "text": [
      "Saving figure: plot_corr_features_var45\n"
     ]
    },
    {
     "data": {
      "image/png": "[encoded data removed]",
      "text/plain": [
       "<Figure size 576x432 with 2 Axes>"
      ]
     },
     "metadata": {},
     "output_type": "display_data"
    }
   ],
   "source": [
    "# Analisando a correlação entre as features numéricas de \"var45\":\n",
    "ptlib.plot_corr_features(df=train_df, features=feat_groupby_vars['var45'], digits=3, title=\"var45 (Features)\",\n",
    "                         title_fontsize=18, xtick_labelsize=13, ytick_labelsize=13, width=8, height=6,\n",
    "                         figure_id='plot_corr_features_var45', figure_path=PROJECT_IMG_PATH,\n",
    "                         figure_file_format=\"png\", figure_file_extension=\".png\", tight_layout=True, dpi=300\n",
    "                        )"
   ]
  },
  {
   "cell_type": "markdown",
   "metadata": {},
   "source": [
    "**Análise:** observando a **correlação entre as features** (**plot acima**) concluímos que:\n",
    "1. **`num_med_var45_ult3 x num_var45_hace2`** possuem uma alta correlação positiva (`correlação = 0.91`);\n",
    "2. **`num_med_var45_ult3 x num_var45_hace3`** possuem uma alta correlação positiva (`correlação = 0.72`);\n",
    "3. **`num_med_var45_ult3 x num_var45_ult1`** possuem uma alta correlação positiva (`correlação = 0.87`);\n",
    "4. **`num_med_var45_ult3 x num_var45_ult3`** são **colineares**, pois representam a mesma informação (`correlação = 1.00`);\n",
    "5. **`num_var45_hace2 x num_var45_hace3`** possuem uma média correlação positiva (`correlação = 0.54`);\n",
    "6. **`num_var45_hace2 x num_var45_ult1`** possuem uma alta correlação positiva (`correlação = 0.71`);\n",
    "7. **`num_var45_hace2 x num_var45_ult3`** possuem uma alta correlação positiva (`correlação = 0.91`);\n",
    "8. **`num_var45_hace3 x num_var45_ult1`** possuem uma pequena correlação positiva (`correlação = 0.42`);\n",
    "9. **`num_var45_hace3 x num_var45_ult3`** possuem uma alta correlação positiva (`correlação = 0.73`);\n",
    "10. **`num_var45_ult1 x num_var45_ult3`** possuem uma alta correlação positiva (`correlação = 0.87`).\n",
    "\n",
    "Vamos analisar as suas distribuições de frequências (*Histograma*) e também verificar se existem **outliers** com os gráficos de *BoxPlot*."
   ]
  },
  {
   "cell_type": "code",
   "execution_count": 80,
   "metadata": {},
   "outputs": [
    {
     "name": "stdout",
     "output_type": "stream",
     "text": [
      "Saving figure: plot_histograms_var45\n"
     ]
    },
    {
     "data": {
      "image/png": "[encoded data removed]",
      "text/plain": [
       "<Figure size 1080x720 with 5 Axes>"
      ]
     },
     "metadata": {},
     "output_type": "display_data"
    }
   ],
   "source": [
    "# Desenhando os histogramas para as features de \"var45\":\n",
    "ptlib.plot_histograms_features(df=train_df, features=feat_groupby_vars['var45'], plot_style='ticks', kde=False, colors='r',\n",
    "                               titles=feat_groupby_vars['var45'], titles_fontsize=16, xlabels=None, xlabels_fontsize=13,\n",
    "                               ylabels=None, ylabels_fontsize=13, xtick_labelsize=13, ytick_labelsize=13,\n",
    "                               cols_nr=2, rows_nr=3, width=15, height=10, wspace=None, hspace=None,\n",
    "                               figure_id=\"plot_histograms_var45\", figure_path=PROJECT_IMG_PATH,\n",
    "                               figure_file_format=\"png\", figure_file_extension=\".png\",\n",
    "                               tight_layout=True, dpi=300\n",
    "                              )"
   ]
  },
  {
   "cell_type": "code",
   "execution_count": 81,
   "metadata": {},
   "outputs": [
    {
     "name": "stdout",
     "output_type": "stream",
     "text": [
      "Saving figure: plot_boxplots_var45\n"
     ]
    },
    {
     "data": {
      "image/png": "[encoded data removed]",
      "text/plain": [
       "<Figure size 1080x720 with 5 Axes>"
      ]
     },
     "metadata": {},
     "output_type": "display_data"
    }
   ],
   "source": [
    "# Desenhando os boxplots para as features de \"var45\":\n",
    "ptlib.plot_boxplots_features(df=train_df, features=feat_groupby_vars['var45'], plot_style='ticks', colors='r',\n",
    "                             orient='h', saturation=0.75,\n",
    "                             titles=feat_groupby_vars['var45'], titles_fontsize=16, xlabels=None, xlabels_fontsize=13,\n",
    "                             ylabels=None, ylabels_fontsize=13, xtick_labelsize=13, ytick_labelsize=13,\n",
    "                             cols_nr=2, rows_nr=3, width=15, height=10, wspace=None, hspace=None,\n",
    "                             figure_id=\"plot_boxplots_var45\", figure_path=PROJECT_IMG_PATH,\n",
    "                             figure_file_format=\"png\", figure_file_extension=\".png\",\n",
    "                             tight_layout=True, dpi=300\n",
    "                            )"
   ]
  },
  {
   "cell_type": "markdown",
   "metadata": {},
   "source": [
    "**Análise:** Temos uma alta variabilidade nos dados ocasionada pelos **outliers** (*Box Plot*). Também podemos observar que as distribuições de frequência em todas as features estão concentradas em valores iguais a **`0`** (**`50%`** dos valores na feature **`num_var45_ult3`**, e acima de **`60%`** dos valores nas outras features), conforme podemos observar no *histograma* e no relatório de *percentis*."
   ]
  },
  {
   "cell_type": "markdown",
   "metadata": {},
   "source": [
    "**Conclusão:** para as **features** de **var45**, embora a grande maioria dos valores são constantes e iguais a **`0`**, entendemos que estas **features são `relevantes` e deverão ser analisadas** na criação dos modelos preditivos, exceto a feature `num_med_var45_ult3` que possui a mesma informação da feature `num_var45_ult3`, pois são **colineares** (`correlação = 1.0`)."
   ]
  },
  {
   "cell_type": "code",
   "execution_count": 82,
   "metadata": {},
   "outputs": [],
   "source": [
    "# Armazenando informações sobre as features:\n",
    "santander_feat_info.save(key='Discrete', features=feat_groupby_vars['var45']) # Quantitativa Discreta.\n",
    "\n",
    "features = ['num_var45_hace2', 'num_var45_hace3', 'num_var45_ult1', 'num_var45_ult3']\n",
    "santander_feat_info.save(key='Outliers', features=feat_groupby_vars['var45']) # Variáveis têm \"Outliers\".\n",
    "\n",
    "santander_feat_info.save(key='Irrelevant', features=['num_med_var45_ult3']) # Irrelevante."
   ]
  },
  {
   "cell_type": "markdown",
   "metadata": {},
   "source": [
    "## var46"
   ]
  },
  {
   "cell_type": "code",
   "execution_count": 83,
   "metadata": {},
   "outputs": [
    {
     "name": "stdout",
     "output_type": "stream",
     "text": [
      "<class 'pandas.core.frame.DataFrame'>\n",
      "RangeIndex: 60816 entries, 0 to 60815\n",
      "Data columns (total 5 columns):\n",
      "ind_var46      60816 non-null int64\n",
      "ind_var46_0    60816 non-null int64\n",
      "num_var46      60816 non-null int64\n",
      "num_var46_0    60816 non-null int64\n",
      "saldo_var46    60816 non-null int64\n",
      "dtypes: int64(5)\n",
      "memory usage: 2.3 MB\n"
     ]
    }
   ],
   "source": [
    "# Resumo das informações:\n",
    "train_df[feat_groupby_vars['var46']].info()"
   ]
  },
  {
   "cell_type": "code",
   "execution_count": 84,
   "metadata": {
    "scrolled": true
   },
   "outputs": [
    {
     "data": {
      "text/html": [
       "<div>\n",
       "<style scoped>\n",
       "    .dataframe tbody tr th:only-of-type {\n",
       "        vertical-align: middle;\n",
       "    }\n",
       "\n",
       "    .dataframe tbody tr th {\n",
       "        vertical-align: top;\n",
       "    }\n",
       "\n",
       "    .dataframe thead th {\n",
       "        text-align: right;\n",
       "    }\n",
       "</style>\n",
       "<table border=\"1\" class=\"dataframe\">\n",
       "  <thead>\n",
       "    <tr style=\"text-align: right;\">\n",
       "      <th></th>\n",
       "      <th>ind_var46</th>\n",
       "      <th>ind_var46_0</th>\n",
       "      <th>num_var46</th>\n",
       "      <th>num_var46_0</th>\n",
       "      <th>saldo_var46</th>\n",
       "    </tr>\n",
       "  </thead>\n",
       "  <tbody>\n",
       "    <tr>\n",
       "      <th>count</th>\n",
       "      <td>60816.0</td>\n",
       "      <td>60816.0</td>\n",
       "      <td>60816.0</td>\n",
       "      <td>60816.0</td>\n",
       "      <td>60816.0</td>\n",
       "    </tr>\n",
       "    <tr>\n",
       "      <th>mean</th>\n",
       "      <td>0.0</td>\n",
       "      <td>0.0</td>\n",
       "      <td>0.0</td>\n",
       "      <td>0.0</td>\n",
       "      <td>0.0</td>\n",
       "    </tr>\n",
       "    <tr>\n",
       "      <th>std</th>\n",
       "      <td>0.0</td>\n",
       "      <td>0.0</td>\n",
       "      <td>0.0</td>\n",
       "      <td>0.0</td>\n",
       "      <td>0.0</td>\n",
       "    </tr>\n",
       "    <tr>\n",
       "      <th>min</th>\n",
       "      <td>0.0</td>\n",
       "      <td>0.0</td>\n",
       "      <td>0.0</td>\n",
       "      <td>0.0</td>\n",
       "      <td>0.0</td>\n",
       "    </tr>\n",
       "    <tr>\n",
       "      <th>25%</th>\n",
       "      <td>0.0</td>\n",
       "      <td>0.0</td>\n",
       "      <td>0.0</td>\n",
       "      <td>0.0</td>\n",
       "      <td>0.0</td>\n",
       "    </tr>\n",
       "    <tr>\n",
       "      <th>50%</th>\n",
       "      <td>0.0</td>\n",
       "      <td>0.0</td>\n",
       "      <td>0.0</td>\n",
       "      <td>0.0</td>\n",
       "      <td>0.0</td>\n",
       "    </tr>\n",
       "    <tr>\n",
       "      <th>75%</th>\n",
       "      <td>0.0</td>\n",
       "      <td>0.0</td>\n",
       "      <td>0.0</td>\n",
       "      <td>0.0</td>\n",
       "      <td>0.0</td>\n",
       "    </tr>\n",
       "    <tr>\n",
       "      <th>max</th>\n",
       "      <td>0.0</td>\n",
       "      <td>0.0</td>\n",
       "      <td>0.0</td>\n",
       "      <td>0.0</td>\n",
       "      <td>0.0</td>\n",
       "    </tr>\n",
       "  </tbody>\n",
       "</table>\n",
       "</div>"
      ],
      "text/plain": [
       "       ind_var46  ind_var46_0  num_var46  num_var46_0  saldo_var46\n",
       "count    60816.0      60816.0    60816.0      60816.0      60816.0\n",
       "mean         0.0          0.0        0.0          0.0          0.0\n",
       "std          0.0          0.0        0.0          0.0          0.0\n",
       "min          0.0          0.0        0.0          0.0          0.0\n",
       "25%          0.0          0.0        0.0          0.0          0.0\n",
       "50%          0.0          0.0        0.0          0.0          0.0\n",
       "75%          0.0          0.0        0.0          0.0          0.0\n",
       "max          0.0          0.0        0.0          0.0          0.0"
      ]
     },
     "execution_count": 84,
     "metadata": {},
     "output_type": "execute_result"
    }
   ],
   "source": [
    "# Dataframe \"train_df\":\n",
    "train_df[feat_groupby_vars['var46']].describe()"
   ]
  },
  {
   "cell_type": "code",
   "execution_count": 85,
   "metadata": {},
   "outputs": [
    {
     "data": {
      "text/html": [
       "<div>\n",
       "<style scoped>\n",
       "    .dataframe tbody tr th:only-of-type {\n",
       "        vertical-align: middle;\n",
       "    }\n",
       "\n",
       "    .dataframe tbody tr th {\n",
       "        vertical-align: top;\n",
       "    }\n",
       "\n",
       "    .dataframe thead th {\n",
       "        text-align: right;\n",
       "    }\n",
       "</style>\n",
       "<table border=\"1\" class=\"dataframe\">\n",
       "  <thead>\n",
       "    <tr style=\"text-align: right;\">\n",
       "      <th></th>\n",
       "      <th>ind_var46</th>\n",
       "      <th>ind_var46_0</th>\n",
       "      <th>num_var46</th>\n",
       "      <th>num_var46_0</th>\n",
       "      <th>saldo_var46</th>\n",
       "    </tr>\n",
       "    <tr>\n",
       "      <th>Percentile</th>\n",
       "      <th></th>\n",
       "      <th></th>\n",
       "      <th></th>\n",
       "      <th></th>\n",
       "      <th></th>\n",
       "    </tr>\n",
       "  </thead>\n",
       "  <tbody>\n",
       "    <tr>\n",
       "      <th>80%</th>\n",
       "      <td>0.0</td>\n",
       "      <td>0.0</td>\n",
       "      <td>0.0</td>\n",
       "      <td>0.0</td>\n",
       "      <td>0.0</td>\n",
       "    </tr>\n",
       "    <tr>\n",
       "      <th>85%</th>\n",
       "      <td>0.0</td>\n",
       "      <td>0.0</td>\n",
       "      <td>0.0</td>\n",
       "      <td>0.0</td>\n",
       "      <td>0.0</td>\n",
       "    </tr>\n",
       "    <tr>\n",
       "      <th>90%</th>\n",
       "      <td>0.0</td>\n",
       "      <td>0.0</td>\n",
       "      <td>0.0</td>\n",
       "      <td>0.0</td>\n",
       "      <td>0.0</td>\n",
       "    </tr>\n",
       "    <tr>\n",
       "      <th>95%</th>\n",
       "      <td>0.0</td>\n",
       "      <td>0.0</td>\n",
       "      <td>0.0</td>\n",
       "      <td>0.0</td>\n",
       "      <td>0.0</td>\n",
       "    </tr>\n",
       "    <tr>\n",
       "      <th>100%</th>\n",
       "      <td>0.0</td>\n",
       "      <td>0.0</td>\n",
       "      <td>0.0</td>\n",
       "      <td>0.0</td>\n",
       "      <td>0.0</td>\n",
       "    </tr>\n",
       "  </tbody>\n",
       "</table>\n",
       "</div>"
      ],
      "text/plain": [
       "            ind_var46  ind_var46_0  num_var46  num_var46_0  saldo_var46\n",
       "Percentile                                                             \n",
       "80%               0.0          0.0        0.0          0.0          0.0\n",
       "85%               0.0          0.0        0.0          0.0          0.0\n",
       "90%               0.0          0.0        0.0          0.0          0.0\n",
       "95%               0.0          0.0        0.0          0.0          0.0\n",
       "100%              0.0          0.0        0.0          0.0          0.0"
      ]
     },
     "execution_count": 85,
     "metadata": {},
     "output_type": "execute_result"
    }
   ],
   "source": [
    "# Obtendo os percentis a partir de \"80%\", com intervá-los de \"5%\":\n",
    "result = dslib.get_features_percentiles(data=train_df, features=feat_groupby_vars['var46'], percent_range=range(80, 105, 5))\n",
    "result"
   ]
  },
  {
   "cell_type": "code",
   "execution_count": 86,
   "metadata": {
    "scrolled": true
   },
   "outputs": [
    {
     "name": "stdout",
     "output_type": "stream",
     "text": [
      "           Total  Percent\n",
      "ind_var46                \n",
      "0          60816      1.0\n",
      "\n",
      "             Total  Percent\n",
      "ind_var46_0                \n",
      "0            60816      1.0\n",
      "\n",
      "           Total  Percent\n",
      "num_var46                \n",
      "0          60816      1.0\n",
      "\n",
      "             Total  Percent\n",
      "num_var46_0                \n",
      "0            60816      1.0\n",
      "\n",
      "             Total  Percent\n",
      "saldo_var46                \n",
      "0            60816      1.0\n",
      "\n"
     ]
    }
   ],
   "source": [
    "# Vamos verificar a proporção dos valores para as variáveis relacionadas a \"var46\":\n",
    "for feat in feat_groupby_vars['var46']:\n",
    "    print(dslib.percent_count_feature(df=train_df, feature=feat, lines_drop=False))\n",
    "    print()"
   ]
  },
  {
   "cell_type": "markdown",
   "metadata": {},
   "source": [
    "**Análise:** observamos que as **`features`** **`ind_var46`** e **`ind_var46_0`**, relacionadas com **`var46`**, são variáveis do tipo `Categóricas Nominais Binárias`, com apenas duas classes **`0`** e **`1`**. Entretanto, as **`features`** **`num_var46`** e **`num_var46_0`**, relacionadas com **`var46`**, são variáveis do tipo `Quantitativa Discreta`. A feature **`saldo_var46`** é uma variável do tipo `Quantitativa Contínua`.\n",
    "\n",
    "Observamos, também, que nas features **`ind_var46`** e **`ind_var46_0`**, **`100%`** das observações estão concentradas na classe **`0`**. As features **`num_var46`**, **`num_var46_0`**, e **`saldo_var46`**, possuem em **`100%`** das observações, valores iguais a **`0`**."
   ]
  },
  {
   "cell_type": "markdown",
   "metadata": {},
   "source": [
    "**Conclusão:** Portanto, entendemos que estas **features são `irrelevantes`** para serem analisadas na criação dos modelos preditivos."
   ]
  },
  {
   "cell_type": "code",
   "execution_count": 87,
   "metadata": {},
   "outputs": [],
   "source": [
    "# Armazenando informações sobre as features:\n",
    "features = ['ind_var46', 'ind_var46_0']\n",
    "santander_feat_info.save(key='Binary', features=features) # Categórica Nominal Binária.\n",
    "\n",
    "features = ['num_var46', 'num_var46_0']\n",
    "santander_feat_info.save(key='Discrete', features=features) # Quantitativa Discreta.\n",
    "\n",
    "features = ['saldo_var46']\n",
    "santander_feat_info.save(key='Continuous', features=features) # Quantitativa Contínua.\n",
    "\n",
    "santander_feat_info.save(key='Irrelevant', features=feat_groupby_vars['var46']) # Irrelevantes."
   ]
  },
  {
   "cell_type": "code",
   "execution_count": 88,
   "metadata": {},
   "outputs": [
    {
     "name": "stdout",
     "output_type": "stream",
     "text": [
      "Counting of analyzed features: 90\n"
     ]
    }
   ],
   "source": [
    "# Verificando a contagem de features analisadas até aqui:\n",
    "print(\"Counting of analyzed features: {}\".format(santander_feat_info.count(keys=['Categorical', 'Binary', 'Ordinal',\n",
    "                                                                                 'Discrete', 'Continuous'])))"
   ]
  },
  {
   "cell_type": "markdown",
   "metadata": {},
   "source": [
    "## 04- Salvando informações (`objetos`) importantes, encontradas nesta etapa:"
   ]
  },
  {
   "cell_type": "markdown",
   "metadata": {},
   "source": [
    "Agora, vamos salvar os seguintes `objetos` importantes, que serão utilizados nas próximas etapas, saber:\n",
    "\n",
    "1. **`feat_groupby_vars`:** dicionário com as features agrupadas por tipo de variável (var1, var2, var18, etc...);\n",
    "\n",
    "2. **`vars_groupby_featcount`:** dicionário com as variáveis (var1, var2, var18, etc...) agrupadas por quantidade (contagem) de features (Feat_1, Feat_2, Feat_3, etc...);\n",
    "\n",
    "3. **`santander_feat_info`:** dicionário com as principais informações sobre cada uma das features, ou seja, `tipo de variável`, valores ausentes (`NaN`), valores extremos (`Outliers`) e uma lista das variáveis que não são importantes para a criação dos modelos preditivos (`Drop`)."
   ]
  },
  {
   "cell_type": "code",
   "execution_count": 89,
   "metadata": {},
   "outputs": [
    {
     "name": "stdout",
     "output_type": "stream",
     "text": [
      "The 'feat_groupby_vars' object has been successfully saved!\n",
      "The 'vars_groupby_featcount' object has been successfully saved!\n",
      "The 'santander_feat_info' object has been successfully saved!\n"
     ]
    }
   ],
   "source": [
    "# Salvando o objeto \"feat_groupby_vars\":\n",
    "dslib.pickle_object_save (path=PROJECT_OBJ_PATH, file=\"feat_groupby_vars.pickle\", object_name=feat_groupby_vars,\n",
    "                          msg=\"The 'feat_groupby_vars' object has been successfully saved!\")\n",
    "\n",
    "# Salvando o objeto \"vars_groupby_featcount\":\n",
    "dslib.pickle_object_save (path=PROJECT_OBJ_PATH, file=\"vars_groupby_featcount.pickle\", object_name=vars_groupby_featcount,\n",
    "                          msg=\"The 'vars_groupby_featcount' object has been successfully saved!\")\n",
    "\n",
    "# Salvando o objeto \"santander_feat_info\":\n",
    "dslib.pickle_object_save (path=PROJECT_OBJ_PATH, file=\"santander_feat_info.pickle\", object_name=santander_feat_info,\n",
    "                          msg=\"The 'santander_feat_info' object has been successfully saved!\")"
   ]
  },
  {
   "cell_type": "markdown",
   "metadata": {},
   "source": [
    "## <font color='black'>FIM</font>"
   ]
  }
 ],
 "metadata": {
  "kernelspec": {
   "display_name": "Python 3",
   "language": "python",
   "name": "python3"
  },
  "language_info": {
   "codemirror_mode": {
    "name": "ipython",
    "version": 3
   },
   "file_extension": ".py",
   "mimetype": "text/x-python",
   "name": "python",
   "nbconvert_exporter": "python",
   "pygments_lexer": "ipython3",
   "version": "3.7.7"
  }
 },
 "nbformat": 4,
 "nbformat_minor": 2
}
