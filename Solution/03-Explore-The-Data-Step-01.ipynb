{
 "cells": [
  {
   "cell_type": "markdown",
   "metadata": {},
   "source": [
    "![satisfaction.png](satisfaction.png)\n",
    "\n",
    "# <font color='black'>Projeto:</font> <font color='blue'>Prevendo o Nível de Satisfação dos Clientes do Santander.</font>\n",
    "\n",
    "## <font color='black'>Data:</font> <font color='blue'>julho, 2020</font>\n",
    "\n",
    "## <font color='black'>Cientista de Dados:</font> <font color='blue'>Walter Trevisan</font>"
   ]
  },
  {
   "cell_type": "markdown",
   "metadata": {},
   "source": [
    "## 03- Explore The Data (`Step 01`)\n",
    "\n",
    "Nesta etapa, vamos iniciar a nossa **`Análise Exploratória`** dos dados, utilizando o dataset de treinamento que foi preparado na etapa anterior, ou seja, o *data frame* que foi salvo no arquivo **`santander_train.pickle`**.\n",
    "\n",
    "Então, vamos realizar as seguintes atividades:\n",
    "\n",
    "1. Carregar o *data frame* de treinamento, salvo no arquivo **`santander_train.pickle`**;\n",
    "\n",
    "\n",
    "2. Estudar cada atributo/feature e suas características (entender as informações e os tipos de dados), verificando também possíveis valores ausentes (**`Missing Values = NaN`**) e possíveis **`Outliers`**.\n",
    "\n",
    "\n",
    "3. Salvar informações (objetos) importantes criados e/ou alterados durante a nossa análise exploratória."
   ]
  },
  {
   "cell_type": "markdown",
   "metadata": {},
   "source": [
    "## Setup"
   ]
  },
  {
   "cell_type": "code",
   "execution_count": 1,
   "metadata": {},
   "outputs": [
    {
     "name": "stdout",
     "output_type": "stream",
     "text": [
      "Setup Complete!\n"
     ]
    }
   ],
   "source": [
    "# As novas versões do Pandas e Matplotlib trazem diversas mensagens de aviso ao desenvolvedor.\n",
    "# Então, vamos desativar essas mensagens.\n",
    "import sys # O pacote \"sys\" permite manipulações com o sistema operacional:\n",
    "import os  # Operation System (Packages and Functions)\n",
    "import warnings\n",
    "import matplotlib.cbook\n",
    "if not sys.warnoptions:\n",
    "    warnings.simplefilter(\"ignore\")\n",
    "warnings.simplefilter(action='ignore', category=FutureWarning)\n",
    "warnings.filterwarnings(\"ignore\", category=FutureWarning)\n",
    "warnings.filterwarnings(\"ignore\", category=matplotlib.cbook.mplDeprecation)\n",
    "\n",
    "# Common imports:\n",
    "import numpy as np    # NumPy\n",
    "import pandas as pd   # Pandas\n",
    "import pickle # Para salvar/carregar objetos.\n",
    "\n",
    "# To plot pretty figures\n",
    "%matplotlib inline\n",
    "import matplotlib as mpl\n",
    "import matplotlib.pyplot as plt\n",
    "mpl.rc('axes', labelsize=14)\n",
    "mpl.rc('xtick', labelsize=12)\n",
    "mpl.rc('ytick', labelsize=12)\n",
    "# Importa o pacote \"seaborn\"\n",
    "import seaborn as sns\n",
    "\n",
    "# Definindo o diretório raiz (Root) onde serão armazenados todas as informações\n",
    "# (Imagens, Objetos, Dados, Modelos de ML, etc...) do projeto.\n",
    "# Diretório Raiz (Root) do Projeto:\n",
    "PROJECT_ROOT_DIR = \".\"\n",
    "\n",
    "# Path: onde serão armazenadas as \"Imagens\" (Figuras e Gráficos) desta Fase do Projeto:\n",
    "PROJECT_IMG_PATH = os.path.join(PROJECT_ROOT_DIR, \"Images\", \"03-Explore_The_Data\")\n",
    "# Criando o diretório, se ele não existir:\n",
    "os.makedirs(PROJECT_IMG_PATH, exist_ok=True)\n",
    "\n",
    "# Path: onde ficarão armazenados os \"Objetos\" (Estrututras de Dados) relacionados ao Projeto:\n",
    "PROJECT_OBJ_PATH = os.path.join(PROJECT_ROOT_DIR, \"Objects\")\n",
    "# Criando o diretório, se ele não existir:\n",
    "os.makedirs(PROJECT_OBJ_PATH, exist_ok=True)\n",
    "\n",
    "# Path: onde ficarão armazenados os \"datasets\" (arquivos \"csv\") e os \"Objetos\" (Data Frames) do Projeto:\n",
    "PROJECT_DATA_PATH = os.path.join(PROJECT_ROOT_DIR, \"Data\")\n",
    "# Criando o diretório, se ele não existir:\n",
    "os.makedirs(PROJECT_DATA_PATH, exist_ok=True)\n",
    "\n",
    "# Path: onde estão armazenadas as classes e funções que serão utilizadas neste notebook:\n",
    "PROJECT_LIB_PATH = os.path.join(PROJECT_ROOT_DIR, \"Library\")\n",
    "\n",
    "# Adicionando o diretório ao 'path' do Sistema, para podermos importar classes e funções que serão\n",
    "# utilizadas neste notebook:\n",
    "sys.path.append(PROJECT_LIB_PATH)\n",
    "\n",
    "# Importando para este notebook, as classes e funções definidas no módulo \"DataScience_Library_v1_0\":\n",
    "import DataScience_Library_v1_0 as dslib\n",
    "\n",
    "# Importando para este notebook, as classes e funções definidas no módulo \"DataScience_Plot_Library_v1_0\":\n",
    "import DataScience_Plot_Library_v1_0 as ptlib\n",
    "\n",
    "# Importando para este notebook, as classes e funções definidas no módulo \"DSA_Project_03_Library\":\n",
    "import DSA_Project_03_Library as pjlib\n",
    "\n",
    "print(\"Setup Complete!\")"
   ]
  },
  {
   "cell_type": "code",
   "execution_count": 2,
   "metadata": {},
   "outputs": [
    {
     "name": "stdout",
     "output_type": "stream",
     "text": [
      "pandas     0.25.3\n",
      "matplotlib 3.2.1\n",
      "numpy      1.18.2\n",
      "seaborn    0.10.0\n",
      "Walter Trevisan\n"
     ]
    }
   ],
   "source": [
    "# Versões dos pacotes usados neste jupyter notebook:\n",
    "%reload_ext watermark\n",
    "%watermark -a \"Walter Trevisan\" --iversions"
   ]
  },
  {
   "cell_type": "markdown",
   "metadata": {},
   "source": [
    "## 01- Carregando o nosso *data frame* de treinamento: `santander_train.pickle`"
   ]
  },
  {
   "cell_type": "code",
   "execution_count": 3,
   "metadata": {},
   "outputs": [
    {
     "name": "stdout",
     "output_type": "stream",
     "text": [
      "The 'santander_train' (data frame) has been successfully uploaded!\n"
     ]
    }
   ],
   "source": [
    "# Carregando o objeto (data frame) \"santander_train\":\n",
    "train_df = dslib.pickle_object_load(path=PROJECT_DATA_PATH, file=\"santander_train.pickle\",\n",
    "                                    msg=\"The 'santander_train' (data frame) has been successfully uploaded!\")"
   ]
  },
  {
   "cell_type": "code",
   "execution_count": 4,
   "metadata": {},
   "outputs": [
    {
     "name": "stdout",
     "output_type": "stream",
     "text": [
      "<class 'pandas.core.frame.DataFrame'>\n",
      "RangeIndex: 60816 entries, 0 to 60815\n",
      "Columns: 371 entries, ID to Satisfaction\n",
      "dtypes: float64(111), int64(260)\n",
      "memory usage: 172.1 MB\n"
     ]
    }
   ],
   "source": [
    "# Resumo dos dados:\n",
    "train_df.info()"
   ]
  },
  {
   "cell_type": "markdown",
   "metadata": {},
   "source": [
    "**Análise:** O nosso dataset de treinamento (santander) possui um total de **60816** observações, com **370** atributos (variáveis preditoras) e a nossa variável target (Satisfaction). Temos **`260`** atributos do tipo **`int64`** e **`111`** atributos do tipo **`float64`**."
   ]
  },
  {
   "cell_type": "markdown",
   "metadata": {},
   "source": [
    "## 02- Entendendo as informações e os tipos de dados de cada atributo (`Feature`):"
   ]
  },
  {
   "cell_type": "markdown",
   "metadata": {},
   "source": [
    "Visualizando os primeiros registros do nosso dataset:"
   ]
  },
  {
   "cell_type": "code",
   "execution_count": 5,
   "metadata": {},
   "outputs": [
    {
     "data": {
      "text/html": [
       "<div>\n",
       "<style scoped>\n",
       "    .dataframe tbody tr th:only-of-type {\n",
       "        vertical-align: middle;\n",
       "    }\n",
       "\n",
       "    .dataframe tbody tr th {\n",
       "        vertical-align: top;\n",
       "    }\n",
       "\n",
       "    .dataframe thead th {\n",
       "        text-align: right;\n",
       "    }\n",
       "</style>\n",
       "<table border=\"1\" class=\"dataframe\">\n",
       "  <thead>\n",
       "    <tr style=\"text-align: right;\">\n",
       "      <th></th>\n",
       "      <th>ID</th>\n",
       "      <th>var3</th>\n",
       "      <th>var15</th>\n",
       "      <th>imp_ent_var16_ult1</th>\n",
       "      <th>imp_op_var39_comer_ult1</th>\n",
       "      <th>imp_op_var39_comer_ult3</th>\n",
       "      <th>imp_op_var40_comer_ult1</th>\n",
       "      <th>imp_op_var40_comer_ult3</th>\n",
       "      <th>imp_op_var40_efect_ult1</th>\n",
       "      <th>imp_op_var40_efect_ult3</th>\n",
       "      <th>...</th>\n",
       "      <th>saldo_medio_var33_hace2</th>\n",
       "      <th>saldo_medio_var33_hace3</th>\n",
       "      <th>saldo_medio_var33_ult1</th>\n",
       "      <th>saldo_medio_var33_ult3</th>\n",
       "      <th>saldo_medio_var44_hace2</th>\n",
       "      <th>saldo_medio_var44_hace3</th>\n",
       "      <th>saldo_medio_var44_ult1</th>\n",
       "      <th>saldo_medio_var44_ult3</th>\n",
       "      <th>var38</th>\n",
       "      <th>Satisfaction</th>\n",
       "    </tr>\n",
       "  </thead>\n",
       "  <tbody>\n",
       "    <tr>\n",
       "      <th>0</th>\n",
       "      <td>111813</td>\n",
       "      <td>2</td>\n",
       "      <td>22</td>\n",
       "      <td>0.0</td>\n",
       "      <td>0.0</td>\n",
       "      <td>0.00</td>\n",
       "      <td>0.0</td>\n",
       "      <td>0.0</td>\n",
       "      <td>0.0</td>\n",
       "      <td>0.0</td>\n",
       "      <td>...</td>\n",
       "      <td>0.0</td>\n",
       "      <td>0.0</td>\n",
       "      <td>0.0</td>\n",
       "      <td>0.0</td>\n",
       "      <td>0.0</td>\n",
       "      <td>0.0</td>\n",
       "      <td>0.0</td>\n",
       "      <td>0.0</td>\n",
       "      <td>117310.979016</td>\n",
       "      <td>0</td>\n",
       "    </tr>\n",
       "    <tr>\n",
       "      <th>1</th>\n",
       "      <td>31053</td>\n",
       "      <td>2</td>\n",
       "      <td>79</td>\n",
       "      <td>105.0</td>\n",
       "      <td>0.0</td>\n",
       "      <td>0.00</td>\n",
       "      <td>0.0</td>\n",
       "      <td>0.0</td>\n",
       "      <td>0.0</td>\n",
       "      <td>0.0</td>\n",
       "      <td>...</td>\n",
       "      <td>0.0</td>\n",
       "      <td>0.0</td>\n",
       "      <td>0.0</td>\n",
       "      <td>0.0</td>\n",
       "      <td>0.0</td>\n",
       "      <td>0.0</td>\n",
       "      <td>0.0</td>\n",
       "      <td>0.0</td>\n",
       "      <td>68480.010000</td>\n",
       "      <td>0</td>\n",
       "    </tr>\n",
       "    <tr>\n",
       "      <th>2</th>\n",
       "      <td>136647</td>\n",
       "      <td>2</td>\n",
       "      <td>29</td>\n",
       "      <td>0.0</td>\n",
       "      <td>0.0</td>\n",
       "      <td>0.00</td>\n",
       "      <td>0.0</td>\n",
       "      <td>0.0</td>\n",
       "      <td>0.0</td>\n",
       "      <td>0.0</td>\n",
       "      <td>...</td>\n",
       "      <td>0.0</td>\n",
       "      <td>0.0</td>\n",
       "      <td>0.0</td>\n",
       "      <td>0.0</td>\n",
       "      <td>0.0</td>\n",
       "      <td>0.0</td>\n",
       "      <td>0.0</td>\n",
       "      <td>0.0</td>\n",
       "      <td>57517.740000</td>\n",
       "      <td>0</td>\n",
       "    </tr>\n",
       "    <tr>\n",
       "      <th>3</th>\n",
       "      <td>100343</td>\n",
       "      <td>2</td>\n",
       "      <td>29</td>\n",
       "      <td>0.0</td>\n",
       "      <td>0.0</td>\n",
       "      <td>0.00</td>\n",
       "      <td>0.0</td>\n",
       "      <td>0.0</td>\n",
       "      <td>0.0</td>\n",
       "      <td>0.0</td>\n",
       "      <td>...</td>\n",
       "      <td>0.0</td>\n",
       "      <td>0.0</td>\n",
       "      <td>0.0</td>\n",
       "      <td>0.0</td>\n",
       "      <td>0.0</td>\n",
       "      <td>0.0</td>\n",
       "      <td>0.0</td>\n",
       "      <td>0.0</td>\n",
       "      <td>60060.930000</td>\n",
       "      <td>0</td>\n",
       "    </tr>\n",
       "    <tr>\n",
       "      <th>4</th>\n",
       "      <td>9720</td>\n",
       "      <td>2</td>\n",
       "      <td>25</td>\n",
       "      <td>0.0</td>\n",
       "      <td>0.0</td>\n",
       "      <td>0.00</td>\n",
       "      <td>0.0</td>\n",
       "      <td>0.0</td>\n",
       "      <td>0.0</td>\n",
       "      <td>0.0</td>\n",
       "      <td>...</td>\n",
       "      <td>0.0</td>\n",
       "      <td>0.0</td>\n",
       "      <td>0.0</td>\n",
       "      <td>0.0</td>\n",
       "      <td>0.0</td>\n",
       "      <td>0.0</td>\n",
       "      <td>0.0</td>\n",
       "      <td>0.0</td>\n",
       "      <td>84028.740000</td>\n",
       "      <td>0</td>\n",
       "    </tr>\n",
       "    <tr>\n",
       "      <th>5</th>\n",
       "      <td>38504</td>\n",
       "      <td>2</td>\n",
       "      <td>27</td>\n",
       "      <td>0.0</td>\n",
       "      <td>0.0</td>\n",
       "      <td>0.00</td>\n",
       "      <td>0.0</td>\n",
       "      <td>0.0</td>\n",
       "      <td>0.0</td>\n",
       "      <td>0.0</td>\n",
       "      <td>...</td>\n",
       "      <td>0.0</td>\n",
       "      <td>0.0</td>\n",
       "      <td>0.0</td>\n",
       "      <td>0.0</td>\n",
       "      <td>0.0</td>\n",
       "      <td>0.0</td>\n",
       "      <td>0.0</td>\n",
       "      <td>0.0</td>\n",
       "      <td>40593.720000</td>\n",
       "      <td>0</td>\n",
       "    </tr>\n",
       "    <tr>\n",
       "      <th>6</th>\n",
       "      <td>133746</td>\n",
       "      <td>2</td>\n",
       "      <td>43</td>\n",
       "      <td>0.0</td>\n",
       "      <td>0.0</td>\n",
       "      <td>0.00</td>\n",
       "      <td>0.0</td>\n",
       "      <td>0.0</td>\n",
       "      <td>0.0</td>\n",
       "      <td>0.0</td>\n",
       "      <td>...</td>\n",
       "      <td>0.0</td>\n",
       "      <td>0.0</td>\n",
       "      <td>0.0</td>\n",
       "      <td>0.0</td>\n",
       "      <td>0.0</td>\n",
       "      <td>0.0</td>\n",
       "      <td>0.0</td>\n",
       "      <td>0.0</td>\n",
       "      <td>77521.530000</td>\n",
       "      <td>0</td>\n",
       "    </tr>\n",
       "    <tr>\n",
       "      <th>7</th>\n",
       "      <td>34006</td>\n",
       "      <td>2</td>\n",
       "      <td>39</td>\n",
       "      <td>0.0</td>\n",
       "      <td>0.0</td>\n",
       "      <td>0.00</td>\n",
       "      <td>0.0</td>\n",
       "      <td>0.0</td>\n",
       "      <td>0.0</td>\n",
       "      <td>0.0</td>\n",
       "      <td>...</td>\n",
       "      <td>0.0</td>\n",
       "      <td>0.0</td>\n",
       "      <td>0.0</td>\n",
       "      <td>0.0</td>\n",
       "      <td>0.0</td>\n",
       "      <td>0.0</td>\n",
       "      <td>0.0</td>\n",
       "      <td>0.0</td>\n",
       "      <td>46382.730000</td>\n",
       "      <td>0</td>\n",
       "    </tr>\n",
       "    <tr>\n",
       "      <th>8</th>\n",
       "      <td>78809</td>\n",
       "      <td>2</td>\n",
       "      <td>28</td>\n",
       "      <td>0.0</td>\n",
       "      <td>0.0</td>\n",
       "      <td>0.00</td>\n",
       "      <td>0.0</td>\n",
       "      <td>0.0</td>\n",
       "      <td>0.0</td>\n",
       "      <td>0.0</td>\n",
       "      <td>...</td>\n",
       "      <td>0.0</td>\n",
       "      <td>0.0</td>\n",
       "      <td>0.0</td>\n",
       "      <td>0.0</td>\n",
       "      <td>0.0</td>\n",
       "      <td>0.0</td>\n",
       "      <td>0.0</td>\n",
       "      <td>0.0</td>\n",
       "      <td>74919.270000</td>\n",
       "      <td>0</td>\n",
       "    </tr>\n",
       "    <tr>\n",
       "      <th>9</th>\n",
       "      <td>62152</td>\n",
       "      <td>2</td>\n",
       "      <td>39</td>\n",
       "      <td>0.0</td>\n",
       "      <td>85.5</td>\n",
       "      <td>215.64</td>\n",
       "      <td>0.0</td>\n",
       "      <td>0.0</td>\n",
       "      <td>0.0</td>\n",
       "      <td>0.0</td>\n",
       "      <td>...</td>\n",
       "      <td>0.0</td>\n",
       "      <td>0.0</td>\n",
       "      <td>0.0</td>\n",
       "      <td>0.0</td>\n",
       "      <td>0.0</td>\n",
       "      <td>0.0</td>\n",
       "      <td>0.0</td>\n",
       "      <td>0.0</td>\n",
       "      <td>117310.979016</td>\n",
       "      <td>0</td>\n",
       "    </tr>\n",
       "  </tbody>\n",
       "</table>\n",
       "<p>10 rows × 371 columns</p>\n",
       "</div>"
      ],
      "text/plain": [
       "       ID  var3  var15  imp_ent_var16_ult1  imp_op_var39_comer_ult1  \\\n",
       "0  111813     2     22                 0.0                      0.0   \n",
       "1   31053     2     79               105.0                      0.0   \n",
       "2  136647     2     29                 0.0                      0.0   \n",
       "3  100343     2     29                 0.0                      0.0   \n",
       "4    9720     2     25                 0.0                      0.0   \n",
       "5   38504     2     27                 0.0                      0.0   \n",
       "6  133746     2     43                 0.0                      0.0   \n",
       "7   34006     2     39                 0.0                      0.0   \n",
       "8   78809     2     28                 0.0                      0.0   \n",
       "9   62152     2     39                 0.0                     85.5   \n",
       "\n",
       "   imp_op_var39_comer_ult3  imp_op_var40_comer_ult1  imp_op_var40_comer_ult3  \\\n",
       "0                     0.00                      0.0                      0.0   \n",
       "1                     0.00                      0.0                      0.0   \n",
       "2                     0.00                      0.0                      0.0   \n",
       "3                     0.00                      0.0                      0.0   \n",
       "4                     0.00                      0.0                      0.0   \n",
       "5                     0.00                      0.0                      0.0   \n",
       "6                     0.00                      0.0                      0.0   \n",
       "7                     0.00                      0.0                      0.0   \n",
       "8                     0.00                      0.0                      0.0   \n",
       "9                   215.64                      0.0                      0.0   \n",
       "\n",
       "   imp_op_var40_efect_ult1  imp_op_var40_efect_ult3  ...  \\\n",
       "0                      0.0                      0.0  ...   \n",
       "1                      0.0                      0.0  ...   \n",
       "2                      0.0                      0.0  ...   \n",
       "3                      0.0                      0.0  ...   \n",
       "4                      0.0                      0.0  ...   \n",
       "5                      0.0                      0.0  ...   \n",
       "6                      0.0                      0.0  ...   \n",
       "7                      0.0                      0.0  ...   \n",
       "8                      0.0                      0.0  ...   \n",
       "9                      0.0                      0.0  ...   \n",
       "\n",
       "   saldo_medio_var33_hace2  saldo_medio_var33_hace3  saldo_medio_var33_ult1  \\\n",
       "0                      0.0                      0.0                     0.0   \n",
       "1                      0.0                      0.0                     0.0   \n",
       "2                      0.0                      0.0                     0.0   \n",
       "3                      0.0                      0.0                     0.0   \n",
       "4                      0.0                      0.0                     0.0   \n",
       "5                      0.0                      0.0                     0.0   \n",
       "6                      0.0                      0.0                     0.0   \n",
       "7                      0.0                      0.0                     0.0   \n",
       "8                      0.0                      0.0                     0.0   \n",
       "9                      0.0                      0.0                     0.0   \n",
       "\n",
       "   saldo_medio_var33_ult3  saldo_medio_var44_hace2  saldo_medio_var44_hace3  \\\n",
       "0                     0.0                      0.0                      0.0   \n",
       "1                     0.0                      0.0                      0.0   \n",
       "2                     0.0                      0.0                      0.0   \n",
       "3                     0.0                      0.0                      0.0   \n",
       "4                     0.0                      0.0                      0.0   \n",
       "5                     0.0                      0.0                      0.0   \n",
       "6                     0.0                      0.0                      0.0   \n",
       "7                     0.0                      0.0                      0.0   \n",
       "8                     0.0                      0.0                      0.0   \n",
       "9                     0.0                      0.0                      0.0   \n",
       "\n",
       "   saldo_medio_var44_ult1  saldo_medio_var44_ult3          var38  Satisfaction  \n",
       "0                     0.0                     0.0  117310.979016             0  \n",
       "1                     0.0                     0.0   68480.010000             0  \n",
       "2                     0.0                     0.0   57517.740000             0  \n",
       "3                     0.0                     0.0   60060.930000             0  \n",
       "4                     0.0                     0.0   84028.740000             0  \n",
       "5                     0.0                     0.0   40593.720000             0  \n",
       "6                     0.0                     0.0   77521.530000             0  \n",
       "7                     0.0                     0.0   46382.730000             0  \n",
       "8                     0.0                     0.0   74919.270000             0  \n",
       "9                     0.0                     0.0  117310.979016             0  \n",
       "\n",
       "[10 rows x 371 columns]"
      ]
     },
     "execution_count": 5,
     "metadata": {},
     "output_type": "execute_result"
    }
   ],
   "source": [
    "# Dataframe \"train_df\":\n",
    "train_df.head(10)"
   ]
  },
  {
   "cell_type": "code",
   "execution_count": 6,
   "metadata": {},
   "outputs": [
    {
     "data": {
      "text/plain": [
       "['delta_imp_amort_var18_1y3',\n",
       " 'delta_imp_amort_var34_1y3',\n",
       " 'delta_imp_aport_var13_1y3',\n",
       " 'delta_imp_aport_var17_1y3',\n",
       " 'delta_imp_aport_var33_1y3',\n",
       " 'delta_imp_compra_var44_1y3',\n",
       " 'delta_imp_reemb_var13_1y3',\n",
       " 'delta_imp_reemb_var17_1y3',\n",
       " 'delta_imp_reemb_var33_1y3',\n",
       " 'delta_imp_trasp_var17_in_1y3',\n",
       " 'delta_imp_trasp_var17_out_1y3',\n",
       " 'delta_imp_trasp_var33_in_1y3',\n",
       " 'delta_imp_trasp_var33_out_1y3',\n",
       " 'delta_imp_venta_var44_1y3',\n",
       " 'delta_num_aport_var13_1y3',\n",
       " 'delta_num_aport_var17_1y3',\n",
       " 'delta_num_aport_var33_1y3',\n",
       " 'delta_num_compra_var44_1y3',\n",
       " 'delta_num_reemb_var13_1y3',\n",
       " 'delta_num_reemb_var17_1y3',\n",
       " 'delta_num_reemb_var33_1y3',\n",
       " 'delta_num_trasp_var17_in_1y3',\n",
       " 'delta_num_trasp_var17_out_1y3',\n",
       " 'delta_num_trasp_var33_in_1y3',\n",
       " 'delta_num_trasp_var33_out_1y3',\n",
       " 'delta_num_venta_var44_1y3',\n",
       " 'imp_amort_var18_hace3',\n",
       " 'imp_amort_var18_ult1',\n",
       " 'imp_amort_var34_hace3',\n",
       " 'imp_amort_var34_ult1',\n",
       " 'imp_aport_var13_hace3',\n",
       " 'imp_aport_var13_ult1',\n",
       " 'imp_aport_var17_hace3',\n",
       " 'imp_aport_var17_ult1',\n",
       " 'imp_aport_var33_hace3',\n",
       " 'imp_aport_var33_ult1',\n",
       " 'imp_compra_var44_hace3',\n",
       " 'imp_compra_var44_ult1',\n",
       " 'imp_ent_var16_ult1',\n",
       " 'imp_op_var39_comer_ult1',\n",
       " 'imp_op_var39_comer_ult3',\n",
       " 'imp_op_var39_efect_ult1',\n",
       " 'imp_op_var39_efect_ult3',\n",
       " 'imp_op_var39_ult1',\n",
       " 'imp_op_var40_comer_ult1',\n",
       " 'imp_op_var40_comer_ult3',\n",
       " 'imp_op_var40_efect_ult1',\n",
       " 'imp_op_var40_efect_ult3',\n",
       " 'imp_op_var40_ult1',\n",
       " 'imp_op_var41_comer_ult1',\n",
       " 'imp_op_var41_comer_ult3',\n",
       " 'imp_op_var41_efect_ult1',\n",
       " 'imp_op_var41_efect_ult3',\n",
       " 'imp_op_var41_ult1',\n",
       " 'imp_reemb_var13_hace3',\n",
       " 'imp_reemb_var13_ult1',\n",
       " 'imp_reemb_var17_hace3',\n",
       " 'imp_reemb_var17_ult1',\n",
       " 'imp_reemb_var33_hace3',\n",
       " 'imp_reemb_var33_ult1',\n",
       " 'imp_sal_var16_ult1',\n",
       " 'imp_trans_var37_ult1',\n",
       " 'imp_trasp_var17_in_hace3',\n",
       " 'imp_trasp_var17_in_ult1',\n",
       " 'imp_trasp_var17_out_hace3',\n",
       " 'imp_trasp_var17_out_ult1',\n",
       " 'imp_trasp_var33_in_hace3',\n",
       " 'imp_trasp_var33_in_ult1',\n",
       " 'imp_trasp_var33_out_hace3',\n",
       " 'imp_trasp_var33_out_ult1',\n",
       " 'imp_var43_emit_ult1',\n",
       " 'imp_var7_emit_ult1',\n",
       " 'imp_var7_recib_ult1',\n",
       " 'imp_venta_var44_hace3',\n",
       " 'imp_venta_var44_ult1',\n",
       " 'ind_var1',\n",
       " 'ind_var10_ult1',\n",
       " 'ind_var10cte_ult1',\n",
       " 'ind_var12',\n",
       " 'ind_var12_0',\n",
       " 'ind_var13',\n",
       " 'ind_var13_0',\n",
       " 'ind_var13_corto',\n",
       " 'ind_var13_corto_0',\n",
       " 'ind_var13_largo',\n",
       " 'ind_var13_largo_0',\n",
       " 'ind_var13_medio',\n",
       " 'ind_var13_medio_0',\n",
       " 'ind_var14',\n",
       " 'ind_var14_0',\n",
       " 'ind_var17',\n",
       " 'ind_var17_0',\n",
       " 'ind_var18',\n",
       " 'ind_var18_0',\n",
       " 'ind_var19',\n",
       " 'ind_var1_0',\n",
       " 'ind_var2',\n",
       " 'ind_var20',\n",
       " 'ind_var20_0',\n",
       " 'ind_var24',\n",
       " 'ind_var24_0',\n",
       " 'ind_var25',\n",
       " 'ind_var25_0',\n",
       " 'ind_var25_cte',\n",
       " 'ind_var26',\n",
       " 'ind_var26_0',\n",
       " 'ind_var26_cte',\n",
       " 'ind_var27',\n",
       " 'ind_var27_0',\n",
       " 'ind_var28',\n",
       " 'ind_var28_0',\n",
       " 'ind_var29',\n",
       " 'ind_var29_0',\n",
       " 'ind_var2_0',\n",
       " 'ind_var30',\n",
       " 'ind_var30_0',\n",
       " 'ind_var31',\n",
       " 'ind_var31_0',\n",
       " 'ind_var32',\n",
       " 'ind_var32_0',\n",
       " 'ind_var32_cte',\n",
       " 'ind_var33',\n",
       " 'ind_var33_0',\n",
       " 'ind_var34',\n",
       " 'ind_var34_0',\n",
       " 'ind_var37',\n",
       " 'ind_var37_0',\n",
       " 'ind_var37_cte',\n",
       " 'ind_var39',\n",
       " 'ind_var39_0',\n",
       " 'ind_var40',\n",
       " 'ind_var40_0',\n",
       " 'ind_var41',\n",
       " 'ind_var41_0',\n",
       " 'ind_var43_emit_ult1',\n",
       " 'ind_var43_recib_ult1',\n",
       " 'ind_var44',\n",
       " 'ind_var44_0',\n",
       " 'ind_var46',\n",
       " 'ind_var46_0',\n",
       " 'ind_var5',\n",
       " 'ind_var5_0',\n",
       " 'ind_var6',\n",
       " 'ind_var6_0',\n",
       " 'ind_var7_emit_ult1',\n",
       " 'ind_var7_recib_ult1',\n",
       " 'ind_var8',\n",
       " 'ind_var8_0',\n",
       " 'ind_var9_cte_ult1',\n",
       " 'ind_var9_ult1',\n",
       " 'num_aport_var13_hace3',\n",
       " 'num_aport_var13_ult1',\n",
       " 'num_aport_var17_hace3',\n",
       " 'num_aport_var17_ult1',\n",
       " 'num_aport_var33_hace3',\n",
       " 'num_aport_var33_ult1',\n",
       " 'num_compra_var44_hace3',\n",
       " 'num_compra_var44_ult1',\n",
       " 'num_ent_var16_ult1',\n",
       " 'num_med_var22_ult3',\n",
       " 'num_med_var45_ult3',\n",
       " 'num_meses_var12_ult3',\n",
       " 'num_meses_var13_corto_ult3',\n",
       " 'num_meses_var13_largo_ult3',\n",
       " 'num_meses_var13_medio_ult3',\n",
       " 'num_meses_var17_ult3',\n",
       " 'num_meses_var29_ult3',\n",
       " 'num_meses_var33_ult3',\n",
       " 'num_meses_var39_vig_ult3',\n",
       " 'num_meses_var44_ult3',\n",
       " 'num_meses_var5_ult3',\n",
       " 'num_meses_var8_ult3',\n",
       " 'num_op_var39_comer_ult1',\n",
       " 'num_op_var39_comer_ult3',\n",
       " 'num_op_var39_efect_ult1',\n",
       " 'num_op_var39_efect_ult3',\n",
       " 'num_op_var39_hace2',\n",
       " 'num_op_var39_hace3',\n",
       " 'num_op_var39_ult1',\n",
       " 'num_op_var39_ult3',\n",
       " 'num_op_var40_comer_ult1',\n",
       " 'num_op_var40_comer_ult3',\n",
       " 'num_op_var40_efect_ult1',\n",
       " 'num_op_var40_efect_ult3',\n",
       " 'num_op_var40_hace2',\n",
       " 'num_op_var40_hace3',\n",
       " 'num_op_var40_ult1',\n",
       " 'num_op_var40_ult3',\n",
       " 'num_op_var41_comer_ult1',\n",
       " 'num_op_var41_comer_ult3',\n",
       " 'num_op_var41_efect_ult1',\n",
       " 'num_op_var41_efect_ult3',\n",
       " 'num_op_var41_hace2',\n",
       " 'num_op_var41_hace3',\n",
       " 'num_op_var41_ult1',\n",
       " 'num_op_var41_ult3',\n",
       " 'num_reemb_var13_hace3',\n",
       " 'num_reemb_var13_ult1',\n",
       " 'num_reemb_var17_hace3',\n",
       " 'num_reemb_var17_ult1',\n",
       " 'num_reemb_var33_hace3',\n",
       " 'num_reemb_var33_ult1',\n",
       " 'num_sal_var16_ult1',\n",
       " 'num_trasp_var11_ult1',\n",
       " 'num_trasp_var17_in_hace3',\n",
       " 'num_trasp_var17_in_ult1',\n",
       " 'num_trasp_var17_out_hace3',\n",
       " 'num_trasp_var17_out_ult1',\n",
       " 'num_trasp_var33_in_hace3',\n",
       " 'num_trasp_var33_in_ult1',\n",
       " 'num_trasp_var33_out_hace3',\n",
       " 'num_trasp_var33_out_ult1',\n",
       " 'num_var1',\n",
       " 'num_var12',\n",
       " 'num_var12_0',\n",
       " 'num_var13',\n",
       " 'num_var13_0',\n",
       " 'num_var13_corto',\n",
       " 'num_var13_corto_0',\n",
       " 'num_var13_largo',\n",
       " 'num_var13_largo_0',\n",
       " 'num_var13_medio',\n",
       " 'num_var13_medio_0',\n",
       " 'num_var14',\n",
       " 'num_var14_0',\n",
       " 'num_var17',\n",
       " 'num_var17_0',\n",
       " 'num_var18',\n",
       " 'num_var18_0',\n",
       " 'num_var1_0',\n",
       " 'num_var20',\n",
       " 'num_var20_0',\n",
       " 'num_var22_hace2',\n",
       " 'num_var22_hace3',\n",
       " 'num_var22_ult1',\n",
       " 'num_var22_ult3',\n",
       " 'num_var24',\n",
       " 'num_var24_0',\n",
       " 'num_var25',\n",
       " 'num_var25_0',\n",
       " 'num_var26',\n",
       " 'num_var26_0',\n",
       " 'num_var27',\n",
       " 'num_var27_0',\n",
       " 'num_var28',\n",
       " 'num_var28_0',\n",
       " 'num_var29',\n",
       " 'num_var29_0',\n",
       " 'num_var2_0_ult1',\n",
       " 'num_var2_ult1',\n",
       " 'num_var30',\n",
       " 'num_var30_0',\n",
       " 'num_var31',\n",
       " 'num_var31_0',\n",
       " 'num_var32',\n",
       " 'num_var32_0',\n",
       " 'num_var33',\n",
       " 'num_var33_0',\n",
       " 'num_var34',\n",
       " 'num_var34_0',\n",
       " 'num_var35',\n",
       " 'num_var37',\n",
       " 'num_var37_0',\n",
       " 'num_var37_med_ult2',\n",
       " 'num_var39',\n",
       " 'num_var39_0',\n",
       " 'num_var4',\n",
       " 'num_var40',\n",
       " 'num_var40_0',\n",
       " 'num_var41',\n",
       " 'num_var41_0',\n",
       " 'num_var42',\n",
       " 'num_var42_0',\n",
       " 'num_var43_emit_ult1',\n",
       " 'num_var43_recib_ult1',\n",
       " 'num_var44',\n",
       " 'num_var44_0',\n",
       " 'num_var45_hace2',\n",
       " 'num_var45_hace3',\n",
       " 'num_var45_ult1',\n",
       " 'num_var45_ult3',\n",
       " 'num_var46',\n",
       " 'num_var46_0',\n",
       " 'num_var5',\n",
       " 'num_var5_0',\n",
       " 'num_var6',\n",
       " 'num_var6_0',\n",
       " 'num_var7_emit_ult1',\n",
       " 'num_var7_recib_ult1',\n",
       " 'num_var8',\n",
       " 'num_var8_0',\n",
       " 'num_venta_var44_hace3',\n",
       " 'num_venta_var44_ult1',\n",
       " 'saldo_medio_var12_hace2',\n",
       " 'saldo_medio_var12_hace3',\n",
       " 'saldo_medio_var12_ult1',\n",
       " 'saldo_medio_var12_ult3',\n",
       " 'saldo_medio_var13_corto_hace2',\n",
       " 'saldo_medio_var13_corto_hace3',\n",
       " 'saldo_medio_var13_corto_ult1',\n",
       " 'saldo_medio_var13_corto_ult3',\n",
       " 'saldo_medio_var13_largo_hace2',\n",
       " 'saldo_medio_var13_largo_hace3',\n",
       " 'saldo_medio_var13_largo_ult1',\n",
       " 'saldo_medio_var13_largo_ult3',\n",
       " 'saldo_medio_var13_medio_hace2',\n",
       " 'saldo_medio_var13_medio_hace3',\n",
       " 'saldo_medio_var13_medio_ult1',\n",
       " 'saldo_medio_var13_medio_ult3',\n",
       " 'saldo_medio_var17_hace2',\n",
       " 'saldo_medio_var17_hace3',\n",
       " 'saldo_medio_var17_ult1',\n",
       " 'saldo_medio_var17_ult3',\n",
       " 'saldo_medio_var29_hace2',\n",
       " 'saldo_medio_var29_hace3',\n",
       " 'saldo_medio_var29_ult1',\n",
       " 'saldo_medio_var29_ult3',\n",
       " 'saldo_medio_var33_hace2',\n",
       " 'saldo_medio_var33_hace3',\n",
       " 'saldo_medio_var33_ult1',\n",
       " 'saldo_medio_var33_ult3',\n",
       " 'saldo_medio_var44_hace2',\n",
       " 'saldo_medio_var44_hace3',\n",
       " 'saldo_medio_var44_ult1',\n",
       " 'saldo_medio_var44_ult3',\n",
       " 'saldo_medio_var5_hace2',\n",
       " 'saldo_medio_var5_hace3',\n",
       " 'saldo_medio_var5_ult1',\n",
       " 'saldo_medio_var5_ult3',\n",
       " 'saldo_medio_var8_hace2',\n",
       " 'saldo_medio_var8_hace3',\n",
       " 'saldo_medio_var8_ult1',\n",
       " 'saldo_medio_var8_ult3',\n",
       " 'saldo_var1',\n",
       " 'saldo_var12',\n",
       " 'saldo_var13',\n",
       " 'saldo_var13_corto',\n",
       " 'saldo_var13_largo',\n",
       " 'saldo_var13_medio',\n",
       " 'saldo_var14',\n",
       " 'saldo_var17',\n",
       " 'saldo_var18',\n",
       " 'saldo_var20',\n",
       " 'saldo_var24',\n",
       " 'saldo_var25',\n",
       " 'saldo_var26',\n",
       " 'saldo_var27',\n",
       " 'saldo_var28',\n",
       " 'saldo_var29',\n",
       " 'saldo_var2_ult1',\n",
       " 'saldo_var30',\n",
       " 'saldo_var31',\n",
       " 'saldo_var32',\n",
       " 'saldo_var33',\n",
       " 'saldo_var34',\n",
       " 'saldo_var37',\n",
       " 'saldo_var40',\n",
       " 'saldo_var41',\n",
       " 'saldo_var42',\n",
       " 'saldo_var44',\n",
       " 'saldo_var46',\n",
       " 'saldo_var5',\n",
       " 'saldo_var6',\n",
       " 'saldo_var8',\n",
       " 'var15',\n",
       " 'var21',\n",
       " 'var3',\n",
       " 'var36',\n",
       " 'var38']"
      ]
     },
     "execution_count": 6,
     "metadata": {},
     "output_type": "execute_result"
    }
   ],
   "source": [
    "# Obtendo o label das variáveis preditoras (features):\n",
    "features = train_df.columns\n",
    "\n",
    "# Elimina as features (labels) \"ID\" e \"Satisfaction\" (Target).\n",
    "# Em seguida classifica os labels em ordem crescente, transformando o resultado em uma lista:\n",
    "features = list(features.drop(['ID', 'Satisfaction']).sort_values())\n",
    "features"
   ]
  },
  {
   "cell_type": "markdown",
   "metadata": {},
   "source": [
    "**Análise:** Notamos a existência de um padrão de variáveis formado pela palavra **`var`** + **`número`**, por exemplo: **`var1`**, **`var16`**, **`var25`**, **`var33`**, **`var40`**, **`var44`**, etc.\n",
    "\n",
    "Sendo assim, vamos verificar quantas variáveis temos neste padrão. Mas, primeiro, vamos renomear o label **`ind_var10cte_ult1`** para colocá-lo no mesmo padrão das outras variáveis."
   ]
  },
  {
   "cell_type": "code",
   "execution_count": 7,
   "metadata": {},
   "outputs": [
    {
     "name": "stdout",
     "output_type": "stream",
     "text": [
      "Label 'ind_var10_cte_ult1' renomeado com sucesso? --> True\n"
     ]
    }
   ],
   "source": [
    "# Renomeando o label \"ind_var10cte_ult1\", em nosso dataset, para colocá-lo no mesmo padrão das outras variáveis (features).\n",
    "train_df.rename(columns={'ind_var10cte_ult1': 'ind_var10_cte_ult1'}, inplace=True)\n",
    "\n",
    "# Obtendo novamente o label das variáveis preditoras (features):\n",
    "features = train_df.columns\n",
    "\n",
    "# Elimina as features (labels) \"ID\" e \"Satisfaction\" (Target).\n",
    "# Em seguida classifica os labels em ordem crescente, transformando o resultado em uma lista:\n",
    "features = list(features.drop(['ID', 'Satisfaction']).sort_values())\n",
    "features\n",
    "\n",
    "# Verificando se o label \"ind_var10cte_ult1\" foi renomeado com sucesso:\n",
    "print(\"Label 'ind_var10_cte_ult1' renomeado com sucesso? --> {}\".format(\"ind_var10_cte_ult1\" in features))"
   ]
  },
  {
   "cell_type": "code",
   "execution_count": 8,
   "metadata": {},
   "outputs": [
    {
     "name": "stdout",
     "output_type": "stream",
     "text": [
      "Tipos de variáveis:\n",
      "[1, 2, 3, 4, 5, 6, 7, 8, 9, 10, 11, 12, 13, 14, 15, 16, 17, 18, 19, 20, 21, 22, 24, 25, 26, 27, 28, 29, 30, 31, 32, 33, 34, 35, 36, 37, 38, 39, 40, 41, 42, 43, 44, 45, 46]\n",
      "Quantidade: 45\n"
     ]
    }
   ],
   "source": [
    "# Verificando os tipos e quantidades de variáveis existentes em nosso dataset:\n",
    "print(\"Tipos de variáveis:\")\n",
    "print(pjlib.get_vars_type(features))\n",
    "print(\"Quantidade: {0}\".format(len(pjlib.get_vars_type(features))))"
   ]
  },
  {
   "cell_type": "markdown",
   "metadata": {},
   "source": [
    "**Análise:** temos, então, um total de **`45 variáveis`** numeradas de **`1 a 46`** porque o tipo de variável **`var23`** não existe em nosso dataset."
   ]
  },
  {
   "cell_type": "markdown",
   "metadata": {},
   "source": [
    "Agora, vamos criar um dicionário de dados agrupando as informações (**`features`**) para cada tipo de variável (**`var12`**, **`var27`**, **`var30`**, etc...)."
   ]
  },
  {
   "cell_type": "code",
   "execution_count": 9,
   "metadata": {
    "scrolled": true
   },
   "outputs": [
    {
     "name": "stdout",
     "output_type": "stream",
     "text": [
      "['ind_var1', 'ind_var1_0', 'num_var1', 'num_var1_0', 'saldo_var1']\n"
     ]
    }
   ],
   "source": [
    "# Obter as informações (features) relacionadas para os tipos de variáveis no padrão:\n",
    "# \"var\" + \"num\": \"var1\", \"var15\", \"var36\", etc.\n",
    "feat_groupby_vars = pjlib.get_features_groupby_vars(features)\n",
    "\n",
    "# Exemplo: vamos verificar as features relacionadas a \"var1\":\n",
    "print(feat_groupby_vars['var1'])"
   ]
  },
  {
   "cell_type": "code",
   "execution_count": 10,
   "metadata": {},
   "outputs": [
    {
     "name": "stdout",
     "output_type": "stream",
     "text": [
      "Variáveis Preditoras: 369\n"
     ]
    }
   ],
   "source": [
    "# Verificando se todas as variáveis preditoras do dataset foram relacionadas no dicionário:\n",
    "feat_qty = 0\n",
    "for v in feat_groupby_vars.values():\n",
    "    feat_qty += len(v)\n",
    "    \n",
    "print(\"Variáveis Preditoras: {0}\".format(feat_qty))"
   ]
  },
  {
   "cell_type": "markdown",
   "metadata": {},
   "source": [
    "**Análise:** portanto, temos **369 features** (variáveis preditoras), agrupadas em **45 tipos de variáveis**"
   ]
  },
  {
   "cell_type": "markdown",
   "metadata": {},
   "source": [
    "**Estratégia:** faremos a nossa análise exploratória de cada **feature** analisando cada uma das **45 variáveis** definidas em nosso dataset. Entretanto, como cada variável possui uma quantidade diferente de features, vamos agrupá-las de acordo com a quantidade (contagem) de features para organizar a nossa análise e verificarmos possíveis padrões nas features do nosso dataset. "
   ]
  },
  {
   "cell_type": "code",
   "execution_count": 11,
   "metadata": {},
   "outputs": [
    {
     "name": "stdout",
     "output_type": "stream",
     "text": [
      "Tamanho do grupo: 12\n",
      "['Feat_1', 'Feat_2', 'Feat_3', 'Feat_4', 'Feat_5', 'Feat_6', 'Feat_8', 'Feat_10', 'Feat_18', 'Feat_22', 'Feat_34', 'Feat_47']\n"
     ]
    }
   ],
   "source": [
    "# Vamos agrupar os tipos de variáveis do dataset, por quantidade (contagem) de features:\n",
    "vars_groupby_featcount = pjlib.get_vars_groupby_featcount(features)\n",
    "print(\"Tamanho do grupo: {}\".format(len(vars_groupby_featcount.keys())))\n",
    "print(list(vars_groupby_featcount.keys()))"
   ]
  },
  {
   "cell_type": "code",
   "execution_count": 12,
   "metadata": {},
   "outputs": [
    {
     "name": "stdout",
     "output_type": "stream",
     "text": [
      "Tipos de Variáveis: 45\n"
     ]
    }
   ],
   "source": [
    "# Verificando se todas as variáveis preditoras do dataset foram agrupadas no dicionário:\n",
    "vars_qty = 0\n",
    "for v in vars_groupby_featcount.values():\n",
    "    vars_qty += len(v)\n",
    "    \n",
    "print(\"Tipos de Variáveis: {}\".format(vars_qty))"
   ]
  },
  {
   "cell_type": "markdown",
   "metadata": {},
   "source": [
    "**Análise:** portanto, temos **45 variáveis** distribuidas em **12 grupos** de tamanhos (contagens) de features."
   ]
  },
  {
   "cell_type": "markdown",
   "metadata": {},
   "source": [
    "Agora, vamos analizar as **`features`** de cada grupo de variáveis do nosso dataset, de acordo com a quantidade de features. Entretanto, primeiro, vamos criar uma instância do objeto `FeaturesInformations` para armazenar os nomes das features classificadas por tipo de informação, tais como:\n",
    "\n",
    "1. Lista das features que são *Qualitativas Nominais* (**`Categorical`**);\n",
    "2. Lista das features  que são *Qualitativas Nominais Binárias* (**`Binary`**);\n",
    "3. Lista das features que são *Qualitativas Ordinais* (**`Ordinal`**);\n",
    "4. Lista das features que são *Quantitativas Discretas* (**`Discrete`**);\n",
    "5. Lista das features que são *Quantitativas Contínuas* (**`Continuous`**);\n",
    "6. Lista das features que possuem valores extremos (**`Outliers`**);\n",
    "7. Lista das features que possuem valores ausentes (**`NaN`**);\n",
    "8. Lista das features que são *Irrelevantes* (**`Irrelevant`**)."
   ]
  },
  {
   "cell_type": "code",
   "execution_count": 13,
   "metadata": {},
   "outputs": [
    {
     "name": "stdout",
     "output_type": "stream",
     "text": [
      "Builder called to create an object of class FeaturesInformations!\n",
      "dict_keys(['Categorical', 'Binary', 'Ordinal', 'Discrete', 'Continuous', 'Outliers', 'NaN', 'Irrelevant'])\n"
     ]
    }
   ],
   "source": [
    "# Criando o objeto da classe \"FeaturesInformations\" onde armazenaremos os nomes das features analisadas,\n",
    "# classificando por tipo de informação:\n",
    "info = ['Categorical', 'Binary', 'Ordinal', 'Discrete', 'Continuous', 'Outliers', 'NaN', 'Irrelevant']\n",
    "santander_feat_info = dslib.FeaturesInformations(keys=info)"
   ]
  },
  {
   "cell_type": "markdown",
   "metadata": {},
   "source": [
    "## Variáveis que possuem apenas `1 feature` em nosso dataset:"
   ]
  },
  {
   "cell_type": "code",
   "execution_count": 14,
   "metadata": {},
   "outputs": [
    {
     "name": "stdout",
     "output_type": "stream",
     "text": [
      "Count of variables: 9\n",
      "['var3', 'var4', 'var11', 'var15', 'var19', 'var21', 'var35', 'var36', 'var38']\n"
     ]
    }
   ],
   "source": [
    "# Verificando as variáveis que possuem apenas \"1\" feature (variável preditora) no dataset:\n",
    "feat_vars = vars_groupby_featcount['Feat_1']\n",
    "print(\"Count of variables: {}\".format(len(feat_vars)))\n",
    "print(feat_vars)"
   ]
  },
  {
   "cell_type": "code",
   "execution_count": 15,
   "metadata": {},
   "outputs": [
    {
     "name": "stdout",
     "output_type": "stream",
     "text": [
      "Count of features: 9\n"
     ]
    }
   ],
   "source": [
    "# Conferindo a contagem de features para cada variável:\n",
    "feat_total = 0\n",
    "for v in feat_vars:\n",
    "    feat_total += len(feat_groupby_vars[v])\n",
    "    \n",
    "print(\"Count of features: {}\".format(feat_total))"
   ]
  },
  {
   "cell_type": "markdown",
   "metadata": {},
   "source": [
    "## var3"
   ]
  },
  {
   "cell_type": "code",
   "execution_count": 16,
   "metadata": {},
   "outputs": [
    {
     "name": "stdout",
     "output_type": "stream",
     "text": [
      "<class 'pandas.core.frame.DataFrame'>\n",
      "RangeIndex: 60816 entries, 0 to 60815\n",
      "Data columns (total 1 columns):\n",
      "var3    60816 non-null int64\n",
      "dtypes: int64(1)\n",
      "memory usage: 475.2 KB\n"
     ]
    }
   ],
   "source": [
    "# Resumo das informações:\n",
    "train_df[feat_groupby_vars['var3']].info()"
   ]
  },
  {
   "cell_type": "markdown",
   "metadata": {},
   "source": [
    "Agora, vamos calcular algumas medidas **estatísticas descritivas** para análsise desta **`feature`** em nosso dataset:"
   ]
  },
  {
   "cell_type": "code",
   "execution_count": 17,
   "metadata": {
    "scrolled": true
   },
   "outputs": [
    {
     "data": {
      "text/html": [
       "<div>\n",
       "<style scoped>\n",
       "    .dataframe tbody tr th:only-of-type {\n",
       "        vertical-align: middle;\n",
       "    }\n",
       "\n",
       "    .dataframe tbody tr th {\n",
       "        vertical-align: top;\n",
       "    }\n",
       "\n",
       "    .dataframe thead th {\n",
       "        text-align: right;\n",
       "    }\n",
       "</style>\n",
       "<table border=\"1\" class=\"dataframe\">\n",
       "  <thead>\n",
       "    <tr style=\"text-align: right;\">\n",
       "      <th></th>\n",
       "      <th>var3</th>\n",
       "    </tr>\n",
       "  </thead>\n",
       "  <tbody>\n",
       "    <tr>\n",
       "      <th>count</th>\n",
       "      <td>60816.000000</td>\n",
       "    </tr>\n",
       "    <tr>\n",
       "      <th>mean</th>\n",
       "      <td>-1526.496991</td>\n",
       "    </tr>\n",
       "    <tr>\n",
       "      <th>std</th>\n",
       "      <td>39075.501176</td>\n",
       "    </tr>\n",
       "    <tr>\n",
       "      <th>min</th>\n",
       "      <td>-999999.000000</td>\n",
       "    </tr>\n",
       "    <tr>\n",
       "      <th>25%</th>\n",
       "      <td>2.000000</td>\n",
       "    </tr>\n",
       "    <tr>\n",
       "      <th>50%</th>\n",
       "      <td>2.000000</td>\n",
       "    </tr>\n",
       "    <tr>\n",
       "      <th>75%</th>\n",
       "      <td>2.000000</td>\n",
       "    </tr>\n",
       "    <tr>\n",
       "      <th>max</th>\n",
       "      <td>238.000000</td>\n",
       "    </tr>\n",
       "  </tbody>\n",
       "</table>\n",
       "</div>"
      ],
      "text/plain": [
       "                var3\n",
       "count   60816.000000\n",
       "mean    -1526.496991\n",
       "std     39075.501176\n",
       "min   -999999.000000\n",
       "25%         2.000000\n",
       "50%         2.000000\n",
       "75%         2.000000\n",
       "max       238.000000"
      ]
     },
     "execution_count": 17,
     "metadata": {},
     "output_type": "execute_result"
    }
   ],
   "source": [
    "# Dataframe \"train_df\":\n",
    "train_df[feat_groupby_vars['var3']].describe()"
   ]
  },
  {
   "cell_type": "code",
   "execution_count": 18,
   "metadata": {},
   "outputs": [
    {
     "data": {
      "text/html": [
       "<div>\n",
       "<style scoped>\n",
       "    .dataframe tbody tr th:only-of-type {\n",
       "        vertical-align: middle;\n",
       "    }\n",
       "\n",
       "    .dataframe tbody tr th {\n",
       "        vertical-align: top;\n",
       "    }\n",
       "\n",
       "    .dataframe thead th {\n",
       "        text-align: right;\n",
       "    }\n",
       "</style>\n",
       "<table border=\"1\" class=\"dataframe\">\n",
       "  <thead>\n",
       "    <tr style=\"text-align: right;\">\n",
       "      <th></th>\n",
       "      <th>Total</th>\n",
       "      <th>Percent</th>\n",
       "    </tr>\n",
       "    <tr>\n",
       "      <th>var3</th>\n",
       "      <th></th>\n",
       "      <th></th>\n",
       "    </tr>\n",
       "  </thead>\n",
       "  <tbody>\n",
       "    <tr>\n",
       "      <th>2</th>\n",
       "      <td>59339</td>\n",
       "      <td>0.9757</td>\n",
       "    </tr>\n",
       "    <tr>\n",
       "      <th>8</th>\n",
       "      <td>107</td>\n",
       "      <td>0.0018</td>\n",
       "    </tr>\n",
       "    <tr>\n",
       "      <th>-999999</th>\n",
       "      <td>93</td>\n",
       "      <td>0.0015</td>\n",
       "    </tr>\n",
       "    <tr>\n",
       "      <th>9</th>\n",
       "      <td>91</td>\n",
       "      <td>0.0015</td>\n",
       "    </tr>\n",
       "    <tr>\n",
       "      <th>3</th>\n",
       "      <td>89</td>\n",
       "      <td>0.0015</td>\n",
       "    </tr>\n",
       "    <tr>\n",
       "      <th>...</th>\n",
       "      <td>...</td>\n",
       "      <td>...</td>\n",
       "    </tr>\n",
       "    <tr>\n",
       "      <th>79</th>\n",
       "      <td>1</td>\n",
       "      <td>0.0000</td>\n",
       "    </tr>\n",
       "    <tr>\n",
       "      <th>81</th>\n",
       "      <td>1</td>\n",
       "      <td>0.0000</td>\n",
       "    </tr>\n",
       "    <tr>\n",
       "      <th>145</th>\n",
       "      <td>1</td>\n",
       "      <td>0.0000</td>\n",
       "    </tr>\n",
       "    <tr>\n",
       "      <th>84</th>\n",
       "      <td>1</td>\n",
       "      <td>0.0000</td>\n",
       "    </tr>\n",
       "    <tr>\n",
       "      <th>238</th>\n",
       "      <td>1</td>\n",
       "      <td>0.0000</td>\n",
       "    </tr>\n",
       "  </tbody>\n",
       "</table>\n",
       "<p>192 rows × 2 columns</p>\n",
       "</div>"
      ],
      "text/plain": [
       "         Total  Percent\n",
       "var3                   \n",
       " 2       59339   0.9757\n",
       " 8         107   0.0018\n",
       "-999999     93   0.0015\n",
       " 9          91   0.0015\n",
       " 3          89   0.0015\n",
       "...        ...      ...\n",
       " 79          1   0.0000\n",
       " 81          1   0.0000\n",
       " 145         1   0.0000\n",
       " 84          1   0.0000\n",
       " 238         1   0.0000\n",
       "\n",
       "[192 rows x 2 columns]"
      ]
     },
     "execution_count": 18,
     "metadata": {},
     "output_type": "execute_result"
    }
   ],
   "source": [
    "# Vamos verificar a proporção dos valores para a feature relacionada a \"var3\":\n",
    "dslib.percent_count_feature(df=train_df, feature=feat_groupby_vars['var3'][0], lines_drop=False)"
   ]
  },
  {
   "cell_type": "code",
   "execution_count": 19,
   "metadata": {},
   "outputs": [
    {
     "data": {
      "text/html": [
       "<div>\n",
       "<style scoped>\n",
       "    .dataframe tbody tr th:only-of-type {\n",
       "        vertical-align: middle;\n",
       "    }\n",
       "\n",
       "    .dataframe tbody tr th {\n",
       "        vertical-align: top;\n",
       "    }\n",
       "\n",
       "    .dataframe thead th {\n",
       "        text-align: right;\n",
       "    }\n",
       "</style>\n",
       "<table border=\"1\" class=\"dataframe\">\n",
       "  <thead>\n",
       "    <tr style=\"text-align: right;\">\n",
       "      <th></th>\n",
       "      <th>var3</th>\n",
       "    </tr>\n",
       "    <tr>\n",
       "      <th>Percentile</th>\n",
       "      <th></th>\n",
       "    </tr>\n",
       "  </thead>\n",
       "  <tbody>\n",
       "    <tr>\n",
       "      <th>95%</th>\n",
       "      <td>2.0</td>\n",
       "    </tr>\n",
       "    <tr>\n",
       "      <th>96%</th>\n",
       "      <td>2.0</td>\n",
       "    </tr>\n",
       "    <tr>\n",
       "      <th>97%</th>\n",
       "      <td>2.0</td>\n",
       "    </tr>\n",
       "    <tr>\n",
       "      <th>98%</th>\n",
       "      <td>3.0</td>\n",
       "    </tr>\n",
       "    <tr>\n",
       "      <th>99%</th>\n",
       "      <td>11.0</td>\n",
       "    </tr>\n",
       "    <tr>\n",
       "      <th>100%</th>\n",
       "      <td>238.0</td>\n",
       "    </tr>\n",
       "  </tbody>\n",
       "</table>\n",
       "</div>"
      ],
      "text/plain": [
       "             var3\n",
       "Percentile       \n",
       "95%           2.0\n",
       "96%           2.0\n",
       "97%           2.0\n",
       "98%           3.0\n",
       "99%          11.0\n",
       "100%        238.0"
      ]
     },
     "execution_count": 19,
     "metadata": {},
     "output_type": "execute_result"
    }
   ],
   "source": [
    "# Obtendo os percentis a partir de \"95%\", com intervá-los de \"1%\":\n",
    "result = dslib.get_features_percentiles(data=train_df, features=feat_groupby_vars['var3'], percent_range=range(95, 101, 1))\n",
    "result"
   ]
  },
  {
   "cell_type": "markdown",
   "metadata": {},
   "source": [
    "**Análise:** observando distribuição de valores para as **`features`** relacionadas com **`var3`**, sendo que neste caso temos apenas a feature **`var3`**, percebemos que esta feature é uma variável do tipo `Quantitativa Discreta`, e que **`97.57%`** dos valores são **constantes** e iguais a **`2`**, ou seja, entendemos que esta **feature é `irrelevante`**, ou seja, não será analisada na criação dos modelos preditivos."
   ]
  },
  {
   "cell_type": "code",
   "execution_count": 20,
   "metadata": {},
   "outputs": [],
   "source": [
    "# Armazenando informações sobre a feature:\n",
    "santander_feat_info.save(key='Discrete', features=feat_groupby_vars['var3'])   # Quantitativa Discreta.\n",
    "santander_feat_info.save(key='Irrelevant', features=feat_groupby_vars['var3']) # Irrelevante."
   ]
  },
  {
   "cell_type": "markdown",
   "metadata": {},
   "source": [
    "## var4"
   ]
  },
  {
   "cell_type": "code",
   "execution_count": 21,
   "metadata": {},
   "outputs": [
    {
     "name": "stdout",
     "output_type": "stream",
     "text": [
      "<class 'pandas.core.frame.DataFrame'>\n",
      "RangeIndex: 60816 entries, 0 to 60815\n",
      "Data columns (total 1 columns):\n",
      "num_var4    60816 non-null int64\n",
      "dtypes: int64(1)\n",
      "memory usage: 475.2 KB\n"
     ]
    }
   ],
   "source": [
    "# Resumo das informações:\n",
    "train_df[feat_groupby_vars['var4']].info()"
   ]
  },
  {
   "cell_type": "markdown",
   "metadata": {},
   "source": [
    "Agora, vamos calcular algumas medidas **estatísticas descritivas** para análsise desta **`feature`** em nosso dataset:"
   ]
  },
  {
   "cell_type": "code",
   "execution_count": 22,
   "metadata": {
    "scrolled": true
   },
   "outputs": [
    {
     "data": {
      "text/html": [
       "<div>\n",
       "<style scoped>\n",
       "    .dataframe tbody tr th:only-of-type {\n",
       "        vertical-align: middle;\n",
       "    }\n",
       "\n",
       "    .dataframe tbody tr th {\n",
       "        vertical-align: top;\n",
       "    }\n",
       "\n",
       "    .dataframe thead th {\n",
       "        text-align: right;\n",
       "    }\n",
       "</style>\n",
       "<table border=\"1\" class=\"dataframe\">\n",
       "  <thead>\n",
       "    <tr style=\"text-align: right;\">\n",
       "      <th></th>\n",
       "      <th>num_var4</th>\n",
       "    </tr>\n",
       "  </thead>\n",
       "  <tbody>\n",
       "    <tr>\n",
       "      <th>count</th>\n",
       "      <td>60816.000000</td>\n",
       "    </tr>\n",
       "    <tr>\n",
       "      <th>mean</th>\n",
       "      <td>1.080620</td>\n",
       "    </tr>\n",
       "    <tr>\n",
       "      <th>std</th>\n",
       "      <td>0.911055</td>\n",
       "    </tr>\n",
       "    <tr>\n",
       "      <th>min</th>\n",
       "      <td>0.000000</td>\n",
       "    </tr>\n",
       "    <tr>\n",
       "      <th>25%</th>\n",
       "      <td>0.000000</td>\n",
       "    </tr>\n",
       "    <tr>\n",
       "      <th>50%</th>\n",
       "      <td>1.000000</td>\n",
       "    </tr>\n",
       "    <tr>\n",
       "      <th>75%</th>\n",
       "      <td>1.000000</td>\n",
       "    </tr>\n",
       "    <tr>\n",
       "      <th>max</th>\n",
       "      <td>7.000000</td>\n",
       "    </tr>\n",
       "  </tbody>\n",
       "</table>\n",
       "</div>"
      ],
      "text/plain": [
       "           num_var4\n",
       "count  60816.000000\n",
       "mean       1.080620\n",
       "std        0.911055\n",
       "min        0.000000\n",
       "25%        0.000000\n",
       "50%        1.000000\n",
       "75%        1.000000\n",
       "max        7.000000"
      ]
     },
     "execution_count": 22,
     "metadata": {},
     "output_type": "execute_result"
    }
   ],
   "source": [
    "# Dataframe \"train_df\":\n",
    "train_df[feat_groupby_vars['var4']].describe()"
   ]
  },
  {
   "cell_type": "code",
   "execution_count": 23,
   "metadata": {},
   "outputs": [
    {
     "name": "stdout",
     "output_type": "stream",
     "text": [
      "Saving figure: plot_count_num_var4\n"
     ]
    },
    {
     "data": {
      "image/png": "[encoded data removed]",
      "text/plain": [
       "<Figure size 720x432 with 2 Axes>"
      ]
     },
     "metadata": {},
     "output_type": "display_data"
    },
    {
     "data": {
      "text/html": [
       "<div>\n",
       "<style scoped>\n",
       "    .dataframe tbody tr th:only-of-type {\n",
       "        vertical-align: middle;\n",
       "    }\n",
       "\n",
       "    .dataframe tbody tr th {\n",
       "        vertical-align: top;\n",
       "    }\n",
       "\n",
       "    .dataframe thead th {\n",
       "        text-align: right;\n",
       "    }\n",
       "</style>\n",
       "<table border=\"1\" class=\"dataframe\">\n",
       "  <thead>\n",
       "    <tr style=\"text-align: right;\">\n",
       "      <th></th>\n",
       "      <th>num_var4</th>\n",
       "      <th>Total</th>\n",
       "      <th>Percent</th>\n",
       "    </tr>\n",
       "  </thead>\n",
       "  <tbody>\n",
       "    <tr>\n",
       "      <th>0</th>\n",
       "      <td>0</td>\n",
       "      <td>15618</td>\n",
       "      <td>0.2568</td>\n",
       "    </tr>\n",
       "    <tr>\n",
       "      <th>1</th>\n",
       "      <td>1</td>\n",
       "      <td>30496</td>\n",
       "      <td>0.5014</td>\n",
       "    </tr>\n",
       "    <tr>\n",
       "      <th>2</th>\n",
       "      <td>2</td>\n",
       "      <td>10146</td>\n",
       "      <td>0.1668</td>\n",
       "    </tr>\n",
       "    <tr>\n",
       "      <th>3</th>\n",
       "      <td>3</td>\n",
       "      <td>3532</td>\n",
       "      <td>0.0581</td>\n",
       "    </tr>\n",
       "    <tr>\n",
       "      <th>4</th>\n",
       "      <td>4</td>\n",
       "      <td>825</td>\n",
       "      <td>0.0136</td>\n",
       "    </tr>\n",
       "    <tr>\n",
       "      <th>5</th>\n",
       "      <td>5</td>\n",
       "      <td>165</td>\n",
       "      <td>0.0027</td>\n",
       "    </tr>\n",
       "    <tr>\n",
       "      <th>6</th>\n",
       "      <td>6</td>\n",
       "      <td>28</td>\n",
       "      <td>0.0005</td>\n",
       "    </tr>\n",
       "    <tr>\n",
       "      <th>7</th>\n",
       "      <td>7</td>\n",
       "      <td>6</td>\n",
       "      <td>0.0001</td>\n",
       "    </tr>\n",
       "  </tbody>\n",
       "</table>\n",
       "</div>"
      ],
      "text/plain": [
       "   num_var4  Total  Percent\n",
       "0         0  15618   0.2568\n",
       "1         1  30496   0.5014\n",
       "2         2  10146   0.1668\n",
       "3         3   3532   0.0581\n",
       "4         4    825   0.0136\n",
       "5         5    165   0.0027\n",
       "6         6     28   0.0005\n",
       "7         7      6   0.0001"
      ]
     },
     "execution_count": 23,
     "metadata": {},
     "output_type": "execute_result"
    }
   ],
   "source": [
    "# Agora, vamos plotar as contagens de observações e as proporções de cada classe da nossa feature:\n",
    "ptlib.plot_percent_count_feature(df=train_df, feature=feat_groupby_vars['var4'][0], plot_style='ticks',\n",
    "                                 title=feat_groupby_vars['var4'][0], title_fontsize=18, title_share=False,\n",
    "                                 xlabel1=\"Categories\", xlabel1_fontsize=15, xlabel2=\"Categories\", xlabel2_fontsize=15,\n",
    "                                 ylabel_fontsize=15, columns_nr=2, rows_nr=1, share_x=False, share_y=False,\n",
    "                                 width=10, height=6, xtick_labelsize=13, ytick_labelsize=13, wspace=None, hspace=None,\n",
    "                                 figure_id='plot_count_num_var4', figure_path=PROJECT_IMG_PATH,\n",
    "                                 figure_file_format=\"png\", figure_file_extension=\".png\", tight_layout=True, dpi=300\n",
    "                                )"
   ]
  },
  {
   "cell_type": "markdown",
   "metadata": {},
   "source": [
    "**Análise:** podemos observar que a **`feature`** **`num_var4`**, relacionada com **`var4`**, é na verdade uma variável do tipo `Categórica Nominal` com **`8 categorias`**. Notamos também que **`92.50%`** das observações do nosso dataset de treinamento estão classificados nas categorias **`0, 1 e 2`**. Portanto, está **feature é `relevante` e deverá ser analisada** na criação dos modelos preditivos."
   ]
  },
  {
   "cell_type": "code",
   "execution_count": 24,
   "metadata": {},
   "outputs": [],
   "source": [
    "# Armazenando informações sobre a feature:\n",
    "santander_feat_info.save(key='Categorical', features=feat_groupby_vars['var4']) # Qualitativa Nominal."
   ]
  },
  {
   "cell_type": "markdown",
   "metadata": {},
   "source": [
    "## var11"
   ]
  },
  {
   "cell_type": "code",
   "execution_count": 25,
   "metadata": {},
   "outputs": [
    {
     "name": "stdout",
     "output_type": "stream",
     "text": [
      "<class 'pandas.core.frame.DataFrame'>\n",
      "RangeIndex: 60816 entries, 0 to 60815\n",
      "Data columns (total 1 columns):\n",
      "num_trasp_var11_ult1    60816 non-null int64\n",
      "dtypes: int64(1)\n",
      "memory usage: 475.2 KB\n"
     ]
    }
   ],
   "source": [
    "# Resumo das informações:\n",
    "train_df[feat_groupby_vars['var11']].info()"
   ]
  },
  {
   "cell_type": "markdown",
   "metadata": {},
   "source": [
    "Agora, vamos calcular algumas medidas **estatísticas descritivas** para análsise desta **`feature`** em nosso dataset:"
   ]
  },
  {
   "cell_type": "code",
   "execution_count": 26,
   "metadata": {
    "scrolled": true
   },
   "outputs": [
    {
     "data": {
      "text/html": [
       "<div>\n",
       "<style scoped>\n",
       "    .dataframe tbody tr th:only-of-type {\n",
       "        vertical-align: middle;\n",
       "    }\n",
       "\n",
       "    .dataframe tbody tr th {\n",
       "        vertical-align: top;\n",
       "    }\n",
       "\n",
       "    .dataframe thead th {\n",
       "        text-align: right;\n",
       "    }\n",
       "</style>\n",
       "<table border=\"1\" class=\"dataframe\">\n",
       "  <thead>\n",
       "    <tr style=\"text-align: right;\">\n",
       "      <th></th>\n",
       "      <th>num_trasp_var11_ult1</th>\n",
       "    </tr>\n",
       "  </thead>\n",
       "  <tbody>\n",
       "    <tr>\n",
       "      <th>count</th>\n",
       "      <td>60816.000000</td>\n",
       "    </tr>\n",
       "    <tr>\n",
       "      <th>mean</th>\n",
       "      <td>0.119771</td>\n",
       "    </tr>\n",
       "    <tr>\n",
       "      <th>std</th>\n",
       "      <td>1.193239</td>\n",
       "    </tr>\n",
       "    <tr>\n",
       "      <th>min</th>\n",
       "      <td>0.000000</td>\n",
       "    </tr>\n",
       "    <tr>\n",
       "      <th>25%</th>\n",
       "      <td>0.000000</td>\n",
       "    </tr>\n",
       "    <tr>\n",
       "      <th>50%</th>\n",
       "      <td>0.000000</td>\n",
       "    </tr>\n",
       "    <tr>\n",
       "      <th>75%</th>\n",
       "      <td>0.000000</td>\n",
       "    </tr>\n",
       "    <tr>\n",
       "      <th>max</th>\n",
       "      <td>93.000000</td>\n",
       "    </tr>\n",
       "  </tbody>\n",
       "</table>\n",
       "</div>"
      ],
      "text/plain": [
       "       num_trasp_var11_ult1\n",
       "count          60816.000000\n",
       "mean               0.119771\n",
       "std                1.193239\n",
       "min                0.000000\n",
       "25%                0.000000\n",
       "50%                0.000000\n",
       "75%                0.000000\n",
       "max               93.000000"
      ]
     },
     "execution_count": 26,
     "metadata": {},
     "output_type": "execute_result"
    }
   ],
   "source": [
    "# Dataframe \"train_df\":\n",
    "train_df[feat_groupby_vars['var11']].describe()"
   ]
  },
  {
   "cell_type": "code",
   "execution_count": 27,
   "metadata": {
    "scrolled": true
   },
   "outputs": [
    {
     "data": {
      "text/html": [
       "<div>\n",
       "<style scoped>\n",
       "    .dataframe tbody tr th:only-of-type {\n",
       "        vertical-align: middle;\n",
       "    }\n",
       "\n",
       "    .dataframe tbody tr th {\n",
       "        vertical-align: top;\n",
       "    }\n",
       "\n",
       "    .dataframe thead th {\n",
       "        text-align: right;\n",
       "    }\n",
       "</style>\n",
       "<table border=\"1\" class=\"dataframe\">\n",
       "  <thead>\n",
       "    <tr style=\"text-align: right;\">\n",
       "      <th></th>\n",
       "      <th>Total</th>\n",
       "      <th>Percent</th>\n",
       "    </tr>\n",
       "    <tr>\n",
       "      <th>num_trasp_var11_ult1</th>\n",
       "      <th></th>\n",
       "      <th></th>\n",
       "    </tr>\n",
       "  </thead>\n",
       "  <tbody>\n",
       "    <tr>\n",
       "      <th>0</th>\n",
       "      <td>59509</td>\n",
       "      <td>0.9785</td>\n",
       "    </tr>\n",
       "    <tr>\n",
       "      <th>3</th>\n",
       "      <td>834</td>\n",
       "      <td>0.0137</td>\n",
       "    </tr>\n",
       "    <tr>\n",
       "      <th>6</th>\n",
       "      <td>247</td>\n",
       "      <td>0.0041</td>\n",
       "    </tr>\n",
       "    <tr>\n",
       "      <th>9</th>\n",
       "      <td>113</td>\n",
       "      <td>0.0019</td>\n",
       "    </tr>\n",
       "    <tr>\n",
       "      <th>12</th>\n",
       "      <td>40</td>\n",
       "      <td>0.0007</td>\n",
       "    </tr>\n",
       "    <tr>\n",
       "      <th>15</th>\n",
       "      <td>22</td>\n",
       "      <td>0.0004</td>\n",
       "    </tr>\n",
       "    <tr>\n",
       "      <th>18</th>\n",
       "      <td>11</td>\n",
       "      <td>0.0002</td>\n",
       "    </tr>\n",
       "    <tr>\n",
       "      <th>24</th>\n",
       "      <td>8</td>\n",
       "      <td>0.0001</td>\n",
       "    </tr>\n",
       "    <tr>\n",
       "      <th>30</th>\n",
       "      <td>7</td>\n",
       "      <td>0.0001</td>\n",
       "    </tr>\n",
       "    <tr>\n",
       "      <th>21</th>\n",
       "      <td>7</td>\n",
       "      <td>0.0001</td>\n",
       "    </tr>\n",
       "    <tr>\n",
       "      <th>27</th>\n",
       "      <td>5</td>\n",
       "      <td>0.0001</td>\n",
       "    </tr>\n",
       "    <tr>\n",
       "      <th>39</th>\n",
       "      <td>3</td>\n",
       "      <td>0.0000</td>\n",
       "    </tr>\n",
       "    <tr>\n",
       "      <th>42</th>\n",
       "      <td>3</td>\n",
       "      <td>0.0000</td>\n",
       "    </tr>\n",
       "    <tr>\n",
       "      <th>33</th>\n",
       "      <td>2</td>\n",
       "      <td>0.0000</td>\n",
       "    </tr>\n",
       "    <tr>\n",
       "      <th>45</th>\n",
       "      <td>2</td>\n",
       "      <td>0.0000</td>\n",
       "    </tr>\n",
       "    <tr>\n",
       "      <th>36</th>\n",
       "      <td>1</td>\n",
       "      <td>0.0000</td>\n",
       "    </tr>\n",
       "    <tr>\n",
       "      <th>63</th>\n",
       "      <td>1</td>\n",
       "      <td>0.0000</td>\n",
       "    </tr>\n",
       "    <tr>\n",
       "      <th>93</th>\n",
       "      <td>1</td>\n",
       "      <td>0.0000</td>\n",
       "    </tr>\n",
       "  </tbody>\n",
       "</table>\n",
       "</div>"
      ],
      "text/plain": [
       "                      Total  Percent\n",
       "num_trasp_var11_ult1                \n",
       "0                     59509   0.9785\n",
       "3                       834   0.0137\n",
       "6                       247   0.0041\n",
       "9                       113   0.0019\n",
       "12                       40   0.0007\n",
       "15                       22   0.0004\n",
       "18                       11   0.0002\n",
       "24                        8   0.0001\n",
       "30                        7   0.0001\n",
       "21                        7   0.0001\n",
       "27                        5   0.0001\n",
       "39                        3   0.0000\n",
       "42                        3   0.0000\n",
       "33                        2   0.0000\n",
       "45                        2   0.0000\n",
       "36                        1   0.0000\n",
       "63                        1   0.0000\n",
       "93                        1   0.0000"
      ]
     },
     "execution_count": 27,
     "metadata": {},
     "output_type": "execute_result"
    }
   ],
   "source": [
    "# Vamos verificar a proporção dos valores para a feature relacionada a \"var11\":\n",
    "dslib.percent_count_feature(df=train_df, feature=feat_groupby_vars['var11'][0], lines_drop=False)"
   ]
  },
  {
   "cell_type": "code",
   "execution_count": 28,
   "metadata": {},
   "outputs": [
    {
     "data": {
      "text/html": [
       "<div>\n",
       "<style scoped>\n",
       "    .dataframe tbody tr th:only-of-type {\n",
       "        vertical-align: middle;\n",
       "    }\n",
       "\n",
       "    .dataframe tbody tr th {\n",
       "        vertical-align: top;\n",
       "    }\n",
       "\n",
       "    .dataframe thead th {\n",
       "        text-align: right;\n",
       "    }\n",
       "</style>\n",
       "<table border=\"1\" class=\"dataframe\">\n",
       "  <thead>\n",
       "    <tr style=\"text-align: right;\">\n",
       "      <th></th>\n",
       "      <th>num_trasp_var11_ult1</th>\n",
       "    </tr>\n",
       "    <tr>\n",
       "      <th>Percentile</th>\n",
       "      <th></th>\n",
       "    </tr>\n",
       "  </thead>\n",
       "  <tbody>\n",
       "    <tr>\n",
       "      <th>95%</th>\n",
       "      <td>0.0</td>\n",
       "    </tr>\n",
       "    <tr>\n",
       "      <th>96%</th>\n",
       "      <td>0.0</td>\n",
       "    </tr>\n",
       "    <tr>\n",
       "      <th>97%</th>\n",
       "      <td>0.0</td>\n",
       "    </tr>\n",
       "    <tr>\n",
       "      <th>98%</th>\n",
       "      <td>3.0</td>\n",
       "    </tr>\n",
       "    <tr>\n",
       "      <th>99%</th>\n",
       "      <td>3.0</td>\n",
       "    </tr>\n",
       "    <tr>\n",
       "      <th>100%</th>\n",
       "      <td>93.0</td>\n",
       "    </tr>\n",
       "  </tbody>\n",
       "</table>\n",
       "</div>"
      ],
      "text/plain": [
       "            num_trasp_var11_ult1\n",
       "Percentile                      \n",
       "95%                          0.0\n",
       "96%                          0.0\n",
       "97%                          0.0\n",
       "98%                          3.0\n",
       "99%                          3.0\n",
       "100%                        93.0"
      ]
     },
     "execution_count": 28,
     "metadata": {},
     "output_type": "execute_result"
    }
   ],
   "source": [
    "# Obtendo os percentis a partir de \"95%\", com intervá-los de \"1%\":\n",
    "result = dslib.get_features_percentiles(data=train_df, features=feat_groupby_vars['var11'], percent_range=range(95, 101, 1))\n",
    "result"
   ]
  },
  {
   "cell_type": "markdown",
   "metadata": {},
   "source": [
    "**Análise:** observando a distribuição de valores para a **`feature`** relacionada com **`var11`**, sendo que neste caso temos apenas a feature **`num_trasp_var11_ult1`**, percebemos que **`97.85%`** dos valores são **constantes** e iguais a **`0`**, podendo ser um indicativo de valores ausentes (**NaN**). Trata-se de uma variável do tipo `Quantitativa Discreta`. Neste caso, entendemos que esta **feature é `irrelevante`**, ou seja, não será analizada na criação dos modelos preditivos."
   ]
  },
  {
   "cell_type": "code",
   "execution_count": 29,
   "metadata": {},
   "outputs": [],
   "source": [
    "# Armazenando informações sobre a feature:\n",
    "santander_feat_info.save(key='Discrete', features=feat_groupby_vars['var11'])   # Quantitativa Discreta.\n",
    "santander_feat_info.save(key='Irrelevant', features=feat_groupby_vars['var11']) # Irrelevante."
   ]
  },
  {
   "cell_type": "markdown",
   "metadata": {},
   "source": [
    "## var15"
   ]
  },
  {
   "cell_type": "code",
   "execution_count": 30,
   "metadata": {},
   "outputs": [
    {
     "name": "stdout",
     "output_type": "stream",
     "text": [
      "<class 'pandas.core.frame.DataFrame'>\n",
      "RangeIndex: 60816 entries, 0 to 60815\n",
      "Data columns (total 1 columns):\n",
      "var15    60816 non-null int64\n",
      "dtypes: int64(1)\n",
      "memory usage: 475.2 KB\n"
     ]
    }
   ],
   "source": [
    "# Resumo das informações:\n",
    "train_df[feat_groupby_vars['var15']].info()"
   ]
  },
  {
   "cell_type": "markdown",
   "metadata": {},
   "source": [
    "Agora, vamos calcular algumas medidas **estatísticas descritivas** para análsise desta **`feature`** em nosso dataset:"
   ]
  },
  {
   "cell_type": "code",
   "execution_count": 31,
   "metadata": {
    "scrolled": true
   },
   "outputs": [
    {
     "data": {
      "text/html": [
       "<div>\n",
       "<style scoped>\n",
       "    .dataframe tbody tr th:only-of-type {\n",
       "        vertical-align: middle;\n",
       "    }\n",
       "\n",
       "    .dataframe tbody tr th {\n",
       "        vertical-align: top;\n",
       "    }\n",
       "\n",
       "    .dataframe thead th {\n",
       "        text-align: right;\n",
       "    }\n",
       "</style>\n",
       "<table border=\"1\" class=\"dataframe\">\n",
       "  <thead>\n",
       "    <tr style=\"text-align: right;\">\n",
       "      <th></th>\n",
       "      <th>var15</th>\n",
       "    </tr>\n",
       "  </thead>\n",
       "  <tbody>\n",
       "    <tr>\n",
       "      <th>count</th>\n",
       "      <td>60816.000000</td>\n",
       "    </tr>\n",
       "    <tr>\n",
       "      <th>mean</th>\n",
       "      <td>33.218742</td>\n",
       "    </tr>\n",
       "    <tr>\n",
       "      <th>std</th>\n",
       "      <td>12.947363</td>\n",
       "    </tr>\n",
       "    <tr>\n",
       "      <th>min</th>\n",
       "      <td>5.000000</td>\n",
       "    </tr>\n",
       "    <tr>\n",
       "      <th>25%</th>\n",
       "      <td>23.000000</td>\n",
       "    </tr>\n",
       "    <tr>\n",
       "      <th>50%</th>\n",
       "      <td>28.000000</td>\n",
       "    </tr>\n",
       "    <tr>\n",
       "      <th>75%</th>\n",
       "      <td>40.000000</td>\n",
       "    </tr>\n",
       "    <tr>\n",
       "      <th>max</th>\n",
       "      <td>105.000000</td>\n",
       "    </tr>\n",
       "  </tbody>\n",
       "</table>\n",
       "</div>"
      ],
      "text/plain": [
       "              var15\n",
       "count  60816.000000\n",
       "mean      33.218742\n",
       "std       12.947363\n",
       "min        5.000000\n",
       "25%       23.000000\n",
       "50%       28.000000\n",
       "75%       40.000000\n",
       "max      105.000000"
      ]
     },
     "execution_count": 31,
     "metadata": {},
     "output_type": "execute_result"
    }
   ],
   "source": [
    "# Dataframe \"train_df\":\n",
    "train_df[feat_groupby_vars['var15']].describe()"
   ]
  },
  {
   "cell_type": "code",
   "execution_count": 32,
   "metadata": {},
   "outputs": [
    {
     "data": {
      "text/html": [
       "<div>\n",
       "<style scoped>\n",
       "    .dataframe tbody tr th:only-of-type {\n",
       "        vertical-align: middle;\n",
       "    }\n",
       "\n",
       "    .dataframe tbody tr th {\n",
       "        vertical-align: top;\n",
       "    }\n",
       "\n",
       "    .dataframe thead th {\n",
       "        text-align: right;\n",
       "    }\n",
       "</style>\n",
       "<table border=\"1\" class=\"dataframe\">\n",
       "  <thead>\n",
       "    <tr style=\"text-align: right;\">\n",
       "      <th></th>\n",
       "      <th>Total</th>\n",
       "      <th>Percent</th>\n",
       "    </tr>\n",
       "    <tr>\n",
       "      <th>var15</th>\n",
       "      <th></th>\n",
       "      <th></th>\n",
       "    </tr>\n",
       "  </thead>\n",
       "  <tbody>\n",
       "    <tr>\n",
       "      <th>23</th>\n",
       "      <td>16118</td>\n",
       "      <td>0.2650</td>\n",
       "    </tr>\n",
       "    <tr>\n",
       "      <th>24</th>\n",
       "      <td>4961</td>\n",
       "      <td>0.0816</td>\n",
       "    </tr>\n",
       "    <tr>\n",
       "      <th>25</th>\n",
       "      <td>3342</td>\n",
       "      <td>0.0550</td>\n",
       "    </tr>\n",
       "    <tr>\n",
       "      <th>26</th>\n",
       "      <td>2666</td>\n",
       "      <td>0.0438</td>\n",
       "    </tr>\n",
       "    <tr>\n",
       "      <th>27</th>\n",
       "      <td>2309</td>\n",
       "      <td>0.0380</td>\n",
       "    </tr>\n",
       "    <tr>\n",
       "      <th>...</th>\n",
       "      <td>...</td>\n",
       "      <td>...</td>\n",
       "    </tr>\n",
       "    <tr>\n",
       "      <th>97</th>\n",
       "      <td>2</td>\n",
       "      <td>0.0000</td>\n",
       "    </tr>\n",
       "    <tr>\n",
       "      <th>104</th>\n",
       "      <td>2</td>\n",
       "      <td>0.0000</td>\n",
       "    </tr>\n",
       "    <tr>\n",
       "      <th>98</th>\n",
       "      <td>1</td>\n",
       "      <td>0.0000</td>\n",
       "    </tr>\n",
       "    <tr>\n",
       "      <th>101</th>\n",
       "      <td>1</td>\n",
       "      <td>0.0000</td>\n",
       "    </tr>\n",
       "    <tr>\n",
       "      <th>105</th>\n",
       "      <td>1</td>\n",
       "      <td>0.0000</td>\n",
       "    </tr>\n",
       "  </tbody>\n",
       "</table>\n",
       "<p>100 rows × 2 columns</p>\n",
       "</div>"
      ],
      "text/plain": [
       "       Total  Percent\n",
       "var15                \n",
       "23     16118   0.2650\n",
       "24      4961   0.0816\n",
       "25      3342   0.0550\n",
       "26      2666   0.0438\n",
       "27      2309   0.0380\n",
       "...      ...      ...\n",
       "97         2   0.0000\n",
       "104        2   0.0000\n",
       "98         1   0.0000\n",
       "101        1   0.0000\n",
       "105        1   0.0000\n",
       "\n",
       "[100 rows x 2 columns]"
      ]
     },
     "execution_count": 32,
     "metadata": {},
     "output_type": "execute_result"
    }
   ],
   "source": [
    "# Vamos verificar a proporção dos valores para a feature relacionada a \"var15\":\n",
    "dslib.percent_count_feature(df=train_df, feature=feat_groupby_vars['var15'][0], lines_drop=False)"
   ]
  },
  {
   "cell_type": "markdown",
   "metadata": {},
   "source": [
    "**Análise:** entendemos que **`var15`** é uma variável do tipo `Quantitativa Discreta` com valores em uma faixa de **`5 a 105`**. Vamos analisar a sua distribuição de frequências (*Histograma*) e também verificar se existem **outliers** com um *BoxPlot*."
   ]
  },
  {
   "cell_type": "code",
   "execution_count": 33,
   "metadata": {
    "scrolled": false
   },
   "outputs": [
    {
     "name": "stdout",
     "output_type": "stream",
     "text": [
      "Saving figure: plot_hist_boxplot_var15\n"
     ]
    },
    {
     "data": {
      "image/png": "[encoded data removed]",
      "text/plain": [
       "<Figure size 720x576 with 2 Axes>"
      ]
     },
     "metadata": {},
     "output_type": "display_data"
    }
   ],
   "source": [
    "# Plots: Histrograma e BoxPlot\n",
    "ptlib.plot_hist_boxplot_feature(df=train_df, feature=feat_groupby_vars['var15'][0], kde=False, orient_boxplot='h',\n",
    "                                plot_style=\"darkgrid\", cols_nr=1, rows_nr=2,\n",
    "                                titles=[feat_groupby_vars['var15'][0], None],titles_fontsize=18,\n",
    "                                ylabels=['Frequency', None], ylabels_fontsize=15, colors='b', saturation_boxplot=0.80,\n",
    "                                xtick_labelsize=13, ytick_labelsize=13, width=10, height=8, wspace=None, hspace=None,\n",
    "                                figure_id=\"plot_hist_boxplot_var15\", figure_path=PROJECT_IMG_PATH,\n",
    "                                figure_file_format=\"png\", figure_file_extension=\".png\", tight_layout=True, dpi=300\n",
    "                               )"
   ]
  },
  {
   "cell_type": "markdown",
   "metadata": {},
   "source": [
    "**Análise:** a sua distribuição de frequência está concentrada entre os valores **`23 a 40`**. No *histograma* podemos observar um pico de frequências (**`26.50%` no valor 23**). Os valores da **média** e da **mediana** estão próximos (**`33`** e **`28`** respectivamente), ou seja, existe uma pequena variabilidade nos dados ocasionada pelos **outliers** (*Box Plot*). Os **outliers** estão concentrados nos **valores acima de `~65`**.\n",
    "\n",
    "Portanto, entendemos esta **feature é `relevante` e deverá ser analisada** na criação dos modelos preditivos."
   ]
  },
  {
   "cell_type": "code",
   "execution_count": 34,
   "metadata": {},
   "outputs": [],
   "source": [
    "# Armazenando informações sobre a feature:\n",
    "santander_feat_info.save(key='Discrete', features=feat_groupby_vars['var15']) # Quantitativa Discreta.\n",
    "santander_feat_info.save(key='Outliers', features=feat_groupby_vars['var15']) # Variável têm \"Outliers\"."
   ]
  },
  {
   "cell_type": "markdown",
   "metadata": {},
   "source": [
    "## var19"
   ]
  },
  {
   "cell_type": "code",
   "execution_count": 35,
   "metadata": {},
   "outputs": [
    {
     "name": "stdout",
     "output_type": "stream",
     "text": [
      "<class 'pandas.core.frame.DataFrame'>\n",
      "RangeIndex: 60816 entries, 0 to 60815\n",
      "Data columns (total 1 columns):\n",
      "ind_var19    60816 non-null int64\n",
      "dtypes: int64(1)\n",
      "memory usage: 475.2 KB\n"
     ]
    }
   ],
   "source": [
    "# Resumo das informações:\n",
    "train_df[feat_groupby_vars['var19']].info()"
   ]
  },
  {
   "cell_type": "markdown",
   "metadata": {},
   "source": [
    "Agora, vamos calcular algumas medidas **estatísticas descritivas** para análsise desta **`feature`** em nosso dataset:"
   ]
  },
  {
   "cell_type": "code",
   "execution_count": 36,
   "metadata": {
    "scrolled": true
   },
   "outputs": [
    {
     "data": {
      "text/html": [
       "<div>\n",
       "<style scoped>\n",
       "    .dataframe tbody tr th:only-of-type {\n",
       "        vertical-align: middle;\n",
       "    }\n",
       "\n",
       "    .dataframe tbody tr th {\n",
       "        vertical-align: top;\n",
       "    }\n",
       "\n",
       "    .dataframe thead th {\n",
       "        text-align: right;\n",
       "    }\n",
       "</style>\n",
       "<table border=\"1\" class=\"dataframe\">\n",
       "  <thead>\n",
       "    <tr style=\"text-align: right;\">\n",
       "      <th></th>\n",
       "      <th>ind_var19</th>\n",
       "    </tr>\n",
       "  </thead>\n",
       "  <tbody>\n",
       "    <tr>\n",
       "      <th>count</th>\n",
       "      <td>60816.000000</td>\n",
       "    </tr>\n",
       "    <tr>\n",
       "      <th>mean</th>\n",
       "      <td>0.004325</td>\n",
       "    </tr>\n",
       "    <tr>\n",
       "      <th>std</th>\n",
       "      <td>0.065619</td>\n",
       "    </tr>\n",
       "    <tr>\n",
       "      <th>min</th>\n",
       "      <td>0.000000</td>\n",
       "    </tr>\n",
       "    <tr>\n",
       "      <th>25%</th>\n",
       "      <td>0.000000</td>\n",
       "    </tr>\n",
       "    <tr>\n",
       "      <th>50%</th>\n",
       "      <td>0.000000</td>\n",
       "    </tr>\n",
       "    <tr>\n",
       "      <th>75%</th>\n",
       "      <td>0.000000</td>\n",
       "    </tr>\n",
       "    <tr>\n",
       "      <th>max</th>\n",
       "      <td>1.000000</td>\n",
       "    </tr>\n",
       "  </tbody>\n",
       "</table>\n",
       "</div>"
      ],
      "text/plain": [
       "          ind_var19\n",
       "count  60816.000000\n",
       "mean       0.004325\n",
       "std        0.065619\n",
       "min        0.000000\n",
       "25%        0.000000\n",
       "50%        0.000000\n",
       "75%        0.000000\n",
       "max        1.000000"
      ]
     },
     "execution_count": 36,
     "metadata": {},
     "output_type": "execute_result"
    }
   ],
   "source": [
    "# Dataframe \"train_df\":\n",
    "train_df[feat_groupby_vars['var19']].describe()"
   ]
  },
  {
   "cell_type": "code",
   "execution_count": 37,
   "metadata": {},
   "outputs": [
    {
     "data": {
      "text/html": [
       "<div>\n",
       "<style scoped>\n",
       "    .dataframe tbody tr th:only-of-type {\n",
       "        vertical-align: middle;\n",
       "    }\n",
       "\n",
       "    .dataframe tbody tr th {\n",
       "        vertical-align: top;\n",
       "    }\n",
       "\n",
       "    .dataframe thead th {\n",
       "        text-align: right;\n",
       "    }\n",
       "</style>\n",
       "<table border=\"1\" class=\"dataframe\">\n",
       "  <thead>\n",
       "    <tr style=\"text-align: right;\">\n",
       "      <th></th>\n",
       "      <th>Total</th>\n",
       "      <th>Percent</th>\n",
       "    </tr>\n",
       "    <tr>\n",
       "      <th>ind_var19</th>\n",
       "      <th></th>\n",
       "      <th></th>\n",
       "    </tr>\n",
       "  </thead>\n",
       "  <tbody>\n",
       "    <tr>\n",
       "      <th>0</th>\n",
       "      <td>60553</td>\n",
       "      <td>0.9957</td>\n",
       "    </tr>\n",
       "    <tr>\n",
       "      <th>1</th>\n",
       "      <td>263</td>\n",
       "      <td>0.0043</td>\n",
       "    </tr>\n",
       "  </tbody>\n",
       "</table>\n",
       "</div>"
      ],
      "text/plain": [
       "           Total  Percent\n",
       "ind_var19                \n",
       "0          60553   0.9957\n",
       "1            263   0.0043"
      ]
     },
     "execution_count": 37,
     "metadata": {},
     "output_type": "execute_result"
    }
   ],
   "source": [
    "# Vamos verificar a proporção dos valores para a feature relacionada a \"var19\":\n",
    "dslib.percent_count_feature(df=train_df, feature=feat_groupby_vars['var19'][0], lines_drop=False)"
   ]
  },
  {
   "cell_type": "markdown",
   "metadata": {},
   "source": [
    "**Análise:** observando a proporção de valores para a **`feature`** relacionada com **`var19`**, sendo que neste caso temos apenas a feature **`ind_var19`**, percebemos que **`99.57%`** dos valores são **constantes** e iguais a **`0`**. Trata-se de uma variável do tipo `Categórica Nominal Binária`, ou seja, com apenas duas classes (**`0` e `1`**). Neste caso, entendemos que esta **feature é `irrelevante`** para ser analisada na criação dos modelos preditivos."
   ]
  },
  {
   "cell_type": "code",
   "execution_count": 38,
   "metadata": {},
   "outputs": [],
   "source": [
    "# Armazenando informações sobre a feature:\n",
    "santander_feat_info.save(key='Binary', features=feat_groupby_vars['var19'])     # Categórica Nominal Binária.\n",
    "santander_feat_info.save(key='Irrelevant', features=feat_groupby_vars['var19']) # Irrelevante."
   ]
  },
  {
   "cell_type": "markdown",
   "metadata": {},
   "source": [
    "## var21"
   ]
  },
  {
   "cell_type": "code",
   "execution_count": 39,
   "metadata": {},
   "outputs": [
    {
     "name": "stdout",
     "output_type": "stream",
     "text": [
      "<class 'pandas.core.frame.DataFrame'>\n",
      "RangeIndex: 60816 entries, 0 to 60815\n",
      "Data columns (total 1 columns):\n",
      "var21    60816 non-null int64\n",
      "dtypes: int64(1)\n",
      "memory usage: 475.2 KB\n"
     ]
    }
   ],
   "source": [
    "# Resumo das informações:\n",
    "train_df[feat_groupby_vars['var21']].info()"
   ]
  },
  {
   "cell_type": "markdown",
   "metadata": {},
   "source": [
    "Agora, vamos calcular algumas medidas **estatísticas descritivas** para análsise desta **`feature`** em nosso dataset:"
   ]
  },
  {
   "cell_type": "code",
   "execution_count": 40,
   "metadata": {
    "scrolled": true
   },
   "outputs": [
    {
     "data": {
      "text/html": [
       "<div>\n",
       "<style scoped>\n",
       "    .dataframe tbody tr th:only-of-type {\n",
       "        vertical-align: middle;\n",
       "    }\n",
       "\n",
       "    .dataframe tbody tr th {\n",
       "        vertical-align: top;\n",
       "    }\n",
       "\n",
       "    .dataframe thead th {\n",
       "        text-align: right;\n",
       "    }\n",
       "</style>\n",
       "<table border=\"1\" class=\"dataframe\">\n",
       "  <thead>\n",
       "    <tr style=\"text-align: right;\">\n",
       "      <th></th>\n",
       "      <th>var21</th>\n",
       "    </tr>\n",
       "  </thead>\n",
       "  <tbody>\n",
       "    <tr>\n",
       "      <th>count</th>\n",
       "      <td>60816.000000</td>\n",
       "    </tr>\n",
       "    <tr>\n",
       "      <th>mean</th>\n",
       "      <td>31.871547</td>\n",
       "    </tr>\n",
       "    <tr>\n",
       "      <th>std</th>\n",
       "      <td>393.703492</td>\n",
       "    </tr>\n",
       "    <tr>\n",
       "      <th>min</th>\n",
       "      <td>0.000000</td>\n",
       "    </tr>\n",
       "    <tr>\n",
       "      <th>25%</th>\n",
       "      <td>0.000000</td>\n",
       "    </tr>\n",
       "    <tr>\n",
       "      <th>50%</th>\n",
       "      <td>0.000000</td>\n",
       "    </tr>\n",
       "    <tr>\n",
       "      <th>75%</th>\n",
       "      <td>0.000000</td>\n",
       "    </tr>\n",
       "    <tr>\n",
       "      <th>max</th>\n",
       "      <td>30000.000000</td>\n",
       "    </tr>\n",
       "  </tbody>\n",
       "</table>\n",
       "</div>"
      ],
      "text/plain": [
       "              var21\n",
       "count  60816.000000\n",
       "mean      31.871547\n",
       "std      393.703492\n",
       "min        0.000000\n",
       "25%        0.000000\n",
       "50%        0.000000\n",
       "75%        0.000000\n",
       "max    30000.000000"
      ]
     },
     "execution_count": 40,
     "metadata": {},
     "output_type": "execute_result"
    }
   ],
   "source": [
    "# Dataframe \"train_df\":\n",
    "train_df[feat_groupby_vars['var21']].describe()"
   ]
  },
  {
   "cell_type": "code",
   "execution_count": 41,
   "metadata": {
    "scrolled": true
   },
   "outputs": [
    {
     "data": {
      "text/html": [
       "<div>\n",
       "<style scoped>\n",
       "    .dataframe tbody tr th:only-of-type {\n",
       "        vertical-align: middle;\n",
       "    }\n",
       "\n",
       "    .dataframe tbody tr th {\n",
       "        vertical-align: top;\n",
       "    }\n",
       "\n",
       "    .dataframe thead th {\n",
       "        text-align: right;\n",
       "    }\n",
       "</style>\n",
       "<table border=\"1\" class=\"dataframe\">\n",
       "  <thead>\n",
       "    <tr style=\"text-align: right;\">\n",
       "      <th></th>\n",
       "      <th>Total</th>\n",
       "      <th>Percent</th>\n",
       "    </tr>\n",
       "    <tr>\n",
       "      <th>var21</th>\n",
       "      <th></th>\n",
       "      <th></th>\n",
       "    </tr>\n",
       "  </thead>\n",
       "  <tbody>\n",
       "    <tr>\n",
       "      <th>0</th>\n",
       "      <td>60142</td>\n",
       "      <td>0.9889</td>\n",
       "    </tr>\n",
       "    <tr>\n",
       "      <th>900</th>\n",
       "      <td>178</td>\n",
       "      <td>0.0029</td>\n",
       "    </tr>\n",
       "    <tr>\n",
       "      <th>1800</th>\n",
       "      <td>157</td>\n",
       "      <td>0.0026</td>\n",
       "    </tr>\n",
       "    <tr>\n",
       "      <th>4500</th>\n",
       "      <td>77</td>\n",
       "      <td>0.0013</td>\n",
       "    </tr>\n",
       "    <tr>\n",
       "      <th>3000</th>\n",
       "      <td>68</td>\n",
       "      <td>0.0011</td>\n",
       "    </tr>\n",
       "    <tr>\n",
       "      <th>7200</th>\n",
       "      <td>47</td>\n",
       "      <td>0.0008</td>\n",
       "    </tr>\n",
       "    <tr>\n",
       "      <th>3600</th>\n",
       "      <td>44</td>\n",
       "      <td>0.0007</td>\n",
       "    </tr>\n",
       "    <tr>\n",
       "      <th>1500</th>\n",
       "      <td>24</td>\n",
       "      <td>0.0004</td>\n",
       "    </tr>\n",
       "    <tr>\n",
       "      <th>2700</th>\n",
       "      <td>23</td>\n",
       "      <td>0.0004</td>\n",
       "    </tr>\n",
       "    <tr>\n",
       "      <th>6000</th>\n",
       "      <td>21</td>\n",
       "      <td>0.0003</td>\n",
       "    </tr>\n",
       "    <tr>\n",
       "      <th>9000</th>\n",
       "      <td>10</td>\n",
       "      <td>0.0002</td>\n",
       "    </tr>\n",
       "    <tr>\n",
       "      <th>1200</th>\n",
       "      <td>8</td>\n",
       "      <td>0.0001</td>\n",
       "    </tr>\n",
       "    <tr>\n",
       "      <th>2400</th>\n",
       "      <td>3</td>\n",
       "      <td>0.0000</td>\n",
       "    </tr>\n",
       "    <tr>\n",
       "      <th>18000</th>\n",
       "      <td>2</td>\n",
       "      <td>0.0000</td>\n",
       "    </tr>\n",
       "    <tr>\n",
       "      <th>4200</th>\n",
       "      <td>2</td>\n",
       "      <td>0.0000</td>\n",
       "    </tr>\n",
       "    <tr>\n",
       "      <th>5400</th>\n",
       "      <td>2</td>\n",
       "      <td>0.0000</td>\n",
       "    </tr>\n",
       "    <tr>\n",
       "      <th>3300</th>\n",
       "      <td>2</td>\n",
       "      <td>0.0000</td>\n",
       "    </tr>\n",
       "    <tr>\n",
       "      <th>2100</th>\n",
       "      <td>2</td>\n",
       "      <td>0.0000</td>\n",
       "    </tr>\n",
       "    <tr>\n",
       "      <th>5700</th>\n",
       "      <td>1</td>\n",
       "      <td>0.0000</td>\n",
       "    </tr>\n",
       "    <tr>\n",
       "      <th>5100</th>\n",
       "      <td>1</td>\n",
       "      <td>0.0000</td>\n",
       "    </tr>\n",
       "    <tr>\n",
       "      <th>10500</th>\n",
       "      <td>1</td>\n",
       "      <td>0.0000</td>\n",
       "    </tr>\n",
       "    <tr>\n",
       "      <th>30000</th>\n",
       "      <td>1</td>\n",
       "      <td>0.0000</td>\n",
       "    </tr>\n",
       "  </tbody>\n",
       "</table>\n",
       "</div>"
      ],
      "text/plain": [
       "       Total  Percent\n",
       "var21                \n",
       "0      60142   0.9889\n",
       "900      178   0.0029\n",
       "1800     157   0.0026\n",
       "4500      77   0.0013\n",
       "3000      68   0.0011\n",
       "7200      47   0.0008\n",
       "3600      44   0.0007\n",
       "1500      24   0.0004\n",
       "2700      23   0.0004\n",
       "6000      21   0.0003\n",
       "9000      10   0.0002\n",
       "1200       8   0.0001\n",
       "2400       3   0.0000\n",
       "18000      2   0.0000\n",
       "4200       2   0.0000\n",
       "5400       2   0.0000\n",
       "3300       2   0.0000\n",
       "2100       2   0.0000\n",
       "5700       1   0.0000\n",
       "5100       1   0.0000\n",
       "10500      1   0.0000\n",
       "30000      1   0.0000"
      ]
     },
     "execution_count": 41,
     "metadata": {},
     "output_type": "execute_result"
    }
   ],
   "source": [
    "# Vamos verificar a proporção dos valores para a feature relacionada a \"var21\":\n",
    "dslib.percent_count_feature(df=train_df, feature=feat_groupby_vars['var21'][0], lines_drop=False)"
   ]
  },
  {
   "cell_type": "markdown",
   "metadata": {},
   "source": [
    "**Análise:** observando a distribuição de valores para a **`feature`** relacionada com a **`var21`**, sendo que neste caso temos apenas a feature **`var21`**, percebemos que **`98.89%`** dos valores são **constantes** e iguais a **`0`**, podendo ser um indicativo de valores ausentes (**NaN**). Trata-se de uma variável do tipo `Quantitativa Discreta`. Neste caso, entendemos que esta **feature é `irrelevante`** para ser analisada na criação dos modelos preditivos."
   ]
  },
  {
   "cell_type": "code",
   "execution_count": 42,
   "metadata": {},
   "outputs": [],
   "source": [
    "# Armazenando informações sobre a feature:\n",
    "santander_feat_info.save(key='Discrete', features=feat_groupby_vars['var21'])   # Quantitativa Discreta.\n",
    "santander_feat_info.save(key='Irrelevant', features=feat_groupby_vars['var21']) # Irrelevante."
   ]
  },
  {
   "cell_type": "markdown",
   "metadata": {},
   "source": [
    "## var35"
   ]
  },
  {
   "cell_type": "code",
   "execution_count": 43,
   "metadata": {},
   "outputs": [
    {
     "name": "stdout",
     "output_type": "stream",
     "text": [
      "<class 'pandas.core.frame.DataFrame'>\n",
      "RangeIndex: 60816 entries, 0 to 60815\n",
      "Data columns (total 1 columns):\n",
      "num_var35    60816 non-null int64\n",
      "dtypes: int64(1)\n",
      "memory usage: 475.2 KB\n"
     ]
    }
   ],
   "source": [
    "# Resumo das informações:\n",
    "train_df[feat_groupby_vars['var35']].info()"
   ]
  },
  {
   "cell_type": "markdown",
   "metadata": {},
   "source": [
    "Agora, vamos calcular algumas medidas **estatísticas descritivas** para análsise desta **`feature`** em nosso dataset:"
   ]
  },
  {
   "cell_type": "code",
   "execution_count": 44,
   "metadata": {
    "scrolled": true
   },
   "outputs": [
    {
     "data": {
      "text/html": [
       "<div>\n",
       "<style scoped>\n",
       "    .dataframe tbody tr th:only-of-type {\n",
       "        vertical-align: middle;\n",
       "    }\n",
       "\n",
       "    .dataframe tbody tr th {\n",
       "        vertical-align: top;\n",
       "    }\n",
       "\n",
       "    .dataframe thead th {\n",
       "        text-align: right;\n",
       "    }\n",
       "</style>\n",
       "<table border=\"1\" class=\"dataframe\">\n",
       "  <thead>\n",
       "    <tr style=\"text-align: right;\">\n",
       "      <th></th>\n",
       "      <th>num_var35</th>\n",
       "    </tr>\n",
       "  </thead>\n",
       "  <tbody>\n",
       "    <tr>\n",
       "      <th>count</th>\n",
       "      <td>60816.000000</td>\n",
       "    </tr>\n",
       "    <tr>\n",
       "      <th>mean</th>\n",
       "      <td>3.302733</td>\n",
       "    </tr>\n",
       "    <tr>\n",
       "      <th>std</th>\n",
       "      <td>2.871679</td>\n",
       "    </tr>\n",
       "    <tr>\n",
       "      <th>min</th>\n",
       "      <td>0.000000</td>\n",
       "    </tr>\n",
       "    <tr>\n",
       "      <th>25%</th>\n",
       "      <td>0.000000</td>\n",
       "    </tr>\n",
       "    <tr>\n",
       "      <th>50%</th>\n",
       "      <td>3.000000</td>\n",
       "    </tr>\n",
       "    <tr>\n",
       "      <th>75%</th>\n",
       "      <td>3.000000</td>\n",
       "    </tr>\n",
       "    <tr>\n",
       "      <th>max</th>\n",
       "      <td>36.000000</td>\n",
       "    </tr>\n",
       "  </tbody>\n",
       "</table>\n",
       "</div>"
      ],
      "text/plain": [
       "          num_var35\n",
       "count  60816.000000\n",
       "mean       3.302733\n",
       "std        2.871679\n",
       "min        0.000000\n",
       "25%        0.000000\n",
       "50%        3.000000\n",
       "75%        3.000000\n",
       "max       36.000000"
      ]
     },
     "execution_count": 44,
     "metadata": {},
     "output_type": "execute_result"
    }
   ],
   "source": [
    "# Dataframe \"train_df\":\n",
    "train_df[feat_groupby_vars['var35']].describe()"
   ]
  },
  {
   "cell_type": "code",
   "execution_count": 45,
   "metadata": {
    "scrolled": true
   },
   "outputs": [
    {
     "data": {
      "text/html": [
       "<div>\n",
       "<style scoped>\n",
       "    .dataframe tbody tr th:only-of-type {\n",
       "        vertical-align: middle;\n",
       "    }\n",
       "\n",
       "    .dataframe tbody tr th {\n",
       "        vertical-align: top;\n",
       "    }\n",
       "\n",
       "    .dataframe thead th {\n",
       "        text-align: right;\n",
       "    }\n",
       "</style>\n",
       "<table border=\"1\" class=\"dataframe\">\n",
       "  <thead>\n",
       "    <tr style=\"text-align: right;\">\n",
       "      <th></th>\n",
       "      <th>num_var35</th>\n",
       "    </tr>\n",
       "    <tr>\n",
       "      <th>Percentile</th>\n",
       "      <th></th>\n",
       "    </tr>\n",
       "  </thead>\n",
       "  <tbody>\n",
       "    <tr>\n",
       "      <th>76%</th>\n",
       "      <td>6.0</td>\n",
       "    </tr>\n",
       "    <tr>\n",
       "      <th>77%</th>\n",
       "      <td>6.0</td>\n",
       "    </tr>\n",
       "    <tr>\n",
       "      <th>78%</th>\n",
       "      <td>6.0</td>\n",
       "    </tr>\n",
       "    <tr>\n",
       "      <th>79%</th>\n",
       "      <td>6.0</td>\n",
       "    </tr>\n",
       "    <tr>\n",
       "      <th>80%</th>\n",
       "      <td>6.0</td>\n",
       "    </tr>\n",
       "    <tr>\n",
       "      <th>81%</th>\n",
       "      <td>6.0</td>\n",
       "    </tr>\n",
       "    <tr>\n",
       "      <th>82%</th>\n",
       "      <td>6.0</td>\n",
       "    </tr>\n",
       "    <tr>\n",
       "      <th>83%</th>\n",
       "      <td>6.0</td>\n",
       "    </tr>\n",
       "    <tr>\n",
       "      <th>84%</th>\n",
       "      <td>6.0</td>\n",
       "    </tr>\n",
       "    <tr>\n",
       "      <th>85%</th>\n",
       "      <td>6.0</td>\n",
       "    </tr>\n",
       "    <tr>\n",
       "      <th>86%</th>\n",
       "      <td>6.0</td>\n",
       "    </tr>\n",
       "    <tr>\n",
       "      <th>87%</th>\n",
       "      <td>6.0</td>\n",
       "    </tr>\n",
       "    <tr>\n",
       "      <th>88%</th>\n",
       "      <td>6.0</td>\n",
       "    </tr>\n",
       "    <tr>\n",
       "      <th>89%</th>\n",
       "      <td>6.0</td>\n",
       "    </tr>\n",
       "    <tr>\n",
       "      <th>90%</th>\n",
       "      <td>6.0</td>\n",
       "    </tr>\n",
       "    <tr>\n",
       "      <th>91%</th>\n",
       "      <td>6.0</td>\n",
       "    </tr>\n",
       "    <tr>\n",
       "      <th>92%</th>\n",
       "      <td>9.0</td>\n",
       "    </tr>\n",
       "    <tr>\n",
       "      <th>93%</th>\n",
       "      <td>9.0</td>\n",
       "    </tr>\n",
       "    <tr>\n",
       "      <th>94%</th>\n",
       "      <td>9.0</td>\n",
       "    </tr>\n",
       "    <tr>\n",
       "      <th>95%</th>\n",
       "      <td>9.0</td>\n",
       "    </tr>\n",
       "    <tr>\n",
       "      <th>96%</th>\n",
       "      <td>9.0</td>\n",
       "    </tr>\n",
       "    <tr>\n",
       "      <th>97%</th>\n",
       "      <td>9.0</td>\n",
       "    </tr>\n",
       "    <tr>\n",
       "      <th>98%</th>\n",
       "      <td>12.0</td>\n",
       "    </tr>\n",
       "    <tr>\n",
       "      <th>99%</th>\n",
       "      <td>12.0</td>\n",
       "    </tr>\n",
       "    <tr>\n",
       "      <th>100%</th>\n",
       "      <td>36.0</td>\n",
       "    </tr>\n",
       "  </tbody>\n",
       "</table>\n",
       "</div>"
      ],
      "text/plain": [
       "            num_var35\n",
       "Percentile           \n",
       "76%               6.0\n",
       "77%               6.0\n",
       "78%               6.0\n",
       "79%               6.0\n",
       "80%               6.0\n",
       "81%               6.0\n",
       "82%               6.0\n",
       "83%               6.0\n",
       "84%               6.0\n",
       "85%               6.0\n",
       "86%               6.0\n",
       "87%               6.0\n",
       "88%               6.0\n",
       "89%               6.0\n",
       "90%               6.0\n",
       "91%               6.0\n",
       "92%               9.0\n",
       "93%               9.0\n",
       "94%               9.0\n",
       "95%               9.0\n",
       "96%               9.0\n",
       "97%               9.0\n",
       "98%              12.0\n",
       "99%              12.0\n",
       "100%             36.0"
      ]
     },
     "execution_count": 45,
     "metadata": {},
     "output_type": "execute_result"
    }
   ],
   "source": [
    "# Obtendo os percentis a partir de \"76%\", com intervá-los de \"1%\":\n",
    "result = dslib.get_features_percentiles(data=train_df, features=feat_groupby_vars['var35'], percent_range=range(76, 101, 1))\n",
    "result"
   ]
  },
  {
   "cell_type": "code",
   "execution_count": 46,
   "metadata": {
    "scrolled": true
   },
   "outputs": [
    {
     "data": {
      "text/html": [
       "<div>\n",
       "<style scoped>\n",
       "    .dataframe tbody tr th:only-of-type {\n",
       "        vertical-align: middle;\n",
       "    }\n",
       "\n",
       "    .dataframe tbody tr th {\n",
       "        vertical-align: top;\n",
       "    }\n",
       "\n",
       "    .dataframe thead th {\n",
       "        text-align: right;\n",
       "    }\n",
       "</style>\n",
       "<table border=\"1\" class=\"dataframe\">\n",
       "  <thead>\n",
       "    <tr style=\"text-align: right;\">\n",
       "      <th></th>\n",
       "      <th>Total</th>\n",
       "      <th>Percent</th>\n",
       "    </tr>\n",
       "    <tr>\n",
       "      <th>num_var35</th>\n",
       "      <th></th>\n",
       "      <th></th>\n",
       "    </tr>\n",
       "  </thead>\n",
       "  <tbody>\n",
       "    <tr>\n",
       "      <th>3</th>\n",
       "      <td>30313</td>\n",
       "      <td>0.4984</td>\n",
       "    </tr>\n",
       "    <tr>\n",
       "      <th>0</th>\n",
       "      <td>15618</td>\n",
       "      <td>0.2568</td>\n",
       "    </tr>\n",
       "    <tr>\n",
       "      <th>6</th>\n",
       "      <td>9853</td>\n",
       "      <td>0.1620</td>\n",
       "    </tr>\n",
       "    <tr>\n",
       "      <th>9</th>\n",
       "      <td>3695</td>\n",
       "      <td>0.0608</td>\n",
       "    </tr>\n",
       "    <tr>\n",
       "      <th>12</th>\n",
       "      <td>988</td>\n",
       "      <td>0.0162</td>\n",
       "    </tr>\n",
       "    <tr>\n",
       "      <th>15</th>\n",
       "      <td>254</td>\n",
       "      <td>0.0042</td>\n",
       "    </tr>\n",
       "    <tr>\n",
       "      <th>18</th>\n",
       "      <td>68</td>\n",
       "      <td>0.0011</td>\n",
       "    </tr>\n",
       "    <tr>\n",
       "      <th>21</th>\n",
       "      <td>15</td>\n",
       "      <td>0.0002</td>\n",
       "    </tr>\n",
       "    <tr>\n",
       "      <th>24</th>\n",
       "      <td>5</td>\n",
       "      <td>0.0001</td>\n",
       "    </tr>\n",
       "    <tr>\n",
       "      <th>27</th>\n",
       "      <td>2</td>\n",
       "      <td>0.0000</td>\n",
       "    </tr>\n",
       "    <tr>\n",
       "      <th>33</th>\n",
       "      <td>2</td>\n",
       "      <td>0.0000</td>\n",
       "    </tr>\n",
       "    <tr>\n",
       "      <th>36</th>\n",
       "      <td>2</td>\n",
       "      <td>0.0000</td>\n",
       "    </tr>\n",
       "    <tr>\n",
       "      <th>30</th>\n",
       "      <td>1</td>\n",
       "      <td>0.0000</td>\n",
       "    </tr>\n",
       "  </tbody>\n",
       "</table>\n",
       "</div>"
      ],
      "text/plain": [
       "           Total  Percent\n",
       "num_var35                \n",
       "3          30313   0.4984\n",
       "0          15618   0.2568\n",
       "6           9853   0.1620\n",
       "9           3695   0.0608\n",
       "12           988   0.0162\n",
       "15           254   0.0042\n",
       "18            68   0.0011\n",
       "21            15   0.0002\n",
       "24             5   0.0001\n",
       "27             2   0.0000\n",
       "33             2   0.0000\n",
       "36             2   0.0000\n",
       "30             1   0.0000"
      ]
     },
     "execution_count": 46,
     "metadata": {},
     "output_type": "execute_result"
    }
   ],
   "source": [
    "# Vamos verificar a proporção dos valores para a feature relacionada a \"var35\":\n",
    "dslib.percent_count_feature(df=train_df, feature=feat_groupby_vars['var35'][0], lines_drop=False)"
   ]
  },
  {
   "cell_type": "markdown",
   "metadata": {},
   "source": [
    "**Análise:** entendemos que a feature **`num_var35`** é uma variável do tipo `Quantitativa Discreta` com valores em uma faixa de **`0 a 36`**. Vamos analisar a sua distribuição de frequências (*Histograma*) e também verificar se existem **outliers** com um *BoxPlot*."
   ]
  },
  {
   "cell_type": "code",
   "execution_count": 47,
   "metadata": {
    "scrolled": false
   },
   "outputs": [
    {
     "name": "stdout",
     "output_type": "stream",
     "text": [
      "Saving figure: plot_hist_boxplot_num_var35\n"
     ]
    },
    {
     "data": {
      "image/png": "[encoded data removed]",
      "text/plain": [
       "<Figure size 720x576 with 2 Axes>"
      ]
     },
     "metadata": {},
     "output_type": "display_data"
    }
   ],
   "source": [
    "# Plots: Histrograma e BoxPlot\n",
    "ptlib.plot_hist_boxplot_feature(df=train_df, feature=feat_groupby_vars['var35'][0], bins=None, kde=False,\n",
    "                                orient_boxplot='h', plot_style=\"darkgrid\", cols_nr=1, rows_nr=2,\n",
    "                                titles=[feat_groupby_vars['var35'][0], None],titles_fontsize=18,\n",
    "                                ylabels=['Frequency', None], ylabels_fontsize=15, colors='b', saturation_boxplot=0.80,\n",
    "                                xtick_labelsize=13, ytick_labelsize=13, width=10, height=8, wspace=None, hspace=None,\n",
    "                                figure_id=\"plot_hist_boxplot_num_var35\", figure_path=PROJECT_IMG_PATH,\n",
    "                                figure_file_format=\"png\", figure_file_extension=\".png\", tight_layout=True, dpi=300\n",
    "                               )"
   ]
  },
  {
   "cell_type": "markdown",
   "metadata": {},
   "source": [
    "**Análise:** a sua distribuição de frequência está concentrada entre os valores **`0 a 36`**. No *histograma* podemos observar um pico de frequência (**`49.84%`**) no valor **`3`**. Embora os valores da **média** e da **mediana** estejam próximos (**`3.3`** e **`3.0`** respectivamente), existe uma pequena variabilidade nos dados ocasionada pelos **outliers** (*Box Plot*). Os **outliers** estão concentrados nos **valores acima de `8`**.\n",
    "\n",
    "Portanto, entendemos esta **feature é `relevante` e deverá ser analisada** na criação dos modelos preditivos."
   ]
  },
  {
   "cell_type": "code",
   "execution_count": 48,
   "metadata": {},
   "outputs": [],
   "source": [
    "# Armazenando informações sobre a feature:\n",
    "santander_feat_info.save(key='Discrete', features=feat_groupby_vars['var35']) # Quantitativa Discreta.\n",
    "santander_feat_info.save(key='Outliers', features=feat_groupby_vars['var35']) # Variável têm \"Outliers\"."
   ]
  },
  {
   "cell_type": "markdown",
   "metadata": {},
   "source": [
    "## var36"
   ]
  },
  {
   "cell_type": "code",
   "execution_count": 49,
   "metadata": {
    "scrolled": true
   },
   "outputs": [
    {
     "name": "stdout",
     "output_type": "stream",
     "text": [
      "<class 'pandas.core.frame.DataFrame'>\n",
      "RangeIndex: 60816 entries, 0 to 60815\n",
      "Data columns (total 1 columns):\n",
      "var36    60816 non-null int64\n",
      "dtypes: int64(1)\n",
      "memory usage: 475.2 KB\n"
     ]
    }
   ],
   "source": [
    "# Resumo das informações:\n",
    "train_df[feat_groupby_vars['var36']].info()"
   ]
  },
  {
   "cell_type": "markdown",
   "metadata": {},
   "source": [
    "Agora, vamos calcular algumas medidas **estatísticas descritivas** para análsise desta **`feature`** em nosso dataset:"
   ]
  },
  {
   "cell_type": "code",
   "execution_count": 50,
   "metadata": {
    "scrolled": true
   },
   "outputs": [
    {
     "data": {
      "text/html": [
       "<div>\n",
       "<style scoped>\n",
       "    .dataframe tbody tr th:only-of-type {\n",
       "        vertical-align: middle;\n",
       "    }\n",
       "\n",
       "    .dataframe tbody tr th {\n",
       "        vertical-align: top;\n",
       "    }\n",
       "\n",
       "    .dataframe thead th {\n",
       "        text-align: right;\n",
       "    }\n",
       "</style>\n",
       "<table border=\"1\" class=\"dataframe\">\n",
       "  <thead>\n",
       "    <tr style=\"text-align: right;\">\n",
       "      <th></th>\n",
       "      <th>var36</th>\n",
       "    </tr>\n",
       "  </thead>\n",
       "  <tbody>\n",
       "    <tr>\n",
       "      <th>count</th>\n",
       "      <td>60816.000000</td>\n",
       "    </tr>\n",
       "    <tr>\n",
       "      <th>mean</th>\n",
       "      <td>40.507054</td>\n",
       "    </tr>\n",
       "    <tr>\n",
       "      <th>std</th>\n",
       "      <td>47.375790</td>\n",
       "    </tr>\n",
       "    <tr>\n",
       "      <th>min</th>\n",
       "      <td>0.000000</td>\n",
       "    </tr>\n",
       "    <tr>\n",
       "      <th>25%</th>\n",
       "      <td>2.000000</td>\n",
       "    </tr>\n",
       "    <tr>\n",
       "      <th>50%</th>\n",
       "      <td>3.000000</td>\n",
       "    </tr>\n",
       "    <tr>\n",
       "      <th>75%</th>\n",
       "      <td>99.000000</td>\n",
       "    </tr>\n",
       "    <tr>\n",
       "      <th>max</th>\n",
       "      <td>99.000000</td>\n",
       "    </tr>\n",
       "  </tbody>\n",
       "</table>\n",
       "</div>"
      ],
      "text/plain": [
       "              var36\n",
       "count  60816.000000\n",
       "mean      40.507054\n",
       "std       47.375790\n",
       "min        0.000000\n",
       "25%        2.000000\n",
       "50%        3.000000\n",
       "75%       99.000000\n",
       "max       99.000000"
      ]
     },
     "execution_count": 50,
     "metadata": {},
     "output_type": "execute_result"
    }
   ],
   "source": [
    "# Dataframe \"train_df\":\n",
    "train_df[feat_groupby_vars['var36']].describe()"
   ]
  },
  {
   "cell_type": "code",
   "execution_count": 51,
   "metadata": {
    "scrolled": false
   },
   "outputs": [
    {
     "name": "stdout",
     "output_type": "stream",
     "text": [
      "Saving figure: plot_count_num_var36\n"
     ]
    },
    {
     "data": {
      "image/png": "[encoded data removed]",
      "text/plain": [
       "<Figure size 720x432 with 2 Axes>"
      ]
     },
     "metadata": {},
     "output_type": "display_data"
    },
    {
     "data": {
      "text/html": [
       "<div>\n",
       "<style scoped>\n",
       "    .dataframe tbody tr th:only-of-type {\n",
       "        vertical-align: middle;\n",
       "    }\n",
       "\n",
       "    .dataframe tbody tr th {\n",
       "        vertical-align: top;\n",
       "    }\n",
       "\n",
       "    .dataframe thead th {\n",
       "        text-align: right;\n",
       "    }\n",
       "</style>\n",
       "<table border=\"1\" class=\"dataframe\">\n",
       "  <thead>\n",
       "    <tr style=\"text-align: right;\">\n",
       "      <th></th>\n",
       "      <th>var36</th>\n",
       "      <th>Total</th>\n",
       "      <th>Percent</th>\n",
       "    </tr>\n",
       "  </thead>\n",
       "  <tbody>\n",
       "    <tr>\n",
       "      <th>0</th>\n",
       "      <td>0</td>\n",
       "      <td>327</td>\n",
       "      <td>0.0054</td>\n",
       "    </tr>\n",
       "    <tr>\n",
       "      <th>1</th>\n",
       "      <td>1</td>\n",
       "      <td>11728</td>\n",
       "      <td>0.1928</td>\n",
       "    </tr>\n",
       "    <tr>\n",
       "      <th>2</th>\n",
       "      <td>2</td>\n",
       "      <td>6982</td>\n",
       "      <td>0.1148</td>\n",
       "    </tr>\n",
       "    <tr>\n",
       "      <th>3</th>\n",
       "      <td>3</td>\n",
       "      <td>17691</td>\n",
       "      <td>0.2909</td>\n",
       "    </tr>\n",
       "    <tr>\n",
       "      <th>4</th>\n",
       "      <td>99</td>\n",
       "      <td>24088</td>\n",
       "      <td>0.3961</td>\n",
       "    </tr>\n",
       "  </tbody>\n",
       "</table>\n",
       "</div>"
      ],
      "text/plain": [
       "   var36  Total  Percent\n",
       "0      0    327   0.0054\n",
       "1      1  11728   0.1928\n",
       "2      2   6982   0.1148\n",
       "3      3  17691   0.2909\n",
       "4     99  24088   0.3961"
      ]
     },
     "execution_count": 51,
     "metadata": {},
     "output_type": "execute_result"
    }
   ],
   "source": [
    "# Agora, vamos plotar as contagens de observações e as proporções de cada classe da nossa feature:\n",
    "ptlib.plot_percent_count_feature(df=train_df, feature=feat_groupby_vars['var36'][0], plot_style='ticks',\n",
    "                                 title=feat_groupby_vars['var36'][0], title_fontsize=18, title_share=False,\n",
    "                                 xlabel1=\"Categories\", xlabel1_fontsize=15, xlabel2=\"Categories\", xlabel2_fontsize=15,\n",
    "                                 ylabel_fontsize=15, columns_nr=2, rows_nr=1, share_x=False, share_y=False,\n",
    "                                 width=10, height=6, xtick_labelsize=13, ytick_labelsize=13, wspace=None, hspace=None,\n",
    "                                 figure_id='plot_count_num_var36', figure_path=PROJECT_IMG_PATH,\n",
    "                                 figure_file_format=\"png\", figure_file_extension=\".png\", tight_layout=True, dpi=300\n",
    "                                )"
   ]
  },
  {
   "cell_type": "markdown",
   "metadata": {},
   "source": [
    "**Análise:** entendemos que a feature **`var36`** é na verdade uma variável do tipo `Categórica Nominal` com **`5 categorias`**. Notamos também que **`39.61%`** das observações do nosso dataset de treinamento estão classificados na categoria **`99`**. Portanto, está **feature é `relevante` e deverá ser analisada** na criação dos modelos preditivos."
   ]
  },
  {
   "cell_type": "code",
   "execution_count": 52,
   "metadata": {},
   "outputs": [],
   "source": [
    "# Armazenando informações sobre a feature:\n",
    "santander_feat_info.save(key='Categorical', features=feat_groupby_vars['var36']) # Qualitativa Nominal."
   ]
  },
  {
   "cell_type": "markdown",
   "metadata": {},
   "source": [
    "## var38"
   ]
  },
  {
   "cell_type": "code",
   "execution_count": 53,
   "metadata": {},
   "outputs": [
    {
     "name": "stdout",
     "output_type": "stream",
     "text": [
      "<class 'pandas.core.frame.DataFrame'>\n",
      "RangeIndex: 60816 entries, 0 to 60815\n",
      "Data columns (total 1 columns):\n",
      "var38    60816 non-null float64\n",
      "dtypes: float64(1)\n",
      "memory usage: 475.2 KB\n"
     ]
    }
   ],
   "source": [
    "# Resumo das informações:\n",
    "train_df[feat_groupby_vars['var38']].info()"
   ]
  },
  {
   "cell_type": "markdown",
   "metadata": {},
   "source": [
    "Agora, vamos calcular algumas medidas **estatísticas descritivas** para análsise desta **`feature`** em nosso dataset:"
   ]
  },
  {
   "cell_type": "code",
   "execution_count": 54,
   "metadata": {},
   "outputs": [
    {
     "data": {
      "text/html": [
       "<div>\n",
       "<style scoped>\n",
       "    .dataframe tbody tr th:only-of-type {\n",
       "        vertical-align: middle;\n",
       "    }\n",
       "\n",
       "    .dataframe tbody tr th {\n",
       "        vertical-align: top;\n",
       "    }\n",
       "\n",
       "    .dataframe thead th {\n",
       "        text-align: right;\n",
       "    }\n",
       "</style>\n",
       "<table border=\"1\" class=\"dataframe\">\n",
       "  <thead>\n",
       "    <tr style=\"text-align: right;\">\n",
       "      <th></th>\n",
       "      <th>var38</th>\n",
       "    </tr>\n",
       "  </thead>\n",
       "  <tbody>\n",
       "    <tr>\n",
       "      <th>count</th>\n",
       "      <td>6.081600e+04</td>\n",
       "    </tr>\n",
       "    <tr>\n",
       "      <th>mean</th>\n",
       "      <td>1.176408e+05</td>\n",
       "    </tr>\n",
       "    <tr>\n",
       "      <th>std</th>\n",
       "      <td>1.895319e+05</td>\n",
       "    </tr>\n",
       "    <tr>\n",
       "      <th>min</th>\n",
       "      <td>5.163750e+03</td>\n",
       "    </tr>\n",
       "    <tr>\n",
       "      <th>25%</th>\n",
       "      <td>6.777529e+04</td>\n",
       "    </tr>\n",
       "    <tr>\n",
       "      <th>50%</th>\n",
       "      <td>1.065147e+05</td>\n",
       "    </tr>\n",
       "    <tr>\n",
       "      <th>75%</th>\n",
       "      <td>1.187928e+05</td>\n",
       "    </tr>\n",
       "    <tr>\n",
       "      <th>max</th>\n",
       "      <td>2.203474e+07</td>\n",
       "    </tr>\n",
       "  </tbody>\n",
       "</table>\n",
       "</div>"
      ],
      "text/plain": [
       "              var38\n",
       "count  6.081600e+04\n",
       "mean   1.176408e+05\n",
       "std    1.895319e+05\n",
       "min    5.163750e+03\n",
       "25%    6.777529e+04\n",
       "50%    1.065147e+05\n",
       "75%    1.187928e+05\n",
       "max    2.203474e+07"
      ]
     },
     "execution_count": 54,
     "metadata": {},
     "output_type": "execute_result"
    }
   ],
   "source": [
    "# Dataframe \"train_df\":\n",
    "train_df[feat_groupby_vars['var38']].describe()"
   ]
  },
  {
   "cell_type": "code",
   "execution_count": 55,
   "metadata": {},
   "outputs": [
    {
     "data": {
      "text/html": [
       "<div>\n",
       "<style scoped>\n",
       "    .dataframe tbody tr th:only-of-type {\n",
       "        vertical-align: middle;\n",
       "    }\n",
       "\n",
       "    .dataframe tbody tr th {\n",
       "        vertical-align: top;\n",
       "    }\n",
       "\n",
       "    .dataframe thead th {\n",
       "        text-align: right;\n",
       "    }\n",
       "</style>\n",
       "<table border=\"1\" class=\"dataframe\">\n",
       "  <thead>\n",
       "    <tr style=\"text-align: right;\">\n",
       "      <th></th>\n",
       "      <th>var38</th>\n",
       "    </tr>\n",
       "    <tr>\n",
       "      <th>Percentile</th>\n",
       "      <th></th>\n",
       "    </tr>\n",
       "  </thead>\n",
       "  <tbody>\n",
       "    <tr>\n",
       "      <th>80%</th>\n",
       "      <td>1.328978e+05</td>\n",
       "    </tr>\n",
       "    <tr>\n",
       "      <th>85%</th>\n",
       "      <td>1.527081e+05</td>\n",
       "    </tr>\n",
       "    <tr>\n",
       "      <th>90%</th>\n",
       "      <td>1.827535e+05</td>\n",
       "    </tr>\n",
       "    <tr>\n",
       "      <th>95%</th>\n",
       "      <td>2.433100e+05</td>\n",
       "    </tr>\n",
       "    <tr>\n",
       "      <th>100%</th>\n",
       "      <td>2.203474e+07</td>\n",
       "    </tr>\n",
       "  </tbody>\n",
       "</table>\n",
       "</div>"
      ],
      "text/plain": [
       "                   var38\n",
       "Percentile              \n",
       "80%         1.328978e+05\n",
       "85%         1.527081e+05\n",
       "90%         1.827535e+05\n",
       "95%         2.433100e+05\n",
       "100%        2.203474e+07"
      ]
     },
     "execution_count": 55,
     "metadata": {},
     "output_type": "execute_result"
    }
   ],
   "source": [
    "# Obtendo os percentis a partir de \"80%\", com intervá-los de \"5%\":\n",
    "result = dslib.get_features_percentiles(data=train_df, features=feat_groupby_vars['var38'], percent_range=range(80, 105, 5))\n",
    "result"
   ]
  },
  {
   "cell_type": "code",
   "execution_count": 56,
   "metadata": {},
   "outputs": [
    {
     "name": "stdout",
     "output_type": "stream",
     "text": [
      "[array([132897.75]), array([152708.1225]), array([182753.49]), array([243309.9675]), array([22034738.76])]\n"
     ]
    }
   ],
   "source": [
    "print(list(result.values))"
   ]
  },
  {
   "cell_type": "code",
   "execution_count": 57,
   "metadata": {},
   "outputs": [
    {
     "data": {
      "text/html": [
       "<div>\n",
       "<style scoped>\n",
       "    .dataframe tbody tr th:only-of-type {\n",
       "        vertical-align: middle;\n",
       "    }\n",
       "\n",
       "    .dataframe tbody tr th {\n",
       "        vertical-align: top;\n",
       "    }\n",
       "\n",
       "    .dataframe thead th {\n",
       "        text-align: right;\n",
       "    }\n",
       "</style>\n",
       "<table border=\"1\" class=\"dataframe\">\n",
       "  <thead>\n",
       "    <tr style=\"text-align: right;\">\n",
       "      <th></th>\n",
       "      <th>Total</th>\n",
       "      <th>Percent</th>\n",
       "    </tr>\n",
       "    <tr>\n",
       "      <th>var38</th>\n",
       "      <th></th>\n",
       "      <th></th>\n",
       "    </tr>\n",
       "  </thead>\n",
       "  <tbody>\n",
       "    <tr>\n",
       "      <th>1.173110e+05</th>\n",
       "      <td>11886</td>\n",
       "      <td>0.1954</td>\n",
       "    </tr>\n",
       "    <tr>\n",
       "      <th>4.519312e+05</th>\n",
       "      <td>14</td>\n",
       "      <td>0.0002</td>\n",
       "    </tr>\n",
       "    <tr>\n",
       "      <th>4.636252e+05</th>\n",
       "      <td>10</td>\n",
       "      <td>0.0002</td>\n",
       "    </tr>\n",
       "    <tr>\n",
       "      <th>1.045638e+05</th>\n",
       "      <td>8</td>\n",
       "      <td>0.0001</td>\n",
       "    </tr>\n",
       "    <tr>\n",
       "      <th>2.889974e+05</th>\n",
       "      <td>7</td>\n",
       "      <td>0.0001</td>\n",
       "    </tr>\n",
       "    <tr>\n",
       "      <th>...</th>\n",
       "      <td>...</td>\n",
       "      <td>...</td>\n",
       "    </tr>\n",
       "    <tr>\n",
       "      <th>7.031862e+04</th>\n",
       "      <td>1</td>\n",
       "      <td>0.0000</td>\n",
       "    </tr>\n",
       "    <tr>\n",
       "      <th>7.031913e+04</th>\n",
       "      <td>1</td>\n",
       "      <td>0.0000</td>\n",
       "    </tr>\n",
       "    <tr>\n",
       "      <th>7.031937e+04</th>\n",
       "      <td>1</td>\n",
       "      <td>0.0000</td>\n",
       "    </tr>\n",
       "    <tr>\n",
       "      <th>7.031952e+04</th>\n",
       "      <td>1</td>\n",
       "      <td>0.0000</td>\n",
       "    </tr>\n",
       "    <tr>\n",
       "      <th>2.203474e+07</th>\n",
       "      <td>1</td>\n",
       "      <td>0.0000</td>\n",
       "    </tr>\n",
       "  </tbody>\n",
       "</table>\n",
       "<p>46671 rows × 2 columns</p>\n",
       "</div>"
      ],
      "text/plain": [
       "              Total  Percent\n",
       "var38                       \n",
       "1.173110e+05  11886   0.1954\n",
       "4.519312e+05     14   0.0002\n",
       "4.636252e+05     10   0.0002\n",
       "1.045638e+05      8   0.0001\n",
       "2.889974e+05      7   0.0001\n",
       "...             ...      ...\n",
       "7.031862e+04      1   0.0000\n",
       "7.031913e+04      1   0.0000\n",
       "7.031937e+04      1   0.0000\n",
       "7.031952e+04      1   0.0000\n",
       "2.203474e+07      1   0.0000\n",
       "\n",
       "[46671 rows x 2 columns]"
      ]
     },
     "execution_count": 57,
     "metadata": {},
     "output_type": "execute_result"
    }
   ],
   "source": [
    "# Vamos verificar a proporção dos valores para a feature relacionada a \"var38\":\n",
    "dslib.percent_count_feature(df=train_df, feature=feat_groupby_vars['var38'][0], lines_drop=False)"
   ]
  },
  {
   "cell_type": "markdown",
   "metadata": {},
   "source": [
    "**Análise:** entendemos que a feature **`var38`** é uma variável do tipo `Quantitativa Contínua`. Vamos analisar a sua distribuição de frequências (*Histograma*) e também verificar se existem **outliers** com um *BoxPlot*."
   ]
  },
  {
   "cell_type": "code",
   "execution_count": 58,
   "metadata": {},
   "outputs": [
    {
     "name": "stdout",
     "output_type": "stream",
     "text": [
      "Saving figure: plot_hist_boxplot_num_var38\n"
     ]
    },
    {
     "data": {
      "image/png": "[encoded data removed]",
      "text/plain": [
       "<Figure size 720x576 with 2 Axes>"
      ]
     },
     "metadata": {},
     "output_type": "display_data"
    }
   ],
   "source": [
    "# Plots: Histrograma e BoxPlot\n",
    "ptlib.plot_hist_boxplot_feature(df=train_df, feature=feat_groupby_vars['var38'][0], bins=None, kde=False,\n",
    "                                orient_boxplot='h', plot_style=\"darkgrid\", cols_nr=1, rows_nr=2,\n",
    "                                titles=[feat_groupby_vars['var38'][0], None],titles_fontsize=18,\n",
    "                                ylabels=['Frequency', None], ylabels_fontsize=15, colors='b', saturation_boxplot=0.80,\n",
    "                                xtick_labelsize=13, ytick_labelsize=13, width=10, height=8, wspace=None, hspace=None,\n",
    "                                figure_id=\"plot_hist_boxplot_num_var38\", figure_path=PROJECT_IMG_PATH,\n",
    "                                figure_file_format=\"png\", figure_file_extension=\".png\", tight_layout=True, dpi=300\n",
    "                               )"
   ]
  },
  {
   "cell_type": "markdown",
   "metadata": {},
   "source": [
    "**Análise:** trata-se de uma variável do tipo `Quantitativa Contínua`. Observamos que existe uma alta variabilidade nos dados ocasionada pelos **outliers** (*Box Plot*). Os **outliers** estão concentrados nos **valores acima de `500 mil`**.Também podemos observar que a sua distribuição de frequência está concentrada em um faixa de valores entre **`500` e `200 mil`**, conforme podemos observar no *histograma*.\n",
    "\n",
    "Portanto, entendemos que esta **feature é `relevante` e deverá ser analisada** na criação dos modelos preditivos."
   ]
  },
  {
   "cell_type": "code",
   "execution_count": 59,
   "metadata": {},
   "outputs": [],
   "source": [
    "# Armazenando informações sobre a feature:\n",
    "santander_feat_info.save(key='Continuous', features=feat_groupby_vars['var38']) # Quantitativa Contínua.\n",
    "santander_feat_info.save(key='Outliers', features=feat_groupby_vars['var38'])   # Variável têm \"Outliers\"."
   ]
  },
  {
   "cell_type": "code",
   "execution_count": 60,
   "metadata": {},
   "outputs": [
    {
     "name": "stdout",
     "output_type": "stream",
     "text": [
      "Counting of analyzed features: 9\n"
     ]
    }
   ],
   "source": [
    "# Verificando a contagem de features analisadas até aqui:\n",
    "print(\"Counting of analyzed features: {}\".format(santander_feat_info.count(keys=['Categorical', 'Binary', 'Ordinal',\n",
    "                                                                                 'Discrete', 'Continuous'])))"
   ]
  },
  {
   "cell_type": "markdown",
   "metadata": {},
   "source": [
    "## Variáveis que possuem `2 features` em nosso dataset:"
   ]
  },
  {
   "cell_type": "code",
   "execution_count": 61,
   "metadata": {},
   "outputs": [
    {
     "name": "stdout",
     "output_type": "stream",
     "text": [
      "Count of variables: 2\n",
      "['var9', 'var10']\n"
     ]
    }
   ],
   "source": [
    "# Verificando as variáveis que possuem \"2\" features (variáveis preditoras) no dataset:\n",
    "feat_vars = vars_groupby_featcount['Feat_2']\n",
    "print(\"Count of variables: {}\".format(len(feat_vars)))\n",
    "print(feat_vars)"
   ]
  },
  {
   "cell_type": "code",
   "execution_count": 62,
   "metadata": {},
   "outputs": [
    {
     "name": "stdout",
     "output_type": "stream",
     "text": [
      "Count of features: 4\n"
     ]
    }
   ],
   "source": [
    "# Conferindo a contagem de features para cada variável:\n",
    "feat_total = 0\n",
    "for v in feat_vars:\n",
    "    feat_total += len(feat_groupby_vars[v])\n",
    "    \n",
    "print(\"Count of features: {}\".format(feat_total))"
   ]
  },
  {
   "cell_type": "markdown",
   "metadata": {},
   "source": [
    "## var9"
   ]
  },
  {
   "cell_type": "code",
   "execution_count": 63,
   "metadata": {},
   "outputs": [
    {
     "name": "stdout",
     "output_type": "stream",
     "text": [
      "<class 'pandas.core.frame.DataFrame'>\n",
      "RangeIndex: 60816 entries, 0 to 60815\n",
      "Data columns (total 2 columns):\n",
      "ind_var9_cte_ult1    60816 non-null int64\n",
      "ind_var9_ult1        60816 non-null int64\n",
      "dtypes: int64(2)\n",
      "memory usage: 950.4 KB\n"
     ]
    }
   ],
   "source": [
    "# Resumo das informações:\n",
    "train_df[feat_groupby_vars['var9']].info()"
   ]
  },
  {
   "cell_type": "markdown",
   "metadata": {},
   "source": [
    "Agora, vamos calcular algumas medidas **estatísticas descritivas** para análsise destas **`features`** em nosso dataset:"
   ]
  },
  {
   "cell_type": "code",
   "execution_count": 64,
   "metadata": {},
   "outputs": [
    {
     "data": {
      "text/html": [
       "<div>\n",
       "<style scoped>\n",
       "    .dataframe tbody tr th:only-of-type {\n",
       "        vertical-align: middle;\n",
       "    }\n",
       "\n",
       "    .dataframe tbody tr th {\n",
       "        vertical-align: top;\n",
       "    }\n",
       "\n",
       "    .dataframe thead th {\n",
       "        text-align: right;\n",
       "    }\n",
       "</style>\n",
       "<table border=\"1\" class=\"dataframe\">\n",
       "  <thead>\n",
       "    <tr style=\"text-align: right;\">\n",
       "      <th></th>\n",
       "      <th>ind_var9_cte_ult1</th>\n",
       "      <th>ind_var9_ult1</th>\n",
       "    </tr>\n",
       "  </thead>\n",
       "  <tbody>\n",
       "    <tr>\n",
       "      <th>count</th>\n",
       "      <td>60816.000000</td>\n",
       "      <td>60816.000000</td>\n",
       "    </tr>\n",
       "    <tr>\n",
       "      <th>mean</th>\n",
       "      <td>0.097047</td>\n",
       "      <td>0.085915</td>\n",
       "    </tr>\n",
       "    <tr>\n",
       "      <th>std</th>\n",
       "      <td>0.296024</td>\n",
       "      <td>0.280241</td>\n",
       "    </tr>\n",
       "    <tr>\n",
       "      <th>min</th>\n",
       "      <td>0.000000</td>\n",
       "      <td>0.000000</td>\n",
       "    </tr>\n",
       "    <tr>\n",
       "      <th>25%</th>\n",
       "      <td>0.000000</td>\n",
       "      <td>0.000000</td>\n",
       "    </tr>\n",
       "    <tr>\n",
       "      <th>50%</th>\n",
       "      <td>0.000000</td>\n",
       "      <td>0.000000</td>\n",
       "    </tr>\n",
       "    <tr>\n",
       "      <th>75%</th>\n",
       "      <td>0.000000</td>\n",
       "      <td>0.000000</td>\n",
       "    </tr>\n",
       "    <tr>\n",
       "      <th>max</th>\n",
       "      <td>1.000000</td>\n",
       "      <td>1.000000</td>\n",
       "    </tr>\n",
       "  </tbody>\n",
       "</table>\n",
       "</div>"
      ],
      "text/plain": [
       "       ind_var9_cte_ult1  ind_var9_ult1\n",
       "count       60816.000000   60816.000000\n",
       "mean            0.097047       0.085915\n",
       "std             0.296024       0.280241\n",
       "min             0.000000       0.000000\n",
       "25%             0.000000       0.000000\n",
       "50%             0.000000       0.000000\n",
       "75%             0.000000       0.000000\n",
       "max             1.000000       1.000000"
      ]
     },
     "execution_count": 64,
     "metadata": {},
     "output_type": "execute_result"
    }
   ],
   "source": [
    "# Dataframe \"train_df\":\n",
    "train_df[feat_groupby_vars['var9']].describe()"
   ]
  },
  {
   "cell_type": "code",
   "execution_count": 65,
   "metadata": {},
   "outputs": [
    {
     "name": "stdout",
     "output_type": "stream",
     "text": [
      "                   Total  Percent\n",
      "ind_var9_cte_ult1                \n",
      "0                  54914    0.903\n",
      "1                   5902    0.097\n",
      "\n",
      "               Total  Percent\n",
      "ind_var9_ult1                \n",
      "0              55591   0.9141\n",
      "1               5225   0.0859\n",
      "\n"
     ]
    }
   ],
   "source": [
    "# Vamos verificar a proporção dos valores para as variáveis relacionadas a \"var9\":\n",
    "for feat in feat_groupby_vars['var9']:\n",
    "    print(dslib.percent_count_feature(df=train_df, feature=feat, lines_drop=False))\n",
    "    print()"
   ]
  },
  {
   "cell_type": "markdown",
   "metadata": {},
   "source": [
    "**Análise:** notamos que todas as **`features`** relacionadas com **`var9`** são variáveis do tipo `Categóricas Nominais Binárias` (**`ind_var9_cte_ult1`** e **`ind_var9_ult1`**), ou seja, com apenas duas categorias (**`0` e `1`**).\n",
    "\n",
    "Observamos que as features **`ind_var9_cte_ult1`** e **`ind_var9_ult1`**) possuem **`90.30%`** e **`91.41%`** das observações, respectivamente, classificadas na categoria **`0`**."
   ]
  },
  {
   "cell_type": "markdown",
   "metadata": {},
   "source": [
    "Agora, vamos verificar se existe alguma **correlação** entre as **`features`** de **`var9`**:"
   ]
  },
  {
   "cell_type": "code",
   "execution_count": 66,
   "metadata": {},
   "outputs": [
    {
     "data": {
      "text/html": [
       "<div>\n",
       "<style scoped>\n",
       "    .dataframe tbody tr th:only-of-type {\n",
       "        vertical-align: middle;\n",
       "    }\n",
       "\n",
       "    .dataframe tbody tr th {\n",
       "        vertical-align: top;\n",
       "    }\n",
       "\n",
       "    .dataframe thead th {\n",
       "        text-align: right;\n",
       "    }\n",
       "</style>\n",
       "<table border=\"1\" class=\"dataframe\">\n",
       "  <thead>\n",
       "    <tr style=\"text-align: right;\">\n",
       "      <th></th>\n",
       "      <th>ind_var9_cte_ult1</th>\n",
       "      <th>ind_var9_ult1</th>\n",
       "    </tr>\n",
       "  </thead>\n",
       "  <tbody>\n",
       "    <tr>\n",
       "      <th>ind_var9_cte_ult1</th>\n",
       "      <td>1.000000</td>\n",
       "      <td>0.935153</td>\n",
       "    </tr>\n",
       "    <tr>\n",
       "      <th>ind_var9_ult1</th>\n",
       "      <td>0.935153</td>\n",
       "      <td>1.000000</td>\n",
       "    </tr>\n",
       "  </tbody>\n",
       "</table>\n",
       "</div>"
      ],
      "text/plain": [
       "                   ind_var9_cte_ult1  ind_var9_ult1\n",
       "ind_var9_cte_ult1           1.000000       0.935153\n",
       "ind_var9_ult1               0.935153       1.000000"
      ]
     },
     "execution_count": 66,
     "metadata": {},
     "output_type": "execute_result"
    }
   ],
   "source": [
    "# Analisando a correlação entre as features de \"var9\":\n",
    "train_df[feat_groupby_vars['var9']].corr()"
   ]
  },
  {
   "cell_type": "markdown",
   "metadata": {},
   "source": [
    "**Análise:** observando a **correlação entre as features**, concluímos que **existe uma alta correlação positiva** entre as variáveis."
   ]
  },
  {
   "cell_type": "markdown",
   "metadata": {},
   "source": [
    "Portanto, entendemos que estas **features são `irrelevantes`**, ou seja, não serão analisadas na criação dos modelos preditivos."
   ]
  },
  {
   "cell_type": "code",
   "execution_count": 67,
   "metadata": {},
   "outputs": [],
   "source": [
    "# Armazenando informações sobre a feature:\n",
    "santander_feat_info.save(key='Binary', features=feat_groupby_vars['var9'])     # Categórica Nominal Binária.\n",
    "santander_feat_info.save(key='Irrelevant', features=feat_groupby_vars['var9']) # Irrelevantes."
   ]
  },
  {
   "cell_type": "markdown",
   "metadata": {},
   "source": [
    "## var10"
   ]
  },
  {
   "cell_type": "code",
   "execution_count": 68,
   "metadata": {},
   "outputs": [
    {
     "name": "stdout",
     "output_type": "stream",
     "text": [
      "<class 'pandas.core.frame.DataFrame'>\n",
      "RangeIndex: 60816 entries, 0 to 60815\n",
      "Data columns (total 2 columns):\n",
      "ind_var10_cte_ult1    60816 non-null int64\n",
      "ind_var10_ult1        60816 non-null int64\n",
      "dtypes: int64(2)\n",
      "memory usage: 950.4 KB\n"
     ]
    }
   ],
   "source": [
    "# Resumo das informações:\n",
    "train_df[feat_groupby_vars['var10']].info()"
   ]
  },
  {
   "cell_type": "markdown",
   "metadata": {},
   "source": [
    "Agora, vamos calcular algumas medidas **estatísticas descritivas** para análsise destas **`features`** em nosso dataset:"
   ]
  },
  {
   "cell_type": "code",
   "execution_count": 69,
   "metadata": {},
   "outputs": [
    {
     "data": {
      "text/html": [
       "<div>\n",
       "<style scoped>\n",
       "    .dataframe tbody tr th:only-of-type {\n",
       "        vertical-align: middle;\n",
       "    }\n",
       "\n",
       "    .dataframe tbody tr th {\n",
       "        vertical-align: top;\n",
       "    }\n",
       "\n",
       "    .dataframe thead th {\n",
       "        text-align: right;\n",
       "    }\n",
       "</style>\n",
       "<table border=\"1\" class=\"dataframe\">\n",
       "  <thead>\n",
       "    <tr style=\"text-align: right;\">\n",
       "      <th></th>\n",
       "      <th>ind_var10_cte_ult1</th>\n",
       "      <th>ind_var10_ult1</th>\n",
       "    </tr>\n",
       "  </thead>\n",
       "  <tbody>\n",
       "    <tr>\n",
       "      <th>count</th>\n",
       "      <td>60816.000000</td>\n",
       "      <td>60816.000000</td>\n",
       "    </tr>\n",
       "    <tr>\n",
       "      <th>mean</th>\n",
       "      <td>0.092443</td>\n",
       "      <td>0.080982</td>\n",
       "    </tr>\n",
       "    <tr>\n",
       "      <th>std</th>\n",
       "      <td>0.289652</td>\n",
       "      <td>0.272810</td>\n",
       "    </tr>\n",
       "    <tr>\n",
       "      <th>min</th>\n",
       "      <td>0.000000</td>\n",
       "      <td>0.000000</td>\n",
       "    </tr>\n",
       "    <tr>\n",
       "      <th>25%</th>\n",
       "      <td>0.000000</td>\n",
       "      <td>0.000000</td>\n",
       "    </tr>\n",
       "    <tr>\n",
       "      <th>50%</th>\n",
       "      <td>0.000000</td>\n",
       "      <td>0.000000</td>\n",
       "    </tr>\n",
       "    <tr>\n",
       "      <th>75%</th>\n",
       "      <td>0.000000</td>\n",
       "      <td>0.000000</td>\n",
       "    </tr>\n",
       "    <tr>\n",
       "      <th>max</th>\n",
       "      <td>1.000000</td>\n",
       "      <td>1.000000</td>\n",
       "    </tr>\n",
       "  </tbody>\n",
       "</table>\n",
       "</div>"
      ],
      "text/plain": [
       "       ind_var10_cte_ult1  ind_var10_ult1\n",
       "count        60816.000000    60816.000000\n",
       "mean             0.092443        0.080982\n",
       "std              0.289652        0.272810\n",
       "min              0.000000        0.000000\n",
       "25%              0.000000        0.000000\n",
       "50%              0.000000        0.000000\n",
       "75%              0.000000        0.000000\n",
       "max              1.000000        1.000000"
      ]
     },
     "execution_count": 69,
     "metadata": {},
     "output_type": "execute_result"
    }
   ],
   "source": [
    "# Dataframe \"train_df\":\n",
    "train_df[feat_groupby_vars['var10']].describe()"
   ]
  },
  {
   "cell_type": "code",
   "execution_count": 70,
   "metadata": {},
   "outputs": [
    {
     "name": "stdout",
     "output_type": "stream",
     "text": [
      "                    Total  Percent\n",
      "ind_var10_cte_ult1                \n",
      "0                   55194   0.9076\n",
      "1                    5622   0.0924\n",
      "\n",
      "                Total  Percent\n",
      "ind_var10_ult1                \n",
      "0               55891    0.919\n",
      "1                4925    0.081\n",
      "\n"
     ]
    }
   ],
   "source": [
    "# Vamos verificar a proporção dos valores para as variáveis relacionadas a \"var10\":\n",
    "for feat in feat_groupby_vars['var10']:\n",
    "    print(dslib.percent_count_feature(df=train_df, feature=feat, lines_drop=False))\n",
    "    print()"
   ]
  },
  {
   "cell_type": "markdown",
   "metadata": {},
   "source": [
    "**Análise:** notamos que todas as **`features`** relacionadas com **`var10`** são variáveis do tipo `Categóricas Nominais Binárias` (**`ind_var10_cte_ult1`** e **`ind_var10_ult1`**), ou seja, com apenas duas categorias (**`0` e `1`**).\n",
    "\n",
    "Observamos que as features **`ind_var10_cte_ult1`** e **`ind_var10_ult1`**) possuem **`90.76%`** e **`91.90%`** das observações, respectivamente, classificadas na categoria **`0`**."
   ]
  },
  {
   "cell_type": "markdown",
   "metadata": {},
   "source": [
    "Agora, vamos verificar se existe alguma **correlação** entre as **`features`** de **`var10`**:"
   ]
  },
  {
   "cell_type": "code",
   "execution_count": 71,
   "metadata": {},
   "outputs": [
    {
     "data": {
      "text/html": [
       "<div>\n",
       "<style scoped>\n",
       "    .dataframe tbody tr th:only-of-type {\n",
       "        vertical-align: middle;\n",
       "    }\n",
       "\n",
       "    .dataframe tbody tr th {\n",
       "        vertical-align: top;\n",
       "    }\n",
       "\n",
       "    .dataframe thead th {\n",
       "        text-align: right;\n",
       "    }\n",
       "</style>\n",
       "<table border=\"1\" class=\"dataframe\">\n",
       "  <thead>\n",
       "    <tr style=\"text-align: right;\">\n",
       "      <th></th>\n",
       "      <th>ind_var10_cte_ult1</th>\n",
       "      <th>ind_var10_ult1</th>\n",
       "    </tr>\n",
       "  </thead>\n",
       "  <tbody>\n",
       "    <tr>\n",
       "      <th>ind_var10_cte_ult1</th>\n",
       "      <td>1.000000</td>\n",
       "      <td>0.930107</td>\n",
       "    </tr>\n",
       "    <tr>\n",
       "      <th>ind_var10_ult1</th>\n",
       "      <td>0.930107</td>\n",
       "      <td>1.000000</td>\n",
       "    </tr>\n",
       "  </tbody>\n",
       "</table>\n",
       "</div>"
      ],
      "text/plain": [
       "                    ind_var10_cte_ult1  ind_var10_ult1\n",
       "ind_var10_cte_ult1            1.000000        0.930107\n",
       "ind_var10_ult1                0.930107        1.000000"
      ]
     },
     "execution_count": 71,
     "metadata": {},
     "output_type": "execute_result"
    }
   ],
   "source": [
    "# Analisando a correlação entre as features de \"var10\":\n",
    "train_df[feat_groupby_vars['var10']].corr()"
   ]
  },
  {
   "cell_type": "markdown",
   "metadata": {},
   "source": [
    "**Análise:** observando a **correlação entre as features**, concluímos que **existe uma alta correlação positiva** entre as variáveis."
   ]
  },
  {
   "cell_type": "markdown",
   "metadata": {},
   "source": [
    "Portanto, entendemos que estas **features são `irrelevantes`**, ou seja, não serão analisadas na criação dos modelos preditivos."
   ]
  },
  {
   "cell_type": "code",
   "execution_count": 72,
   "metadata": {},
   "outputs": [],
   "source": [
    "# Armazenando informações sobre a feature:\n",
    "santander_feat_info.save(key='Binary', features=feat_groupby_vars['var10'])     # Categórica Nominal Binária.\n",
    "santander_feat_info.save(key='Irrelevant', features=feat_groupby_vars['var10']) # Irrelevantes."
   ]
  },
  {
   "cell_type": "code",
   "execution_count": 73,
   "metadata": {},
   "outputs": [
    {
     "name": "stdout",
     "output_type": "stream",
     "text": [
      "Counting of analyzed features: 13\n"
     ]
    }
   ],
   "source": [
    "# Verificando a contagem de features analisadas até aqui:\n",
    "print(\"Counting of analyzed features: {}\".format(santander_feat_info.count(keys=['Categorical', 'Binary', 'Ordinal',\n",
    "                                                                                 'Discrete', 'Continuous'])))"
   ]
  },
  {
   "cell_type": "markdown",
   "metadata": {},
   "source": [
    "## Variáveis que possuem `3 features` em nosso dataset:"
   ]
  },
  {
   "cell_type": "code",
   "execution_count": 74,
   "metadata": {},
   "outputs": [
    {
     "name": "stdout",
     "output_type": "stream",
     "text": [
      "Count of variables: 1\n",
      "['var42']\n"
     ]
    }
   ],
   "source": [
    "# Verificando as variáveis que possuem \"3\" features (variáveis preditoras) no dataset:\n",
    "feat_vars = vars_groupby_featcount['Feat_3']\n",
    "print(\"Count of variables: {}\".format(len(feat_vars)))\n",
    "print(feat_vars)"
   ]
  },
  {
   "cell_type": "code",
   "execution_count": 75,
   "metadata": {},
   "outputs": [
    {
     "name": "stdout",
     "output_type": "stream",
     "text": [
      "Count of features: 3\n"
     ]
    }
   ],
   "source": [
    "# Conferindo a contagem de features para cada variável:\n",
    "feat_total = 0\n",
    "for v in feat_vars:\n",
    "    feat_total += len(feat_groupby_vars[v])\n",
    "    \n",
    "print(\"Count of features: {}\".format(feat_total))"
   ]
  },
  {
   "cell_type": "markdown",
   "metadata": {},
   "source": [
    "## var42"
   ]
  },
  {
   "cell_type": "code",
   "execution_count": 76,
   "metadata": {},
   "outputs": [
    {
     "name": "stdout",
     "output_type": "stream",
     "text": [
      "<class 'pandas.core.frame.DataFrame'>\n",
      "RangeIndex: 60816 entries, 0 to 60815\n",
      "Data columns (total 3 columns):\n",
      "num_var42      60816 non-null int64\n",
      "num_var42_0    60816 non-null int64\n",
      "saldo_var42    60816 non-null float64\n",
      "dtypes: float64(1), int64(2)\n",
      "memory usage: 1.4 MB\n"
     ]
    }
   ],
   "source": [
    "# Resumo das informações:\n",
    "train_df[feat_groupby_vars['var42']].info()"
   ]
  },
  {
   "cell_type": "markdown",
   "metadata": {},
   "source": [
    "Agora, vamos calcular algumas medidas **estatísticas descritivas** para análsise destas **`features`** em nosso dataset:"
   ]
  },
  {
   "cell_type": "code",
   "execution_count": 77,
   "metadata": {},
   "outputs": [
    {
     "data": {
      "text/html": [
       "<div>\n",
       "<style scoped>\n",
       "    .dataframe tbody tr th:only-of-type {\n",
       "        vertical-align: middle;\n",
       "    }\n",
       "\n",
       "    .dataframe tbody tr th {\n",
       "        vertical-align: top;\n",
       "    }\n",
       "\n",
       "    .dataframe thead th {\n",
       "        text-align: right;\n",
       "    }\n",
       "</style>\n",
       "<table border=\"1\" class=\"dataframe\">\n",
       "  <thead>\n",
       "    <tr style=\"text-align: right;\">\n",
       "      <th></th>\n",
       "      <th>num_var42</th>\n",
       "      <th>num_var42_0</th>\n",
       "      <th>saldo_var42</th>\n",
       "    </tr>\n",
       "  </thead>\n",
       "  <tbody>\n",
       "    <tr>\n",
       "      <th>count</th>\n",
       "      <td>60816.000000</td>\n",
       "      <td>60816.000000</td>\n",
       "      <td>6.081600e+04</td>\n",
       "    </tr>\n",
       "    <tr>\n",
       "      <th>mean</th>\n",
       "      <td>2.219219</td>\n",
       "      <td>3.206590</td>\n",
       "      <td>7.316827e+03</td>\n",
       "    </tr>\n",
       "    <tr>\n",
       "      <th>std</th>\n",
       "      <td>1.499252</td>\n",
       "      <td>0.966158</td>\n",
       "      <td>5.069721e+04</td>\n",
       "    </tr>\n",
       "    <tr>\n",
       "      <th>min</th>\n",
       "      <td>0.000000</td>\n",
       "      <td>0.000000</td>\n",
       "      <td>-4.942260e+03</td>\n",
       "    </tr>\n",
       "    <tr>\n",
       "      <th>25%</th>\n",
       "      <td>0.000000</td>\n",
       "      <td>3.000000</td>\n",
       "      <td>0.000000e+00</td>\n",
       "    </tr>\n",
       "    <tr>\n",
       "      <th>50%</th>\n",
       "      <td>3.000000</td>\n",
       "      <td>3.000000</td>\n",
       "      <td>3.000000e+00</td>\n",
       "    </tr>\n",
       "    <tr>\n",
       "      <th>75%</th>\n",
       "      <td>3.000000</td>\n",
       "      <td>3.000000</td>\n",
       "      <td>1.200000e+02</td>\n",
       "    </tr>\n",
       "    <tr>\n",
       "      <th>max</th>\n",
       "      <td>18.000000</td>\n",
       "      <td>114.000000</td>\n",
       "      <td>3.008077e+06</td>\n",
       "    </tr>\n",
       "  </tbody>\n",
       "</table>\n",
       "</div>"
      ],
      "text/plain": [
       "          num_var42   num_var42_0   saldo_var42\n",
       "count  60816.000000  60816.000000  6.081600e+04\n",
       "mean       2.219219      3.206590  7.316827e+03\n",
       "std        1.499252      0.966158  5.069721e+04\n",
       "min        0.000000      0.000000 -4.942260e+03\n",
       "25%        0.000000      3.000000  0.000000e+00\n",
       "50%        3.000000      3.000000  3.000000e+00\n",
       "75%        3.000000      3.000000  1.200000e+02\n",
       "max       18.000000    114.000000  3.008077e+06"
      ]
     },
     "execution_count": 77,
     "metadata": {},
     "output_type": "execute_result"
    }
   ],
   "source": [
    "# Dataframe \"train_df\":\n",
    "train_df[feat_groupby_vars['var42']].describe()"
   ]
  },
  {
   "cell_type": "code",
   "execution_count": 78,
   "metadata": {},
   "outputs": [
    {
     "data": {
      "text/html": [
       "<div>\n",
       "<style scoped>\n",
       "    .dataframe tbody tr th:only-of-type {\n",
       "        vertical-align: middle;\n",
       "    }\n",
       "\n",
       "    .dataframe tbody tr th {\n",
       "        vertical-align: top;\n",
       "    }\n",
       "\n",
       "    .dataframe thead th {\n",
       "        text-align: right;\n",
       "    }\n",
       "</style>\n",
       "<table border=\"1\" class=\"dataframe\">\n",
       "  <thead>\n",
       "    <tr style=\"text-align: right;\">\n",
       "      <th></th>\n",
       "      <th>num_var42</th>\n",
       "      <th>num_var42_0</th>\n",
       "      <th>saldo_var42</th>\n",
       "    </tr>\n",
       "    <tr>\n",
       "      <th>Percentile</th>\n",
       "      <th></th>\n",
       "      <th></th>\n",
       "      <th></th>\n",
       "    </tr>\n",
       "  </thead>\n",
       "  <tbody>\n",
       "    <tr>\n",
       "      <th>75%</th>\n",
       "      <td>3.0</td>\n",
       "      <td>3.0</td>\n",
       "      <td>1.200000e+02</td>\n",
       "    </tr>\n",
       "    <tr>\n",
       "      <th>76%</th>\n",
       "      <td>3.0</td>\n",
       "      <td>3.0</td>\n",
       "      <td>1.500000e+02</td>\n",
       "    </tr>\n",
       "    <tr>\n",
       "      <th>77%</th>\n",
       "      <td>3.0</td>\n",
       "      <td>3.0</td>\n",
       "      <td>1.530000e+02</td>\n",
       "    </tr>\n",
       "    <tr>\n",
       "      <th>78%</th>\n",
       "      <td>3.0</td>\n",
       "      <td>3.0</td>\n",
       "      <td>2.017320e+02</td>\n",
       "    </tr>\n",
       "    <tr>\n",
       "      <th>79%</th>\n",
       "      <td>3.0</td>\n",
       "      <td>3.0</td>\n",
       "      <td>2.700000e+02</td>\n",
       "    </tr>\n",
       "    <tr>\n",
       "      <th>80%</th>\n",
       "      <td>3.0</td>\n",
       "      <td>3.0</td>\n",
       "      <td>3.030000e+02</td>\n",
       "    </tr>\n",
       "    <tr>\n",
       "      <th>81%</th>\n",
       "      <td>3.0</td>\n",
       "      <td>3.0</td>\n",
       "      <td>3.913245e+02</td>\n",
       "    </tr>\n",
       "    <tr>\n",
       "      <th>82%</th>\n",
       "      <td>3.0</td>\n",
       "      <td>3.0</td>\n",
       "      <td>4.917240e+02</td>\n",
       "    </tr>\n",
       "    <tr>\n",
       "      <th>83%</th>\n",
       "      <td>3.0</td>\n",
       "      <td>3.0</td>\n",
       "      <td>6.030000e+02</td>\n",
       "    </tr>\n",
       "    <tr>\n",
       "      <th>84%</th>\n",
       "      <td>3.0</td>\n",
       "      <td>3.0</td>\n",
       "      <td>7.500000e+02</td>\n",
       "    </tr>\n",
       "    <tr>\n",
       "      <th>85%</th>\n",
       "      <td>3.0</td>\n",
       "      <td>3.0</td>\n",
       "      <td>9.000000e+02</td>\n",
       "    </tr>\n",
       "    <tr>\n",
       "      <th>86%</th>\n",
       "      <td>3.0</td>\n",
       "      <td>3.0</td>\n",
       "      <td>1.115016e+03</td>\n",
       "    </tr>\n",
       "    <tr>\n",
       "      <th>87%</th>\n",
       "      <td>3.0</td>\n",
       "      <td>3.0</td>\n",
       "      <td>1.383093e+03</td>\n",
       "    </tr>\n",
       "    <tr>\n",
       "      <th>88%</th>\n",
       "      <td>3.0</td>\n",
       "      <td>3.0</td>\n",
       "      <td>1.650036e+03</td>\n",
       "    </tr>\n",
       "    <tr>\n",
       "      <th>89%</th>\n",
       "      <td>3.0</td>\n",
       "      <td>3.0</td>\n",
       "      <td>2.078307e+03</td>\n",
       "    </tr>\n",
       "    <tr>\n",
       "      <th>90%</th>\n",
       "      <td>3.0</td>\n",
       "      <td>3.0</td>\n",
       "      <td>2.664600e+03</td>\n",
       "    </tr>\n",
       "    <tr>\n",
       "      <th>91%</th>\n",
       "      <td>3.0</td>\n",
       "      <td>3.0</td>\n",
       "      <td>3.271950e+03</td>\n",
       "    </tr>\n",
       "    <tr>\n",
       "      <th>92%</th>\n",
       "      <td>3.0</td>\n",
       "      <td>3.0</td>\n",
       "      <td>4.240512e+03</td>\n",
       "    </tr>\n",
       "    <tr>\n",
       "      <th>93%</th>\n",
       "      <td>3.0</td>\n",
       "      <td>6.0</td>\n",
       "      <td>5.787563e+03</td>\n",
       "    </tr>\n",
       "    <tr>\n",
       "      <th>94%</th>\n",
       "      <td>3.0</td>\n",
       "      <td>6.0</td>\n",
       "      <td>8.349858e+03</td>\n",
       "    </tr>\n",
       "    <tr>\n",
       "      <th>95%</th>\n",
       "      <td>3.0</td>\n",
       "      <td>6.0</td>\n",
       "      <td>1.321308e+04</td>\n",
       "    </tr>\n",
       "    <tr>\n",
       "      <th>96%</th>\n",
       "      <td>3.0</td>\n",
       "      <td>6.0</td>\n",
       "      <td>2.704145e+04</td>\n",
       "    </tr>\n",
       "    <tr>\n",
       "      <th>97%</th>\n",
       "      <td>3.0</td>\n",
       "      <td>6.0</td>\n",
       "      <td>5.832498e+04</td>\n",
       "    </tr>\n",
       "    <tr>\n",
       "      <th>98%</th>\n",
       "      <td>6.0</td>\n",
       "      <td>6.0</td>\n",
       "      <td>1.167323e+05</td>\n",
       "    </tr>\n",
       "    <tr>\n",
       "      <th>99%</th>\n",
       "      <td>6.0</td>\n",
       "      <td>6.0</td>\n",
       "      <td>2.155460e+05</td>\n",
       "    </tr>\n",
       "    <tr>\n",
       "      <th>100%</th>\n",
       "      <td>18.0</td>\n",
       "      <td>114.0</td>\n",
       "      <td>3.008077e+06</td>\n",
       "    </tr>\n",
       "  </tbody>\n",
       "</table>\n",
       "</div>"
      ],
      "text/plain": [
       "            num_var42  num_var42_0   saldo_var42\n",
       "Percentile                                      \n",
       "75%               3.0          3.0  1.200000e+02\n",
       "76%               3.0          3.0  1.500000e+02\n",
       "77%               3.0          3.0  1.530000e+02\n",
       "78%               3.0          3.0  2.017320e+02\n",
       "79%               3.0          3.0  2.700000e+02\n",
       "80%               3.0          3.0  3.030000e+02\n",
       "81%               3.0          3.0  3.913245e+02\n",
       "82%               3.0          3.0  4.917240e+02\n",
       "83%               3.0          3.0  6.030000e+02\n",
       "84%               3.0          3.0  7.500000e+02\n",
       "85%               3.0          3.0  9.000000e+02\n",
       "86%               3.0          3.0  1.115016e+03\n",
       "87%               3.0          3.0  1.383093e+03\n",
       "88%               3.0          3.0  1.650036e+03\n",
       "89%               3.0          3.0  2.078307e+03\n",
       "90%               3.0          3.0  2.664600e+03\n",
       "91%               3.0          3.0  3.271950e+03\n",
       "92%               3.0          3.0  4.240512e+03\n",
       "93%               3.0          6.0  5.787563e+03\n",
       "94%               3.0          6.0  8.349858e+03\n",
       "95%               3.0          6.0  1.321308e+04\n",
       "96%               3.0          6.0  2.704145e+04\n",
       "97%               3.0          6.0  5.832498e+04\n",
       "98%               6.0          6.0  1.167323e+05\n",
       "99%               6.0          6.0  2.155460e+05\n",
       "100%             18.0        114.0  3.008077e+06"
      ]
     },
     "execution_count": 78,
     "metadata": {},
     "output_type": "execute_result"
    }
   ],
   "source": [
    "# Obtendo os percentis a partir de \"75%\", com intervá-los de \"1%\":\n",
    "result = dslib.get_features_percentiles(data=train_df, features=feat_groupby_vars['var42'], percent_range=range(75, 101, 1))\n",
    "result"
   ]
  },
  {
   "cell_type": "code",
   "execution_count": 79,
   "metadata": {
    "scrolled": true
   },
   "outputs": [
    {
     "name": "stdout",
     "output_type": "stream",
     "text": [
      "           Total  Percent\n",
      "num_var42                \n",
      "3          41640   0.6847\n",
      "0          17520   0.2881\n",
      "6           1628   0.0268\n",
      "9             23   0.0004\n",
      "12             3   0.0000\n",
      "15             1   0.0000\n",
      "18             1   0.0000\n",
      "\n",
      "             Total  Percent\n",
      "num_var42_0                \n",
      "3            56175   0.9237\n",
      "6             4135   0.0680\n",
      "0              336   0.0055\n",
      "9              159   0.0026\n",
      "12               7   0.0001\n",
      "15               2   0.0000\n",
      "18               1   0.0000\n",
      "114              1   0.0000\n",
      "\n",
      "             Total  Percent\n",
      "saldo_var42                \n",
      "0.00         17419   0.2864\n",
      "3.00         14828   0.2438\n",
      "90.00         4231   0.0696\n",
      "30.00         1383   0.0227\n",
      "15.00         1291   0.0212\n",
      "...            ...      ...\n",
      "851.88           1   0.0000\n",
      "852.33           1   0.0000\n",
      "852.60           1   0.0000\n",
      "852.81           1   0.0000\n",
      "3008077.32       1   0.0000\n",
      "\n",
      "[12946 rows x 2 columns]\n",
      "\n"
     ]
    }
   ],
   "source": [
    "# Vamos verificar a proporção dos valores para as variáveis relacionadas a \"var42\":\n",
    "for feat in feat_groupby_vars['var42']:\n",
    "    print(dslib.percent_count_feature(df=train_df, feature=feat, lines_drop=False))\n",
    "    print()"
   ]
  },
  {
   "cell_type": "markdown",
   "metadata": {},
   "source": [
    "**Análise:** observamos que as **`features`** **`num_var42`** e **`num_var42_0`**, relacionadas com **`var42`**, são variáveis do tipo `Quantitativas Discretas`. A feature **`saldo_var42`** é uma variável do tipo `Quantitativa Contínua`.\n",
    "\n",
    "Agora, vamos analisar, para as features **`num_var42`**, **`num_var42_0`** e **`saldo_var42`**, as suas distribuições de frequências (*Histograma*) e também verificar se existem **outliers** com um *BoxPlot*."
   ]
  },
  {
   "cell_type": "code",
   "execution_count": 80,
   "metadata": {},
   "outputs": [
    {
     "name": "stdout",
     "output_type": "stream",
     "text": [
      "Saving figure: plot_histograms_var42\n"
     ]
    },
    {
     "data": {
      "image/png": "[encoded data removed]",
      "text/plain": [
       "<Figure size 1080x720 with 3 Axes>"
      ]
     },
     "metadata": {},
     "output_type": "display_data"
    }
   ],
   "source": [
    "# Desenhando os histogramas para as features 'num_var42', 'num_var42_0' e 'saldo_var42' de \"var42\":\n",
    "# Selecionando as features:\n",
    "feats = ['num_var42', 'num_var42_0', 'saldo_var42']\n",
    "\n",
    "# Histogramas:\n",
    "ptlib.plot_histograms_features(df=train_df, features=feats, plot_style='ticks', kde=False, colors='b',\n",
    "                               titles=feats, titles_fontsize=16, xlabels=None, xlabels_fontsize=13,\n",
    "                               ylabels=None, ylabels_fontsize=13, xtick_labelsize=13, ytick_labelsize=13,\n",
    "                               cols_nr=2, rows_nr=2, width=15, height=10, wspace=None, hspace=None,\n",
    "                               figure_id=\"plot_histograms_var42\", figure_path=PROJECT_IMG_PATH,\n",
    "                               figure_file_format=\"png\", figure_file_extension=\".png\",\n",
    "                               tight_layout=True, dpi=300\n",
    "                              )"
   ]
  },
  {
   "cell_type": "code",
   "execution_count": 81,
   "metadata": {},
   "outputs": [
    {
     "name": "stdout",
     "output_type": "stream",
     "text": [
      "Saving figure: plot_boxplots_var42\n"
     ]
    },
    {
     "data": {
      "image/png": "[encoded data removed]",
      "text/plain": [
       "<Figure size 1080x720 with 3 Axes>"
      ]
     },
     "metadata": {},
     "output_type": "display_data"
    }
   ],
   "source": [
    "# Desenhando os boxplots para as features 'num_var42', 'num_var42_0' e 'saldo_var42' de \"var42\":\n",
    "# Selecionando as features:\n",
    "feats = ['num_var42', 'num_var42_0', 'saldo_var42']\n",
    "\n",
    "# BoxPlots:\n",
    "ptlib.plot_boxplots_features(df=train_df, features=feats, plot_style='ticks', colors='b',\n",
    "                             orient='h', saturation=0.75,\n",
    "                             titles=feats, titles_fontsize=16, xlabels=None, xlabels_fontsize=13,\n",
    "                             ylabels=None, ylabels_fontsize=13, xtick_labelsize=13, ytick_labelsize=13,\n",
    "                             cols_nr=2, rows_nr=2, width=15, height=10, wspace=None, hspace=None,\n",
    "                             figure_id=\"plot_boxplots_var42\", figure_path=PROJECT_IMG_PATH,\n",
    "                             figure_file_format=\"png\", figure_file_extension=\".png\",\n",
    "                             tight_layout=True, dpi=300\n",
    "                            )"
   ]
  },
  {
   "cell_type": "markdown",
   "metadata": {},
   "source": [
    "Agora, vamos verificar se existe alguma **correlação** entre as **`features`** de **`var42`**:"
   ]
  },
  {
   "cell_type": "code",
   "execution_count": 82,
   "metadata": {},
   "outputs": [
    {
     "data": {
      "text/html": [
       "<div>\n",
       "<style scoped>\n",
       "    .dataframe tbody tr th:only-of-type {\n",
       "        vertical-align: middle;\n",
       "    }\n",
       "\n",
       "    .dataframe tbody tr th {\n",
       "        vertical-align: top;\n",
       "    }\n",
       "\n",
       "    .dataframe thead th {\n",
       "        text-align: right;\n",
       "    }\n",
       "</style>\n",
       "<table border=\"1\" class=\"dataframe\">\n",
       "  <thead>\n",
       "    <tr style=\"text-align: right;\">\n",
       "      <th></th>\n",
       "      <th>num_var42</th>\n",
       "      <th>num_var42_0</th>\n",
       "      <th>saldo_var42</th>\n",
       "    </tr>\n",
       "  </thead>\n",
       "  <tbody>\n",
       "    <tr>\n",
       "      <th>num_var42</th>\n",
       "      <td>1.000000</td>\n",
       "      <td>0.277788</td>\n",
       "      <td>0.201912</td>\n",
       "    </tr>\n",
       "    <tr>\n",
       "      <th>num_var42_0</th>\n",
       "      <td>0.277788</td>\n",
       "      <td>1.000000</td>\n",
       "      <td>0.377832</td>\n",
       "    </tr>\n",
       "    <tr>\n",
       "      <th>saldo_var42</th>\n",
       "      <td>0.201912</td>\n",
       "      <td>0.377832</td>\n",
       "      <td>1.000000</td>\n",
       "    </tr>\n",
       "  </tbody>\n",
       "</table>\n",
       "</div>"
      ],
      "text/plain": [
       "             num_var42  num_var42_0  saldo_var42\n",
       "num_var42     1.000000     0.277788     0.201912\n",
       "num_var42_0   0.277788     1.000000     0.377832\n",
       "saldo_var42   0.201912     0.377832     1.000000"
      ]
     },
     "execution_count": 82,
     "metadata": {},
     "output_type": "execute_result"
    }
   ],
   "source": [
    "# Analisando a correlação entre as features de \"var42\":\n",
    "train_df[feat_groupby_vars['var42']].corr()"
   ]
  },
  {
   "cell_type": "markdown",
   "metadata": {},
   "source": [
    "**Análise:**\n",
    "\n",
    "1. Entendemos que **existe uma pequena correlação positiva** entre as variáveis.\n",
    "\n",
    "2. Na feature `num_var42`,  observamos que existe uma alta variabilidade nos dados ocasionada pelos **outliers** (*Box Plot*). Os **outliers** estão concentrados nos **valores acima de `9`**. No histograma, podemos notar que existe um *pico* de observações (**`68.47%`**) com valores iguais a `3`. Também podemos observar que **`97.28%`** da sua distribuição de frequência está concentrada em um faixa de valores entre **`0` e `3`**, conforme podemos observar no *histograma* e no relatório de *percentis*. Portanto, entendemos que esta **feature é `relevante` e deverá ser analisada** na criação dos modelos preditivos;\n",
    "\n",
    "3. Na feature `num_var42_0`,  observamos que existe uma pequena variabilidade nos dados ocasionada pelos **outliers** (*Box Plot*). Os **outliers** estão concentrados nos **valores iguais a `0` e acima de `6`**. No histograma, podemos notar que existe um *pico* de observações (**`92.37%`**) com valores iguais a `3`. Também podemos observar que `97%` da sua distribuição de frequência está concentrada em um faixa de valores entre **`0` e `6`**, conforme podemos observar no *histograma* e no relatório de *percentis*. Portanto, entendemos que esta **feature é `irrelevante`**, ou seja, não será analisada na criação dos modelos preditivos;\n",
    "\n",
    "4. Na feature `saldo_var42`,  observamos que existe uma alta variabilidade nos dados ocasionada pelos **outliers** (*Box Plot*). Os **outliers** estão concentrados nos **valores acima de `90 mil`**.Também podemos observar que `94%` da sua distribuição de frequência está concentrada em um faixa de valores entre **`0` e `8,500`**, conforme podemos observar no *histograma* e no relatório de *percentis*. Portanto, entendemos que esta **feature é `relevante` e deverá ser analisada** na criação dos modelos preditivos."
   ]
  },
  {
   "cell_type": "code",
   "execution_count": 83,
   "metadata": {},
   "outputs": [],
   "source": [
    "# Armazenando informações sobre as features:\n",
    "features = ['num_var42', 'num_var42_0']\n",
    "santander_feat_info.save(key='Discrete', features=features) # Quantitativa Discreta.\n",
    "\n",
    "features = ['saldo_var42']\n",
    "santander_feat_info.save(key='Continuous', features=features) # Quantitativa Contínua.\n",
    "\n",
    "santander_feat_info.save(key='Outliers', features=['num_var42', 'saldo_var42']) # Variáveis têm \"Outliers\".\n",
    "santander_feat_info.save(key='Irrelevant', features=['num_var42_0'])            # Irrelevante."
   ]
  },
  {
   "cell_type": "code",
   "execution_count": 84,
   "metadata": {},
   "outputs": [
    {
     "name": "stdout",
     "output_type": "stream",
     "text": [
      "Counting of analyzed features: 16\n"
     ]
    }
   ],
   "source": [
    "# Verificando a contagem de features analisadas até aqui:\n",
    "print(\"Counting of analyzed features: {}\".format(santander_feat_info.count(keys=['Categorical', 'Binary', 'Ordinal',\n",
    "                                                                                 'Discrete', 'Continuous'])))"
   ]
  },
  {
   "cell_type": "markdown",
   "metadata": {},
   "source": [
    "## Variáveis que possuem `4 features` em nosso dataset:"
   ]
  },
  {
   "cell_type": "code",
   "execution_count": 85,
   "metadata": {},
   "outputs": [
    {
     "name": "stdout",
     "output_type": "stream",
     "text": [
      "Count of variables: 1\n",
      "['var16']\n"
     ]
    }
   ],
   "source": [
    "# Verificando as variáveis que possuem \"4\" features (variáveis preditoras) no dataset:\n",
    "feat_vars = vars_groupby_featcount['Feat_4']\n",
    "print(\"Count of variables: {}\".format(len(feat_vars)))\n",
    "print(feat_vars)"
   ]
  },
  {
   "cell_type": "code",
   "execution_count": 86,
   "metadata": {},
   "outputs": [
    {
     "name": "stdout",
     "output_type": "stream",
     "text": [
      "Count of features: 4\n"
     ]
    }
   ],
   "source": [
    "# Conferindo a contagem de features para cada variável:\n",
    "feat_total = 0\n",
    "for v in feat_vars:\n",
    "    feat_total += len(feat_groupby_vars[v])\n",
    "    \n",
    "print(\"Count of features: {}\".format(feat_total))"
   ]
  },
  {
   "cell_type": "markdown",
   "metadata": {},
   "source": [
    "## var16"
   ]
  },
  {
   "cell_type": "code",
   "execution_count": 87,
   "metadata": {},
   "outputs": [
    {
     "name": "stdout",
     "output_type": "stream",
     "text": [
      "<class 'pandas.core.frame.DataFrame'>\n",
      "RangeIndex: 60816 entries, 0 to 60815\n",
      "Data columns (total 4 columns):\n",
      "imp_ent_var16_ult1    60816 non-null float64\n",
      "imp_sal_var16_ult1    60816 non-null float64\n",
      "num_ent_var16_ult1    60816 non-null int64\n",
      "num_sal_var16_ult1    60816 non-null int64\n",
      "dtypes: float64(2), int64(2)\n",
      "memory usage: 1.9 MB\n"
     ]
    }
   ],
   "source": [
    "# Resumo das informações:\n",
    "train_df[feat_groupby_vars['var16']].info()"
   ]
  },
  {
   "cell_type": "markdown",
   "metadata": {},
   "source": [
    "Agora, vamos calcular algumas medidas **estatísticas descritivas** para análsise destas **`features`** em nosso dataset:"
   ]
  },
  {
   "cell_type": "code",
   "execution_count": 88,
   "metadata": {},
   "outputs": [
    {
     "data": {
      "text/html": [
       "<div>\n",
       "<style scoped>\n",
       "    .dataframe tbody tr th:only-of-type {\n",
       "        vertical-align: middle;\n",
       "    }\n",
       "\n",
       "    .dataframe tbody tr th {\n",
       "        vertical-align: top;\n",
       "    }\n",
       "\n",
       "    .dataframe thead th {\n",
       "        text-align: right;\n",
       "    }\n",
       "</style>\n",
       "<table border=\"1\" class=\"dataframe\">\n",
       "  <thead>\n",
       "    <tr style=\"text-align: right;\">\n",
       "      <th></th>\n",
       "      <th>imp_ent_var16_ult1</th>\n",
       "      <th>imp_sal_var16_ult1</th>\n",
       "      <th>num_ent_var16_ult1</th>\n",
       "      <th>num_sal_var16_ult1</th>\n",
       "    </tr>\n",
       "  </thead>\n",
       "  <tbody>\n",
       "    <tr>\n",
       "      <th>count</th>\n",
       "      <td>60816.000000</td>\n",
       "      <td>60816.00000</td>\n",
       "      <td>60816.000000</td>\n",
       "      <td>60816.000000</td>\n",
       "    </tr>\n",
       "    <tr>\n",
       "      <th>mean</th>\n",
       "      <td>81.239989</td>\n",
       "      <td>4.13353</td>\n",
       "      <td>0.182715</td>\n",
       "      <td>0.005032</td>\n",
       "    </tr>\n",
       "    <tr>\n",
       "      <th>std</th>\n",
       "      <td>1364.095864</td>\n",
       "      <td>286.69313</td>\n",
       "      <td>0.987879</td>\n",
       "      <td>0.157597</td>\n",
       "    </tr>\n",
       "    <tr>\n",
       "      <th>min</th>\n",
       "      <td>0.000000</td>\n",
       "      <td>0.00000</td>\n",
       "      <td>0.000000</td>\n",
       "      <td>0.000000</td>\n",
       "    </tr>\n",
       "    <tr>\n",
       "      <th>25%</th>\n",
       "      <td>0.000000</td>\n",
       "      <td>0.00000</td>\n",
       "      <td>0.000000</td>\n",
       "      <td>0.000000</td>\n",
       "    </tr>\n",
       "    <tr>\n",
       "      <th>50%</th>\n",
       "      <td>0.000000</td>\n",
       "      <td>0.00000</td>\n",
       "      <td>0.000000</td>\n",
       "      <td>0.000000</td>\n",
       "    </tr>\n",
       "    <tr>\n",
       "      <th>75%</th>\n",
       "      <td>0.000000</td>\n",
       "      <td>0.00000</td>\n",
       "      <td>0.000000</td>\n",
       "      <td>0.000000</td>\n",
       "    </tr>\n",
       "    <tr>\n",
       "      <th>max</th>\n",
       "      <td>135000.000000</td>\n",
       "      <td>58048.05000</td>\n",
       "      <td>60.000000</td>\n",
       "      <td>15.000000</td>\n",
       "    </tr>\n",
       "  </tbody>\n",
       "</table>\n",
       "</div>"
      ],
      "text/plain": [
       "       imp_ent_var16_ult1  imp_sal_var16_ult1  num_ent_var16_ult1  \\\n",
       "count        60816.000000         60816.00000        60816.000000   \n",
       "mean            81.239989             4.13353            0.182715   \n",
       "std           1364.095864           286.69313            0.987879   \n",
       "min              0.000000             0.00000            0.000000   \n",
       "25%              0.000000             0.00000            0.000000   \n",
       "50%              0.000000             0.00000            0.000000   \n",
       "75%              0.000000             0.00000            0.000000   \n",
       "max         135000.000000         58048.05000           60.000000   \n",
       "\n",
       "       num_sal_var16_ult1  \n",
       "count        60816.000000  \n",
       "mean             0.005032  \n",
       "std              0.157597  \n",
       "min              0.000000  \n",
       "25%              0.000000  \n",
       "50%              0.000000  \n",
       "75%              0.000000  \n",
       "max             15.000000  "
      ]
     },
     "execution_count": 88,
     "metadata": {},
     "output_type": "execute_result"
    }
   ],
   "source": [
    "# Dataframe \"train_df\":\n",
    "train_df[feat_groupby_vars['var16']].describe()"
   ]
  },
  {
   "cell_type": "code",
   "execution_count": 89,
   "metadata": {
    "scrolled": true
   },
   "outputs": [
    {
     "data": {
      "text/html": [
       "<div>\n",
       "<style scoped>\n",
       "    .dataframe tbody tr th:only-of-type {\n",
       "        vertical-align: middle;\n",
       "    }\n",
       "\n",
       "    .dataframe tbody tr th {\n",
       "        vertical-align: top;\n",
       "    }\n",
       "\n",
       "    .dataframe thead th {\n",
       "        text-align: right;\n",
       "    }\n",
       "</style>\n",
       "<table border=\"1\" class=\"dataframe\">\n",
       "  <thead>\n",
       "    <tr style=\"text-align: right;\">\n",
       "      <th></th>\n",
       "      <th>imp_ent_var16_ult1</th>\n",
       "      <th>imp_sal_var16_ult1</th>\n",
       "      <th>num_ent_var16_ult1</th>\n",
       "      <th>num_sal_var16_ult1</th>\n",
       "    </tr>\n",
       "    <tr>\n",
       "      <th>Percentile</th>\n",
       "      <th></th>\n",
       "      <th></th>\n",
       "      <th></th>\n",
       "      <th></th>\n",
       "    </tr>\n",
       "  </thead>\n",
       "  <tbody>\n",
       "    <tr>\n",
       "      <th>80%</th>\n",
       "      <td>0.0</td>\n",
       "      <td>0.00</td>\n",
       "      <td>0.0</td>\n",
       "      <td>0.0</td>\n",
       "    </tr>\n",
       "    <tr>\n",
       "      <th>81%</th>\n",
       "      <td>0.0</td>\n",
       "      <td>0.00</td>\n",
       "      <td>0.0</td>\n",
       "      <td>0.0</td>\n",
       "    </tr>\n",
       "    <tr>\n",
       "      <th>82%</th>\n",
       "      <td>0.0</td>\n",
       "      <td>0.00</td>\n",
       "      <td>0.0</td>\n",
       "      <td>0.0</td>\n",
       "    </tr>\n",
       "    <tr>\n",
       "      <th>83%</th>\n",
       "      <td>0.0</td>\n",
       "      <td>0.00</td>\n",
       "      <td>0.0</td>\n",
       "      <td>0.0</td>\n",
       "    </tr>\n",
       "    <tr>\n",
       "      <th>84%</th>\n",
       "      <td>0.0</td>\n",
       "      <td>0.00</td>\n",
       "      <td>0.0</td>\n",
       "      <td>0.0</td>\n",
       "    </tr>\n",
       "    <tr>\n",
       "      <th>85%</th>\n",
       "      <td>0.0</td>\n",
       "      <td>0.00</td>\n",
       "      <td>0.0</td>\n",
       "      <td>0.0</td>\n",
       "    </tr>\n",
       "    <tr>\n",
       "      <th>86%</th>\n",
       "      <td>0.0</td>\n",
       "      <td>0.00</td>\n",
       "      <td>0.0</td>\n",
       "      <td>0.0</td>\n",
       "    </tr>\n",
       "    <tr>\n",
       "      <th>87%</th>\n",
       "      <td>0.0</td>\n",
       "      <td>0.00</td>\n",
       "      <td>0.0</td>\n",
       "      <td>0.0</td>\n",
       "    </tr>\n",
       "    <tr>\n",
       "      <th>88%</th>\n",
       "      <td>0.0</td>\n",
       "      <td>0.00</td>\n",
       "      <td>0.0</td>\n",
       "      <td>0.0</td>\n",
       "    </tr>\n",
       "    <tr>\n",
       "      <th>89%</th>\n",
       "      <td>0.0</td>\n",
       "      <td>0.00</td>\n",
       "      <td>0.0</td>\n",
       "      <td>0.0</td>\n",
       "    </tr>\n",
       "    <tr>\n",
       "      <th>90%</th>\n",
       "      <td>0.0</td>\n",
       "      <td>0.00</td>\n",
       "      <td>0.0</td>\n",
       "      <td>0.0</td>\n",
       "    </tr>\n",
       "    <tr>\n",
       "      <th>91%</th>\n",
       "      <td>0.0</td>\n",
       "      <td>0.00</td>\n",
       "      <td>0.0</td>\n",
       "      <td>0.0</td>\n",
       "    </tr>\n",
       "    <tr>\n",
       "      <th>92%</th>\n",
       "      <td>0.0</td>\n",
       "      <td>0.00</td>\n",
       "      <td>0.0</td>\n",
       "      <td>0.0</td>\n",
       "    </tr>\n",
       "    <tr>\n",
       "      <th>93%</th>\n",
       "      <td>0.0</td>\n",
       "      <td>0.00</td>\n",
       "      <td>0.0</td>\n",
       "      <td>0.0</td>\n",
       "    </tr>\n",
       "    <tr>\n",
       "      <th>94%</th>\n",
       "      <td>0.0</td>\n",
       "      <td>0.00</td>\n",
       "      <td>0.0</td>\n",
       "      <td>0.0</td>\n",
       "    </tr>\n",
       "    <tr>\n",
       "      <th>95%</th>\n",
       "      <td>0.0</td>\n",
       "      <td>0.00</td>\n",
       "      <td>0.0</td>\n",
       "      <td>0.0</td>\n",
       "    </tr>\n",
       "    <tr>\n",
       "      <th>96%</th>\n",
       "      <td>90.0</td>\n",
       "      <td>0.00</td>\n",
       "      <td>3.0</td>\n",
       "      <td>0.0</td>\n",
       "    </tr>\n",
       "    <tr>\n",
       "      <th>97%</th>\n",
       "      <td>300.0</td>\n",
       "      <td>0.00</td>\n",
       "      <td>3.0</td>\n",
       "      <td>0.0</td>\n",
       "    </tr>\n",
       "    <tr>\n",
       "      <th>98%</th>\n",
       "      <td>660.0</td>\n",
       "      <td>0.00</td>\n",
       "      <td>3.0</td>\n",
       "      <td>0.0</td>\n",
       "    </tr>\n",
       "    <tr>\n",
       "      <th>99%</th>\n",
       "      <td>1500.0</td>\n",
       "      <td>0.00</td>\n",
       "      <td>3.0</td>\n",
       "      <td>0.0</td>\n",
       "    </tr>\n",
       "    <tr>\n",
       "      <th>100%</th>\n",
       "      <td>135000.0</td>\n",
       "      <td>58048.05</td>\n",
       "      <td>60.0</td>\n",
       "      <td>15.0</td>\n",
       "    </tr>\n",
       "  </tbody>\n",
       "</table>\n",
       "</div>"
      ],
      "text/plain": [
       "            imp_ent_var16_ult1  imp_sal_var16_ult1  num_ent_var16_ult1  \\\n",
       "Percentile                                                               \n",
       "80%                        0.0                0.00                 0.0   \n",
       "81%                        0.0                0.00                 0.0   \n",
       "82%                        0.0                0.00                 0.0   \n",
       "83%                        0.0                0.00                 0.0   \n",
       "84%                        0.0                0.00                 0.0   \n",
       "85%                        0.0                0.00                 0.0   \n",
       "86%                        0.0                0.00                 0.0   \n",
       "87%                        0.0                0.00                 0.0   \n",
       "88%                        0.0                0.00                 0.0   \n",
       "89%                        0.0                0.00                 0.0   \n",
       "90%                        0.0                0.00                 0.0   \n",
       "91%                        0.0                0.00                 0.0   \n",
       "92%                        0.0                0.00                 0.0   \n",
       "93%                        0.0                0.00                 0.0   \n",
       "94%                        0.0                0.00                 0.0   \n",
       "95%                        0.0                0.00                 0.0   \n",
       "96%                       90.0                0.00                 3.0   \n",
       "97%                      300.0                0.00                 3.0   \n",
       "98%                      660.0                0.00                 3.0   \n",
       "99%                     1500.0                0.00                 3.0   \n",
       "100%                  135000.0            58048.05                60.0   \n",
       "\n",
       "            num_sal_var16_ult1  \n",
       "Percentile                      \n",
       "80%                        0.0  \n",
       "81%                        0.0  \n",
       "82%                        0.0  \n",
       "83%                        0.0  \n",
       "84%                        0.0  \n",
       "85%                        0.0  \n",
       "86%                        0.0  \n",
       "87%                        0.0  \n",
       "88%                        0.0  \n",
       "89%                        0.0  \n",
       "90%                        0.0  \n",
       "91%                        0.0  \n",
       "92%                        0.0  \n",
       "93%                        0.0  \n",
       "94%                        0.0  \n",
       "95%                        0.0  \n",
       "96%                        0.0  \n",
       "97%                        0.0  \n",
       "98%                        0.0  \n",
       "99%                        0.0  \n",
       "100%                      15.0  "
      ]
     },
     "execution_count": 89,
     "metadata": {},
     "output_type": "execute_result"
    }
   ],
   "source": [
    "# Obtendo os percentis a partir de \"80%\", com intervá-los de \"1%\":\n",
    "result = dslib.get_features_percentiles(data=train_df, features=feat_groupby_vars['var16'], percent_range=range(80, 101, 1))\n",
    "result"
   ]
  },
  {
   "cell_type": "code",
   "execution_count": 90,
   "metadata": {
    "scrolled": true
   },
   "outputs": [
    {
     "name": "stdout",
     "output_type": "stream",
     "text": [
      "                    Total  Percent\n",
      "imp_ent_var16_ult1                \n",
      "0.0                 57921   0.9524\n",
      "300.0                 176   0.0029\n",
      "150.0                 165   0.0027\n",
      "600.0                 141   0.0023\n",
      "900.0                 128   0.0021\n",
      "...                   ...      ...\n",
      "232.5                   1   0.0000\n",
      "1539.0                  1   0.0000\n",
      "1530.0                  1   0.0000\n",
      "235.5                   1   0.0000\n",
      "135000.0                1   0.0000\n",
      "\n",
      "[500 rows x 2 columns]\n",
      "\n",
      "                    Total  Percent\n",
      "imp_sal_var16_ult1                \n",
      "0.00                60737   0.9987\n",
      "3000.00                 8   0.0001\n",
      "1500.00                 4   0.0001\n",
      "600.00                  3   0.0000\n",
      "450.00                  3   0.0000\n",
      "30.00                   2   0.0000\n",
      "6000.00                 2   0.0000\n",
      "3300.00                 2   0.0000\n",
      "300.00                  2   0.0000\n",
      "750.00                  2   0.0000\n",
      "210.00                  2   0.0000\n",
      "150.00                  2   0.0000\n",
      "2100.00                 2   0.0000\n",
      "3600.00                 2   0.0000\n",
      "2550.00                 1   0.0000\n",
      "2460.00                 1   0.0000\n",
      "2872.50                 1   0.0000\n",
      "15.00                   1   0.0000\n",
      "2244.00                 1   0.0000\n",
      "3570.00                 1   0.0000\n",
      "2010.00                 1   0.0000\n",
      "4299.00                 1   0.0000\n",
      "4200.00                 1   0.0000\n",
      "1800.00                 1   0.0000\n",
      "4608.00                 1   0.0000\n",
      "5570.13                 1   0.0000\n",
      "5850.00                 1   0.0000\n",
      "6060.00                 1   0.0000\n",
      "8850.00                 1   0.0000\n",
      "10500.00                1   0.0000\n",
      "12000.00                1   0.0000\n",
      "29250.00                1   0.0000\n",
      "1855.26                 1   0.0000\n",
      "1620.00                 1   0.0000\n",
      "1770.00                 1   0.0000\n",
      "574.56                  1   0.0000\n",
      "60.00                   1   0.0000\n",
      "86.01                   1   0.0000\n",
      "99.00                   1   0.0000\n",
      "105.00                  1   0.0000\n",
      "120.00                  1   0.0000\n",
      "165.00                  1   0.0000\n",
      "360.00                  1   0.0000\n",
      "390.00                  1   0.0000\n",
      "510.00                  1   0.0000\n",
      "630.00                  1   0.0000\n",
      "1650.00                 1   0.0000\n",
      "900.00                  1   0.0000\n",
      "1020.00                 1   0.0000\n",
      "1080.00                 1   0.0000\n",
      "1227.00                 1   0.0000\n",
      "1350.00                 1   0.0000\n",
      "1470.00                 1   0.0000\n",
      "1.50                    1   0.0000\n",
      "1509.75                 1   0.0000\n",
      "45.00                   1   0.0000\n",
      "58048.05                1   0.0000\n",
      "\n",
      "                    Total  Percent\n",
      "num_ent_var16_ult1                \n",
      "0                   57921   0.9524\n",
      "3                    2376   0.0391\n",
      "6                     369   0.0061\n",
      "9                      88   0.0014\n",
      "12                     39   0.0006\n",
      "15                      9   0.0001\n",
      "18                      4   0.0001\n",
      "21                      4   0.0001\n",
      "27                      2   0.0000\n",
      "30                      2   0.0000\n",
      "45                      1   0.0000\n",
      "60                      1   0.0000\n",
      "\n",
      "                    Total  Percent\n",
      "num_sal_var16_ult1                \n",
      "0                   60737   0.9987\n",
      "3                      62   0.0010\n",
      "6                      14   0.0002\n",
      "9                       1   0.0000\n",
      "12                      1   0.0000\n",
      "15                      1   0.0000\n",
      "\n"
     ]
    }
   ],
   "source": [
    "# Vamos verificar a proporção dos valores para as variáveis relacionadas a \"var16\":\n",
    "for feat in feat_groupby_vars['var16']:\n",
    "    print(dslib.percent_count_feature(df=train_df, feature=feat, lines_drop=False))\n",
    "    print()"
   ]
  },
  {
   "cell_type": "markdown",
   "metadata": {},
   "source": [
    "**Análise:** observamos que as **`features`** **`num_ent_var16_ult1`e `num_sal_var16_ult1`**, relacionadas com **`var16`**, são variáveis `Quantitativas Discretas`.\n",
    "\n",
    "Observamos também que na feature **`num_ent_var16_ult1`**, **`95.24%`** das observações têm valores iguais a **`0`**, e na feature **`num_sal_var16_ult1`**, **`99.87%`** das observações têm valores iguais a **`0`**."
   ]
  },
  {
   "cell_type": "markdown",
   "metadata": {},
   "source": [
    "Agora, vamos verificar se existe alguma **correlação** entre as **`features`** de **`var16`**:"
   ]
  },
  {
   "cell_type": "code",
   "execution_count": 91,
   "metadata": {},
   "outputs": [
    {
     "data": {
      "text/html": [
       "<div>\n",
       "<style scoped>\n",
       "    .dataframe tbody tr th:only-of-type {\n",
       "        vertical-align: middle;\n",
       "    }\n",
       "\n",
       "    .dataframe tbody tr th {\n",
       "        vertical-align: top;\n",
       "    }\n",
       "\n",
       "    .dataframe thead th {\n",
       "        text-align: right;\n",
       "    }\n",
       "</style>\n",
       "<table border=\"1\" class=\"dataframe\">\n",
       "  <thead>\n",
       "    <tr style=\"text-align: right;\">\n",
       "      <th></th>\n",
       "      <th>imp_ent_var16_ult1</th>\n",
       "      <th>imp_sal_var16_ult1</th>\n",
       "      <th>num_ent_var16_ult1</th>\n",
       "      <th>num_sal_var16_ult1</th>\n",
       "    </tr>\n",
       "  </thead>\n",
       "  <tbody>\n",
       "    <tr>\n",
       "      <th>imp_ent_var16_ult1</th>\n",
       "      <td>1.000000</td>\n",
       "      <td>0.000219</td>\n",
       "      <td>0.288028</td>\n",
       "      <td>0.002259</td>\n",
       "    </tr>\n",
       "    <tr>\n",
       "      <th>imp_sal_var16_ult1</th>\n",
       "      <td>0.000219</td>\n",
       "      <td>1.000000</td>\n",
       "      <td>0.002166</td>\n",
       "      <td>0.426801</td>\n",
       "    </tr>\n",
       "    <tr>\n",
       "      <th>num_ent_var16_ult1</th>\n",
       "      <td>0.288028</td>\n",
       "      <td>0.002166</td>\n",
       "      <td>1.000000</td>\n",
       "      <td>0.016908</td>\n",
       "    </tr>\n",
       "    <tr>\n",
       "      <th>num_sal_var16_ult1</th>\n",
       "      <td>0.002259</td>\n",
       "      <td>0.426801</td>\n",
       "      <td>0.016908</td>\n",
       "      <td>1.000000</td>\n",
       "    </tr>\n",
       "  </tbody>\n",
       "</table>\n",
       "</div>"
      ],
      "text/plain": [
       "                    imp_ent_var16_ult1  imp_sal_var16_ult1  \\\n",
       "imp_ent_var16_ult1            1.000000            0.000219   \n",
       "imp_sal_var16_ult1            0.000219            1.000000   \n",
       "num_ent_var16_ult1            0.288028            0.002166   \n",
       "num_sal_var16_ult1            0.002259            0.426801   \n",
       "\n",
       "                    num_ent_var16_ult1  num_sal_var16_ult1  \n",
       "imp_ent_var16_ult1            0.288028            0.002259  \n",
       "imp_sal_var16_ult1            0.002166            0.426801  \n",
       "num_ent_var16_ult1            1.000000            0.016908  \n",
       "num_sal_var16_ult1            0.016908            1.000000  "
      ]
     },
     "execution_count": 91,
     "metadata": {},
     "output_type": "execute_result"
    }
   ],
   "source": [
    "# Analisando a correlação entre as features de \"var16\":\n",
    "train_df[feat_groupby_vars['var16']].corr()"
   ]
  },
  {
   "cell_type": "markdown",
   "metadata": {},
   "source": [
    "**Análise:** observando a **correlação entre as features**, concluímos que:\n",
    "\n",
    "1. **`imp_ent_var16_ult1` x `imp_sal_var16_ult1`** não possuem correlação (**`correlação = 0.000219`**);\n",
    "2. **`imp_ent_var16_ult1` x `num_ent_var16_ult1`** possuem uma pequena correlação positiva (**`correlação = 0.288028`**);\n",
    "3. **`imp_ent_var16_ult1` x `num_sal_var16_ult1`** não possuem correlação (**`correlação = 0.002259`**);\n",
    "4. **`imp_sal_var16_ult1` x `num_ent_var16_ult1`** não possuem correlação (**`correlação = 0.002166`**);\n",
    "5. **`imp_sal_var16_ult1` x `num_sal_var16_ult1`** possuem uma pequena correlação positiva (**`correlação = 0.426801`**);\n",
    "6. **`num_ent_var16_ult1` x `num_sal_var16_ult1`** não possuem correlação (**`correlação = 0.016908`**)."
   ]
  },
  {
   "cell_type": "markdown",
   "metadata": {},
   "source": [
    "**Análise:** entendemos que as features **`imp_ent_var16_ult1`** e **`imp_sal_var16_ult1`** são variáveis do tipo `Quantitativas Contínuas`. Vamos analisar para cada feature a sua distribuição de frequências (*Histograma*) e também verificar se existem **outliers** com um *BoxPlot*."
   ]
  },
  {
   "cell_type": "code",
   "execution_count": 92,
   "metadata": {},
   "outputs": [
    {
     "name": "stdout",
     "output_type": "stream",
     "text": [
      "Saving figure: plot_hist_boxplot_imp_ent_var16_ult1\n"
     ]
    },
    {
     "data": {
      "image/png": "[encoded data removed]",
      "text/plain": [
       "<Figure size 720x576 with 2 Axes>"
      ]
     },
     "metadata": {},
     "output_type": "display_data"
    }
   ],
   "source": [
    "# Plots: Histrograma e BoxPlot\n",
    "ptlib.plot_hist_boxplot_feature(df=train_df, feature='imp_ent_var16_ult1', bins=None, kde=False,\n",
    "                                orient_boxplot='h', plot_style=\"darkgrid\", cols_nr=1, rows_nr=2,\n",
    "                                titles=['imp_ent_var16_ult1', None],titles_fontsize=18,\n",
    "                                ylabels=['Frequency', None], ylabels_fontsize=15, colors='b', saturation_boxplot=0.80,\n",
    "                                xtick_labelsize=13, ytick_labelsize=13, width=10, height=8, wspace=None, hspace=None,\n",
    "                                figure_id=\"plot_hist_boxplot_imp_ent_var16_ult1\", figure_path=PROJECT_IMG_PATH,\n",
    "                                figure_file_format=\"png\", figure_file_extension=\".png\", tight_layout=True, dpi=300\n",
    "                               )"
   ]
  },
  {
   "cell_type": "markdown",
   "metadata": {},
   "source": [
    "**Análise:** Temos uma alta variabilidade nos dados ocasionada pelos **outliers** (*Box Plot*). Os **outliers** estão concentrados nos **valores a partir de `60 mil`**.Também podemos observar que a sua distribuição de frequência está concentrada em valores iguais a **`0`** (**`95%`** dos valores), conforme podemos observar no *histograma* e no relatório de *percentis*."
   ]
  },
  {
   "cell_type": "code",
   "execution_count": 93,
   "metadata": {},
   "outputs": [
    {
     "name": "stdout",
     "output_type": "stream",
     "text": [
      "Saving figure: plot_hist_boxplot_imp_sal_var16_ult1\n"
     ]
    },
    {
     "data": {
      "image/png": "[encoded data removed]",
      "text/plain": [
       "<Figure size 720x576 with 2 Axes>"
      ]
     },
     "metadata": {},
     "output_type": "display_data"
    }
   ],
   "source": [
    "# Plots: Histrograma e BoxPlot\n",
    "ptlib.plot_hist_boxplot_feature(df=train_df, feature='imp_sal_var16_ult1', bins=None, kde=False,\n",
    "                                orient_boxplot='h', plot_style=\"darkgrid\", cols_nr=1, rows_nr=2,\n",
    "                                titles=['imp_sal_var16_ult1', None],titles_fontsize=18,\n",
    "                                ylabels=['Frequency', None], ylabels_fontsize=15, colors='b', saturation_boxplot=0.80,\n",
    "                                xtick_labelsize=13, ytick_labelsize=13, width=10, height=8, wspace=None, hspace=None,\n",
    "                                figure_id=\"plot_hist_boxplot_imp_sal_var16_ult1\", figure_path=PROJECT_IMG_PATH,\n",
    "                                figure_file_format=\"png\", figure_file_extension=\".png\", tight_layout=True, dpi=300\n",
    "                               )"
   ]
  },
  {
   "cell_type": "markdown",
   "metadata": {},
   "source": [
    "**Análise:** Temos uma alta variabilidade nos dados ocasionada pelos **outliers** (*Box Plot*). Os **outliers** estão concentrados nos **valores a partir de `10 mil`**.Também podemos observar que a sua distribuição de frequência está concentrada em valores iguais a **`0`** (**`99%`** dos valores), conforme podemos observar no *histograma* e no relatório de *percentis*."
   ]
  },
  {
   "cell_type": "markdown",
   "metadata": {},
   "source": [
    "**Conclusão:** observamos que para as **04 features** de **var16** a grande maioria dos valores (**acima de 95%**) são constantes e iguais a **`0`**. Portanto, entendemos que estas **features não são `irrelevantes`** para serem analisadas na criação dos modelos preditivos."
   ]
  },
  {
   "cell_type": "code",
   "execution_count": 94,
   "metadata": {},
   "outputs": [],
   "source": [
    "# Armazenando informações sobre as features:\n",
    "features = ['num_ent_var16_ult1', 'num_sal_var16_ult1']\n",
    "santander_feat_info.save(key='Discrete', features=features) # Quantitativa Discreta.\n",
    "\n",
    "features = ['imp_ent_var16_ult1', 'imp_sal_var16_ult1']\n",
    "santander_feat_info.save(key='Continuous', features=features) # Quantitativa Contínua.\n",
    "\n",
    "santander_feat_info.save(key='Irrelevant', features=feat_groupby_vars['var16']) # Irrelevantes."
   ]
  },
  {
   "cell_type": "code",
   "execution_count": 95,
   "metadata": {},
   "outputs": [
    {
     "name": "stdout",
     "output_type": "stream",
     "text": [
      "Counting of analyzed features: 20\n"
     ]
    }
   ],
   "source": [
    "# Verificando a contagem de features analisadas até aqui:\n",
    "print(\"Counting of analyzed features: {}\".format(santander_feat_info.count(keys=['Categorical', 'Binary', 'Ordinal',\n",
    "                                                                                 'Discrete', 'Continuous'])))"
   ]
  },
  {
   "cell_type": "markdown",
   "metadata": {},
   "source": [
    "## 03- Salvando informações (`objetos`) importantes, encontradas nesta etapa:"
   ]
  },
  {
   "cell_type": "markdown",
   "metadata": {},
   "source": [
    "Agora, vamos salvar os seguintes `objetos` importantes, que serão utilizados nas próximas etapas, a saber:\n",
    "\n",
    "1. **`feat_groupby_vars`:** dicionário com as features agrupadas por tipo de variável (var1, var2, var18, etc...);\n",
    "\n",
    "2. **`vars_groupby_featcount`:** dicionário com as variáveis (var1, var2, var18, etc...) agrupadas por quantidade (contagem) de features (Feat_1, Feat_2, Feat_3, etc...);\n",
    "\n",
    "3. **`santander_feat_info`:** dicionário com as principais informações sobre cada uma das features, ou seja, `tipo de variável`, valores ausentes (`NaN`), valores extremos (`Outliers`) e uma lista das variáveis que não são importantes para a criação dos modelos preditivos (`Drop`)."
   ]
  },
  {
   "cell_type": "code",
   "execution_count": 96,
   "metadata": {},
   "outputs": [
    {
     "name": "stdout",
     "output_type": "stream",
     "text": [
      "The 'feat_groupby_vars' object has been successfully saved!\n",
      "The 'vars_groupby_featcount' object has been successfully saved!\n",
      "The 'santander_feat_info' object has been successfully saved!\n"
     ]
    }
   ],
   "source": [
    "# Salvando o objeto \"feat_groupby_vars\":\n",
    "dslib.pickle_object_save (path=PROJECT_OBJ_PATH, file=\"feat_groupby_vars.pickle\", object_name=feat_groupby_vars,\n",
    "                          msg=\"The 'feat_groupby_vars' object has been successfully saved!\")\n",
    "\n",
    "# Salvando o objeto \"vars_groupby_featcount\":\n",
    "dslib.pickle_object_save (path=PROJECT_OBJ_PATH, file=\"vars_groupby_featcount.pickle\", object_name=vars_groupby_featcount,\n",
    "                          msg=\"The 'vars_groupby_featcount' object has been successfully saved!\")\n",
    "\n",
    "# Salvando o objeto \"santander_feat_info\":\n",
    "dslib.pickle_object_save (path=PROJECT_OBJ_PATH, file=\"santander_feat_info.pickle\", object_name=santander_feat_info,\n",
    "                          msg=\"The 'santander_feat_info' object has been successfully saved!\")"
   ]
  },
  {
   "cell_type": "markdown",
   "metadata": {},
   "source": [
    "## <font color='black'>FIM</font>"
   ]
  }
 ],
 "metadata": {
  "kernelspec": {
   "display_name": "Python 3",
   "language": "python",
   "name": "python3"
  },
  "language_info": {
   "codemirror_mode": {
    "name": "ipython",
    "version": 3
   },
   "file_extension": ".py",
   "mimetype": "text/x-python",
   "name": "python",
   "nbconvert_exporter": "python",
   "pygments_lexer": "ipython3",
   "version": "3.7.7"
  }
 },
 "nbformat": 4,
 "nbformat_minor": 2
}
