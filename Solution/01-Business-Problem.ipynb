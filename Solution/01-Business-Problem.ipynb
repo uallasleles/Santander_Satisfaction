{
 "cells": [
  {
   "cell_type": "markdown",
   "metadata": {},
   "source": [
    "***\n",
    "# `Project:` Prevendo o Nível de Satisfação dos Clientes do Santander\n",
    "\n",
    "## `Date:` julho, 2020\n",
    "\n",
    "## `Data Scientist:` Walter Trevisan\n",
    "***"
   ]
  },
  {
   "cell_type": "markdown",
   "metadata": {},
   "source": [
    "## `01-` Business Problem:\n",
    "\n",
    "A **satisfação do cliente** é uma medida fundamental de sucesso. Clientes insatisfeitos cancelam seus serviços e raramente expressam sua insatisfação antes de sair. Clientes satisfeitos, por outro lado, se tornam defensores da marca!\n",
    "\n",
    "O Banco Santander está pedindo para ajudá-los a identificar clientes insatisfeitos no início do relacionamento. Isso permitiria que o Santander adotasse medidas proativas para melhorar a felicidade de um cliente antes que seja tarde demais.\n",
    "\n",
    "Neste projeto de aprendizado de máquina, trabalharemos com centenas de recursos **anônimos** para prever se um cliente está `satisfeito` ou `insatisfeito` com sua experiência bancária."
   ]
  },
  {
   "cell_type": "markdown",
   "metadata": {},
   "source": [
    "## Goal:\n",
    "O objetivo deste projeto é criar um modelo de ***Machine Learning*** que seja capaz de prever o **`Nível de Satisfação dos Clientes do Santander`**.\n",
    "\n",
    "Variável alvo (*target*) do nosso dataset: **`TARGET`**"
   ]
  },
  {
   "cell_type": "markdown",
   "metadata": {},
   "source": [
    "## Avaliação:\n",
    "A **métrica principal** de avaliação que utilizaremos para este projeto é a **accuracy** (acurácia), com um índice no **mínimo** de **90%**. Também desejamos que neste projeto a taxa de ***recall*** (revocação) seja no **mínimo** de **85%**."
   ]
  },
  {
   "cell_type": "markdown",
   "metadata": {},
   "source": [
    "## Referências:\n",
    "\n",
    "**01:** Projeto da ***`FCD - Formação Cientista de Dados`*** da **[Data Science Academy](https://www.datascienceacademy.com.br/)**;\n",
    "\n",
    "**02:** Maiores detalhes sobre o projeto poderão se encontradas no documento **`Santander_Satisfaction-Description.pdf`**, localizado na pasta **`BusinessProblem`**;\n",
    "\n",
    "**03:** Fonte dos dados: **[clique aqui](https://www.kaggle.com/c/santander-customer-satisfaction)**."
   ]
  },
  {
   "cell_type": "markdown",
   "metadata": {},
   "source": [
    "## <font color='black'>FIM</font>"
   ]
  }
 ],
 "metadata": {
  "kernelspec": {
   "display_name": "Python 3",
   "language": "python",
   "name": "python3"
  },
  "language_info": {
   "codemirror_mode": {
    "name": "ipython",
    "version": 3
   },
   "file_extension": ".py",
   "mimetype": "text/x-python",
   "name": "python",
   "nbconvert_exporter": "python",
   "pygments_lexer": "ipython3",
   "version": "3.7.7"
  }
 },
 "nbformat": 4,
 "nbformat_minor": 2
}
